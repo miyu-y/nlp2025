{
 "cells": [
  {
   "cell_type": "markdown",
   "metadata": {},
   "source": [
    "## no_rag"
   ]
  },
  {
   "cell_type": "markdown",
   "metadata": {
    "jp-MarkdownHeadingCollapsed": true
   },
   "source": [
    "### データセット"
   ]
  },
  {
   "cell_type": "code",
   "execution_count": 1,
   "metadata": {},
   "outputs": [],
   "source": [
    "import json\n",
    "\n",
    "with open(\"dataset/response.jsonl\", \"r\") as f:\n",
    "    res_data = [json.loads(l) for l in f.readlines()]\n",
    "with open(\"dataset/source_info.jsonl\", \"r\") as f:\n",
    "    info_data = [json.loads(l) for l in f.readlines()]"
   ]
  },
  {
   "cell_type": "code",
   "execution_count": 48,
   "metadata": {},
   "outputs": [
    {
     "data": {
      "text/plain": [
       "2965"
      ]
     },
     "execution_count": 48,
     "metadata": {},
     "output_type": "execute_result"
    }
   ],
   "source": [
    "id_list = [d[\"source_id\"] for d in info_data]\n",
    "len(id_list)"
   ]
  },
  {
   "cell_type": "code",
   "execution_count": 49,
   "metadata": {},
   "outputs": [],
   "source": [
    "train_data = []\n",
    "test_data = []\n",
    "for id in id_list:\n",
    "    # reference\n",
    "    for d in info_data[:]:\n",
    "        if d[\"source_id\"] == id:\n",
    "            # print(d)\n",
    "            task_type = d[\"task_type\"]\n",
    "            source = d[\"source\"]\n",
    "            ref = d[\"source_info\"]\n",
    "            info_data.remove(d)\n",
    "            break\n",
    "    # text\n",
    "    num = 0\n",
    "    for d2 in res_data[:]:\n",
    "        if num == 6:\n",
    "            break\n",
    "        if d2[\"source_id\"] == id:\n",
    "            # print(d2)\n",
    "            num += 1\n",
    "            model_name = d2[\"model\"]\n",
    "            text = d2[\"response\"]\n",
    "            labels = 0 if d2[\"labels\"] == [] else 1  # halってたら1\n",
    "            data = {\n",
    "                \"ref\": str(ref),\n",
    "                \"text\": text,\n",
    "                \"labels\": labels,\n",
    "                \"source\": source,\n",
    "                \"model\": model_name,\n",
    "                \"task_type\": task_type,\n",
    "                \"source_id\": id,\n",
    "            }\n",
    "            if d2[\"split\"] == \"train\":\n",
    "                train_data.append(data)\n",
    "            else:\n",
    "                test_data.append(data)\n",
    "            res_data.remove(d2)"
   ]
  },
  {
   "cell_type": "code",
   "execution_count": 50,
   "metadata": {},
   "outputs": [
    {
     "data": {
      "text/plain": [
       "(15090, 2700)"
      ]
     },
     "execution_count": 50,
     "metadata": {},
     "output_type": "execute_result"
    }
   ],
   "source": [
    "len(train_data), len(test_data)"
   ]
  },
  {
   "cell_type": "code",
   "execution_count": 51,
   "metadata": {},
   "outputs": [],
   "source": [
    "import json\n",
    "\n",
    "with open(\"rag_truth_train.json\", \"w\") as f:\n",
    "    json.dump(train_data, f, indent=4)\n",
    "with open(\"rag_truth_test.json\", \"w\") as f:\n",
    "    json.dump(test_data, f, indent=4)"
   ]
  },
  {
   "cell_type": "markdown",
   "metadata": {},
   "source": [
    "### ここからでいい"
   ]
  },
  {
   "cell_type": "code",
   "execution_count": 1,
   "metadata": {},
   "outputs": [],
   "source": [
    "import json\n",
    "\n",
    "with open(\"rag_truth_train2.json\", \"r\") as f:\n",
    "    train_data = json.load(f)\n",
    "with open(\"rag_truth_dev.json\", \"r\") as f:\n",
    "    dev_data = json.load(f)\n",
    "with open(\"rag_truth_test.json\", \"r\") as f:\n",
    "    test_data = json.load(f)"
   ]
  },
  {
   "cell_type": "code",
   "execution_count": 2,
   "metadata": {},
   "outputs": [],
   "source": [
    "# prefixをつける\n",
    "def add_prefix(data):\n",
    "    for d in data:\n",
    "        d[\"text\"] = \"Please judge the following statement as true or false: \" + d[\"text\"]\n",
    "    return data\n",
    "\n",
    "\n",
    "train_data = add_prefix(train_data)\n",
    "dev_data = add_prefix(dev_data)\n",
    "test_data = add_prefix(test_data)"
   ]
  },
  {
   "cell_type": "code",
   "execution_count": 16,
   "metadata": {},
   "outputs": [],
   "source": [
    "# task_type: QA, Data2txt, Summary\n",
    "task_name = \"Summary\"\n",
    "train_data = [d for d in train_data if d[\"task_type\"] == task_name]\n",
    "dev_data = [d for d in dev_data if d[\"task_type\"] == task_name]\n",
    "test_data = [d for d in test_data if d[\"task_type\"] == task_name]"
   ]
  },
  {
   "cell_type": "code",
   "execution_count": 3,
   "metadata": {},
   "outputs": [
    {
     "data": {
      "text/plain": [
       "DatasetDict({\n",
       "    train: Dataset({\n",
       "        features: ['ref', 'text', 'labels', 'source', 'model', 'task_type', 'source_id'],\n",
       "        num_rows: 13830\n",
       "    })\n",
       "    dev: Dataset({\n",
       "        features: ['ref', 'text', 'labels', 'source', 'model', 'task_type', 'source_id'],\n",
       "        num_rows: 1260\n",
       "    })\n",
       "    test: Dataset({\n",
       "        features: ['ref', 'text', 'labels', 'source', 'model', 'task_type', 'source_id'],\n",
       "        num_rows: 2700\n",
       "    })\n",
       "})"
      ]
     },
     "execution_count": 3,
     "metadata": {},
     "output_type": "execute_result"
    }
   ],
   "source": [
    "from datasets import Dataset, DatasetDict\n",
    "import pandas as pd\n",
    "\n",
    "train_df = pd.DataFrame(train_data)\n",
    "dev_df = pd.DataFrame(dev_data)\n",
    "test_df = pd.DataFrame(test_data)\n",
    "train_ds = Dataset.from_pandas(train_df)\n",
    "dev_ds = Dataset.from_pandas(dev_df)\n",
    "test_ds = Dataset.from_pandas(test_df)\n",
    "\n",
    "raw_datasets = DatasetDict({\"train\": train_ds, \"dev\":dev_ds, \"test\": test_ds})\n",
    "raw_datasets"
   ]
  },
  {
   "cell_type": "code",
   "execution_count": 4,
   "metadata": {},
   "outputs": [
    {
     "name": "stderr",
     "output_type": "stream",
     "text": [
      "2025-01-02 23:56:49.104138: I tensorflow/core/util/port.cc:113] oneDNN custom operations are on. You may see slightly different numerical results due to floating-point round-off errors from different computation orders. To turn them off, set the environment variable `TF_ENABLE_ONEDNN_OPTS=0`.\n",
      "2025-01-02 23:56:49.115563: E external/local_xla/xla/stream_executor/cuda/cuda_fft.cc:479] Unable to register cuFFT factory: Attempting to register factory for plugin cuFFT when one has already been registered\n",
      "2025-01-02 23:56:49.131716: E external/local_xla/xla/stream_executor/cuda/cuda_dnn.cc:10575] Unable to register cuDNN factory: Attempting to register factory for plugin cuDNN when one has already been registered\n",
      "2025-01-02 23:56:49.131754: E external/local_xla/xla/stream_executor/cuda/cuda_blas.cc:1442] Unable to register cuBLAS factory: Attempting to register factory for plugin cuBLAS when one has already been registered\n",
      "2025-01-02 23:56:49.144086: I tensorflow/core/platform/cpu_feature_guard.cc:210] This TensorFlow binary is optimized to use available CPU instructions in performance-critical operations.\n",
      "To enable the following instructions: AVX2 AVX512F AVX512_VNNI AVX512_BF16 FMA, in other operations, rebuild TensorFlow with the appropriate compiler flags.\n",
      "2025-01-02 23:56:50.063362: W tensorflow/compiler/tf2tensorrt/utils/py_utils.cc:38] TF-TRT Warning: Could not find TensorRT\n"
     ]
    },
    {
     "data": {
      "application/vnd.jupyter.widget-view+json": {
       "model_id": "3e27d9c7639d49a6ba65b47b1021b745",
       "version_major": 2,
       "version_minor": 0
      },
      "text/plain": [
       "Map:   0%|          | 0/13830 [00:00<?, ? examples/s]"
      ]
     },
     "metadata": {},
     "output_type": "display_data"
    },
    {
     "data": {
      "application/vnd.jupyter.widget-view+json": {
       "model_id": "d47e2dd45eb145c3b59623ac07c1d9cd",
       "version_major": 2,
       "version_minor": 0
      },
      "text/plain": [
       "Map:   0%|          | 0/1260 [00:00<?, ? examples/s]"
      ]
     },
     "metadata": {},
     "output_type": "display_data"
    },
    {
     "data": {
      "application/vnd.jupyter.widget-view+json": {
       "model_id": "9ef21b867b114493b6d836535f16d7b0",
       "version_major": 2,
       "version_minor": 0
      },
      "text/plain": [
       "Map:   0%|          | 0/2700 [00:00<?, ? examples/s]"
      ]
     },
     "metadata": {},
     "output_type": "display_data"
    }
   ],
   "source": [
    "from transformers import AutoTokenizer, DataCollatorWithPadding\n",
    "\n",
    "\n",
    "tokenizer = AutoTokenizer.from_pretrained(\"FacebookAI/roberta-base\")\n",
    "#tokenizer = AutoTokenizer.from_pretrained(\"microsoft/Phi-3.5-mini-instruct\")\n",
    "'''\n",
    "tokenizer = AutoTokenizer.from_pretrained(\"meta-llama/Llama-2-7b-hf\")\n",
    "tokenizer.pad_token_id = tokenizer.eos_token_id\n",
    "tokenizer.padding_side = \"left\"\n",
    "'''\n",
    "# tokenizer = AutoTokenizer.from_pretrained(\"vinai/bertweet-large\",use_fast=False)\n",
    "\n",
    "\n",
    "def tokenize_function(examples):\n",
    "    return tokenizer(examples[\"text\"], truncation=True, max_length=512)\n",
    "\n",
    "\n",
    "tokenized_datasets = raw_datasets.map(tokenize_function, batched=True)\n",
    "tokenized_datasets = tokenized_datasets.remove_columns([\"text\"])\n",
    "# tokenized_datasets.set_format(\"torch\")\n",
    "data_collator = DataCollatorWithPadding(tokenizer=tokenizer)"
   ]
  },
  {
   "cell_type": "code",
   "execution_count": 5,
   "metadata": {},
   "outputs": [
    {
     "name": "stderr",
     "output_type": "stream",
     "text": [
      "huggingface/tokenizers: The current process just got forked, after parallelism has already been used. Disabling parallelism to avoid deadlocks...\n",
      "To disable this warning, you can either:\n",
      "\t- Avoid using `tokenizers` before the fork if possible\n",
      "\t- Explicitly set the environment variable TOKENIZERS_PARALLELISM=(true | false)\n",
      "huggingface/tokenizers: The current process just got forked, after parallelism has already been used. Disabling parallelism to avoid deadlocks...\n",
      "To disable this warning, you can either:\n",
      "\t- Avoid using `tokenizers` before the fork if possible\n",
      "\t- Explicitly set the environment variable TOKENIZERS_PARALLELISM=(true | false)\n",
      "Some weights of RobertaModel were not initialized from the model checkpoint at FacebookAI/RoBERTa-base and are newly initialized: ['roberta.pooler.dense.bias', 'roberta.pooler.dense.weight']\n",
      "You should probably TRAIN this model on a down-stream task to be able to use it for predictions and inference.\n"
     ]
    }
   ],
   "source": [
    "from transformers import AutoModel\n",
    "\n",
    "base_model = AutoModel.from_pretrained(\"FacebookAI/RoBERTa-base\")\n",
    "#base_model = AutoModel.from_pretrained(\"microsoft/Phi-3.5-mini-instruct\")\n",
    "#base_model = AutoModel.from_pretrained(\"meta-llama/Llama-2-7b-hf\")\n",
    "# base_model = AutoModel.from_pretrained(\"vinai/bertweet-large\")\n"
   ]
  },
  {
   "cell_type": "code",
   "execution_count": 6,
   "metadata": {},
   "outputs": [
    {
     "name": "stderr",
     "output_type": "stream",
     "text": [
      "huggingface/tokenizers: The current process just got forked, after parallelism has already been used. Disabling parallelism to avoid deadlocks...\n",
      "To disable this warning, you can either:\n",
      "\t- Avoid using `tokenizers` before the fork if possible\n",
      "\t- Explicitly set the environment variable TOKENIZERS_PARALLELISM=(true | false)\n",
      "huggingface/tokenizers: The current process just got forked, after parallelism has already been used. Disabling parallelism to avoid deadlocks...\n",
      "To disable this warning, you can either:\n",
      "\t- Avoid using `tokenizers` before the fork if possible\n",
      "\t- Explicitly set the environment variable TOKENIZERS_PARALLELISM=(true | false)\n",
      "huggingface/tokenizers: The current process just got forked, after parallelism has already been used. Disabling parallelism to avoid deadlocks...\n",
      "To disable this warning, you can either:\n",
      "\t- Avoid using `tokenizers` before the fork if possible\n",
      "\t- Explicitly set the environment variable TOKENIZERS_PARALLELISM=(true | false)\n"
     ]
    },
    {
     "data": {
      "text/plain": [
       "device(type='cuda')"
      ]
     },
     "execution_count": 6,
     "metadata": {},
     "output_type": "execute_result"
    }
   ],
   "source": [
    "import torch\n",
    "\n",
    "# 使う装置\n",
    "device = torch.device(\"cuda\") if torch.cuda.is_available() else torch.device(\"cpu\")\n",
    "base_model.to(device)\n",
    "device"
   ]
  },
  {
   "cell_type": "code",
   "execution_count": 8,
   "metadata": {},
   "outputs": [],
   "source": [
    "import torch\n",
    "import torch.nn as nn\n",
    "from transformers.modeling_outputs import ModelOutput\n",
    "import os\n",
    "\n",
    "loss_list = []\n",
    "\n",
    "\n",
    "class NoRagModel(nn.Module):\n",
    "\n",
    "    def __init__(self, base_model, question_encoder=None, generator=None):\n",
    "        super(NoRagModel, self).__init__()\n",
    "        self.base_model = base_model\n",
    "        self.dropout = nn.Dropout(0.1)\n",
    "        self.classifier = nn.Linear(base_model.config.hidden_size, 2)  # ラベル予測用の分類層\n",
    "        #self.classifier = nn.Linear(96, 2)\n",
    "        self.question_encoder = question_encoder\n",
    "        self.generator = generator\n",
    "\n",
    "    def forward(self, input_ids, attention_mask=None, labels=None):\n",
    "\n",
    "        text_output = self.base_model(input_ids=input_ids, attention_mask=attention_mask)[1]\n",
    "        #text_output = text_output.mean(dim=1)\n",
    "        text_output = self.dropout(text_output)\n",
    "\n",
    "        # ラベル予測の出力\n",
    "        logits = self.classifier(text_output)\n",
    "\n",
    "        loss = nn.CrossEntropyLoss()(logits, labels) if labels is not None else None\n",
    "        loss_list.append(loss)\n",
    "        return ModelOutput(logits=logits, loss=loss)\n",
    "\n",
    "    def save_pretrained(self, save_directory):\n",
    "        \"\"\"\n",
    "        モデル全体とサブモジュールを保存するカスタムメソッド\n",
    "        \"\"\"\n",
    "        os.makedirs(save_directory, exist_ok=True)\n",
    "\n",
    "        # サブモジュールの保存\n",
    "        if self.question_encoder is not None:\n",
    "            self.question_encoder.save_pretrained(os.path.join(save_directory, \"question_encoder\"))\n",
    "        if self.generator is not None:\n",
    "            self.generator.save_pretrained(os.path.join(save_directory, \"generator\"))\n",
    "\n",
    "        # モデル全体の重みを保存\n",
    "        torch.save(self.state_dict(), os.path.join(save_directory, \"pytorch_model.bin\"))\n",
    "\n",
    "    @classmethod\n",
    "    def from_pretrained(cls, save_directory):\n",
    "        \"\"\"\n",
    "        保存済みモデルをロードするカスタムメソッド\n",
    "        \"\"\"\n",
    "        question_encoder = None\n",
    "        generator = None\n",
    "\n",
    "        # サブモジュールのロード\n",
    "        if os.path.exists(os.path.join(save_directory, \"question_encoder\")):\n",
    "            question_encoder = AutoModel.from_pretrained(os.path.join(save_directory, \"question_encoder\"))\n",
    "        if os.path.exists(os.path.join(save_directory, \"generator\")):\n",
    "            generator = AutoModel.from_pretrained(os.path.join(save_directory, \"generator\"))\n",
    "\n",
    "        # モデル全体の重みをロード\n",
    "        model = cls(question_encoder=question_encoder, generator=generator)\n",
    "        model.load_state_dict(torch.load(os.path.join(save_directory, \"pytorch_model.bin\")))\n",
    "\n",
    "        return model"
   ]
  },
  {
   "cell_type": "code",
   "execution_count": 9,
   "metadata": {},
   "outputs": [],
   "source": [
    "import numpy as np\n",
    "from sklearn.metrics import f1_score, accuracy_score, recall_score, precision_score\n",
    "\n",
    "\n",
    "def compute_metrics(eval_preds):\n",
    "    logits, labels = eval_preds\n",
    "    predictions = np.argmax(logits, axis=-1).tolist()  # ndarray をリストに変換\n",
    "    labels = labels.tolist()  # ndarray をリストに変換\n",
    "\n",
    "    # accuracy と f1 score を計算\n",
    "    accuracy = accuracy_score(labels, predictions)\n",
    "    recall = recall_score(labels, predictions)\n",
    "    precision = precision_score(labels, predictions)\n",
    "    f1 = f1_score(labels, predictions)\n",
    "\n",
    "    return {\"accuracy\": accuracy, \"recall\": recall, \"precision\": precision, \"f1\": f1}"
   ]
  },
  {
   "cell_type": "code",
   "execution_count": 10,
   "metadata": {},
   "outputs": [
    {
     "name": "stderr",
     "output_type": "stream",
     "text": [
      "/gs/fs/tga-arase-student/yamada/nlp/lib64/python3.9/site-packages/transformers/training_args.py:1568: FutureWarning: `evaluation_strategy` is deprecated and will be removed in version 4.46 of 🤗 Transformers. Use `eval_strategy` instead\n",
      "  warnings.warn(\n",
      "huggingface/tokenizers: The current process just got forked, after parallelism has already been used. Disabling parallelism to avoid deadlocks...\n",
      "To disable this warning, you can either:\n",
      "\t- Avoid using `tokenizers` before the fork if possible\n",
      "\t- Explicitly set the environment variable TOKENIZERS_PARALLELISM=(true | false)\n",
      "/tmp/19755.1.interactive/ipykernel_788255/481541977.py:28: FutureWarning: `tokenizer` is deprecated and will be removed in version 5.0.0 for `Trainer.__init__`. Use `processing_class` instead.\n",
      "  trainer = Trainer(\n"
     ]
    }
   ],
   "source": [
    "from transformers import TrainingArguments, Trainer\n",
    "from transformers import AutoModelForSequenceClassification, RobertaForSequenceClassification\n",
    "import torch\n",
    "from torch.nn.parallel import DataParallel\n",
    "\n",
    "# training_args = TrainingArguments(\"test-trainer\")\n",
    "training_args = TrainingArguments(\n",
    "    output_dir=\"./results\",\n",
    "    evaluation_strategy=\"epoch\",\n",
    "    logging_strategy=\"epoch\",\n",
    "    save_strategy=\"steps\",\n",
    "    save_steps=10000,\n",
    "    learning_rate=5e-6,\n",
    "    per_device_train_batch_size=4,\n",
    "    per_device_eval_batch_size=4,\n",
    "    num_train_epochs=10,\n",
    "    weight_decay=0.01,\n",
    "    fp16=True,\n",
    "    gradient_accumulation_steps=12,\n",
    "    logging_dir=\"./logs\",\n",
    "    report_to=\"tensorboard\",\n",
    ")\n",
    "\n",
    "# model = AutoModelForSequenceClassification.from_pretrained(checkpoint, num_labels=4)\n",
    "# model = AutoModelForSequenceClassification.from_pretrained(checkpoint, num_labels=2)\n",
    "model = NoRagModel(base_model)\n",
    "\n",
    "trainer = Trainer(\n",
    "    model,\n",
    "    training_args,\n",
    "    train_dataset=tokenized_datasets[\"train\"],\n",
    "    eval_dataset=tokenized_datasets[\"dev\"],\n",
    "    data_collator=data_collator,\n",
    "    tokenizer=tokenizer,\n",
    "    compute_metrics=compute_metrics,\n",
    ")"
   ]
  },
  {
   "cell_type": "code",
   "execution_count": 11,
   "metadata": {},
   "outputs": [
    {
     "data": {
      "text/html": [
       "\n",
       "    <div>\n",
       "      \n",
       "      <progress value='630' max='315' style='width:300px; height:20px; vertical-align: middle;'></progress>\n",
       "      [315/315 01:23]\n",
       "    </div>\n",
       "    "
      ],
      "text/plain": [
       "<IPython.core.display.HTML object>"
      ]
     },
     "metadata": {},
     "output_type": "display_data"
    },
    {
     "name": "stderr",
     "output_type": "stream",
     "text": [
      "/gs/fs/tga-arase-student/yamada/nlp/lib64/python3.9/site-packages/sklearn/metrics/_classification.py:1517: UndefinedMetricWarning: Precision is ill-defined and being set to 0.0 due to no predicted samples. Use `zero_division` parameter to control this behavior.\n",
      "  _warn_prf(average, modifier, f\"{metric.capitalize()} is\", len(result))\n"
     ]
    },
    {
     "data": {
      "text/plain": [
       "{'eval_loss': 0.6853256225585938,\n",
       " 'eval_model_preparation_time': 0.0024,\n",
       " 'eval_accuracy': 0.5753968253968254,\n",
       " 'eval_recall': 0.0,\n",
       " 'eval_precision': 0.0,\n",
       " 'eval_f1': 0.0,\n",
       " 'eval_runtime': 3.4886,\n",
       " 'eval_samples_per_second': 361.18,\n",
       " 'eval_steps_per_second': 90.295}"
      ]
     },
     "execution_count": 11,
     "metadata": {},
     "output_type": "execute_result"
    }
   ],
   "source": [
    "trainer.evaluate()"
   ]
  },
  {
   "cell_type": "code",
   "execution_count": 12,
   "metadata": {
    "scrolled": true
   },
   "outputs": [
    {
     "data": {
      "text/html": [
       "\n",
       "    <div>\n",
       "      \n",
       "      <progress value='2880' max='2880' style='width:300px; height:20px; vertical-align: middle;'></progress>\n",
       "      [2880/2880 12:10, Epoch 9/10]\n",
       "    </div>\n",
       "    <table border=\"1\" class=\"dataframe\">\n",
       "  <thead>\n",
       " <tr style=\"text-align: left;\">\n",
       "      <th>Epoch</th>\n",
       "      <th>Training Loss</th>\n",
       "      <th>Validation Loss</th>\n",
       "      <th>Model Preparation Time</th>\n",
       "      <th>Accuracy</th>\n",
       "      <th>Recall</th>\n",
       "      <th>Precision</th>\n",
       "      <th>F1</th>\n",
       "    </tr>\n",
       "  </thead>\n",
       "  <tbody>\n",
       "    <tr>\n",
       "      <td>0</td>\n",
       "      <td>0.602000</td>\n",
       "      <td>0.567671</td>\n",
       "      <td>0.002400</td>\n",
       "      <td>0.723810</td>\n",
       "      <td>0.648598</td>\n",
       "      <td>0.684418</td>\n",
       "      <td>0.666027</td>\n",
       "    </tr>\n",
       "    <tr>\n",
       "      <td>1</td>\n",
       "      <td>0.528100</td>\n",
       "      <td>0.508669</td>\n",
       "      <td>0.002400</td>\n",
       "      <td>0.753968</td>\n",
       "      <td>0.629907</td>\n",
       "      <td>0.750557</td>\n",
       "      <td>0.684959</td>\n",
       "    </tr>\n",
       "    <tr>\n",
       "      <td>2</td>\n",
       "      <td>0.508600</td>\n",
       "      <td>0.507527</td>\n",
       "      <td>0.002400</td>\n",
       "      <td>0.759524</td>\n",
       "      <td>0.659813</td>\n",
       "      <td>0.744726</td>\n",
       "      <td>0.699703</td>\n",
       "    </tr>\n",
       "    <tr>\n",
       "      <td>3</td>\n",
       "      <td>0.486500</td>\n",
       "      <td>0.536560</td>\n",
       "      <td>0.002400</td>\n",
       "      <td>0.716667</td>\n",
       "      <td>0.773832</td>\n",
       "      <td>0.636923</td>\n",
       "      <td>0.698734</td>\n",
       "    </tr>\n",
       "    <tr>\n",
       "      <td>4</td>\n",
       "      <td>0.465700</td>\n",
       "      <td>0.500520</td>\n",
       "      <td>0.002400</td>\n",
       "      <td>0.763492</td>\n",
       "      <td>0.704673</td>\n",
       "      <td>0.729207</td>\n",
       "      <td>0.716730</td>\n",
       "    </tr>\n",
       "    <tr>\n",
       "      <td>6</td>\n",
       "      <td>0.429300</td>\n",
       "      <td>0.620005</td>\n",
       "      <td>0.002400</td>\n",
       "      <td>0.694444</td>\n",
       "      <td>0.837383</td>\n",
       "      <td>0.600536</td>\n",
       "      <td>0.699454</td>\n",
       "    </tr>\n",
       "    <tr>\n",
       "      <td>7</td>\n",
       "      <td>0.416400</td>\n",
       "      <td>0.545994</td>\n",
       "      <td>0.002400</td>\n",
       "      <td>0.738889</td>\n",
       "      <td>0.770093</td>\n",
       "      <td>0.666667</td>\n",
       "      <td>0.714657</td>\n",
       "    </tr>\n",
       "    <tr>\n",
       "      <td>8</td>\n",
       "      <td>0.402000</td>\n",
       "      <td>0.652877</td>\n",
       "      <td>0.002400</td>\n",
       "      <td>0.681746</td>\n",
       "      <td>0.856075</td>\n",
       "      <td>0.585678</td>\n",
       "      <td>0.695520</td>\n",
       "    </tr>\n",
       "    <tr>\n",
       "      <td>9</td>\n",
       "      <td>0.394800</td>\n",
       "      <td>0.623687</td>\n",
       "      <td>0.002400</td>\n",
       "      <td>0.694444</td>\n",
       "      <td>0.826168</td>\n",
       "      <td>0.602180</td>\n",
       "      <td>0.696612</td>\n",
       "    </tr>\n",
       "  </tbody>\n",
       "</table><p>"
      ],
      "text/plain": [
       "<IPython.core.display.HTML object>"
      ]
     },
     "metadata": {},
     "output_type": "display_data"
    },
    {
     "data": {
      "text/plain": [
       "TrainOutput(global_step=2880, training_loss=0.46822187635633683, metrics={'train_runtime': 730.9489, 'train_samples_per_second': 189.206, 'train_steps_per_second': 3.94, 'total_flos': 0.0, 'train_loss': 0.46822187635633683, 'epoch': 9.994216310005784})"
      ]
     },
     "execution_count": 12,
     "metadata": {},
     "output_type": "execute_result"
    }
   ],
   "source": [
    "trainer.train()"
   ]
  },
  {
   "cell_type": "code",
   "execution_count": 13,
   "metadata": {},
   "outputs": [
    {
     "data": {
      "text/html": [
       "\n",
       "    <div>\n",
       "      \n",
       "      <progress value='1350' max='675' style='width:300px; height:20px; vertical-align: middle;'></progress>\n",
       "      [675/675 00:11]\n",
       "    </div>\n",
       "    "
      ],
      "text/plain": [
       "<IPython.core.display.HTML object>"
      ]
     },
     "metadata": {},
     "output_type": "display_data"
    },
    {
     "data": {
      "text/plain": [
       "{'eval_loss': 0.7013115882873535,\n",
       " 'eval_model_preparation_time': 0.0024,\n",
       " 'eval_accuracy': 0.6814814814814815,\n",
       " 'eval_recall': 0.8271474019088016,\n",
       " 'eval_precision': 0.5280974949221394,\n",
       " 'eval_f1': 0.6446280991735537,\n",
       " 'eval_runtime': 4.9095,\n",
       " 'eval_samples_per_second': 549.957,\n",
       " 'eval_steps_per_second': 137.489,\n",
       " 'epoch': 9.994216310005784}"
      ]
     },
     "execution_count": 13,
     "metadata": {},
     "output_type": "execute_result"
    }
   ],
   "source": [
    "trainer.evaluate(eval_dataset=tokenized_datasets[\"test\"])"
   ]
  },
  {
   "cell_type": "code",
   "execution_count": 14,
   "metadata": {},
   "outputs": [],
   "source": [
    "def create_dev_task(name):\n",
    "    dev_data2 = [d for d in test_data if d[\"task_type\"] == name]\n",
    "    dev_df2 = pd.DataFrame(dev_data2)\n",
    "    dev_ds2 = Dataset.from_pandas(dev_df2)\n",
    "    tokenized_datasets_task = dev_ds2.map(tokenize_function, batched=True)\n",
    "    tokenized_datasets_task = tokenized_datasets_task.remove_columns([\"text\"])\n",
    "    return tokenized_datasets_task"
   ]
  },
  {
   "cell_type": "code",
   "execution_count": 15,
   "metadata": {},
   "outputs": [
    {
     "data": {
      "application/vnd.jupyter.widget-view+json": {
       "model_id": "fe10e2b694204d93b14e51f4a7abefc4",
       "version_major": 2,
       "version_minor": 0
      },
      "text/plain": [
       "Map:   0%|          | 0/900 [00:00<?, ? examples/s]"
      ]
     },
     "metadata": {},
     "output_type": "display_data"
    },
    {
     "data": {
      "text/plain": [
       "{'eval_loss': 0.776752233505249,\n",
       " 'eval_model_preparation_time': 0.0024,\n",
       " 'eval_accuracy': 0.6344444444444445,\n",
       " 'eval_recall': 0.76875,\n",
       " 'eval_precision': 0.2963855421686747,\n",
       " 'eval_f1': 0.42782608695652175,\n",
       " 'eval_runtime': 1.8186,\n",
       " 'eval_samples_per_second': 494.891,\n",
       " 'eval_steps_per_second': 123.723,\n",
       " 'epoch': 9.994216310005784}"
      ]
     },
     "execution_count": 15,
     "metadata": {},
     "output_type": "execute_result"
    }
   ],
   "source": [
    "dev_qa = create_dev_task(\"QA\")\n",
    "trainer.evaluate(eval_dataset=dev_qa)"
   ]
  },
  {
   "cell_type": "code",
   "execution_count": 16,
   "metadata": {},
   "outputs": [
    {
     "data": {
      "application/vnd.jupyter.widget-view+json": {
       "model_id": "d3f26ab0cccd49cb8f46a0044966fb30",
       "version_major": 2,
       "version_minor": 0
      },
      "text/plain": [
       "Map:   0%|          | 0/900 [00:00<?, ? examples/s]"
      ]
     },
     "metadata": {},
     "output_type": "display_data"
    },
    {
     "data": {
      "text/plain": [
       "{'eval_loss': 0.6494220495223999,\n",
       " 'eval_model_preparation_time': 0.0024,\n",
       " 'eval_accuracy': 0.7677777777777778,\n",
       " 'eval_recall': 0.9499136442141624,\n",
       " 'eval_precision': 0.7534246575342466,\n",
       " 'eval_f1': 0.8403361344537815,\n",
       " 'eval_runtime': 1.8726,\n",
       " 'eval_samples_per_second': 480.612,\n",
       " 'eval_steps_per_second': 120.153,\n",
       " 'epoch': 9.994216310005784}"
      ]
     },
     "execution_count": 16,
     "metadata": {},
     "output_type": "execute_result"
    }
   ],
   "source": [
    "dev_d2t = create_dev_task(\"Data2txt\")\n",
    "trainer.evaluate(eval_dataset=dev_d2t)"
   ]
  },
  {
   "cell_type": "code",
   "execution_count": 17,
   "metadata": {},
   "outputs": [
    {
     "data": {
      "application/vnd.jupyter.widget-view+json": {
       "model_id": "08ee13533b8444da84cadcb528f1d80b",
       "version_major": 2,
       "version_minor": 0
      },
      "text/plain": [
       "Map:   0%|          | 0/900 [00:00<?, ? examples/s]"
      ]
     },
     "metadata": {},
     "output_type": "display_data"
    },
    {
     "data": {
      "text/plain": [
       "{'eval_loss': 0.6777603030204773,\n",
       " 'eval_model_preparation_time': 0.0024,\n",
       " 'eval_accuracy': 0.6422222222222222,\n",
       " 'eval_recall': 0.5245098039215687,\n",
       " 'eval_precision': 0.32228915662650603,\n",
       " 'eval_f1': 0.39925373134328357,\n",
       " 'eval_runtime': 1.776,\n",
       " 'eval_samples_per_second': 506.769,\n",
       " 'eval_steps_per_second': 126.692,\n",
       " 'epoch': 9.994216310005784}"
      ]
     },
     "execution_count": 17,
     "metadata": {},
     "output_type": "execute_result"
    }
   ],
   "source": [
    "dev_sum = create_dev_task(\"Summary\")\n",
    "trainer.evaluate(eval_dataset=dev_sum)"
   ]
  },
  {
   "cell_type": "code",
   "execution_count": 18,
   "metadata": {},
   "outputs": [],
   "source": [
    "# トレーニング後にモデルを保存\n",
    "name = \"./0102_no_rag_rob\"\n",
    "trainer.save_model(name)\n",
    "trainer.save_state()\n",
    "model.save_pretrained(name)"
   ]
  },
  {
   "cell_type": "code",
   "execution_count": null,
   "metadata": {},
   "outputs": [],
   "source": [
    "loss_list = [x.item() for x in loss_list]"
   ]
  },
  {
   "cell_type": "code",
   "execution_count": 14,
   "metadata": {},
   "outputs": [
    {
     "data": {
      "text/plain": [
       "126552"
      ]
     },
     "execution_count": 14,
     "metadata": {},
     "output_type": "execute_result"
    }
   ],
   "source": [
    "len(loss_list)"
   ]
  },
  {
   "cell_type": "code",
   "execution_count": 15,
   "metadata": {},
   "outputs": [
    {
     "data": {
      "image/png": "[encoded data removed]",
      "text/plain": [
       "<Figure size 640x480 with 1 Axes>"
      ]
     },
     "metadata": {},
     "output_type": "display_data"
    }
   ],
   "source": [
    "import matplotlib.pyplot as plt\n",
    "\n",
    "x = np.arange(0, len(loss_list), len(loss_list) // 1000)\n",
    "loss_list = np.array(loss_list)\n",
    "plt.plot(x, loss_list[x])\n",
    "plt.show()"
   ]
  },
  {
   "cell_type": "code",
   "execution_count": 16,
   "metadata": {},
   "outputs": [
    {
     "data": {
      "image/png": "[encoded data removed]",
      "text/plain": [
       "<Figure size 640x480 with 1 Axes>"
      ]
     },
     "metadata": {},
     "output_type": "display_data"
    }
   ],
   "source": [
    "# 長さの分布\n",
    "import matplotlib.pyplot as plt\n",
    "\n",
    "train_true[\"text\"].map(len).hist(alpha=0.5, label=\"Positive Length\", bins=100)\n",
    "train_false[\"text\"].map(len).hist(alpha=0.5, label=\"Negative Length\", bins=100)\n",
    "plt.legend()\n",
    "plt.show()"
   ]
  },
  {
   "cell_type": "code",
   "execution_count": 14,
   "metadata": {},
   "outputs": [
    {
     "name": "stdout",
     "output_type": "stream",
     "text": [
      "torch.Size([1, 7, 768])\n"
     ]
    }
   ],
   "source": [
    "import torch\n",
    "text = \"I have a pen too\"\n",
    "tokenized_text = tokenizer(text)\n",
    "\n",
    "# トークン化された結果の確認\n",
    "#print(tokenized_text)\n",
    "\n",
    "# input_ids と attention_mask を Tensor に変換\n",
    "input_ids = torch.tensor(tokenized_text['input_ids']).unsqueeze(0).to(device)  # バッチ次元を追加\n",
    "attention_mask = torch.tensor(tokenized_text['attention_mask']).unsqueeze(0).to(device)\n",
    "\n",
    "# モデルに渡す\n",
    "output = base_model(input_ids=input_ids, attention_mask=attention_mask)\n",
    "print(output[0].shape)"
   ]
  },
  {
   "cell_type": "code",
   "execution_count": 47,
   "metadata": {},
   "outputs": [
    {
     "data": {
      "text/plain": [
       "torch.Size([1, 32, 4, 96])"
      ]
     },
     "execution_count": 47,
     "metadata": {},
     "output_type": "execute_result"
    }
   ],
   "source": [
    "output[1][0][0].shape"
   ]
  },
  {
   "cell_type": "code",
   "execution_count": 30,
   "metadata": {
    "scrolled": true
   },
   "outputs": [],
   "source": [
    "trainer.save_model(\"./1213_no_rag_rob_sum\")\n",
    "trainer.save_state()\n",
    "model.save_pretrained(\"./1213_no_rag_rob_sum\")"
   ]
  },
  {
   "cell_type": "code",
   "execution_count": null,
   "metadata": {},
   "outputs": [],
   "source": []
  }
 ],
 "metadata": {
  "kernelspec": {
   "display_name": "Python 3 (ipykernel)",
   "language": "python",
   "name": "python3"
  },
  "language_info": {
   "codemirror_mode": {
    "name": "ipython",
    "version": 3
   },
   "file_extension": ".py",
   "mimetype": "text/x-python",
   "name": "python",
   "nbconvert_exporter": "python",
   "pygments_lexer": "ipython3",
   "version": "3.9.18"
  }
 },
 "nbformat": 4,
 "nbformat_minor": 4
}
