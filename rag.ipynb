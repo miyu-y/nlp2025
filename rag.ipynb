{
 "cells": [
  {
   "cell_type": "code",
   "execution_count": 1,
   "metadata": {},
   "outputs": [],
   "source": [
    "import json\n",
    "\n",
    "with open(\"rag_truth_train2.json\", \"r\") as f:\n",
    "    train_data = json.load(f)\n",
    "with open(\"rag_truth_dev.json\", \"r\") as f:\n",
    "    dev_data = json.load(f)\n",
    "with open(\"rag_truth_test.json\", \"r\") as f:\n",
    "    test_data = json.load(f)"
   ]
  },
  {
   "cell_type": "code",
   "execution_count": 2,
   "metadata": {},
   "outputs": [],
   "source": [
    "# prefixをつける\n",
    "def add_prefix(data):\n",
    "    for d in data:\n",
    "        d[\"text\"] = \"Please judge the following statement as true or false based on the references above: \" + d[\"text\"]\n",
    "    return data\n",
    "\n",
    "train_data = add_prefix(train_data)\n",
    "dev_data = add_prefix(dev_data)\n",
    "test_data = add_prefix(test_data)"
   ]
  },
  {
   "cell_type": "code",
   "execution_count": 31,
   "metadata": {},
   "outputs": [],
   "source": [
    "# task_type: QA, Data2txt, Summary\n",
    "task_name = \"Summary\"\n",
    "train_data = [d for d in train_data if d[\"task_type\"] == task_name]\n",
    "dev_data = [d for d in dev_data if d[\"task_type\"] == task_name]\n",
    "test_data = [d for d in test_data if d[\"task_type\"] == task_name]"
   ]
  },
  {
   "cell_type": "code",
   "execution_count": 3,
   "metadata": {},
   "outputs": [
    {
     "data": {
      "text/plain": [
       "DatasetDict({\n",
       "    train: Dataset({\n",
       "        features: ['ref', 'text', 'labels', 'source', 'model', 'task_type', 'source_id'],\n",
       "        num_rows: 13830\n",
       "    })\n",
       "    dev: Dataset({\n",
       "        features: ['ref', 'text', 'labels', 'source', 'model', 'task_type', 'source_id'],\n",
       "        num_rows: 1260\n",
       "    })\n",
       "    test: Dataset({\n",
       "        features: ['ref', 'text', 'labels', 'source', 'model', 'task_type', 'source_id'],\n",
       "        num_rows: 2700\n",
       "    })\n",
       "})"
      ]
     },
     "execution_count": 3,
     "metadata": {},
     "output_type": "execute_result"
    }
   ],
   "source": [
    "from datasets import Dataset, DatasetDict\n",
    "import pandas as pd\n",
    "\n",
    "train_df = pd.DataFrame(train_data)\n",
    "dev_df = pd.DataFrame(dev_data)\n",
    "test_df = pd.DataFrame(test_data)\n",
    "train_ds = Dataset.from_pandas(train_df)\n",
    "dev_ds = Dataset.from_pandas(dev_df)\n",
    "test_ds = Dataset.from_pandas(test_df)\n",
    "\n",
    "raw_datasets = DatasetDict({\"train\": train_ds, \"dev\":dev_ds, \"test\": test_ds})\n",
    "raw_datasets"
   ]
  },
  {
   "cell_type": "code",
   "execution_count": 28,
   "metadata": {},
   "outputs": [
    {
     "data": {
      "application/vnd.jupyter.widget-view+json": {
       "model_id": "5a3e240c2eec47db9257dc68d6329cac",
       "version_major": 2,
       "version_minor": 0
      },
      "text/plain": [
       "Map:   0%|          | 0/13830 [00:00<?, ? examples/s]"
      ]
     },
     "metadata": {},
     "output_type": "display_data"
    },
    {
     "data": {
      "application/vnd.jupyter.widget-view+json": {
       "model_id": "abe55f4e7261443291ea1f06303c641f",
       "version_major": 2,
       "version_minor": 0
      },
      "text/plain": [
       "Map:   0%|          | 0/1260 [00:00<?, ? examples/s]"
      ]
     },
     "metadata": {},
     "output_type": "display_data"
    },
    {
     "data": {
      "application/vnd.jupyter.widget-view+json": {
       "model_id": "2cbe52257fa743b5b6b822cc7ce36013",
       "version_major": 2,
       "version_minor": 0
      },
      "text/plain": [
       "Map:   0%|          | 0/2700 [00:00<?, ? examples/s]"
      ]
     },
     "metadata": {},
     "output_type": "display_data"
    }
   ],
   "source": [
    "from transformers import AutoTokenizer, DataCollatorWithPadding\n",
    "\n",
    "\n",
    "tokenizer = AutoTokenizer.from_pretrained(\"FacebookAI/roberta-base\")\n",
    "#tokenizer = AutoTokenizer.from_pretrained(\"vinai/bertweet-large\",use_fast=False)\n",
    "\n",
    "def tokenize_function(examples):\n",
    "    ref = tokenizer(examples[\"ref\"],truncation=True, max_length=512,padding=\"max_length\")\n",
    "    text = tokenizer(examples[\"text\"],truncation=True, max_length=512,padding=\"max_length\")\n",
    "    return {\n",
    "        \"ref_input_ids\":ref[\"input_ids\"],\n",
    "        \"ref_attention_mask\":ref[\"attention_mask\"],\n",
    "        \"text_input_ids\":text[\"input_ids\"],\n",
    "        \"text_attention_mask\":text[\"attention_mask\"],\n",
    "    }\n",
    "\n",
    "tokenized_datasets = raw_datasets.map(tokenize_function, batched=True)\n",
    "tokenized_datasets = tokenized_datasets.remove_columns([\"text\",\"ref\"])\n",
    "#tokenized_datasets.set_format(\"torch\")\n",
    "data_collator = DataCollatorWithPadding(tokenizer=tokenizer)"
   ]
  },
  {
   "cell_type": "code",
   "execution_count": 29,
   "metadata": {},
   "outputs": [],
   "source": [
    "from transformers import DataCollatorWithPadding\n",
    "from torch.nn.utils.rnn import pad_sequence\n",
    "import torch\n",
    "\n",
    "class CustomDataCollator(DataCollatorWithPadding):\n",
    "    def __call__(self, features):\n",
    "        # features の例: [{'anchor_input_ids': ..., 'anchor_attention_mask': ..., ...}, ...]\n",
    "        \n",
    "        # データのリストを作成\n",
    "        ref_ids = [torch.tensor(x['ref_input_ids']) for x in features]\n",
    "        text_ids = [torch.tensor(x['text_input_ids']) for x in features]\n",
    "       \n",
    "        \n",
    "        ref_mask = [torch.tensor(x['ref_attention_mask']) for x in features]\n",
    "        text_mask = [torch.tensor(x['text_attention_mask']) for x in features]\n",
    "        labels = torch.tensor([x['labels'] for x in features])\n",
    "        \n",
    "        # パディング処理\n",
    "        ref_ids = pad_sequence(ref_ids, batch_first=True, padding_value=self.tokenizer.pad_token_id)\n",
    "        text_ids = pad_sequence(text_ids, batch_first=True, padding_value=self.tokenizer.pad_token_id)\n",
    "        \n",
    "        ref_mask = pad_sequence(ref_mask, batch_first=True, padding_value=0)\n",
    "        text_mask = pad_sequence(text_mask, batch_first=True, padding_value=0)\n",
    "        \n",
    "        # バッチ辞書を作成\n",
    "        batch = {\n",
    "            \"input_ids\": [ref_ids, text_ids],\n",
    "            \"attention_mask\": [ref_mask, text_mask],\n",
    "            \"labels\": labels\n",
    "        }\n",
    "        \n",
    "        return batch\n",
    "\n",
    "\n",
    "data_collator = CustomDataCollator(tokenizer=tokenizer)"
   ]
  },
  {
   "cell_type": "code",
   "execution_count": 30,
   "metadata": {},
   "outputs": [
    {
     "data": {
      "text/plain": [
       "DatasetDict({\n",
       "    train: Dataset({\n",
       "        features: ['labels', 'source', 'model', 'task_type', 'source_id', 'ref_input_ids', 'ref_attention_mask', 'text_input_ids', 'text_attention_mask'],\n",
       "        num_rows: 13830\n",
       "    })\n",
       "    dev: Dataset({\n",
       "        features: ['labels', 'source', 'model', 'task_type', 'source_id', 'ref_input_ids', 'ref_attention_mask', 'text_input_ids', 'text_attention_mask'],\n",
       "        num_rows: 1260\n",
       "    })\n",
       "    test: Dataset({\n",
       "        features: ['labels', 'source', 'model', 'task_type', 'source_id', 'ref_input_ids', 'ref_attention_mask', 'text_input_ids', 'text_attention_mask'],\n",
       "        num_rows: 2700\n",
       "    })\n",
       "})"
      ]
     },
     "execution_count": 30,
     "metadata": {},
     "output_type": "execute_result"
    }
   ],
   "source": [
    "tokenized_datasets"
   ]
  },
  {
   "cell_type": "code",
   "execution_count": 31,
   "metadata": {},
   "outputs": [
    {
     "name": "stderr",
     "output_type": "stream",
     "text": [
      "Some weights of RobertaModel were not initialized from the model checkpoint at FacebookAI/RoBERTa-base and are newly initialized: ['roberta.pooler.dense.bias', 'roberta.pooler.dense.weight']\n",
      "You should probably TRAIN this model on a down-stream task to be able to use it for predictions and inference.\n"
     ]
    }
   ],
   "source": [
    "from transformers import AutoModel\n",
    "\n",
    "#tri_model = AutoModelForSequenceClassification.from_pretrained(\"FacebookAI/RoBERTa-base\", num_labels=2)\n",
    "base_model = AutoModel.from_pretrained(\"FacebookAI/RoBERTa-base\")\n",
    "#base_model = AutoModel.from_pretrained(\"vinai/bertweet-large\")"
   ]
  },
  {
   "cell_type": "code",
   "execution_count": 32,
   "metadata": {},
   "outputs": [
    {
     "data": {
      "text/plain": [
       "device(type='cuda')"
      ]
     },
     "execution_count": 32,
     "metadata": {},
     "output_type": "execute_result"
    }
   ],
   "source": [
    "import torch\n",
    "\n",
    "# 使う装置\n",
    "device = torch.device(\"cuda\") if torch.cuda.is_available() else torch.device(\"cpu\")\n",
    "base_model.to(device)\n",
    "device"
   ]
  },
  {
   "cell_type": "code",
   "execution_count": 49,
   "metadata": {},
   "outputs": [],
   "source": [
    "import torch\n",
    "import torch.nn as nn\n",
    "from transformers.modeling_outputs import ModelOutput\n",
    "\n",
    "loss_list = []\n",
    "class RagModel(nn.Module):\n",
    "    def __init__(self, base_model, question_encoder=None, generator=None):\n",
    "        super(RagModel, self).__init__()\n",
    "        self.base_model = base_model\n",
    "        self.dropout = nn.Dropout(0.1) \n",
    "        self.classifier = nn.Linear(base_model.config.hidden_size*2, 2)  # ラベル予測用の分類層\n",
    "        self.question_encoder = question_encoder\n",
    "        self.generator = generator\n",
    "\n",
    "    def forward(\n",
    "        self,\n",
    "        input_ids,\n",
    "        attention_mask = None,\n",
    "        labels = None\n",
    "\n",
    "    ):\n",
    "        \n",
    "        ref_input_ids = input_ids[0]\n",
    "        text_input_ids = input_ids[1]\n",
    "        ref_attention_mask = attention_mask[0]\n",
    "        text_attention_mask = attention_mask[1]\n",
    "        #print(ref_input_ids.shape,ref_attention_mask.shape, text_input_ids.shape, text_attention_mask.shape)\n",
    "\n",
    "        \n",
    "        ref_output = self.base_model(input_ids=ref_input_ids, attention_mask=ref_attention_mask)[0][:,0,:]#[1]\n",
    "        text_output = self.base_model(input_ids=text_input_ids, attention_mask=text_attention_mask)[0][:,0,:]#[1]\n",
    "        #output = self.base_model(input_ids=torch.cat([ref_input_ids, text_input_ids], dim=1), attention_mask=torch.cat([ref_attention_mask, text_attention_mask], dim=1))[1]\n",
    "      \n",
    "        ref_output = self.dropout(ref_output)\n",
    "        text_output = self.dropout(text_output)\n",
    "        #output = self.dropout(output)\n",
    "\n",
    "        # ラベル予測の出力\n",
    "        logits = self.classifier(torch.cat([ref_output, text_output], dim=1))\n",
    "        #logits = self.classifier(output)\n",
    "        \n",
    "        loss = nn.CrossEntropyLoss()(logits, labels) if labels is not None else None\n",
    "        loss_list.append(loss)\n",
    "\n",
    "        return ModelOutput(logits=logits, loss=loss)\n",
    "        #return ModelOutput(loss=loss)\n",
    "        \n",
    "    def save_pretrained(self, save_directory):\n",
    "        \"\"\"\n",
    "        モデル全体とサブモジュールを保存するカスタムメソッド\n",
    "        \"\"\"\n",
    "        os.makedirs(save_directory, exist_ok=True)\n",
    "\n",
    "        # サブモジュールの保存\n",
    "        if self.question_encoder is not None:\n",
    "            self.question_encoder.save_pretrained(os.path.join(save_directory, \"question_encoder\"))\n",
    "        if self.generator is not None:\n",
    "            self.generator.save_pretrained(os.path.join(save_directory, \"generator\"))\n",
    "\n",
    "        # モデル全体の重みを保存\n",
    "        torch.save(self.state_dict(), os.path.join(save_directory, \"pytorch_model.bin\"))\n",
    "\n",
    "    @classmethod\n",
    "    def from_pretrained(cls, save_directory):\n",
    "        \"\"\"\n",
    "        保存済みモデルをロードするカスタムメソッド\n",
    "        \"\"\"\n",
    "        question_encoder = None\n",
    "        generator = None\n",
    "\n",
    "        # サブモジュールのロード\n",
    "        if os.path.exists(os.path.join(save_directory, \"question_encoder\")):\n",
    "            question_encoder = AutoModel.from_pretrained(os.path.join(save_directory, \"question_encoder\"))\n",
    "        if os.path.exists(os.path.join(save_directory, \"generator\")):\n",
    "            generator = AutoModel.from_pretrained(os.path.join(save_directory, \"generator\"))\n",
    "\n",
    "        # モデル全体の重みをロード\n",
    "        model = cls(question_encoder=question_encoder, generator=generator)\n",
    "        model.load_state_dict(torch.load(os.path.join(save_directory, \"pytorch_model.bin\")))\n",
    "\n",
    "        return model"
   ]
  },
  {
   "cell_type": "code",
   "execution_count": 50,
   "metadata": {},
   "outputs": [],
   "source": [
    "import numpy as np\n",
    "from sklearn.metrics import f1_score, accuracy_score, recall_score, precision_score\n",
    "\n",
    "def compute_metrics(eval_preds):\n",
    "    logits, labels = eval_preds\n",
    "    predictions = np.argmax(logits, axis=-1).tolist()  # ndarray をリストに変換\n",
    "    labels = labels.tolist()  # ndarray をリストに変換\n",
    "    \n",
    "    # accuracy と f1 score を計算\n",
    "    accuracy = accuracy_score(labels, predictions)\n",
    "    recall = recall_score(labels, predictions)\n",
    "    precision = precision_score(labels, predictions)\n",
    "    f1 = f1_score(labels, predictions)\n",
    "    \n",
    "    return {\n",
    "        \"accuracy\": accuracy,\n",
    "        \"recall\": recall,\n",
    "        \"precision\": precision,\n",
    "        \"f1\": f1\n",
    "    }"
   ]
  },
  {
   "cell_type": "code",
   "execution_count": 51,
   "metadata": {},
   "outputs": [
    {
     "name": "stderr",
     "output_type": "stream",
     "text": [
      "/gs/fs/tga-arase-student/yamada/nlp/lib64/python3.9/site-packages/transformers/training_args.py:1568: FutureWarning: `evaluation_strategy` is deprecated and will be removed in version 4.46 of 🤗 Transformers. Use `eval_strategy` instead\n",
      "  warnings.warn(\n",
      "huggingface/tokenizers: The current process just got forked, after parallelism has already been used. Disabling parallelism to avoid deadlocks...\n",
      "To disable this warning, you can either:\n",
      "\t- Avoid using `tokenizers` before the fork if possible\n",
      "\t- Explicitly set the environment variable TOKENIZERS_PARALLELISM=(true | false)\n",
      "/tmp/19755.1.interactive/ipykernel_834827/3701344241.py:28: FutureWarning: `tokenizer` is deprecated and will be removed in version 5.0.0 for `Trainer.__init__`. Use `processing_class` instead.\n",
      "  trainer = Trainer(\n"
     ]
    }
   ],
   "source": [
    "from transformers import TrainingArguments, Trainer\n",
    "from transformers import AutoModelForSequenceClassification, RobertaForSequenceClassification\n",
    "import torch\n",
    "from torch.nn.parallel import DataParallel\n",
    "import os\n",
    "\n",
    "#training_args = TrainingArguments(\"test-trainer\")\n",
    "training_args = TrainingArguments(\n",
    "    output_dir=\"./results\",\n",
    "    evaluation_strategy=\"epoch\",\n",
    "    logging_strategy=\"epoch\",\n",
    "    save_strategy=\"steps\",  \n",
    "    save_steps=10000,\n",
    "    learning_rate=5e-6,\n",
    "    per_device_train_batch_size=4,\n",
    "    per_device_eval_batch_size=4,\n",
    "    num_train_epochs=10,\n",
    "    weight_decay=0.01,\n",
    "    fp16 = True,\n",
    "    gradient_accumulation_steps=12,\n",
    "    logging_dir=\"./logs\",\n",
    "    remove_unused_columns=False,\n",
    "    report_to=\"tensorboard\",\n",
    ")\n",
    "\n",
    "#model = AutoModelForSequenceClassification.from_pretrained(checkpoint, num_labels=4)\n",
    "model = RagModel(base_model)\n",
    "\n",
    "trainer = Trainer(\n",
    "    model,\n",
    "    training_args,\n",
    "    train_dataset=tokenized_datasets[\"train\"],\n",
    "    eval_dataset=tokenized_datasets[\"dev\"],\n",
    "    data_collator=data_collator,\n",
    "    tokenizer=tokenizer,\n",
    "    compute_metrics=compute_metrics,\n",
    ")\n",
    "\n",
    "\n"
   ]
  },
  {
   "cell_type": "code",
   "execution_count": 52,
   "metadata": {},
   "outputs": [
    {
     "data": {
      "text/html": [
       "\n",
       "    <div>\n",
       "      \n",
       "      <progress value='630' max='315' style='width:300px; height:20px; vertical-align: middle;'></progress>\n",
       "      [315/315 02:52]\n",
       "    </div>\n",
       "    "
      ],
      "text/plain": [
       "<IPython.core.display.HTML object>"
      ]
     },
     "metadata": {},
     "output_type": "display_data"
    },
    {
     "data": {
      "text/plain": [
       "{'eval_loss': 0.7032307982444763,\n",
       " 'eval_model_preparation_time': 0.0029,\n",
       " 'eval_accuracy': 0.4246031746031746,\n",
       " 'eval_recall': 1.0,\n",
       " 'eval_precision': 0.4246031746031746,\n",
       " 'eval_f1': 0.596100278551532,\n",
       " 'eval_runtime': 4.4234,\n",
       " 'eval_samples_per_second': 284.847,\n",
       " 'eval_steps_per_second': 71.212}"
      ]
     },
     "execution_count": 52,
     "metadata": {},
     "output_type": "execute_result"
    }
   ],
   "source": [
    "trainer.evaluate()"
   ]
  },
  {
   "cell_type": "code",
   "execution_count": 53,
   "metadata": {},
   "outputs": [
    {
     "data": {
      "text/html": [
       "\n",
       "    <div>\n",
       "      \n",
       "      <progress value='2880' max='2880' style='width:300px; height:20px; vertical-align: middle;'></progress>\n",
       "      [2880/2880 26:47, Epoch 9/10]\n",
       "    </div>\n",
       "    <table border=\"1\" class=\"dataframe\">\n",
       "  <thead>\n",
       " <tr style=\"text-align: left;\">\n",
       "      <th>Epoch</th>\n",
       "      <th>Training Loss</th>\n",
       "      <th>Validation Loss</th>\n",
       "      <th>Model Preparation Time</th>\n",
       "      <th>Accuracy</th>\n",
       "      <th>Recall</th>\n",
       "      <th>Precision</th>\n",
       "      <th>F1</th>\n",
       "    </tr>\n",
       "  </thead>\n",
       "  <tbody>\n",
       "    <tr>\n",
       "      <td>0</td>\n",
       "      <td>0.610000</td>\n",
       "      <td>0.575513</td>\n",
       "      <td>0.002900</td>\n",
       "      <td>0.723016</td>\n",
       "      <td>0.667290</td>\n",
       "      <td>0.676136</td>\n",
       "      <td>0.671684</td>\n",
       "    </tr>\n",
       "    <tr>\n",
       "      <td>1</td>\n",
       "      <td>0.533200</td>\n",
       "      <td>0.523739</td>\n",
       "      <td>0.002900</td>\n",
       "      <td>0.740476</td>\n",
       "      <td>0.659813</td>\n",
       "      <td>0.708835</td>\n",
       "      <td>0.683446</td>\n",
       "    </tr>\n",
       "    <tr>\n",
       "      <td>2</td>\n",
       "      <td>0.507500</td>\n",
       "      <td>0.506865</td>\n",
       "      <td>0.002900</td>\n",
       "      <td>0.748413</td>\n",
       "      <td>0.680374</td>\n",
       "      <td>0.713725</td>\n",
       "      <td>0.696651</td>\n",
       "    </tr>\n",
       "    <tr>\n",
       "      <td>3</td>\n",
       "      <td>0.487500</td>\n",
       "      <td>0.504371</td>\n",
       "      <td>0.002900</td>\n",
       "      <td>0.740476</td>\n",
       "      <td>0.723364</td>\n",
       "      <td>0.683746</td>\n",
       "      <td>0.702997</td>\n",
       "    </tr>\n",
       "    <tr>\n",
       "      <td>4</td>\n",
       "      <td>0.466800</td>\n",
       "      <td>0.491205</td>\n",
       "      <td>0.002900</td>\n",
       "      <td>0.768254</td>\n",
       "      <td>0.699065</td>\n",
       "      <td>0.740594</td>\n",
       "      <td>0.719231</td>\n",
       "    </tr>\n",
       "    <tr>\n",
       "      <td>6</td>\n",
       "      <td>0.434600</td>\n",
       "      <td>0.559652</td>\n",
       "      <td>0.002900</td>\n",
       "      <td>0.709524</td>\n",
       "      <td>0.768224</td>\n",
       "      <td>0.629403</td>\n",
       "      <td>0.691919</td>\n",
       "    </tr>\n",
       "    <tr>\n",
       "      <td>7</td>\n",
       "      <td>0.418500</td>\n",
       "      <td>0.509208</td>\n",
       "      <td>0.002900</td>\n",
       "      <td>0.754762</td>\n",
       "      <td>0.727103</td>\n",
       "      <td>0.704710</td>\n",
       "      <td>0.715731</td>\n",
       "    </tr>\n",
       "    <tr>\n",
       "      <td>8</td>\n",
       "      <td>0.405800</td>\n",
       "      <td>0.568975</td>\n",
       "      <td>0.002900</td>\n",
       "      <td>0.710317</td>\n",
       "      <td>0.790654</td>\n",
       "      <td>0.625740</td>\n",
       "      <td>0.698596</td>\n",
       "    </tr>\n",
       "    <tr>\n",
       "      <td>9</td>\n",
       "      <td>0.396600</td>\n",
       "      <td>0.562833</td>\n",
       "      <td>0.002900</td>\n",
       "      <td>0.712698</td>\n",
       "      <td>0.785047</td>\n",
       "      <td>0.629685</td>\n",
       "      <td>0.698835</td>\n",
       "    </tr>\n",
       "  </tbody>\n",
       "</table><p>"
      ],
      "text/plain": [
       "<IPython.core.display.HTML object>"
      ]
     },
     "metadata": {},
     "output_type": "display_data"
    },
    {
     "data": {
      "text/plain": [
       "TrainOutput(global_step=2880, training_loss=0.4709526300430298, metrics={'train_runtime': 1608.1224, 'train_samples_per_second': 86.001, 'train_steps_per_second': 1.791, 'total_flos': 0.0, 'train_loss': 0.4709526300430298, 'epoch': 9.994216310005784})"
      ]
     },
     "execution_count": 53,
     "metadata": {},
     "output_type": "execute_result"
    }
   ],
   "source": [
    "trainer.train()"
   ]
  },
  {
   "cell_type": "code",
   "execution_count": 60,
   "metadata": {},
   "outputs": [
    {
     "data": {
      "text/plain": [
       "{'eval_loss': 0.5867388844490051,\n",
       " 'eval_model_preparation_time': 0.0029,\n",
       " 'eval_accuracy': 0.7218518518518519,\n",
       " 'eval_recall': 0.792152704135737,\n",
       " 'eval_precision': 0.5737327188940092,\n",
       " 'eval_f1': 0.6654788418708241,\n",
       " 'eval_runtime': 9.9957,\n",
       " 'eval_samples_per_second': 270.117,\n",
       " 'eval_steps_per_second': 67.529,\n",
       " 'epoch': 9.994216310005784}"
      ]
     },
     "execution_count": 60,
     "metadata": {},
     "output_type": "execute_result"
    }
   ],
   "source": [
    "trainer.evaluate(eval_dataset=tokenized_datasets[\"test\"])"
   ]
  },
  {
   "cell_type": "code",
   "execution_count": 58,
   "metadata": {},
   "outputs": [],
   "source": [
    "# トレーニング後にモデルを保存\n",
    "import os\n",
    "\n",
    "name = \"./0102_rag_rob\"\n",
    "trainer.save_model(name)\n",
    "trainer.save_state()\n",
    "model.save_pretrained(name)"
   ]
  },
  {
   "cell_type": "code",
   "execution_count": 54,
   "metadata": {},
   "outputs": [],
   "source": [
    "def create_dev_task(name):\n",
    "    dev_data2 = [d for d in test_data if d[\"task_type\"] == name]\n",
    "    dev_df2 = pd.DataFrame(dev_data2)\n",
    "    dev_ds2 = Dataset.from_pandas(dev_df2)\n",
    "    tokenized_datasets_task = dev_ds2.map(tokenize_function, batched=True)\n",
    "    tokenized_datasets_task = tokenized_datasets_task.remove_columns([\"text\",\"ref\"])\n",
    "    return tokenized_datasets_task"
   ]
  },
  {
   "cell_type": "code",
   "execution_count": 55,
   "metadata": {},
   "outputs": [
    {
     "data": {
      "application/vnd.jupyter.widget-view+json": {
       "model_id": "f816b538ab35472b8dfb3e76905e9f08",
       "version_major": 2,
       "version_minor": 0
      },
      "text/plain": [
       "Map:   0%|          | 0/900 [00:00<?, ? examples/s]"
      ]
     },
     "metadata": {},
     "output_type": "display_data"
    },
    {
     "data": {
      "text/html": [
       "\n",
       "    <div>\n",
       "      \n",
       "      <progress value='1350' max='225' style='width:300px; height:20px; vertical-align: middle;'></progress>\n",
       "      [225/225 01:24]\n",
       "    </div>\n",
       "    "
      ],
      "text/plain": [
       "<IPython.core.display.HTML object>"
      ]
     },
     "metadata": {},
     "output_type": "display_data"
    },
    {
     "data": {
      "text/plain": [
       "{'eval_loss': 0.5746981501579285,\n",
       " 'eval_model_preparation_time': 0.0029,\n",
       " 'eval_accuracy': 0.6988888888888889,\n",
       " 'eval_recall': 0.725,\n",
       " 'eval_precision': 0.33819241982507287,\n",
       " 'eval_f1': 0.46123260437375746,\n",
       " 'eval_runtime': 3.1617,\n",
       " 'eval_samples_per_second': 284.657,\n",
       " 'eval_steps_per_second': 71.164,\n",
       " 'epoch': 9.994216310005784}"
      ]
     },
     "execution_count": 55,
     "metadata": {},
     "output_type": "execute_result"
    }
   ],
   "source": [
    "dev_qa = create_dev_task(\"QA\")\n",
    "trainer.evaluate(eval_dataset=dev_qa)"
   ]
  },
  {
   "cell_type": "code",
   "execution_count": 56,
   "metadata": {},
   "outputs": [
    {
     "data": {
      "application/vnd.jupyter.widget-view+json": {
       "model_id": "8212a622a59a4de6a7519933c7cb0113",
       "version_major": 2,
       "version_minor": 0
      },
      "text/plain": [
       "Map:   0%|          | 0/900 [00:00<?, ? examples/s]"
      ]
     },
     "metadata": {},
     "output_type": "display_data"
    },
    {
     "data": {
      "text/plain": [
       "{'eval_loss': 0.584356427192688,\n",
       " 'eval_model_preparation_time': 0.0029,\n",
       " 'eval_accuracy': 0.7788888888888889,\n",
       " 'eval_recall': 0.9430051813471503,\n",
       " 'eval_precision': 0.7668539325842697,\n",
       " 'eval_f1': 0.8458559256390396,\n",
       " 'eval_runtime': 3.3586,\n",
       " 'eval_samples_per_second': 267.967,\n",
       " 'eval_steps_per_second': 66.992,\n",
       " 'epoch': 9.994216310005784}"
      ]
     },
     "execution_count": 56,
     "metadata": {},
     "output_type": "execute_result"
    }
   ],
   "source": [
    "dev_d2t = create_dev_task(\"Data2txt\")\n",
    "trainer.evaluate(eval_dataset=dev_d2t)"
   ]
  },
  {
   "cell_type": "code",
   "execution_count": 57,
   "metadata": {},
   "outputs": [
    {
     "data": {
      "application/vnd.jupyter.widget-view+json": {
       "model_id": "404b6a79d3174cf4903b81c07aba28a1",
       "version_major": 2,
       "version_minor": 0
      },
      "text/plain": [
       "Map:   0%|          | 0/900 [00:00<?, ? examples/s]"
      ]
     },
     "metadata": {},
     "output_type": "display_data"
    },
    {
     "data": {
      "text/plain": [
       "{'eval_loss': 0.6011621356010437,\n",
       " 'eval_model_preparation_time': 0.0029,\n",
       " 'eval_accuracy': 0.6877777777777778,\n",
       " 'eval_recall': 0.4166666666666667,\n",
       " 'eval_precision': 0.3441295546558704,\n",
       " 'eval_f1': 0.376940133037694,\n",
       " 'eval_runtime': 3.3422,\n",
       " 'eval_samples_per_second': 269.283,\n",
       " 'eval_steps_per_second': 67.321,\n",
       " 'epoch': 9.994216310005784}"
      ]
     },
     "execution_count": 57,
     "metadata": {},
     "output_type": "execute_result"
    }
   ],
   "source": [
    "dev_sum = create_dev_task(\"Summary\")\n",
    "trainer.evaluate(eval_dataset=dev_sum)"
   ]
  },
  {
   "cell_type": "code",
   "execution_count": 58,
   "metadata": {},
   "outputs": [],
   "source": [
    "loss_list = [x.item() for x in loss_list]"
   ]
  },
  {
   "cell_type": "code",
   "execution_count": 19,
   "metadata": {},
   "outputs": [
    {
     "data": {
      "image/png": "[encoded data removed]",
      "text/plain": [
       "<Figure size 640x480 with 1 Axes>"
      ]
     },
     "metadata": {},
     "output_type": "display_data"
    }
   ],
   "source": [
    "import matplotlib.pyplot as plt\n",
    "\n",
    "x = np.arange(0,len(loss_list),len(loss_list)//1000)\n",
    "loss_list = np.array(loss_list)\n",
    "plt.plot(x,loss_list[x])\n",
    "plt.show()"
   ]
  },
  {
   "cell_type": "code",
   "execution_count": 11,
   "metadata": {},
   "outputs": [
    {
     "data": {
      "image/png": "[encoded data removed]",
      "text/plain": [
       "<Figure size 640x480 with 1 Axes>"
      ]
     },
     "metadata": {},
     "output_type": "display_data"
    }
   ],
   "source": [
    "import matplotlib.pyplot as plt\n",
    "plt.hist(sim_max_list,bins = 50)\n",
    "plt.show()"
   ]
  },
  {
   "cell_type": "code",
   "execution_count": 13,
   "metadata": {},
   "outputs": [
    {
     "name": "stdout",
     "output_type": "stream",
     "text": [
      "[0, 0, 0, 0, 0, 0, 0, 0, 0, 0, 0.90464556, 0.9212556, 0.93984485, 0.94295806, 0.9513694, 0.951383, 0.9539271, 0.95531106, 0.95738953, 0.9575629, 0.957964, 0.9582137, 0.9584233, 0.95923865, 0.9593846, 0.95967674, 0.95971745, 0.9606648, 0.9608012, 0.96096396, 0.96225053, 0.96276176, 0.96276176, 0.96294945, 0.9632443, 0.96407986, 0.9643437, 0.96449286, 0.9645673, 0.964732, 0.9650366, 0.9651434, 0.96518755, 0.9653988, 0.9653988, 0.9658783, 0.9658849, 0.9659888, 0.96601033, 0.96611047, 0.96623546, 0.96625733, 0.966701, 0.96685135, 0.9668739, 0.9669263, 0.9669808, 0.9669827, 0.9671059, 0.96715724, 0.9672449, 0.96745414, 0.96756184, 0.9677217, 0.9677791, 0.96795815, 0.9679923, 0.9681783, 0.96818423, 0.9682004, 0.96824217, 0.9682447, 0.96834266, 0.9683701, 0.96846116, 0.9685011, 0.96853346, 0.96856993, 0.968593, 0.9686514, 0.9687822, 0.9688374, 0.9688515, 0.9688517, 0.9688868, 0.9689391, 0.9689461, 0.9690015, 0.96909684, 0.9691247, 0.96912956, 0.96917695, 0.96925396, 0.9692985, 0.96932054, 0.96945655, 0.9694993, 0.96956974, 0.9695701, 0.9696463, 0.96969634, 0.96978813, 0.9698185, 0.96985596, 0.96986765, 0.96997845, 0.96999466, 0.9701246, 0.97014, 0.9701558, 0.9701739, 0.97021466, 0.970225, 0.9703653, 0.9704013, 0.9704209, 0.9704632, 0.97046775, 0.97047997, 0.9705298, 0.9705319, 0.97058964, 0.97060364, 0.9706157, 0.9706769, 0.9706953, 0.9707538, 0.97078925, 0.9708376, 0.9708473, 0.9708823, 0.9709001, 0.97093, 0.97093177, 0.9709692, 0.9709904, 0.97102046, 0.9710231, 0.97108907, 0.9710982, 0.9712646, 0.9712646, 0.971271, 0.97130024, 0.97134805, 0.9713504, 0.97137547, 0.9714544, 0.9715413, 0.97154224, 0.97154933, 0.97157437, 0.97158706, 0.9715929, 0.9715929, 0.9716706, 0.9717113, 0.9717113, 0.97172564, 0.97179776, 0.97179776, 0.97180843, 0.9718585, 0.9718635, 0.9718838, 0.9718941, 0.97196734, 0.9719764, 0.9720001, 0.97204906, 0.9721478, 0.9721551, 0.9722038, 0.97221434, 0.97225034, 0.97226, 0.9722828, 0.97229725, 0.97231257, 0.9723346, 0.9723483, 0.9723559, 0.9723873, 0.9723958, 0.97240007, 0.97241265, 0.97241473, 0.9724362, 0.9724632, 0.9724944, 0.9725087, 0.9725273, 0.97254163, 0.9725422, 0.97254825, 0.9725498, 0.9726106, 0.97261506, 0.97262913, 0.9726392, 0.97265416, 0.97266465, 0.9727065, 0.9727565, 0.9727644, 0.97278047, 0.97279227, 0.9728436, 0.9729111, 0.9729244, 0.97295076, 0.9729686, 0.97300863, 0.9730325, 0.9730424, 0.9730657, 0.9730877, 0.97308975, 0.9731535, 0.9731617, 0.97322464, 0.9732385, 0.9732536, 0.97330034, 0.9733022, 0.9733076, 0.9733077, 0.9733265, 0.9733278, 0.9733487, 0.9733752, 0.9733984, 0.9734018, 0.9734187, 0.97343004, 0.9734399, 0.97345227, 0.9734725, 0.97350746, 0.9735095, 0.9735145, 0.9735269, 0.9735485, 0.9735504, 0.9735552, 0.9735768, 0.9736088, 0.9736088, 0.9736265, 0.9736455, 0.9736601, 0.9736691, 0.9736839, 0.97372866, 0.97374046, 0.97376364, 0.9737653, 0.97377485, 0.9737783, 0.97378963, 0.9738011, 0.97385204, 0.97386706, 0.9739002, 0.9739179, 0.9739531, 0.9739568, 0.97396094, 0.9739641, 0.97399825, 0.97401524, 0.97402674, 0.9740312, 0.9740417, 0.9740669, 0.9740731, 0.9740749, 0.9740991, 0.9741197, 0.97414213, 0.97414994, 0.9741663, 0.9742068, 0.97421235, 0.9742353, 0.9742704, 0.9742711, 0.9742753, 0.97428817, 0.97429526, 0.97430414, 0.97432363, 0.9743346, 0.9743346, 0.97435224, 0.97436, 0.9744183, 0.9744205, 0.97443503, 0.97443885, 0.9744513, 0.97445536, 0.97445554, 0.97449005, 0.97454137, 0.9745679, 0.97458667, 0.9746094, 0.97461504, 0.9746152, 0.9746341, 0.974645, 0.974675, 0.97468764, 0.97473866, 0.9747389, 0.9747465, 0.9747499, 0.9747653, 0.9747692, 0.9747743, 0.97478485, 0.9748303, 0.97484684, 0.9748578, 0.9748714, 0.9748772, 0.9748829, 0.9748831, 0.9748847, 0.9748876, 0.97488785, 0.97489166, 0.9748932, 0.97489697, 0.97490495, 0.9749127, 0.9749138, 0.97491544, 0.9749322, 0.9749413, 0.9749418, 0.97496605, 0.9749752, 0.9749855, 0.9750059, 0.97502977, 0.975045, 0.97505134, 0.9750584, 0.9750614, 0.97508115, 0.9750937, 0.9750937, 0.9751017, 0.97511387, 0.97513694, 0.9751456, 0.9751691, 0.9751778, 0.975198, 0.9752041, 0.9752041, 0.9752078, 0.9752135, 0.9752189, 0.9752288, 0.975229, 0.9752391, 0.9752654, 0.97528124, 0.97528505, 0.9752874, 0.97529405, 0.9753164, 0.9753175, 0.9753277, 0.9753327, 0.9753448, 0.97536004, 0.9753633, 0.97537047, 0.9753833, 0.9754027, 0.9754117, 0.97541535, 0.975425, 0.9754716, 0.9754868, 0.97550327, 0.97551525, 0.97551775, 0.97553104, 0.97554576, 0.9755628, 0.97559035, 0.9756163, 0.975622, 0.9756353, 0.97565174, 0.9756554, 0.97566056, 0.975662, 0.9756668, 0.9757043, 0.97571266, 0.97571266, 0.9757191, 0.9757247, 0.97572637, 0.9757309, 0.9757374, 0.9757476, 0.9757491, 0.97575927, 0.9757675, 0.97577465, 0.9757821, 0.97578776, 0.9758097, 0.9758149, 0.97582155, 0.9758372, 0.97585154, 0.9758617, 0.9758621, 0.97587395, 0.9758913, 0.9758982, 0.97591686, 0.9759278, 0.97594476, 0.9759692, 0.9759872, 0.9760086, 0.97601926, 0.9760443, 0.97604924, 0.9760575, 0.97606194, 0.97607195, 0.9760787, 0.9760933, 0.976096, 0.976096, 0.97611076, 0.97615194, 0.9761677, 0.97617805, 0.97618634, 0.9761934, 0.97620994, 0.9762147, 0.97622633, 0.9762628, 0.97626793, 0.9763142, 0.9763153, 0.9763202, 0.9763222, 0.97633964, 0.97634804, 0.9763592, 0.9763621, 0.9763629, 0.97637093, 0.97639084, 0.97639537, 0.9764, 0.9764041, 0.9764041, 0.97641915, 0.9764219, 0.9764289, 0.9764302, 0.9764364, 0.9764818, 0.9764869, 0.97649944, 0.97650075, 0.9765091, 0.9765137, 0.9765336, 0.9765341, 0.97654164, 0.97656095, 0.97656304, 0.97656757, 0.9765987, 0.97659934, 0.9766049, 0.9766138, 0.97662425, 0.9766326, 0.9766377, 0.9766412, 0.9766475, 0.97664845, 0.9766567, 0.9766597, 0.9766667, 0.97666824, 0.97667056, 0.9766742, 0.97667426, 0.9766913, 0.97669244, 0.97669894, 0.9767014, 0.976723, 0.9767288, 0.9767439, 0.97675097, 0.9767523, 0.97675896, 0.97676754, 0.9767696, 0.976771, 0.9767802, 0.97679067, 0.9768107, 0.9768115, 0.9768121, 0.97682357, 0.97683144, 0.9768448, 0.97685933, 0.976863, 0.9768799, 0.9768847, 0.97689384, 0.976918, 0.9769183, 0.9769239, 0.9769261, 0.9769284, 0.976936, 0.9769461, 0.97694916, 0.97695285, 0.9769602, 0.97696066, 0.97697645, 0.9769786, 0.9769885, 0.9769933, 0.9770073, 0.97701645, 0.97702265, 0.9770278, 0.9770282, 0.97703004, 0.97703755, 0.9770525, 0.9770542, 0.97705966, 0.97706014, 0.97707045, 0.9770916, 0.9770995, 0.9771011, 0.9771213, 0.9771332, 0.9771395, 0.97714865, 0.977155, 0.9771729, 0.9771754, 0.9771845, 0.97719073, 0.97719836, 0.9772031, 0.97720903, 0.97721076, 0.977217, 0.977228, 0.97722995, 0.9772306, 0.97724545, 0.9772552, 0.9772626, 0.9772732, 0.9772753, 0.9772822, 0.97728455, 0.9772861, 0.97729105, 0.97729105, 0.9773136, 0.9773164, 0.9773176, 0.9773176, 0.9773353, 0.97733873, 0.9773392, 0.97735137, 0.97735274, 0.9773532, 0.9773576, 0.97736883, 0.9773854, 0.9773918, 0.97739655, 0.9774029, 0.97741544, 0.9774307, 0.97743815, 0.97743905, 0.9774485, 0.97745466, 0.97745526, 0.97745603, 0.97745603, 0.97746396, 0.97748107, 0.97748154, 0.97749585, 0.97750694, 0.97750795, 0.9775149, 0.97751546, 0.97752035, 0.97752887, 0.9775317, 0.97753185, 0.97753733, 0.9775394, 0.9775412, 0.9775414, 0.9775514, 0.9775516, 0.9775534, 0.9775622, 0.97757435, 0.9775838, 0.97758853, 0.9775902, 0.9776361, 0.977646, 0.9776464, 0.97764754, 0.97765136, 0.9776516, 0.97765934, 0.9776611, 0.9776648, 0.97766817, 0.97767806, 0.9776832, 0.97770095, 0.9777026, 0.97771317, 0.9777157, 0.9777296, 0.97773063, 0.9777512, 0.9777549, 0.977762, 0.97778904, 0.9777954, 0.9778031, 0.97780544, 0.97780687, 0.97781044, 0.9778112, 0.9778129, 0.9778218, 0.9778288, 0.9778296, 0.9778366, 0.97785085, 0.9778568, 0.9778584, 0.97786605, 0.9778838, 0.9778991, 0.97790056, 0.97791034, 0.977912, 0.977913, 0.97791415, 0.97792023, 0.9779211, 0.97793025, 0.97793025, 0.97793263, 0.97793925, 0.9779628, 0.9779628, 0.9779634, 0.97797257, 0.9779734, 0.9779764, 0.9779771, 0.9779839, 0.977991, 0.97800684, 0.97800964, 0.9780104, 0.97801507, 0.9780162, 0.9780193, 0.9780216, 0.97802615, 0.9780267, 0.978048, 0.97805434, 0.9780561, 0.9780709, 0.97809017, 0.9780947, 0.978096, 0.9780972, 0.9781105, 0.97811157, 0.9781138, 0.97811437, 0.97812176, 0.97812235, 0.9781227, 0.97812474, 0.97812647, 0.9781272, 0.97813755, 0.9781559, 0.9781604, 0.9781616, 0.9781734, 0.97817343, 0.9781838, 0.97818595, 0.9781939, 0.9782095, 0.9782147, 0.9782245, 0.9782278, 0.97822785, 0.9782306, 0.97823316, 0.9782394, 0.97824335, 0.97824335, 0.9782484, 0.97824985, 0.9782508, 0.9782523, 0.97825575, 0.9782567, 0.9782576, 0.97825813, 0.9782592, 0.9782625, 0.9782708, 0.9782737, 0.9782776, 0.97827786, 0.97828215, 0.97829384, 0.9782941, 0.97829413, 0.97829473, 0.9782957, 0.97830856, 0.97831005, 0.97831464, 0.97831506, 0.97832954, 0.97833914, 0.97833955, 0.9783484, 0.9783558, 0.97836035, 0.9783634, 0.9783638, 0.97837996, 0.978383, 0.9783907, 0.9783914, 0.9783993, 0.9784038, 0.9784156, 0.9784267, 0.97842896, 0.9784324, 0.97843945, 0.97844493, 0.97845227, 0.9784534, 0.9784569, 0.97846025, 0.9784691, 0.97846913, 0.9784902, 0.97849053, 0.97849053, 0.97849214, 0.97850025, 0.9785119, 0.9785205, 0.97852284, 0.9785268, 0.97853583, 0.97854686, 0.97855484, 0.9785643, 0.978567, 0.9785678, 0.9785725, 0.97857493, 0.97860384, 0.9786045, 0.9786049, 0.9786094, 0.97861433, 0.97861576, 0.978618, 0.97861826, 0.9786286, 0.9786406, 0.9786422, 0.9786564, 0.9786576, 0.9786583, 0.9786785, 0.97867906, 0.97868097, 0.97868097, 0.97868675, 0.9786958, 0.97869885, 0.97870684, 0.9787139, 0.9787189, 0.9787243, 0.97872555, 0.9787344, 0.97874004, 0.97874004, 0.97874004, 0.97874326, 0.97874326, 0.9787472, 0.97876334, 0.97876364, 0.9787663, 0.9787688, 0.9787715, 0.97878194, 0.9787892, 0.97878945, 0.9787899, 0.9787954, 0.9788032, 0.978805, 0.9788073, 0.97881055, 0.97881275, 0.9788237, 0.9788257, 0.9788317, 0.9788368, 0.9788464, 0.97884923, 0.97885144, 0.9788613, 0.97886604, 0.97886825, 0.9788705, 0.9788737, 0.9788848, 0.97890985, 0.9789363, 0.9789453, 0.9789474, 0.9789508, 0.9789534, 0.9789575, 0.97897047, 0.9789718, 0.97897494, 0.9789788, 0.9789808, 0.9789916, 0.9789936, 0.9790091, 0.9790302, 0.9790532, 0.97905356, 0.97905636, 0.97906065, 0.9790612, 0.9790612, 0.9790654, 0.9790654, 0.9790682, 0.9790725, 0.9790772, 0.97908574, 0.97910017, 0.97910017, 0.9791017, 0.9791158, 0.97911584, 0.97911644, 0.9791209, 0.97912836, 0.97912973, 0.9791397, 0.9791408, 0.9791773, 0.97917914, 0.9791824, 0.9792013, 0.9792303, 0.9792421, 0.9792449, 0.97926897, 0.9792699, 0.9792847, 0.97929615, 0.9792963, 0.97930086, 0.9793283, 0.9793321, 0.9793408, 0.9793428, 0.97934467, 0.9793566, 0.97936606, 0.9793707, 0.9793759, 0.979383, 0.9793836, 0.9793882, 0.979394, 0.9793965, 0.9794119, 0.97941303, 0.9794191, 0.9794191, 0.9794239, 0.97943854, 0.9794402, 0.9794443, 0.9794446, 0.9794446, 0.9794461, 0.9794539, 0.97945505, 0.9794634, 0.9794813, 0.979486, 0.9794863, 0.9794867, 0.9794867, 0.9794912, 0.97950447, 0.97951037, 0.97951216, 0.979518, 0.97954017, 0.97954845, 0.9795558, 0.9795561, 0.9795621, 0.97956467, 0.97957015, 0.9795716, 0.97957337, 0.97957355, 0.97957575, 0.9795769, 0.979583, 0.97959566, 0.9796032, 0.97961366, 0.9796168, 0.9796205, 0.9796213, 0.97963166, 0.97963214, 0.97963846, 0.9796422, 0.9796456, 0.9796495, 0.9796495, 0.97965586, 0.9796698, 0.9796709, 0.9796761, 0.9796822, 0.9796844, 0.97969675, 0.9796975, 0.9797008, 0.9797017, 0.9797193, 0.9797264, 0.97973895, 0.97973996, 0.979744, 0.9797563, 0.9797611, 0.9797625, 0.9797748, 0.97977614, 0.9797843, 0.97978663, 0.9797945, 0.9798089, 0.9798109, 0.979814, 0.97983253, 0.9798364, 0.9798376, 0.9798416, 0.9798423, 0.9798481, 0.97984934, 0.9798514, 0.9798692, 0.97987086, 0.9798734, 0.9798781, 0.9798796, 0.9798882, 0.97989255, 0.979894, 0.9798988, 0.97990435, 0.97991675, 0.9799204, 0.9799368, 0.9799368, 0.97993815, 0.97994405, 0.97994566, 0.9799463, 0.9799572, 0.9799613, 0.9799618, 0.97996396, 0.97997135, 0.97997606, 0.9799782, 0.97998935, 0.97999495, 0.9799954, 0.98002106, 0.98002416, 0.9800253, 0.98003095, 0.98003364, 0.9800338, 0.9800497, 0.9800508, 0.9800537, 0.98006546, 0.98007226, 0.980073, 0.980073, 0.9800747, 0.98008674, 0.98008937, 0.9800896, 0.9800954, 0.98010075, 0.98010236, 0.98010886, 0.9801174, 0.98012197, 0.9801227, 0.9801231, 0.9801271, 0.9801271, 0.9801286, 0.9801333, 0.98013514, 0.98013514, 0.98013973, 0.98014176, 0.9801473, 0.98015857, 0.98016316, 0.98016435, 0.9801656, 0.98017704, 0.980185, 0.98018736, 0.9801905, 0.98019135, 0.9801922, 0.9801969, 0.9802036, 0.9802103, 0.98021513, 0.98021615, 0.98022944, 0.98024404, 0.9802494, 0.9802494, 0.9802557, 0.9802602, 0.9802648, 0.980279, 0.9802815, 0.98028225, 0.98028225, 0.9802856, 0.98028755, 0.98028755, 0.980289, 0.98029375, 0.9802938, 0.98030037, 0.9803051, 0.9803092, 0.980313, 0.9803305, 0.9803327, 0.98034155, 0.9803503, 0.98035395, 0.9803555, 0.9803555, 0.9803625, 0.9803634, 0.9803637, 0.98037463, 0.98038214, 0.9803856, 0.9803888, 0.98041546, 0.9804245, 0.9804245, 0.9804317, 0.9804372, 0.9804502, 0.9804519, 0.98046285, 0.98047036, 0.9804729, 0.9804781, 0.98048466, 0.98049724, 0.9805076, 0.98051554, 0.98052466, 0.98052996, 0.98053527, 0.9805392, 0.9805413, 0.98054636, 0.98055315, 0.9805692, 0.98057574, 0.9805761, 0.98058045, 0.9805817, 0.98058665, 0.98059255, 0.9805968, 0.9805968, 0.9805992, 0.9806109, 0.9806199, 0.98062605, 0.9806332, 0.98064315, 0.9806433, 0.9806476, 0.9806522, 0.98065233, 0.98065376, 0.9806553, 0.9806554, 0.98065937, 0.9806775, 0.9806804, 0.9806806, 0.9806857, 0.9806907, 0.98069984, 0.9807023, 0.98070294, 0.98070467, 0.98071116, 0.9807176, 0.98072076, 0.9807274, 0.98073155, 0.98073226, 0.9807348, 0.9807356, 0.98074573, 0.98074925, 0.9807535, 0.9807562, 0.9807562, 0.98075694, 0.9807592, 0.98076475, 0.9807681, 0.9807709, 0.9807723, 0.9807828, 0.9807833, 0.9807863, 0.9807883, 0.9807904, 0.98079556, 0.9807956, 0.98079693, 0.98080826, 0.9808144, 0.9808153, 0.9808154, 0.98082006, 0.98082215, 0.98082596, 0.9808332, 0.9808342, 0.98083836, 0.980847, 0.9808496, 0.98085386, 0.98085415, 0.9808545, 0.980856, 0.9808577, 0.9808664, 0.98086786, 0.980868, 0.9808775, 0.9808781, 0.9808781, 0.9808795, 0.9808851, 0.98088664, 0.9808894, 0.9808894, 0.98089063, 0.98089314, 0.9808952, 0.9809007, 0.9809011, 0.98090523, 0.9809117, 0.9809189, 0.98092026, 0.98092335, 0.9809262, 0.9809332, 0.98093677, 0.98093855, 0.98094463, 0.98094463, 0.9809577, 0.9809609, 0.9809629, 0.9809689, 0.9809817, 0.9809817, 0.9809895, 0.9809923, 0.9809934, 0.98099893, 0.981001, 0.98100215, 0.98100346, 0.98100704, 0.9810127, 0.98101807, 0.98101807, 0.98101914, 0.98102367, 0.9810363, 0.9810402, 0.9810407, 0.981047, 0.9810512, 0.9810533, 0.98105955, 0.98106974, 0.9810767, 0.98108333, 0.98108476, 0.9810893, 0.98109365, 0.98109365, 0.9810978, 0.9811019, 0.9811112, 0.98111135, 0.98111624, 0.98111856, 0.98112196, 0.98112315, 0.9811338, 0.9811424, 0.98115206, 0.9811633, 0.9811697, 0.9811707, 0.9811715, 0.9811839, 0.9811918, 0.9811983, 0.9812046, 0.9812049, 0.9812111, 0.9812202, 0.98122793, 0.9812312, 0.9812329, 0.98123485, 0.9812369, 0.981245, 0.9812465, 0.981248, 0.98124814, 0.98124814, 0.9812482, 0.9812497, 0.98126125, 0.9812667, 0.98126686, 0.9812789, 0.9812833, 0.98128664, 0.9812926, 0.9812945, 0.9813134, 0.981328, 0.981329, 0.98133016, 0.98133016, 0.98133564, 0.981342, 0.9813483, 0.9813484, 0.98135114, 0.98136073, 0.9813768, 0.98138446, 0.9813951, 0.9813967, 0.981408, 0.981408, 0.981408, 0.98141074, 0.9814153, 0.9814199, 0.98142594, 0.981428, 0.9814294, 0.9814304, 0.98143184, 0.9814361, 0.9814395, 0.9814478, 0.9814482, 0.9814482, 0.98145443, 0.98145443, 0.98145443, 0.98145455, 0.9814572, 0.9814613, 0.9814624, 0.9814663, 0.9814695, 0.98148364, 0.9815041, 0.9815142, 0.98151636, 0.9815169, 0.981522, 0.98152226, 0.9815248, 0.9815249, 0.9815277, 0.98153883, 0.98153883, 0.98153937, 0.9815452, 0.98154783, 0.981549, 0.98154974, 0.98154974, 0.9815505, 0.9815505, 0.9815588, 0.98156345, 0.9815636, 0.981567, 0.98157, 0.98157, 0.98157424, 0.98158014, 0.9815825, 0.98158425, 0.9815847, 0.9815888, 0.98159885, 0.98160404, 0.98160696, 0.98160887, 0.9816109, 0.9816149, 0.98161626, 0.98161936, 0.9816226, 0.98162866, 0.9816396, 0.98164535, 0.9816504, 0.9816567, 0.9816575, 0.98165846, 0.981659, 0.98166037, 0.98166156, 0.9816666, 0.9816672, 0.98166853, 0.981673, 0.9816793, 0.9816806, 0.9816806, 0.98168105, 0.9816828, 0.9816858, 0.9816934, 0.9816962, 0.98169726, 0.98169845, 0.9817017, 0.98170507, 0.9817189, 0.9817221, 0.981729, 0.9817298, 0.98173094, 0.9817312, 0.98173165, 0.98173416, 0.9817455, 0.9817542, 0.98175716, 0.98175716, 0.9817585, 0.9817598, 0.9817638, 0.9817638, 0.9817642, 0.9817666, 0.98176724, 0.98176914, 0.98177946, 0.9817985, 0.9818011, 0.9818062, 0.98180926, 0.9818093, 0.9818108, 0.98181576, 0.9818158, 0.9818181, 0.9818184, 0.9818215, 0.9818266, 0.9818332, 0.9818377, 0.98184514, 0.9818456, 0.9818456, 0.98184586, 0.9818467, 0.98185164, 0.98185456, 0.98185784, 0.98185784, 0.98185945, 0.98185974, 0.98186016, 0.98186123, 0.9818619, 0.98186386, 0.9818971, 0.98189825, 0.98190355, 0.9819129, 0.98191726, 0.98191833, 0.98191863, 0.981921, 0.9819268, 0.98193055, 0.98193073, 0.98193127, 0.9819322, 0.9819349, 0.9819349, 0.9819349, 0.9819383, 0.981939, 0.9819476, 0.9819537, 0.98195446, 0.9819616, 0.98196197, 0.98196673, 0.98198014, 0.9819821, 0.9819821, 0.9819865, 0.98199123, 0.98199147, 0.98199934, 0.98201746, 0.9820202, 0.98202497, 0.982027, 0.98202765, 0.98203135, 0.9820405, 0.98204225, 0.98204523, 0.9820512, 0.9820523, 0.98205703, 0.98205715, 0.98206216, 0.9820698, 0.9820721, 0.9820882, 0.9820902, 0.98209155, 0.9820997, 0.9821004, 0.982106, 0.9821122, 0.9821219, 0.98212385, 0.9821244, 0.9821257, 0.982129, 0.98212934, 0.982134, 0.9821394, 0.98214257, 0.982143, 0.98215246, 0.9821589, 0.9821641, 0.9821677, 0.9821685, 0.98216903, 0.98217, 0.9821739, 0.9821841, 0.982188, 0.9821886, 0.98219, 0.9821925, 0.9821952, 0.9821975, 0.98220986, 0.9822131, 0.9822147, 0.9822158, 0.98221755, 0.98222, 0.98222065, 0.98222345, 0.9822356, 0.9822363, 0.9822458, 0.98226076, 0.9822758, 0.9822772, 0.98227936, 0.9822813, 0.98228556, 0.9822888, 0.9822917, 0.9822958, 0.9823057, 0.9823069, 0.9823178, 0.9823221, 0.9823269, 0.9823352, 0.9823427, 0.98234296, 0.98235697, 0.9823595, 0.9823621, 0.9823637, 0.98236597, 0.9823688, 0.9823708, 0.9823802, 0.9823814, 0.98239195, 0.98240507, 0.9824056, 0.98240644, 0.9824134, 0.9824141, 0.98242146, 0.9824235, 0.9824235, 0.982424, 0.9824262, 0.9824262, 0.98243207, 0.9824404, 0.9824405, 0.98244137, 0.98244935, 0.9824503, 0.98245424, 0.98245424, 0.9824549, 0.9824555, 0.98246527, 0.98246586, 0.9824681, 0.98246986, 0.9824768, 0.9824786, 0.98247904, 0.982483, 0.98248893, 0.9824901, 0.9824943, 0.9824944, 0.9824952, 0.98251474, 0.9825154, 0.98252237, 0.98252404, 0.9825291, 0.98252916, 0.98253095, 0.9825425, 0.98254687, 0.9825557, 0.98256254, 0.9825636, 0.9825655, 0.9825667, 0.98256904, 0.9825768, 0.9825894, 0.98259145, 0.9825918, 0.98259974, 0.98260045, 0.98260045, 0.9826012, 0.98260254, 0.98260254, 0.98262024, 0.9826215, 0.9826278, 0.9826279, 0.9826314, 0.9826335, 0.9826376, 0.9826383, 0.98264563, 0.98264885, 0.98265004, 0.9826541, 0.9826551, 0.98265755, 0.9826579, 0.9826603, 0.9826606, 0.9826625, 0.9826657, 0.9826657, 0.9826695, 0.9826711, 0.98267394, 0.98267746, 0.9826795, 0.98268193, 0.98268193, 0.98268884, 0.9826903, 0.9826903, 0.98269105, 0.982694, 0.98269874, 0.9826989, 0.9827051, 0.9827087, 0.9827116, 0.98271346, 0.9827137, 0.9827144, 0.98271704, 0.9827196, 0.9827267, 0.98272705, 0.98273116, 0.98273325, 0.98273385, 0.9827353, 0.9827417, 0.98274666, 0.982747, 0.9827475, 0.98274994, 0.9827527, 0.98275346, 0.9827543, 0.98275703, 0.98276097, 0.98276764, 0.98276925, 0.9827703, 0.98277116, 0.9827719, 0.98277295, 0.982776, 0.98277694, 0.98277867, 0.98277867, 0.9827802, 0.98278064, 0.9827837, 0.9827849, 0.9827939, 0.9827941, 0.98279744, 0.9827975, 0.98280233, 0.9828059, 0.9828065, 0.9828106, 0.98281574, 0.98281616, 0.9828189, 0.98282754, 0.9828411, 0.9828433, 0.9828515, 0.982854, 0.9828706, 0.9828716, 0.9828937, 0.9828948, 0.98289835, 0.9829001, 0.9829009, 0.9829126, 0.9829134, 0.9829145, 0.98292226, 0.9829316, 0.9829421, 0.98294985, 0.98294985, 0.98295057, 0.9829526, 0.98295444, 0.9829546, 0.9829593, 0.9829615, 0.98296803, 0.98298043, 0.98298997, 0.9829902, 0.9829902, 0.98299426, 0.9829968, 0.9829969, 0.98300064, 0.98301107, 0.9830148, 0.9830148, 0.9830179, 0.9830221, 0.9830259, 0.9830323, 0.9830325, 0.9830407, 0.9830425, 0.9830425, 0.98304427, 0.9830498, 0.9830549, 0.9830562, 0.9830567, 0.983063, 0.98307353, 0.9830759, 0.98307633, 0.98307633, 0.98308265, 0.98308563, 0.98308635, 0.98309, 0.9830929, 0.9830958, 0.9830989, 0.9831002, 0.98310035, 0.9831092, 0.9831112, 0.9831178, 0.9831194, 0.98311996, 0.9831206, 0.9831213, 0.98313445, 0.98313445, 0.9831354, 0.98314226, 0.98314285, 0.98314285, 0.98314387, 0.9831466, 0.9831551, 0.98315644, 0.9831674, 0.9831679, 0.98316807, 0.9831718, 0.98317665, 0.9831776, 0.9831782, 0.9831785, 0.98317885, 0.98318297, 0.98318464, 0.98319715, 0.98319846, 0.98320293, 0.9832039, 0.9832044, 0.9832064, 0.98320764, 0.9832197, 0.9832203, 0.98322207, 0.983224, 0.98322856, 0.9832286, 0.9832294, 0.9832298, 0.98323107, 0.9832483, 0.9832527, 0.98325336, 0.983258, 0.983258, 0.98326045, 0.9832678, 0.98326874, 0.9832701, 0.98327106, 0.98327225, 0.98327273, 0.98327595, 0.9832784, 0.98328257, 0.9832863, 0.9832874, 0.9832894, 0.98329073, 0.9832909, 0.98329234, 0.98329455, 0.983301, 0.98331165, 0.9833171, 0.983326, 0.9833286, 0.9833311, 0.9833436, 0.9833452, 0.9833533, 0.9833585, 0.9833831, 0.9833844, 0.98338455, 0.98338515, 0.98338795, 0.9833901, 0.98339534, 0.98339534, 0.98339623, 0.9833979, 0.98339874, 0.9834036, 0.98340666, 0.983407, 0.9834094, 0.9834132, 0.9834134, 0.9834143, 0.98341554, 0.9834183, 0.98342454, 0.98342454, 0.9834297, 0.9834298, 0.98343134, 0.98343974, 0.9834454, 0.9834556, 0.9834561, 0.98345685, 0.9834583, 0.9834583, 0.9834625, 0.98347044, 0.98347104, 0.98347855, 0.9834816, 0.9834816, 0.98348266, 0.9834846, 0.98348475, 0.9834881, 0.98349065, 0.98349214, 0.98349214, 0.98349345, 0.9834942, 0.98349553, 0.98349595, 0.9834965, 0.9834966, 0.9834966, 0.9834966, 0.98350596, 0.9835124, 0.983513, 0.98351914, 0.98352116, 0.983527, 0.98352796, 0.9835332, 0.98354185, 0.9835428, 0.9835456, 0.9835465, 0.9835468, 0.9835508, 0.9835535, 0.9835576, 0.98356074, 0.983571, 0.9835715, 0.98357165, 0.9835725, 0.9835843, 0.98358554, 0.98359114, 0.9835947, 0.9836006, 0.98360074, 0.98360145, 0.98360395, 0.9836043, 0.9836056, 0.9836056, 0.983606, 0.9836115, 0.9836138, 0.983617, 0.9836179, 0.98362386, 0.9836243, 0.9836319, 0.98363453, 0.98364073, 0.9836415, 0.9836487, 0.98365116, 0.983654, 0.98365855, 0.9836619, 0.9836642, 0.98366517, 0.9836663, 0.9836676, 0.98366845, 0.9836752, 0.98367566, 0.98369205, 0.98369586, 0.9836991, 0.9837009, 0.9837009, 0.9837036, 0.983708, 0.98371243, 0.98371243, 0.98371834, 0.9837235, 0.9837332, 0.9837346, 0.98373663, 0.98373866, 0.9837387, 0.9837458, 0.9837514, 0.9837559, 0.9837561, 0.9837627, 0.9837639, 0.98376566, 0.9837675, 0.9837679, 0.98377115, 0.9837839, 0.9837849, 0.98378515, 0.9837854, 0.98378545, 0.9837877, 0.9837977, 0.9837977, 0.98379827, 0.98380154, 0.98380315, 0.9838056, 0.9838071, 0.9838096, 0.9838097, 0.983815, 0.9838239, 0.9838337, 0.9838358, 0.98383814, 0.98383814, 0.9838531, 0.98385435, 0.98386085, 0.983864, 0.98386735, 0.9838698, 0.9838757, 0.9838767, 0.98387694, 0.98387825, 0.9838809, 0.9838815, 0.983886, 0.98388696, 0.9839023, 0.98390746, 0.9839076, 0.9839092, 0.9839117, 0.98391515, 0.98391557, 0.98391575, 0.98391783, 0.9839221, 0.9839276, 0.98392767, 0.983929, 0.983929, 0.98393255, 0.98393685, 0.98395646, 0.9839598, 0.9839603, 0.9839715, 0.9839723, 0.9839745, 0.9839794, 0.9839817, 0.9839858, 0.98398626, 0.98398906, 0.983991, 0.9839921, 0.98399436, 0.98399526, 0.98399794, 0.98399997, 0.98400104, 0.9840037, 0.9840059, 0.98400676, 0.9840077, 0.9840121, 0.98401433, 0.98401946, 0.9840226, 0.9840288, 0.98403674, 0.98403674, 0.9840369, 0.9840389, 0.98404574, 0.9840473, 0.9840498, 0.9840511, 0.9840571, 0.9840589, 0.98406106, 0.9840638, 0.98406404, 0.9840646, 0.9840692, 0.98407024, 0.9840787, 0.9840789, 0.9840871, 0.9840874, 0.9841004, 0.98410225, 0.9841045, 0.9841215, 0.984125, 0.98412716, 0.9841303, 0.9841321, 0.9841342, 0.9841353, 0.9841364, 0.98414487, 0.98414695, 0.9841502, 0.98415273, 0.9841578, 0.98416406, 0.9841668, 0.9841685, 0.9841746, 0.9841753, 0.9841769, 0.9841777, 0.9841821, 0.98418564, 0.98418623, 0.98419046, 0.9841945, 0.9841957, 0.98420215, 0.9842035, 0.9842039, 0.9842046, 0.9842058, 0.98420584, 0.98422086, 0.98422354, 0.98422754, 0.9842294, 0.98423254, 0.9842413, 0.98425025, 0.984251, 0.984255, 0.984258, 0.98426497, 0.98426706, 0.98426706, 0.98427236, 0.9842782, 0.9842787, 0.9842787, 0.9842822, 0.9842837, 0.9842841, 0.9842846, 0.9842855, 0.98429793, 0.9842992, 0.9843016, 0.9843041, 0.9843053, 0.9843062, 0.9843096, 0.9843127, 0.98431516, 0.98431677, 0.98431695, 0.98431796, 0.98431796, 0.9843191, 0.984327, 0.98433036, 0.98433405, 0.98433614, 0.9843398, 0.98434234, 0.9843429, 0.9843431, 0.9843431, 0.98434347, 0.9843469, 0.9843469, 0.9843469, 0.9843512, 0.9843532, 0.98435396, 0.98435724, 0.9843584, 0.9843618, 0.98436505, 0.9843725, 0.984378, 0.9843788, 0.9843863, 0.98439455, 0.9843953, 0.9844016, 0.98440725, 0.984411, 0.98441494, 0.9844263, 0.9844309, 0.98443145, 0.9844372, 0.9844397, 0.984453, 0.98446333, 0.98446417, 0.9844652, 0.9844667, 0.9844746, 0.9844746, 0.98447704, 0.98447764, 0.9844805, 0.98449385, 0.9844941, 0.9845031, 0.9845138, 0.98451465, 0.98451823, 0.98451823, 0.98451823, 0.9845229, 0.9845229, 0.9845233, 0.9845241, 0.9845306, 0.9845332, 0.9845384, 0.9845416, 0.98454535, 0.9845474, 0.9845476, 0.9845476, 0.9845516, 0.98455256, 0.9845528, 0.9845538, 0.98455477, 0.9845571, 0.9845578, 0.984565, 0.9845699, 0.98457223, 0.98457336, 0.984576, 0.98457766, 0.9845811, 0.98458326, 0.9845849, 0.9845872, 0.98459053, 0.98459065, 0.9845911, 0.98459446, 0.98460567, 0.98460835, 0.98460835, 0.98460907, 0.9846112, 0.98461515, 0.9846196, 0.9846245, 0.98462695, 0.9846288, 0.9846324, 0.9846367, 0.9846371, 0.9846427, 0.9846483, 0.9846491, 0.9846506, 0.98465407, 0.98465896, 0.98465943, 0.9846623, 0.98466307, 0.98466307, 0.98466665, 0.98466694, 0.98466796, 0.9846696, 0.9846696, 0.98467094, 0.9846803, 0.9846841, 0.9846872, 0.9846905, 0.984692, 0.9846938, 0.9846968, 0.9846979, 0.9846983, 0.9846989, 0.98469913, 0.98469955, 0.98470503, 0.9847052, 0.9847078, 0.9847086, 0.98471034, 0.98471206, 0.98471266, 0.98471266, 0.98471266, 0.9847136, 0.9847164, 0.98471934, 0.9847216, 0.98472387, 0.98472387, 0.98472416, 0.9847276, 0.984729, 0.9847337, 0.9847442, 0.98474914, 0.9847497, 0.98475283, 0.98475283, 0.9847612, 0.98476976, 0.98476976, 0.9847812, 0.98478836, 0.9847907, 0.9848196, 0.9848269, 0.98482996, 0.98483205, 0.9848327, 0.9848337, 0.9848337, 0.9848337, 0.98483473, 0.98483837, 0.9848406, 0.9848484, 0.9848563, 0.98485845, 0.9848589, 0.9848604, 0.9848693, 0.98488224, 0.9848823, 0.98488533, 0.9848871, 0.9848931, 0.9848931, 0.98489577, 0.98490435, 0.9849052, 0.98491067, 0.98491377, 0.9849144, 0.98491615, 0.9849165, 0.98491883, 0.98491883, 0.98492116, 0.98492116, 0.9849225, 0.9849225, 0.98492694, 0.9849276, 0.98493433, 0.9849364, 0.98493874, 0.9849422, 0.98494375, 0.98495954, 0.9849606, 0.98496205, 0.98496217, 0.9849676, 0.98496896, 0.98497033, 0.9849711, 0.9849718, 0.9849735, 0.9849811, 0.98498124, 0.98498404, 0.98499644, 0.9849981, 0.9849982, 0.9850059, 0.98500603, 0.98500764, 0.9850083, 0.9850089, 0.98501354, 0.9850147, 0.98503286, 0.9850412, 0.9850487, 0.9850487, 0.9850527, 0.9850532, 0.9850536, 0.9850603, 0.98506176, 0.98506343, 0.9850752, 0.9850756, 0.9850768, 0.98509103, 0.98509234, 0.98509485, 0.9851076, 0.9851102, 0.98511237, 0.9851163, 0.9851204, 0.98512185, 0.9851228, 0.9851228, 0.9851293, 0.98513573, 0.9851362, 0.98513955, 0.9851397, 0.98514134, 0.98514175, 0.9851438, 0.9851438, 0.9851582, 0.9851608, 0.9851622, 0.98516357, 0.9851653, 0.9851673, 0.9851673, 0.9851686, 0.9851686, 0.9851686, 0.9851709, 0.9851709, 0.98517233, 0.9851749, 0.9851757, 0.9851757, 0.98518133, 0.9851838, 0.98518515, 0.98519176, 0.9852058, 0.9852088, 0.98521245, 0.9852142, 0.9852153, 0.98521715, 0.9852174, 0.98521864, 0.9852208, 0.9852209, 0.9852237, 0.9852262, 0.98522717, 0.98523146, 0.98523664, 0.9852462, 0.9852542, 0.98525953, 0.9852598, 0.9852616, 0.9852616, 0.98526573, 0.98528296, 0.9852858, 0.9852938, 0.9852988, 0.9853009, 0.98530596, 0.98531675, 0.98532355, 0.9853363, 0.9853363, 0.98533654, 0.98533654, 0.9853554, 0.9853617, 0.9853642, 0.9853703, 0.98537123, 0.98537225, 0.98538077, 0.98538077, 0.98538274, 0.9853925, 0.98539376, 0.98539495, 0.98539835, 0.98540366, 0.98540664, 0.985409, 0.9854093, 0.9854094, 0.98541296, 0.98542076, 0.985426, 0.98542786, 0.9854374, 0.9854385, 0.9854387, 0.9854413, 0.9854449, 0.9854478, 0.9854498, 0.98545, 0.98545194, 0.9854547, 0.9854557, 0.9854584, 0.9854584, 0.98546016, 0.98546195, 0.9854673, 0.98546946, 0.98547363, 0.9854777, 0.9854817, 0.985484, 0.98549145, 0.9854992, 0.9855004, 0.9855048, 0.9855116, 0.9855148, 0.98551816, 0.98552406, 0.98552513, 0.98552674, 0.98553735, 0.9855375, 0.9855382, 0.9855424, 0.98554444, 0.9855446, 0.9855447, 0.9855484, 0.9855502, 0.98555595, 0.98555726, 0.9855597, 0.98558056, 0.98558056, 0.98558325, 0.9855888, 0.9855888, 0.9855902, 0.985596, 0.98559666, 0.98559743, 0.98559797, 0.9856077, 0.98561126, 0.9856202, 0.9856225, 0.9856228, 0.98563, 0.9856434, 0.98564917, 0.9856505, 0.9856538, 0.98565495, 0.9856555, 0.9856623, 0.9856628, 0.9856637, 0.9856672, 0.9856672, 0.9856695, 0.98567563, 0.98567957, 0.9856807, 0.9856848, 0.9856869, 0.9856892, 0.9856988, 0.9856988, 0.98570013, 0.98570526, 0.9857129, 0.98572505, 0.98572505, 0.9857312, 0.9857328, 0.98573446, 0.9857451, 0.9857483, 0.9857496, 0.9857496, 0.9857496, 0.98575234, 0.9857582, 0.9857602, 0.98576266, 0.98576355, 0.9857682, 0.9857764, 0.98578584, 0.9857897, 0.9857902, 0.98580575, 0.98581314, 0.98581445, 0.9858152, 0.98581845, 0.98582214, 0.9858257, 0.9858477, 0.9858592, 0.98586184, 0.985865, 0.9858705, 0.9858777, 0.98588675, 0.9858905, 0.98590124, 0.9859068, 0.98590904, 0.9859171, 0.98592204, 0.9859243, 0.9859251, 0.98592967, 0.9859307, 0.9859347, 0.9859347, 0.9859395, 0.98593956, 0.98594004, 0.98594123, 0.98594224, 0.98594236, 0.98594284, 0.98594457, 0.9859457, 0.9859467, 0.98594695, 0.9859522, 0.9859522, 0.98595244, 0.9859581, 0.9859596, 0.9859607, 0.98596096, 0.98596096, 0.9859615, 0.98596525, 0.98596644, 0.9859748, 0.9859881, 0.9859984, 0.98600054, 0.98600113, 0.98600525, 0.98600554, 0.9860111, 0.986015, 0.9860218, 0.9860221, 0.9860259, 0.9860292, 0.9860359, 0.9860368, 0.9860424, 0.98605144, 0.98605144, 0.9860517, 0.986062, 0.9860622, 0.986072, 0.9860845, 0.9860865, 0.9860865, 0.9860869, 0.9860875, 0.98609114, 0.9860919, 0.9860937, 0.9860996, 0.9861005, 0.986101, 0.98611206, 0.9861155, 0.9861188, 0.98612976, 0.98613065, 0.9861388, 0.98613936, 0.9861425, 0.98614275, 0.9861441, 0.9861441, 0.9861449, 0.98615843, 0.9861641, 0.98616517, 0.98616636, 0.9861704, 0.9861706, 0.9861719, 0.9861719, 0.9861729, 0.986181, 0.98618954, 0.9861896, 0.98619086, 0.98619086, 0.98619086, 0.98619187, 0.9861927, 0.9861953, 0.9861953, 0.98619604, 0.9861988, 0.9862019, 0.9862088, 0.9862088, 0.98621005, 0.98621345, 0.9862144, 0.98622304, 0.9862249, 0.98622996, 0.9862308, 0.98623246, 0.9862439, 0.98624706, 0.9862549, 0.9862566, 0.98625857, 0.986261, 0.9862611, 0.98626673, 0.98627186, 0.9862733, 0.9862733, 0.9862759, 0.9862759, 0.9862768, 0.98627955, 0.9862797, 0.98628616, 0.98629093, 0.98629177, 0.9862972, 0.9862982, 0.98630375, 0.986306, 0.986308, 0.9863083, 0.9863083, 0.98631096, 0.9863219, 0.9863225, 0.98632276, 0.98632514, 0.986332, 0.9863373, 0.9863373, 0.98634195, 0.9863493, 0.9863495, 0.9863498, 0.98635596, 0.9863564, 0.9863594, 0.9863594, 0.9863653, 0.9863724, 0.98637265, 0.98637885, 0.986393, 0.98639494, 0.9864039, 0.98640966, 0.98641706, 0.98641706, 0.98641807, 0.9864187, 0.98641896, 0.98641896, 0.9864219, 0.9864219, 0.9864219, 0.9864247, 0.98642474, 0.9864259, 0.98643845, 0.9864508, 0.9864524, 0.9864524, 0.98645645, 0.98645806, 0.986466, 0.9864688, 0.98648024, 0.98648024, 0.98648345, 0.9864884, 0.9864936, 0.9864936, 0.9865016, 0.9865067, 0.98651123, 0.98651165, 0.9865123, 0.98651594, 0.98651594, 0.98651683, 0.9865173, 0.9865173, 0.9865173, 0.98651785, 0.98652166, 0.98652214, 0.98652536, 0.9865298, 0.9865304, 0.9865342, 0.9865377, 0.98654246, 0.9865556, 0.9865566, 0.98655856, 0.9865661, 0.9865766, 0.9865804, 0.9865804, 0.9865804, 0.9865809, 0.9865826, 0.98658377, 0.9865909, 0.9865909, 0.9865956, 0.9866018, 0.9866018, 0.98660326, 0.9866172, 0.98661846, 0.9866217, 0.9866227, 0.986629, 0.98664385, 0.9866459, 0.98664784, 0.9866512, 0.9866525, 0.9866529, 0.9866602, 0.9866629, 0.9866652, 0.9866718, 0.98667496, 0.98668313, 0.98668414, 0.98669153, 0.9866997, 0.98670095, 0.9867027, 0.9867027, 0.9867041, 0.9867052, 0.986707, 0.986707, 0.9867126, 0.9867165, 0.9867267, 0.9867323, 0.98673993, 0.98674047, 0.98674387, 0.9867512, 0.98675233, 0.98675436, 0.986759, 0.9867655, 0.9867671, 0.9867744, 0.98679084, 0.98679936, 0.9868076, 0.9868113, 0.986812, 0.98682266, 0.9868246, 0.9868246, 0.9868293, 0.98683, 0.9868442, 0.98685294, 0.98685294, 0.98685294, 0.9868557, 0.98685676, 0.9868727, 0.98688734, 0.9869027, 0.9869092, 0.9869121, 0.9869124, 0.9869157, 0.9869167, 0.98692334, 0.98692566, 0.9869304, 0.98693275, 0.9869363, 0.9869454, 0.98694956, 0.9869529, 0.98695385, 0.9869603, 0.986964, 0.986964, 0.9869642, 0.9869713, 0.9869775, 0.9869779, 0.98698205, 0.98698586, 0.986991, 0.98700243, 0.9870157, 0.987021, 0.9870222, 0.9870237, 0.9870301, 0.9870323, 0.98703796, 0.9870399, 0.98704195, 0.98704386, 0.9870439, 0.9870449, 0.98704773, 0.9870499, 0.98705107, 0.9870525, 0.9870641, 0.9870651, 0.9870654, 0.987069, 0.9870719, 0.9870731, 0.9870731, 0.9870751, 0.98707557, 0.9870779, 0.98708016, 0.9870809, 0.98708135, 0.98708415, 0.98708487, 0.9870964, 0.98710066, 0.98710686, 0.98711914, 0.9871217, 0.9871235, 0.9871235, 0.9871304, 0.98713183, 0.9871368, 0.9871492, 0.98715234, 0.9871584, 0.98716027, 0.98716104, 0.98716795, 0.9871881, 0.9871881, 0.9871926, 0.9872041, 0.987218, 0.98721844, 0.9872298, 0.9872298, 0.9872298, 0.98723185, 0.9872343, 0.9872395, 0.9872395, 0.98724556, 0.98724675, 0.98724675, 0.98726, 0.98726475, 0.9872681, 0.9872806, 0.98728114, 0.98728937, 0.98729604, 0.9873015, 0.98730177, 0.98730564, 0.9873061, 0.9873061, 0.98730874, 0.98731047, 0.98731506, 0.98731595, 0.98731595, 0.98731863, 0.9873217, 0.98732734, 0.98732966, 0.9873337, 0.98734343, 0.98734343, 0.9873552, 0.9873634, 0.9873634, 0.9873634, 0.98736906, 0.98736906, 0.9873778, 0.9873848, 0.9873866, 0.98738956, 0.98739517, 0.9873963, 0.9873963, 0.9873997, 0.9873997, 0.98740417, 0.9874044, 0.98740554, 0.9874386, 0.9874386, 0.9874398, 0.98744285, 0.9874435, 0.9874435, 0.9874459, 0.9874507, 0.9874565, 0.9874596, 0.98746127, 0.98747, 0.9874738, 0.9874777, 0.9874777, 0.9874807, 0.9874916, 0.9874916, 0.9874919, 0.9874948, 0.98750013, 0.98750013, 0.9875148, 0.98751795, 0.9875184, 0.98752177, 0.9875244, 0.98752576, 0.9875377, 0.9875584, 0.98756814, 0.9875703, 0.9875719, 0.9875731, 0.9875742, 0.9875742, 0.98757505, 0.98757917, 0.98758525, 0.9875873, 0.9875971, 0.9876047, 0.9876103, 0.9876103, 0.987613, 0.987619, 0.9876191, 0.9876277, 0.98764735, 0.98765194, 0.9876533, 0.9876533, 0.9876533, 0.9876596, 0.9876611, 0.9876686, 0.9876686, 0.9876692, 0.98767394, 0.9876766, 0.98767835, 0.98768085, 0.98768634, 0.98768705, 0.9876934, 0.9876972, 0.9877013, 0.9877038, 0.9877073, 0.98771256, 0.9877155, 0.9877271, 0.9877341, 0.987735, 0.9877441, 0.98775786, 0.987761, 0.9877646, 0.9877666, 0.98776793, 0.987775, 0.98778266, 0.98778284, 0.98779964, 0.98780084, 0.9878027, 0.9878027, 0.987805, 0.9878088, 0.9878206, 0.98782736, 0.98783267, 0.98784006, 0.9878408, 0.9878421, 0.9878538, 0.9878574, 0.98785776, 0.9878615, 0.9878643, 0.987874, 0.98787695, 0.9878869, 0.98788947, 0.98789835, 0.9879104, 0.98791295, 0.98792094, 0.9879216, 0.9879245, 0.9879245, 0.98792636, 0.9879301, 0.9879301, 0.9879367, 0.98794013, 0.98794055, 0.98795265, 0.98796546, 0.98796654, 0.9879679, 0.9879679, 0.9879732, 0.98799014, 0.98800343, 0.9880042, 0.9880045, 0.98801005, 0.98801005, 0.9880107, 0.9880107, 0.9880117, 0.98802704, 0.98803896, 0.98807245, 0.98808295, 0.9880871, 0.988094, 0.9880976, 0.9881024, 0.98811126, 0.9881136, 0.9881139, 0.988116, 0.9881162, 0.9881162, 0.9881162, 0.9881227, 0.9881227, 0.9881309, 0.9881309, 0.9881359, 0.988142, 0.988142, 0.98816633, 0.98817956, 0.98818135, 0.9881917, 0.98819375, 0.9882055, 0.9882055, 0.9882112, 0.98821515, 0.9882159, 0.98822063, 0.9882257, 0.98823017, 0.98824745, 0.988248, 0.988248, 0.988248, 0.98824865, 0.98825717, 0.98826635, 0.9882715, 0.98827416, 0.9882818, 0.9882883, 0.9882957, 0.9882957, 0.9882957, 0.9882957, 0.98830044, 0.9883036, 0.9883036, 0.9883119, 0.9883188, 0.9883193, 0.9883202, 0.98832214, 0.9883284, 0.98832846, 0.98833156, 0.98833156, 0.98833424, 0.9883343, 0.98833483, 0.98833686, 0.988342, 0.9883548, 0.9883577, 0.9883616, 0.98837155, 0.9883732, 0.9883781, 0.9883807, 0.9883807, 0.9883895, 0.98839056, 0.98839056, 0.9884182, 0.9884182, 0.9884386, 0.9884386, 0.9884388, 0.9884388, 0.9884406, 0.9884425, 0.9884425, 0.9884425, 0.9884482, 0.9884484, 0.9884537, 0.9884543, 0.9884591, 0.98846394, 0.9884748, 0.9884811, 0.9884816, 0.988484, 0.9884864, 0.98848915, 0.9884911, 0.9884911, 0.9884913, 0.98849773, 0.98849976, 0.9885001, 0.9885001, 0.9885136, 0.98851746, 0.98852706, 0.98852724, 0.98853946, 0.9885437, 0.9885587, 0.98855877, 0.98856264, 0.98856825, 0.98856825, 0.9885684, 0.9885756, 0.9885823, 0.98858637, 0.98859346, 0.98859537, 0.98859537, 0.9886002, 0.9886028, 0.98860663, 0.98860663, 0.98861706, 0.98861706, 0.9886215, 0.98862195, 0.98862195, 0.98862195, 0.98863024, 0.9886494, 0.9886494, 0.98866254, 0.9886768, 0.98868, 0.98868, 0.98868394, 0.98868406, 0.9886868, 0.98868936, 0.9886928, 0.98869365, 0.98869365, 0.98870134, 0.9887217, 0.98872757, 0.9887302, 0.9887302, 0.9887302, 0.98873293, 0.98873293, 0.9887408, 0.9887448, 0.98874813, 0.98874813, 0.9887524, 0.9887586, 0.98876876, 0.98877627, 0.9887805, 0.98878455, 0.98878455, 0.98878515, 0.98880005, 0.9888092, 0.9888092, 0.98881066, 0.9888111, 0.9888112, 0.9888164, 0.98882025, 0.9888253, 0.9888293, 0.98883, 0.9888301, 0.9888378, 0.9888382, 0.9888431, 0.9888458, 0.9888459, 0.9888512, 0.9888512, 0.9888637, 0.9888727, 0.9888727, 0.9888883, 0.9888897, 0.9888909, 0.98890126, 0.9889053, 0.98890936, 0.9889166, 0.9889166, 0.9889167, 0.98892325, 0.98892325, 0.98892325, 0.9889273, 0.98894554, 0.9889486, 0.9889572, 0.9889572, 0.9889575, 0.98896664, 0.98896664, 0.98896885, 0.98897374, 0.98899126, 0.9889966, 0.98900133, 0.98901093, 0.9890345, 0.98905534, 0.98905724, 0.98907083, 0.9890824, 0.98909354, 0.98909456, 0.98909515, 0.9890954, 0.9890954, 0.9890954, 0.989109, 0.989109, 0.9891146, 0.98911923, 0.9891227, 0.98912835, 0.98912835, 0.98912835, 0.9891443, 0.98916054, 0.9891627, 0.9891643, 0.9891643, 0.9891667, 0.9891667, 0.98916996, 0.9891708, 0.9891708, 0.98917085, 0.98918056, 0.9891843, 0.989186, 0.9891862, 0.9891866, 0.98919225, 0.98919725, 0.9892011, 0.9892025, 0.9892209, 0.9892236, 0.98925394, 0.98925626, 0.98925954, 0.9892812, 0.9892942, 0.9892945, 0.9892959, 0.9892983, 0.9893136, 0.9893188, 0.98932695, 0.9893405, 0.989347, 0.9894081, 0.9894081, 0.9894081, 0.9894096, 0.9894195, 0.9894203, 0.989424, 0.9894479, 0.9894479, 0.98945045, 0.98945385, 0.9894587, 0.9894587, 0.989459, 0.98946404, 0.9894656, 0.9894681, 0.9894722, 0.9894762, 0.9894809, 0.9894909, 0.9894909, 0.9894909, 0.98951846, 0.98952043, 0.9895262, 0.98953915, 0.98953915, 0.989544, 0.98955595, 0.9895597, 0.98956364, 0.989564, 0.9895928, 0.9895939, 0.9895945, 0.98960066, 0.98963165, 0.9896532, 0.98965836, 0.98965836, 0.98965836, 0.98965985, 0.9896601, 0.9896601, 0.98966974, 0.98967636, 0.98967636, 0.9896779, 0.98968536, 0.9896873, 0.9896972, 0.9896973, 0.989702, 0.98970616, 0.9897129, 0.98971426, 0.9897234, 0.9897288, 0.98973286, 0.9897344, 0.9897351, 0.98973924, 0.98973924, 0.98974264, 0.9897441, 0.98975134, 0.98975325, 0.98975635, 0.989759, 0.98976105, 0.98976624, 0.98976624, 0.98976696, 0.9897688, 0.9897691, 0.98978907, 0.9897903, 0.98981076, 0.98982465, 0.9898267, 0.98983085, 0.9898421, 0.9898429, 0.9898433, 0.9898433, 0.9898624, 0.989863, 0.9898817, 0.9898833, 0.9898844, 0.9898865, 0.9898865, 0.9898884, 0.989896, 0.9899006, 0.9899145, 0.9899311, 0.9899343, 0.98993504, 0.989939, 0.9899397, 0.98995745, 0.98996055, 0.98996574, 0.9899672, 0.9899736, 0.9899868, 0.9899868, 0.9899926, 0.98999435, 0.9899967, 0.9899984, 0.9899984, 0.9899984, 0.99000174, 0.99000895, 0.9900196, 0.9900243, 0.99003655, 0.9900394, 0.9900394, 0.9900394, 0.99004185, 0.9900433, 0.99004924, 0.9900507, 0.9900658, 0.9900784, 0.99008226, 0.9900846, 0.9900846, 0.99009144, 0.99010116, 0.99010116, 0.99010116, 0.9901043, 0.9901048, 0.99011153, 0.99011153, 0.99014956, 0.99014956, 0.9901535, 0.99016285, 0.9901749, 0.9901749, 0.9901766, 0.99019, 0.99020374, 0.9902043, 0.99020547, 0.99020547, 0.9902081, 0.9902089, 0.9902178, 0.9902248, 0.9902292, 0.9902326, 0.9902388, 0.9902418, 0.9902418, 0.99024934, 0.9902571, 0.9902571, 0.9902571, 0.9902604, 0.9902604, 0.9902604, 0.99026525, 0.9902677, 0.99028295, 0.9902928, 0.9902944, 0.99029875, 0.9902992, 0.99030936, 0.9903095, 0.99032134, 0.99032897, 0.99033153, 0.99033517, 0.99033517, 0.99034417, 0.9903484, 0.99035287, 0.9903587, 0.99036163, 0.99037075, 0.9903777, 0.990383, 0.9903865, 0.9903908, 0.9903919, 0.990411, 0.990411, 0.990411, 0.99041396, 0.99042296, 0.99044, 0.99044526, 0.99044526, 0.9904459, 0.99046063, 0.99046856, 0.99046856, 0.9904803, 0.9904909, 0.9904909, 0.9904962, 0.990507, 0.9905101, 0.9905375, 0.9905573, 0.9905621, 0.9905664, 0.99057275, 0.9905783, 0.99057865, 0.99060017, 0.99060845, 0.9906113, 0.9906113, 0.99061257, 0.99062085, 0.9906216, 0.9906216, 0.9906216, 0.99062306, 0.9906455, 0.9906542, 0.99067354, 0.99068576, 0.9906945, 0.990701, 0.9907028, 0.990706, 0.990706, 0.99071616, 0.9907305, 0.99073714, 0.9907397, 0.99074256, 0.99074256, 0.99074256, 0.9907499, 0.99076223, 0.990764, 0.99076533, 0.99076986, 0.99076986, 0.99077183, 0.99079615, 0.9908084, 0.9908085, 0.99081594, 0.99081594, 0.9908263, 0.9908336, 0.99083924, 0.9908393, 0.9908588, 0.9908591, 0.9908724, 0.9908724, 0.99088514, 0.99088514, 0.99088645, 0.9909119, 0.9909119, 0.9909341, 0.9909394, 0.9909418, 0.99095094, 0.9909513, 0.99096227, 0.9909685, 0.9909872, 0.9909948, 0.9910047, 0.9910047, 0.9910214, 0.9910217, 0.9910217, 0.99103713, 0.99103725, 0.99104476, 0.9910486, 0.9910512, 0.9910522, 0.9910522, 0.9910579, 0.9910617, 0.9910631, 0.9910631, 0.99106514, 0.9910762, 0.9910847, 0.991086, 0.9910894, 0.9910894, 0.9910961, 0.9910961, 0.99109674, 0.9911018, 0.99110496, 0.9911183, 0.9911567, 0.99117476, 0.9911765, 0.9911808, 0.9911808, 0.9911817, 0.9911817, 0.9911822, 0.99118227, 0.99119157, 0.9911941, 0.9911941, 0.99120766, 0.9912129, 0.99123156, 0.99124396, 0.9912444, 0.99125564, 0.9912572, 0.9912606, 0.9912606, 0.9912786, 0.9912786, 0.99127936, 0.9912865, 0.9912991, 0.9913003, 0.99132514, 0.991326, 0.99132806, 0.99132806, 0.99133646, 0.99133855, 0.99134356, 0.99134403, 0.9913486, 0.9913542, 0.9913544, 0.99135554, 0.9913651, 0.991367, 0.9913693, 0.991373, 0.991373, 0.9913777, 0.9913777, 0.99138194, 0.9914017, 0.9914032, 0.99140406, 0.99141115, 0.9914158, 0.9914158, 0.99142283, 0.9914275, 0.9914284, 0.99143445, 0.99143445, 0.9914398, 0.99144274, 0.99144405, 0.99144405, 0.9914683, 0.9914683, 0.9914683, 0.9914683, 0.9914808, 0.99148154, 0.99149525, 0.9915004, 0.9915004, 0.991504, 0.99150926, 0.9915135, 0.9915168, 0.9915168, 0.99152726, 0.99152726, 0.99152726, 0.99152744, 0.9915335, 0.9915335, 0.9915335, 0.99153745, 0.99155635, 0.9915644, 0.9915678, 0.99157083, 0.9915756, 0.9915756, 0.9915768, 0.9915889, 0.99160403, 0.99160963, 0.99161005, 0.99161005, 0.99161005, 0.99162924, 0.99162984, 0.99163496, 0.99163496, 0.99163496, 0.99164516, 0.99164844, 0.99164844, 0.9916512, 0.99166036, 0.99167573, 0.9916779, 0.9916779, 0.9916811, 0.99168736, 0.9916896, 0.99169046, 0.9916977, 0.99169934, 0.99172187, 0.99172187, 0.9917278, 0.991731, 0.991731, 0.9917318, 0.99173474, 0.9917384, 0.9917384, 0.99176097, 0.99176204, 0.99177146, 0.9917783, 0.99178046, 0.9917915, 0.99179184, 0.99179184, 0.99179256, 0.9917927, 0.9917927, 0.99179316, 0.9917953, 0.9917994, 0.99180025, 0.99180084, 0.99180084, 0.99180615, 0.9918069, 0.9918098, 0.99181646, 0.9918194, 0.9918266, 0.99182904, 0.99183047, 0.99183047, 0.99184173, 0.99184173, 0.99184173, 0.9918657, 0.99187106, 0.99187106, 0.99187106, 0.99191946, 0.9919202, 0.9919202, 0.991926, 0.991928, 0.991936, 0.9919509, 0.991952, 0.99195415, 0.99195415, 0.99195415, 0.99195665, 0.99195665, 0.9919673, 0.99197286, 0.99197286, 0.99197847, 0.99197847, 0.9919804, 0.9919804, 0.9919837, 0.9919854, 0.9919854, 0.99200106, 0.99200106, 0.99200785, 0.99200785, 0.99200785, 0.99200976, 0.9920119, 0.9920339, 0.99203473, 0.9920458, 0.9920656, 0.9920732, 0.99207985, 0.9920809, 0.9920809, 0.99208117, 0.9920876, 0.9920876, 0.9920876, 0.9920963, 0.9921011, 0.9921093, 0.9921192, 0.9921192, 0.9921236, 0.9921241, 0.99212474, 0.99212474, 0.9921351, 0.9921469, 0.9921479, 0.9921479, 0.9921689, 0.9921699, 0.9921782, 0.9921782, 0.992186, 0.992186, 0.99219114, 0.99219114, 0.9921946, 0.992207, 0.99221027, 0.9922178, 0.99221915, 0.9922228, 0.99222773, 0.99222773, 0.9922322, 0.9922675, 0.9922675, 0.9922806, 0.992281, 0.9922829, 0.99228513, 0.9922864, 0.9923028, 0.9923028, 0.9923028, 0.99231374, 0.9923223, 0.99232703, 0.99232703, 0.9923339, 0.9923614, 0.9923675, 0.9923763, 0.9923823, 0.99239504, 0.9924045, 0.9924045, 0.9924045, 0.99241024, 0.99241316, 0.9924136, 0.9924136, 0.9924156, 0.9924156, 0.9924184, 0.9924243, 0.9924324, 0.99243844, 0.99243844, 0.99244505, 0.9924547, 0.9924547, 0.99246305, 0.9924677, 0.99246895, 0.99246895, 0.99246925, 0.992478, 0.9924786, 0.9924786, 0.9924786, 0.9924887, 0.9924925, 0.9925008, 0.99250335, 0.99250656, 0.9925081, 0.99250925, 0.99251264, 0.9925206, 0.9925206, 0.9925231, 0.9925231, 0.9925231, 0.9925293, 0.9925415, 0.99254334, 0.992547, 0.992547, 0.9925475, 0.9925528, 0.9925536, 0.9925536, 0.9925536, 0.99256766, 0.99256766, 0.99256766, 0.99256897, 0.9925714, 0.9925714, 0.9925714, 0.99259657, 0.99259657, 0.9925987, 0.9926004, 0.9926011, 0.99260163, 0.99260163, 0.99260354, 0.99260414, 0.9926213, 0.99262327, 0.9926334, 0.9926409, 0.99264336, 0.99264437, 0.99264437, 0.99264437, 0.992656, 0.9926654, 0.99266756, 0.9926682, 0.9926682, 0.9926795, 0.9926804, 0.99268484, 0.99268484, 0.9926871, 0.9926871, 0.9926871, 0.9926926, 0.99270266, 0.99270624, 0.99271953, 0.99272436, 0.99272436, 0.99272436, 0.9927376, 0.9927462, 0.9927462, 0.9927462, 0.99276245, 0.99276245, 0.9927719, 0.99277806, 0.9927885, 0.99280214, 0.99280214, 0.99280214, 0.9928212, 0.9928415, 0.9928478, 0.9928633, 0.992874, 0.992874, 0.9928875, 0.9929092, 0.9929092, 0.9929142, 0.99291897, 0.9929233, 0.99292994, 0.9929356, 0.9929412, 0.9929412, 0.9929455, 0.9929555, 0.9929555, 0.992972, 0.992972, 0.9929768, 0.9929768, 0.99298275, 0.99298275, 0.9929882, 0.9929882, 0.9929938, 0.9929938, 0.9929964, 0.9929964, 0.9929968, 0.9929968, 0.9929969, 0.9929969, 0.9930032, 0.99302757, 0.9930437, 0.9930463, 0.9930463, 0.99307704, 0.99307716, 0.99307716, 0.9930778, 0.9930778, 0.9930822, 0.9930838, 0.9930838, 0.9930838, 0.99310595, 0.99310833, 0.99311334, 0.99311334, 0.99311334, 0.99311984, 0.99311984, 0.9931232, 0.99312603, 0.9931261, 0.9931261, 0.99313474, 0.9931368, 0.9931368, 0.9931368, 0.9931426, 0.9931426, 0.99314356, 0.99314857, 0.99316216, 0.9931659, 0.99316686, 0.99316686, 0.993168, 0.993168, 0.99316835, 0.9931706, 0.99318683, 0.9931881, 0.9931911, 0.99319136, 0.9931959, 0.99321234, 0.99321234, 0.9932221, 0.9932221, 0.9932258, 0.9932258, 0.99322873, 0.9932318, 0.99323314, 0.99323404, 0.9932409, 0.9932409, 0.993261, 0.9932627, 0.9932627, 0.99327695, 0.9932775, 0.99328816, 0.9932915, 0.9933076, 0.99333197, 0.99333197, 0.99334836, 0.9933503, 0.9933563, 0.99336225, 0.99337167, 0.99337167, 0.99337786, 0.9933853, 0.9933853, 0.9933958, 0.99340266, 0.9934066, 0.9934438, 0.9934438, 0.99346465, 0.9934744, 0.9934744, 0.9934759, 0.9934768, 0.99348265, 0.9934882, 0.9935009, 0.99350953, 0.9935205, 0.9935219, 0.9935226, 0.99352574, 0.99352574, 0.99352574, 0.99353206, 0.99353755, 0.9935687, 0.9935687, 0.99357027, 0.9935741, 0.9935862, 0.99359107, 0.99359834, 0.9936143, 0.9936143, 0.9936276, 0.9936292, 0.9936469, 0.9936469, 0.99366313, 0.99366313, 0.9936667, 0.9936667, 0.9936667, 0.99366945, 0.99367225, 0.993676, 0.993676, 0.993676, 0.9936773, 0.9936789, 0.9936789, 0.99368006, 0.99370396, 0.99370915, 0.99375063, 0.99375844, 0.99375844, 0.99378514, 0.99378514, 0.99379045, 0.99379617, 0.99379915, 0.9938125, 0.99383837, 0.99383837, 0.99383897, 0.99383897, 0.99383897, 0.9938506, 0.99387026, 0.99387026, 0.99387515, 0.993877, 0.99388266, 0.99388427, 0.99389, 0.99390054, 0.99390674, 0.9939108, 0.9939108, 0.99392754, 0.99393183, 0.99393463, 0.99393463, 0.99395853, 0.99397, 0.99397, 0.99397326, 0.99397326, 0.99397326, 0.9939801, 0.9939889, 0.9939889, 0.9939889, 0.99399, 0.9940012, 0.9940143, 0.99401677, 0.9940339, 0.9940343, 0.9940343, 0.99403733, 0.9940381, 0.99405456, 0.99405456, 0.9940609, 0.9940609, 0.99406135, 0.99406135, 0.99406517, 0.9940672, 0.99407655, 0.994092, 0.994094, 0.99409693, 0.9941015, 0.9941015, 0.9941023, 0.9941323, 0.9941441, 0.9941481, 0.99415815, 0.9941584, 0.9941584, 0.99417883, 0.99417883, 0.9941849, 0.9941866, 0.99419, 0.9941951, 0.9941978, 0.9942021, 0.9942035, 0.9942096, 0.99422437, 0.9942302, 0.9942302, 0.9942306, 0.99423695, 0.9942803, 0.9942984, 0.99431515, 0.99431896, 0.9943658, 0.9943658, 0.9943685, 0.9943732, 0.9943754, 0.9943754, 0.99438167, 0.99438167, 0.99438787, 0.9943879, 0.99439985, 0.99440134, 0.99440134, 0.99440503, 0.99440634, 0.99440634, 0.9944086, 0.994414, 0.994414, 0.994414, 0.99442875, 0.99442875, 0.99444366, 0.99444366, 0.9945036, 0.9945139, 0.9945142, 0.9945142, 0.9945142, 0.99451923, 0.9945201, 0.9945201, 0.9945201, 0.9945227, 0.9945277, 0.9945277, 0.9945315, 0.9945408, 0.9945408, 0.9945408, 0.9945426, 0.9945426, 0.9945426, 0.9945441, 0.99454534, 0.9945578, 0.99458045, 0.9945929, 0.99459475, 0.9945987, 0.994606, 0.9946189, 0.9946279, 0.9946467, 0.9946467, 0.99464846, 0.9946541, 0.9946656, 0.99467736, 0.9946822, 0.9946873, 0.9946958, 0.9946958, 0.9947126, 0.9947126, 0.99472153, 0.99472666, 0.9947312, 0.99473333, 0.9947498, 0.9947498, 0.9947591, 0.9947615, 0.9947615, 0.9947615, 0.994793, 0.994793, 0.994793, 0.9947996, 0.9948021, 0.9948057, 0.9948104, 0.9948104, 0.99482507, 0.99482507, 0.99482787, 0.9948294, 0.9948327, 0.9948351, 0.9948351, 0.9948413, 0.99484235, 0.9948494, 0.994851, 0.9948546, 0.9948546, 0.99485713, 0.99485713, 0.99485713, 0.9948706, 0.9948751, 0.99488986, 0.9948902, 0.9948924, 0.99489284, 0.99489516, 0.99489516, 0.99489516, 0.99490184, 0.99490184, 0.9949075, 0.9949075, 0.9949075, 0.9949123, 0.99491775, 0.9949234, 0.99492854, 0.99493355, 0.99495184, 0.99495184, 0.9949525, 0.9949626, 0.9949765, 0.99498606, 0.9949998, 0.9949998, 0.9950264, 0.9950588, 0.995072, 0.9950736, 0.9950742, 0.99508405, 0.9950899, 0.9950899, 0.9950899, 0.9950899, 0.9950936, 0.99509674, 0.99510735, 0.99510735, 0.9951207, 0.99515, 0.9951524, 0.9951524, 0.9951528, 0.9951648, 0.9951648, 0.9951695, 0.9951703, 0.9951703, 0.9951887, 0.9952034, 0.9952064, 0.9952233, 0.9952233, 0.995236, 0.9952492, 0.9952493, 0.9952558, 0.99527186, 0.9952814, 0.9952974, 0.99536455, 0.9953678, 0.995369, 0.9953742, 0.9953742, 0.9953778, 0.9953853, 0.9953853, 0.9953853, 0.9953855, 0.99538964, 0.99539477, 0.99539477, 0.99540347, 0.99540865, 0.99542266, 0.99542266, 0.9954252, 0.9954484, 0.9954484, 0.99548525, 0.99548674, 0.9954945, 0.99550045, 0.99550045, 0.99552345, 0.99552345, 0.99552345, 0.99553037, 0.99553657, 0.99553657, 0.99554265, 0.99554265, 0.9955436, 0.9955436, 0.9955436, 0.9955473, 0.9955511, 0.99556375, 0.9955723, 0.9955821, 0.99558413, 0.99558663, 0.9955901, 0.99561346, 0.9956163, 0.995646, 0.995646, 0.99564815, 0.99564815, 0.9956566, 0.99566066, 0.9956623, 0.9956683, 0.9956722, 0.99570805, 0.99572366, 0.9957489, 0.9957489, 0.9957489, 0.9957556, 0.9957563, 0.99575907, 0.9957818, 0.9957915, 0.9957915, 0.9957915, 0.99580395, 0.9958112, 0.9958112, 0.99581146, 0.9958196, 0.9958483, 0.9958488, 0.9958488, 0.9958557, 0.9958557, 0.9958557, 0.9958734, 0.9958734, 0.99589527, 0.99589676, 0.99589676, 0.9959001, 0.9959062, 0.9959164, 0.99592984, 0.995941, 0.9959417, 0.99594206, 0.99594206, 0.9959484, 0.9959484, 0.9959547, 0.9959549, 0.9959743, 0.9959743, 0.9959747, 0.99601614, 0.99601614, 0.9960189, 0.9960196, 0.9960215, 0.9960215, 0.9960254, 0.9960254, 0.99603784, 0.99603784, 0.9960391, 0.9960527, 0.9960527, 0.99605894, 0.9960615, 0.9960615, 0.9960615, 0.99606204, 0.99606204, 0.9960689, 0.9960798, 0.9960798, 0.99607986, 0.99608713, 0.9960952, 0.9961028, 0.99610615, 0.9961178, 0.9961178, 0.9961178, 0.99611926, 0.99612314, 0.99612314, 0.99612325, 0.99613607, 0.99613607, 0.996141, 0.996141, 0.99617237, 0.99617237, 0.9961732, 0.9961732, 0.9961774, 0.9961774, 0.99617743, 0.99622494, 0.99622554, 0.9962606, 0.9962709, 0.9962957, 0.99630785, 0.9963103, 0.9963354, 0.9963354, 0.9963371, 0.9963371, 0.99634, 0.9963401, 0.9963416, 0.99636734, 0.99636734, 0.99637526, 0.99637526, 0.99637526, 0.9963893, 0.9963893, 0.9963893, 0.9963951, 0.99642015, 0.99645895, 0.99645895, 0.99645895, 0.996465, 0.9964741, 0.9965013, 0.9965059, 0.9965059, 0.996523, 0.996524, 0.996524, 0.996524, 0.99652725, 0.9965285, 0.99652886, 0.99652964, 0.99652964, 0.9965461, 0.9965588, 0.9965672, 0.9965799, 0.9965926, 0.9965926, 0.99660844, 0.99660844, 0.9966695, 0.9966745, 0.9966745, 0.99668366, 0.99668366, 0.99668586, 0.9966861, 0.9966935, 0.9966935, 0.9967225, 0.9967358, 0.9967358, 0.9967358, 0.9967447, 0.9967482, 0.9967482, 0.99676377, 0.9967775, 0.9967864, 0.9967864, 0.99678874, 0.9968071, 0.9968382, 0.99685097, 0.996854, 0.996854, 0.99685663, 0.99688226, 0.99693334, 0.99694014, 0.99694014, 0.99695444, 0.9969601, 0.9969601, 0.9969714, 0.9969714, 0.996973, 0.99699366, 0.99702054, 0.9970272, 0.9970996, 0.9970996, 0.9970996, 0.99709976, 0.99709976, 0.9971334, 0.99713796, 0.99713796, 0.9971516, 0.9971516, 0.997153, 0.9971621, 0.99716616, 0.99716616, 0.99717677, 0.99717677, 0.9971773, 0.99718404, 0.99720037, 0.99720037, 0.9972153, 0.99722564, 0.99722564, 0.99723876, 0.9972555, 0.99728477, 0.99728763, 0.99730855, 0.9973089, 0.9973285, 0.99733615, 0.9973419, 0.9973482, 0.9973558, 0.9973558, 0.9973971, 0.9973971, 0.99741626, 0.99744165, 0.99744165, 0.99744165, 0.99745446, 0.99745446, 0.99745464, 0.99746305, 0.9974653, 0.99748564, 0.99749994, 0.99749994, 0.99750006, 0.9975113, 0.9975113, 0.9975202, 0.99753207, 0.9975461, 0.9975554, 0.99755853, 0.9975877, 0.9975877, 0.9976034, 0.9976034, 0.99763036, 0.99763036, 0.99763036, 0.9976329, 0.99766785, 0.9977034, 0.9977034, 0.9977034, 0.99776316, 0.99776316, 0.9977904, 0.997807, 0.997807, 0.9978206, 0.9978206, 0.9978265, 0.9978506, 0.9978506, 0.9978622, 0.9978622, 0.9978798, 0.9978856, 0.9978874, 0.9978874, 0.9978925, 0.9978925, 0.9978925, 0.9979414, 0.99794936, 0.99798954, 0.99801016, 0.99801016, 0.99801016, 0.9980137, 0.99804705, 0.9980533, 0.9980533, 0.99806654, 0.9980986, 0.9981119, 0.99811214, 0.9981147, 0.9981147, 0.99812156, 0.99812156, 0.9981219, 0.9981323, 0.9981382, 0.99818796, 0.99820614, 0.99824595, 0.99830866, 0.9983136, 0.99831605, 0.9983203, 0.9983583, 0.99842095, 0.99842095, 0.99842095, 0.99844897, 0.9984642, 0.99846786, 0.9984796, 0.9984796, 0.9984983, 0.99862206, 0.99871314, 0.99871314, 0.9987775, 0.9987775, 0.9988399, 0.9989324, 0.9989406, 0.9989505, 0.99900985, 0.9990389, 0.9990735, 0.99913883, 0.9992642, 0.99931335, 0.99934703, 0.9993713, 0.9993713, 0.9993713, 0.9994263, 0.99953496, 0.99957466, 0.9997798, 0.9999999, 0.9999999, 0.99999994, 0.99999994, 1.0000001, 1.0000001, 1.0000001, 1.0000002, 1.0000004, 1.0000004, 1.0000004, 1.0000004]\n"
     ]
    }
   ],
   "source": [
    "a = sorted(sim_max_list)\n",
    "print(a)"
   ]
  },
  {
   "cell_type": "code",
   "execution_count": null,
   "metadata": {},
   "outputs": [],
   "source": []
  }
 ],
 "metadata": {
  "kernelspec": {
   "display_name": "nlp",
   "language": "python",
   "name": "python3"
  },
  "language_info": {
   "codemirror_mode": {
    "name": "ipython",
    "version": 3
   },
   "file_extension": ".py",
   "mimetype": "text/x-python",
   "name": "python",
   "nbconvert_exporter": "python",
   "pygments_lexer": "ipython3",
   "version": "3.9.18"
  }
 },
 "nbformat": 4,
 "nbformat_minor": 4
}
