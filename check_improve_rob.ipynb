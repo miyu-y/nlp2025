{
 "cells": [
  {
   "cell_type": "markdown",
   "metadata": {},
   "source": [
    "## Evaluation"
   ]
  },
  {
   "cell_type": "code",
   "execution_count": 1,
   "metadata": {},
   "outputs": [],
   "source": [
    "import json\n",
    "\n",
    "with open(\"dataset/rag_truth_test.json\", \"r\") as f:\n",
    "    test_data = json.load(f)\n"
   ]
  },
  {
   "cell_type": "code",
   "execution_count": 2,
   "metadata": {},
   "outputs": [
    {
     "data": {
      "text/plain": [
       "{'ref': 'The FBI charged a Philadelphia woman on Thursday with trying to travel overseas to fight for ISIS. She\\'s one of three women arrested this week on terror charges. Two New York women were also taken into custody. An FBI complaint cites numerous social media messages dating back to August 2013 that were sent by Keonna Thomas, 30, also known as \"Young Lioness\" and \"Fatayat Al Khilafah.\" One Twitter message said, \"If we truly knew the realities ... we all would be rushing to join our brothers in the front lines pray ALLAH accept us as shuhada [martyrs].\" Another said, \"When you\\'re a mujahid [violent jihadi fighter] your death becomes a wedding.\" The FBI said Thomas purchased an electronic visa to Turkey on March 23. Turkey is known as the easiest place from which to enter Syria and join ISIS. An ISIS manual advises recruits to buy round-trip tickets to vacation spots such as Spain and then purchase tickets for their real destination once they arrive overseas, the FBI said. On March 26, Thomas purchased a ticket to Barcelona, with a March 29 departure and an April 15 return to the United States, the complaint said. It\\'s not clear when or where she was arrested. She was charged with knowingly attempting to provide material support and resources to a designated foreign terrorist organization. She could be sentenced to 15 years in prison. On Thursday, Noelle Velentzas, 28, and her former roommate, Asia Siddiqui, 31, were arrested in New York and accused of planning to build an explosive device for attacks in the United States, federal prosecutors said. In the past 18 months, the Justice Department\\'s National Security Division has prosecuted or is prosecuting more than 30 cases of people attempting to travel abroad to join or provide support to terrorist groups. Of those cases, 18 allegedly involve support to ISIS. \"The terrorist threat is more decentralized, more diffuse, more complicated,\" Homeland Security Secretary Jeh Johnson told reporters Thursday. \"It involves the potential lone wolf actor, it involves the effective use of social media, the Internet.\"\\n',\n",
       " 'text': 'Please judge the following statement as true or false (based on the references above): The FBI has charged a Philadelphia woman, Keonna Thomas, with trying to travel overseas to fight for ISIS. This follows the arrests of two New York women, Noelle Velentzas and Asia Siddiqui, who were accused of planning to build an explosive device for attacks in the United States. Thomas purchased an electronic visa to Turkey and a round-trip ticket to Barcelona, following the advice given in an ISIS manual for recruits. She has been charged with attempting to provide material support to a terrorist organisation and could face 15 years in prison.',\n",
       " 'labels': 0,\n",
       " 'source': 'CNN/DM',\n",
       " 'model': 'gpt-4-0613',\n",
       " 'task_type': 'Summary',\n",
       " 'source_id': '15596'}"
      ]
     },
     "execution_count": 2,
     "metadata": {},
     "output_type": "execute_result"
    }
   ],
   "source": [
    "def add_prefix(data):\n",
    "    for d in data:\n",
    "        d[\"text\"] = \"Please judge the following statement whether it includes hallucination or not (based on the references above): \" + d[\"text\"]\n",
    "    return data\n",
    "\n",
    "\n",
    "dev_data = add_prefix(test_data)\n",
    "dev_data[0]\n",
    "\n"
   ]
  },
  {
   "cell_type": "code",
   "execution_count": 4,
   "metadata": {},
   "outputs": [],
   "source": [
    "# task_type: QA, Data2txt, Summary\n",
    "task_name = \"Summary\"\n",
    "test_data = [d for d in test_data if d[\"task_type\"] == task_name]"
   ]
  },
  {
   "cell_type": "code",
   "execution_count": 3,
   "metadata": {},
   "outputs": [
    {
     "data": {
      "text/plain": [
       "DatasetDict({\n",
       "    dev: Dataset({\n",
       "        features: ['ref', 'text', 'labels', 'source', 'model', 'task_type', 'source_id'],\n",
       "        num_rows: 2700\n",
       "    })\n",
       "})"
      ]
     },
     "execution_count": 3,
     "metadata": {},
     "output_type": "execute_result"
    }
   ],
   "source": [
    "from datasets import Dataset, DatasetDict\n",
    "import pandas as pd\n",
    "\n",
    "\n",
    "test_df = pd.DataFrame(test_data)\n",
    "test_ds = Dataset.from_pandas(test_df)\n",
    "\n",
    "raw_datasets = DatasetDict({\"test\":test_ds})\n",
    "raw_datasets"
   ]
  },
  {
   "cell_type": "markdown",
   "metadata": {},
   "source": [
    "### no_doc"
   ]
  },
  {
   "cell_type": "code",
   "execution_count": 4,
   "metadata": {},
   "outputs": [
    {
     "name": "stderr",
     "output_type": "stream",
     "text": [
      "2025-01-06 10:52:25.413987: I tensorflow/core/util/port.cc:113] oneDNN custom operations are on. You may see slightly different numerical results due to floating-point round-off errors from different computation orders. To turn them off, set the environment variable `TF_ENABLE_ONEDNN_OPTS=0`.\n",
      "2025-01-06 10:52:25.825258: E external/local_xla/xla/stream_executor/cuda/cuda_fft.cc:479] Unable to register cuFFT factory: Attempting to register factory for plugin cuFFT when one has already been registered\n",
      "2025-01-06 10:52:26.022389: E external/local_xla/xla/stream_executor/cuda/cuda_dnn.cc:10575] Unable to register cuDNN factory: Attempting to register factory for plugin cuDNN when one has already been registered\n",
      "2025-01-06 10:52:26.022841: E external/local_xla/xla/stream_executor/cuda/cuda_blas.cc:1442] Unable to register cuBLAS factory: Attempting to register factory for plugin cuBLAS when one has already been registered\n",
      "2025-01-06 10:52:26.368088: I tensorflow/core/platform/cpu_feature_guard.cc:210] This TensorFlow binary is optimized to use available CPU instructions in performance-critical operations.\n",
      "To enable the following instructions: AVX2 AVX512F AVX512_VNNI AVX512_BF16 FMA, in other operations, rebuild TensorFlow with the appropriate compiler flags.\n",
      "2025-01-06 10:52:27.982982: W tensorflow/compiler/tf2tensorrt/utils/py_utils.cc:38] TF-TRT Warning: Could not find TensorRT\n",
      "Some weights of RobertaModel were not initialized from the model checkpoint at FacebookAI/RoBERTa-base and are newly initialized: ['roberta.pooler.dense.bias', 'roberta.pooler.dense.weight']\n",
      "You should probably TRAIN this model on a down-stream task to be able to use it for predictions and inference.\n"
     ]
    }
   ],
   "source": [
    "from transformers import AutoModel, AutoTokenizer\n",
    "from models_rob import NoDocModel\n",
    "\n",
    "base_model = AutoModel.from_pretrained(\"FacebookAI/RoBERTa-base\")\n",
    "# load trained model\n",
    "name = \"./trained/no_doc_rob\"\n",
    "model = NoDocModel.from_pretrained(base_model,name)\n",
    "tokenizer = AutoTokenizer.from_pretrained(name)\n"
   ]
  },
  {
   "cell_type": "code",
   "execution_count": 5,
   "metadata": {},
   "outputs": [
    {
     "data": {
      "text/plain": [
       "device(type='cuda')"
      ]
     },
     "execution_count": 5,
     "metadata": {},
     "output_type": "execute_result"
    }
   ],
   "source": [
    "import torch\n",
    "\n",
    "device = torch.device(\"cuda\") if torch.cuda.is_available() else torch.device(\"cpu\")\n",
    "model.to(device)\n",
    "device"
   ]
  },
  {
   "cell_type": "code",
   "execution_count": 6,
   "metadata": {},
   "outputs": [
    {
     "data": {
      "application/vnd.jupyter.widget-view+json": {
       "model_id": "ad6ad1853f7144d58d69f8c3cda46645",
       "version_major": 2,
       "version_minor": 0
      },
      "text/plain": [
       "Map:   0%|          | 0/2700 [00:00<?, ? examples/s]"
      ]
     },
     "metadata": {},
     "output_type": "display_data"
    }
   ],
   "source": [
    "from transformers import DataCollatorWithPadding\n",
    "\n",
    "def tokenize_function(examples):\n",
    "    return tokenizer(examples[\"text\"], truncation=True, max_length=512)\n",
    "\n",
    "\n",
    "tokenized_datasets = raw_datasets.map(tokenize_function, batched=True)\n",
    "tokenized_datasets = tokenized_datasets.remove_columns([\"text\"])\n",
    "data_collator = DataCollatorWithPadding(tokenizer=tokenizer)"
   ]
  },
  {
   "cell_type": "code",
   "execution_count": 7,
   "metadata": {},
   "outputs": [
    {
     "data": {
      "text/plain": [
       "DatasetDict({\n",
       "    dev: Dataset({\n",
       "        features: ['ref', 'labels', 'source', 'model', 'task_type', 'source_id', 'input_ids', 'attention_mask'],\n",
       "        num_rows: 2700\n",
       "    })\n",
       "})"
      ]
     },
     "execution_count": 7,
     "metadata": {},
     "output_type": "execute_result"
    }
   ],
   "source": [
    "tokenized_datasets"
   ]
  },
  {
   "cell_type": "code",
   "execution_count": 8,
   "metadata": {},
   "outputs": [
    {
     "data": {
      "text/plain": [
       "{'id': 0, 'label': 0, 'task': 'Summary'}"
      ]
     },
     "execution_count": 8,
     "metadata": {},
     "output_type": "execute_result"
    }
   ],
   "source": [
    "results = []\n",
    "for i, d in enumerate(tokenized_datasets[\"test\"]):\n",
    "    results.append({\"id\": i,\"label\":d[\"labels\"],\"task\":d[\"task_type\"]})\n",
    "\n",
    "results[0]"
   ]
  },
  {
   "cell_type": "code",
   "execution_count": 9,
   "metadata": {},
   "outputs": [
    {
     "name": "stderr",
     "output_type": "stream",
     "text": [
      "2700it [00:13, 193.21it/s]\n"
     ]
    }
   ],
   "source": [
    "# inference\n",
    "import torch\n",
    "from tqdm import tqdm\n",
    "\n",
    "model.eval()\n",
    "\n",
    "for i,d in tqdm(enumerate(tokenized_datasets[\"test\"])):\n",
    "    input_ids =torch.tensor(d[\"input_ids\"]).unsqueeze(0).to(device)\n",
    "    attention_mask = torch.tensor(d[\"attention_mask\"]).unsqueeze(0).to(device)\n",
    "    with torch.no_grad():\n",
    "        outputs = model(input_ids=input_ids, attention_mask=attention_mask)\n",
    "        logits = outputs[\"logits\"]\n",
    "        predicted_index = torch.argmax(logits, dim=-1) # predicted label\n",
    "    results[i][\"no_rag_logits\"] = logits.cpu().numpy()\n",
    "    results[i][\"no_rag_label\"] = predicted_index.cpu().numpy()"
   ]
  },
  {
   "cell_type": "markdown",
   "metadata": {
    "jp-MarkdownHeadingCollapsed": true
   },
   "source": [
    "### with_doc"
   ]
  },
  {
   "cell_type": "code",
   "execution_count": 14,
   "metadata": {},
   "outputs": [
    {
     "name": "stderr",
     "output_type": "stream",
     "text": [
      "Some weights of RobertaModel were not initialized from the model checkpoint at FacebookAI/RoBERTa-base and are newly initialized: ['roberta.pooler.dense.bias', 'roberta.pooler.dense.weight']\n",
      "You should probably TRAIN this model on a down-stream task to be able to use it for predictions and inference.\n"
     ]
    },
    {
     "data": {
      "application/vnd.jupyter.widget-view+json": {
       "model_id": "3fc7fe02d7c540ad81244bded00df5cf",
       "version_major": 2,
       "version_minor": 0
      },
      "text/plain": [
       "Map:   0%|          | 0/2700 [00:00<?, ? examples/s]"
      ]
     },
     "metadata": {},
     "output_type": "display_data"
    }
   ],
   "source": [
    "from transformers import AutoModel, AutoTokenizer, DataCollatorWithPadding\n",
    "import torch\n",
    "from models_rob import WithDocModel\n",
    "\n",
    "base_model = AutoModel.from_pretrained(\"FacebookAI/RoBERTa-base\")\n",
    "\n",
    "name = \"./trained/with_doc_rob\"\n",
    "model = WithDocModel.from_pretrained(base_model,name)\n",
    "tokenizer = AutoTokenizer.from_pretrained(name)\n",
    "\n",
    "device = torch.device(\"cuda\") if torch.cuda.is_available() else torch.device(\"cpu\")\n",
    "model.to(device)\n",
    "\n",
    "\n",
    "def tokenize_function(examples):\n",
    "    ref = tokenizer(examples[\"ref\"],truncation=True, max_length=512)\n",
    "    text = tokenizer(examples[\"text\"],truncation=True, max_length=512)\n",
    "    return {\n",
    "        \"ref_input_ids\":ref[\"input_ids\"],\n",
    "        \"ref_attention_mask\":ref[\"attention_mask\"],\n",
    "        \"text_input_ids\":text[\"input_ids\"],\n",
    "        \"text_attention_mask\":text[\"attention_mask\"],\n",
    "    }\n",
    "\n",
    "tokenized_datasets = raw_datasets.map(tokenize_function, batched=True)\n",
    "tokenized_datasets = tokenized_datasets.remove_columns([\"text\",\"ref\"])\n",
    "data_collator = DataCollatorWithPadding(tokenizer=tokenizer)"
   ]
  },
  {
   "cell_type": "code",
   "execution_count": 15,
   "metadata": {},
   "outputs": [
    {
     "name": "stderr",
     "output_type": "stream",
     "text": [
      "2700it [00:33, 80.65it/s] \n"
     ]
    }
   ],
   "source": [
    "import torch\n",
    "from tqdm import tqdm\n",
    "\n",
    "model.eval()\n",
    "\n",
    "for i,d in tqdm(enumerate(tokenized_datasets[\"dev\"])):\n",
    "    ref_input_ids = torch.tensor(d[\"ref_input_ids\"]).unsqueeze(0).to(device)\n",
    "    text_input_ids = torch.tensor(d[\"text_input_ids\"]).unsqueeze(0).to(device)\n",
    "    input_ids = [ref_input_ids, text_input_ids]\n",
    "    \n",
    "    ref_attention_mask = torch.tensor(d[\"ref_attention_mask\"]).unsqueeze(0).to(device)\n",
    "    text_attention_mask = torch.tensor(d[\"text_attention_mask\"]).unsqueeze(0).to(device)\n",
    "    attention_mask = [ref_attention_mask, text_attention_mask]\n",
    "    \n",
    "    with torch.no_grad():\n",
    "        outputs = model(input_ids=input_ids, attention_mask=attention_mask)\n",
    "        logits = outputs[\"logits\"]\n",
    "        predicted_index = torch.argmax(logits, dim=-1)\n",
    "        \n",
    "    results[i][\"rag_logits\"] = logits.cpu().numpy()\n",
    "    results[i][\"rag_label\"] = predicted_index.cpu().numpy()\n",
    "        "
   ]
  },
  {
   "cell_type": "markdown",
   "metadata": {},
   "source": [
    "### triplet"
   ]
  },
  {
   "cell_type": "code",
   "execution_count": null,
   "metadata": {},
   "outputs": [],
   "source": [
    "# triplet loss is not calculated during inference, so the other data is dummy (\"hallucination\"/\"not hallucination\")\n",
    "\n",
    "def create_trip_ver2(data):\n",
    "    trip = []\n",
    "    for d in data:\n",
    "        if d[\"labels\"] == 0: # not hallucination\n",
    "            trip.append({\"anchor\":d[\"ref\"],\"positive\": d[\"text\"], \"negative\": \"hallucination\", \"labels\": 0})\n",
    "        else:\n",
    "            trip.append({\"anchor\":d[\"ref\"],\"positive\": \"not hallucination\", \"negative\": d[\"text\"], \"labels\": 1})\n",
    "    return trip"
   ]
  },
  {
   "cell_type": "code",
   "execution_count": 47,
   "metadata": {},
   "outputs": [
    {
     "name": "stderr",
     "output_type": "stream",
     "text": [
      "100%|██████████| 2700/2700 [00:00<00:00, 172760.46it/s]\n"
     ]
    },
    {
     "data": {
      "text/plain": [
       "DatasetDict({\n",
       "    dev: Dataset({\n",
       "        features: ['anchor', 'positive', 'negative', 'labels'],\n",
       "        num_rows: 2208\n",
       "    })\n",
       "})"
      ]
     },
     "execution_count": 47,
     "metadata": {},
     "output_type": "execute_result"
    }
   ],
   "source": [
    "from datasets import Dataset, DatasetDict\n",
    "import pandas as pd\n",
    "\n",
    "test_trip = create_trip_ver2(test_data)\n",
    "\n",
    "test_df = pd.DataFrame(test_trip)\n",
    "test_ds = Dataset.from_pandas(test_df)\n",
    "\n",
    "raw_datasets = DatasetDict({\"test\":test_ds})\n",
    "raw_datasets"
   ]
  },
  {
   "cell_type": "code",
   "execution_count": 48,
   "metadata": {},
   "outputs": [],
   "source": [
    "import torch.nn.functional as F\n",
    "import torch\n",
    "import torch.nn as nn\n",
    "\n",
    "def triplet_loss(anchor_output, positive_output, negative_output, positive_logits, negative_logits):\n",
    "    positive_targets = torch.zeros(positive_output.size(0), dtype=torch.long).to(device)  # not hallucination\n",
    "    negative_targets = torch.ones(negative_output.size(0), dtype=torch.long).to(device)\n",
    "    positive_loss = nn.CrossEntropyLoss()(positive_logits, positive_targets)\n",
    "    negative_loss = nn.CrossEntropyLoss()(negative_logits, negative_targets)\n",
    "\n",
    "    classification_loss = (positive_loss + negative_loss) / 2.0\n",
    "\n",
    "    triplet_loss_fn = (nn.TripletMarginWithDistanceLoss(margin=1.0,distance_function=lambda x, y: 1.0 - F.cosine_similarity(x, y)))\n",
    "    triplet_loss = triplet_loss_fn(anchor_output, positive_output, negative_output)\n",
    "\n",
    "    return classification_loss, triplet_loss"
   ]
  },
  {
   "cell_type": "code",
   "execution_count": 49,
   "metadata": {},
   "outputs": [
    {
     "name": "stderr",
     "output_type": "stream",
     "text": [
      "Some weights of RobertaModel were not initialized from the model checkpoint at FacebookAI/RoBERTa-base and are newly initialized: ['roberta.pooler.dense.bias', 'roberta.pooler.dense.weight']\n",
      "You should probably TRAIN this model on a down-stream task to be able to use it for predictions and inference.\n"
     ]
    },
    {
     "data": {
      "application/vnd.jupyter.widget-view+json": {
       "model_id": "c5328c91312644a8afaad34941a16adc",
       "version_major": 2,
       "version_minor": 0
      },
      "text/plain": [
       "Map:   0%|          | 0/2208 [00:00<?, ? examples/s]"
      ]
     },
     "metadata": {},
     "output_type": "display_data"
    }
   ],
   "source": [
    "from transformers import AutoModel, AutoTokenizer, DataCollatorWithPadding\n",
    "import torch\n",
    "from models_rob import TripletModel\n",
    "\n",
    "\n",
    "base_model = AutoModel.from_pretrained(\"FacebookAI/RoBERTa-base\")\n",
    "\n",
    "name = \"./trained/triplet_rob\"\n",
    "model = TripletModel.from_pretrained(base_model, triplet_loss, name)\n",
    "tokenizer = AutoTokenizer.from_pretrained(name)\n",
    "\n",
    "device = torch.device(\"cuda\") if torch.cuda.is_available() else torch.device(\"cpu\")\n",
    "model.to(device)\n",
    "\n",
    "\n",
    "def tokenize_function(examples):\n",
    "    anchor = tokenizer(examples[\"anchor\"], truncation=True,max_length=512)\n",
    "    positive = tokenizer(examples[\"positive\"], truncation=True,max_length=512)\n",
    "    negative = tokenizer(examples[\"negative\"], truncation=True,max_length=512)\n",
    "\n",
    "    return {\n",
    "        \"anchor_input_ids\": anchor[\"input_ids\"],\n",
    "        \"anchor_attention_mask\": anchor[\"attention_mask\"],\n",
    "        \"positive_input_ids\": positive[\"input_ids\"],\n",
    "        \"positive_attention_mask\": positive[\"attention_mask\"],\n",
    "        \"negative_input_ids\": negative[\"input_ids\"],\n",
    "        \"negative_attention_mask\": negative[\"attention_mask\"],\n",
    "    }\n",
    "\n",
    "\n",
    "tokenized_datasets = raw_datasets.map(tokenize_function, batched=True)\n",
    "tokenized_datasets = tokenized_datasets.remove_columns([\"anchor\", \"positive\", \"negative\"])\n",
    "data_collator = DataCollatorWithPadding(tokenizer=tokenizer)"
   ]
  },
  {
   "cell_type": "code",
   "execution_count": 50,
   "metadata": {},
   "outputs": [
    {
     "name": "stderr",
     "output_type": "stream",
     "text": [
      "2208it [01:43, 21.27it/s]\n"
     ]
    }
   ],
   "source": [
    "import torch\n",
    "from tqdm import tqdm\n",
    "\n",
    "model.eval()\n",
    "\n",
    "for i,d in tqdm(enumerate(tokenized_datasets[\"test\"])):\n",
    "    \n",
    "    flag = False # hallusination → True\n",
    "    if d[\"labels\"] == 1:\n",
    "        flag = True\n",
    "    \n",
    "    anchor_input_ids = torch.tensor(d[\"anchor_input_ids\"], dtype=torch.long).unsqueeze(0).to(device)\n",
    "    positive_input_ids = torch.tensor(d[\"positive_input_ids\"], dtype=torch.long).unsqueeze(0).to(device)\n",
    "    negative_input_ids = torch.tensor(d[\"negative_input_ids\"], dtype=torch.long).unsqueeze(0).to(device)\n",
    "    input_ids = [anchor_input_ids, positive_input_ids, negative_input_ids]\n",
    "    anchor_attention_mask = torch.tensor(d[\"anchor_attention_mask\"], dtype=torch.long).unsqueeze(0).to(device)\n",
    "    positive_attention_mask = torch.tensor(d[\"positive_attention_mask\"], dtype=torch.long).unsqueeze(0).to(device)\n",
    "    negative_attention_mask = torch.tensor(d[\"negative_attention_mask\"], dtype=torch.long).unsqueeze(0).to(device)\n",
    "    attention_mask = [anchor_attention_mask, positive_attention_mask, negative_attention_mask]\n",
    "    \n",
    "    with torch.no_grad():\n",
    "        outputs = model(input_ids=input_ids, attention_mask=attention_mask)\n",
    "        if flag:\n",
    "            logits = outputs.logits[1] # negative_logit\n",
    "        else:\n",
    "            logits = outputs.logits[0] # positive_logit\n",
    "        predicted_index = torch.argmax(logits, dim=-1)\n",
    "    results[i][\"triplet_logits\"] = logits.cpu().numpy()\n",
    "    results[i][\"triplet_label\"] = predicted_index.cpu().numpy()\n",
    "        "
   ]
  },
  {
   "cell_type": "code",
   "execution_count": 29,
   "metadata": {},
   "outputs": [
    {
     "data": {
      "text/plain": [
       "{'id': 2699,\n",
       " 'label': 0,\n",
       " 'task': 'QA',\n",
       " 'no_rag_logits': array([[-0.47302994,  0.9884404 ]], dtype=float32),\n",
       " 'no_rag_label': array([1]),\n",
       " 'rag_logits': array([[0.34309223, 0.17094655]], dtype=float32),\n",
       " 'rag_label': array([0]),\n",
       " 'triplet_logits': array([[-1.6563241,  1.5209625]], dtype=float32),\n",
       " 'triplet_label': array([1])}"
      ]
     },
     "execution_count": 29,
     "metadata": {},
     "output_type": "execute_result"
    }
   ],
   "source": [
    "results[-1]"
   ]
  },
  {
   "cell_type": "code",
   "execution_count": 30,
   "metadata": {},
   "outputs": [],
   "source": [
    "# save results\n",
    "import numpy as np\n",
    "import json\n",
    "for result in results:\n",
    "    if isinstance(result[\"no_rag_logits\"], np.ndarray):\n",
    "        result[\"no_rag_logits\"] = result[\"no_rag_logits\"].tolist()\n",
    "    if isinstance(result[\"rag_logits\"], np.ndarray):\n",
    "        result[\"rag_logits\"] = result[\"rag_logits\"].tolist()\n",
    "    if isinstance(result[\"triplet_logits\"], np.ndarray):\n",
    "        result[\"triplet_logits\"] = result[\"triplet_logits\"].tolist()\n",
    "    if isinstance(result[\"no_rag_label\"], np.ndarray):\n",
    "        result[\"no_rag_label\"] = result[\"no_rag_label\"].tolist()\n",
    "    if isinstance(result[\"rag_label\"], np.ndarray):\n",
    "        result[\"rag_label\"] = result[\"rag_label\"].tolist()\n",
    "    if isinstance(result[\"triplet_label\"], np.ndarray):\n",
    "        result[\"triplet_label\"] = result[\"triplet_label\"].tolist()\n",
    "\n",
    "\n",
    "\n",
    "with open(\"check_improve_rob.json\", \"w\") as f:\n",
    "    json.dump(results, f)"
   ]
  },
  {
   "cell_type": "markdown",
   "metadata": {},
   "source": [
    "## View results"
   ]
  },
  {
   "cell_type": "code",
   "execution_count": 1,
   "metadata": {},
   "outputs": [],
   "source": [
    "import json\n",
    "\n",
    "with open('check_improve_rob.json',\"r\") as f:\n",
    "    results = json.load(f)\n"
   ]
  },
  {
   "cell_type": "code",
   "execution_count": 2,
   "metadata": {},
   "outputs": [
    {
     "name": "stdout",
     "output_type": "stream",
     "text": [
      "516 53 455 88 148 49 638 753\n"
     ]
    },
    {
     "data": {
      "text/plain": [
       "0"
      ]
     },
     "execution_count": 2,
     "metadata": {},
     "output_type": "execute_result"
    }
   ],
   "source": [
    "# compare no_doc and triplet\n",
    "\n",
    "id_000 = [] # both success not to detect\n",
    "id_001 = [] # both fail to detect\n",
    "id_010 = [] # over-detect in triplet\n",
    "id_011 = [] # success to detect only in triplet\n",
    "id_100 = [] # success not to detect only i triplet\n",
    "id_101 = [] # fail to detect only in triplet\n",
    "id_110 = [] # both over-detect\n",
    "id_111 = [] # both success to detect\n",
    "\n",
    "for result in results:\n",
    "    if result[\"no_rag_label\"][0]==0 and result[\"triplet_label\"][0]==0 and result[\"label\"]==0:\n",
    "        id_000.append(result[\"id\"])\n",
    "    elif result[\"no_rag_label\"][0]==0 and result[\"triplet_label\"][0]==0 and result[\"label\"]==1:\n",
    "        id_001.append(result[\"id\"])\n",
    "    elif result[\"no_rag_label\"][0]==0 and result[\"triplet_label\"][0]==1 and result[\"label\"]==0:\n",
    "        id_010.append(result[\"id\"])\n",
    "    elif result[\"no_rag_label\"][0]==0 and result[\"triplet_label\"][0]==1 and result[\"label\"]==1:\n",
    "        id_011.append(result[\"id\"])\n",
    "    elif result[\"no_rag_label\"][0]==1 and result[\"triplet_label\"][0]==0 and result[\"label\"]==0:\n",
    "        id_100.append(result[\"id\"])\n",
    "    elif result[\"no_rag_label\"][0]==1 and result[\"triplet_label\"][0]==0 and result[\"label\"]==1:\n",
    "        id_101.append(result[\"id\"])\n",
    "    elif result[\"no_rag_label\"][0]==1 and result[\"triplet_label\"][0]==1 and result[\"label\"]==0:\n",
    "        id_110.append(result[\"id\"])\n",
    "    elif result[\"no_rag_label\"][0]==1 and result[\"triplet_label\"][0]==1 and result[\"label\"]==1:\n",
    "        id_111.append(result[\"id\"])    \n",
    "    \n",
    "\n",
    "print(len(id_000),len(id_001),len(id_010),len(id_011),len(id_100),len(id_101),len(id_110),len(id_111))\n",
    "# 000:516, 001:53, 010:455, 011:88, 100:148, 101:49, 110:638, 111:753 ---rob\n",
    "num"
   ]
  },
  {
   "cell_type": "markdown",
   "metadata": {},
   "source": [
    "### embedding"
   ]
  },
  {
   "cell_type": "code",
   "execution_count": 1,
   "metadata": {},
   "outputs": [],
   "source": [
    "import json\n",
    "\n",
    "with open(\"dataset/rag_truth_test.json\", \"r\") as f:\n",
    "    test_data = json.load(f)\n",
    "    \n",
    "def add_prefix(data):\n",
    "    for d in data:\n",
    "        d[\"text\"] = \"Please judge the following statement whether it includes hallucination or not based on the references above: \" + d[\"text\"]\n",
    "    return data\n",
    "\n",
    "test_data = add_prefix(test_data)"
   ]
  },
  {
   "cell_type": "code",
   "execution_count": 2,
   "metadata": {},
   "outputs": [],
   "source": [
    "# task_type: QA, Data2txt, Summary\n",
    "task_name = \"Data2txt\"\n",
    "task = \"d2t\"\n",
    "test_data = [d for d in test_data if d[\"task_type\"] == task_name]"
   ]
  },
  {
   "cell_type": "code",
   "execution_count": 3,
   "metadata": {},
   "outputs": [],
   "source": [
    "import os\n",
    "save_folder = \"embedding\"\n",
    "os.makedirs(save_folder, exist_ok=True) "
   ]
  },
  {
   "cell_type": "code",
   "execution_count": null,
   "metadata": {},
   "outputs": [],
   "source": [
    "import torch\n",
    "from transformers import AutoTokenizer, AutoModel\n",
    "import numpy as np\n",
    "import umap.umap_ as umap\n",
    "import matplotlib.pyplot as plt\n",
    "from models_rob import NoDocModel\n",
    "\n",
    "model_name = \"FacebookAI/RoBERTa-base\"\n",
    "tokenizer = AutoTokenizer.from_pretrained(model_name)\n",
    "model = AutoModel.from_pretrained(model_name) # before train\n",
    "\n",
    "device = torch.device(\"cuda\" if torch.cuda.is_available() else \"cpu\")\n",
    "model = model.to(device)\n",
    "\n",
    "texts = [x[\"text\"] for x in test_data]\n",
    "\n",
    "inputs = tokenizer(texts, padding=True, truncation=True, return_tensors=\"pt\")\n",
    "inputs = {key: value.to(device) for key, value in inputs.items()}\n",
    "\n",
    "with torch.no_grad():\n",
    "    outputs = model(**inputs)\n",
    "    embeddings = outputs[1] \n",
    "    embeddings = embeddings.cpu().numpy()  \n",
    "\n",
    "# dimensional reduction\n",
    "umap_reducer = umap.UMAP(n_components=2, random_state=42)\n",
    "embeddings_2d = umap_reducer.fit_transform(embeddings)\n",
    "\n",
    "# plot\n",
    "plt.figure(figsize=(8, 8))\n",
    "for i, text in enumerate(texts):\n",
    "    if test_data[i][\"task_type\"] == \"QA\" and test_data[i][\"labels\"] == 1:\n",
    "        plt.scatter(embeddings_2d[i, 0], embeddings_2d[i, 1],color = \"#000000\",s = 30,marker=\"^\")\n",
    "    elif test_data[i][\"task_type\"] == \"QA\" and test_data[i][\"labels\"] == 0:\n",
    "        plt.scatter(embeddings_2d[i, 0], embeddings_2d[i, 1],color = \"red\",s = 30)\n",
    "    elif test_data[i][\"task_type\"] == \"Data2txt\" and test_data[i][\"labels\"] == 1:\n",
    "        plt.scatter(embeddings_2d[i, 0], embeddings_2d[i, 1],color = \"#000000\",s = 30,marker=\"^\")\n",
    "    elif test_data[i][\"task_type\"] == \"Data2txt\" and test_data[i][\"labels\"] == 0:\n",
    "        plt.scatter(embeddings_2d[i, 0], embeddings_2d[i, 1],color = \"#00DDFF\",s = 30)\n",
    "    elif test_data[i][\"task_type\"] == \"Summary\" and test_data[i][\"labels\"] == 1:\n",
    "        plt.scatter(embeddings_2d[i, 0], embeddings_2d[i, 1],color = \"#000000\",s = 30,marker=\"^\")\n",
    "    elif test_data[i][\"task_type\"] == \"Summary\" and test_data[i][\"labels\"] == 0:\n",
    "        plt.scatter(embeddings_2d[i, 0], embeddings_2d[i, 1],color = \"green\",s = 30)\n",
    "\n",
    "# change according to task\n",
    "\n",
    "#plt.scatter([], [],color = \"#000000\", label = \"QA (hal)\",marker=\"^\")\n",
    "#plt.scatter([], [],color = \"red\", label = \"QA (not hal)\")\n",
    "plt.scatter([], [],color = \"#000000\", label = \"Data2txt (hal)\",marker=\"^\")\n",
    "plt.scatter([], [],color = \"#00DDFF\", label = \"Data2txt (not hal)\")\n",
    "#plt.scatter([], [],color = \"#002100\", label = \"Summary (hal)\",marker=\"^\")\n",
    "#plt.scatter([], [],color = \"green\", label = \"Summary (not hal)\")\n",
    "\n",
    "\n",
    "plt.legend(fontsize=\"x-large\")\n",
    "\n",
    "file_path = os.path.join(save_folder, f\"before_{task}.png\")\n",
    "plt.savefig(file_path, format=\"png\", dpi=300) \n",
    "plt.show()\n",
    "plt.close()\n"
   ]
  },
  {
   "cell_type": "code",
   "execution_count": 5,
   "metadata": {},
   "outputs": [
    {
     "name": "stderr",
     "output_type": "stream",
     "text": [
      "/gs/fs/tga-arase-student/yamada/nlp/lib64/python3.9/site-packages/transformers/tokenization_utils_base.py:1601: FutureWarning: `clean_up_tokenization_spaces` was not set. It will be set to `True` by default. This behavior will be depracted in transformers v4.45, and will be then set to `False` by default. For more details check this issue: https://github.com/huggingface/transformers/issues/31884\n",
      "  warnings.warn(\n",
      "Some weights of RobertaModel were not initialized from the model checkpoint at FacebookAI/RoBERTa-base and are newly initialized: ['roberta.pooler.dense.bias', 'roberta.pooler.dense.weight']\n",
      "You should probably TRAIN this model on a down-stream task to be able to use it for predictions and inference.\n",
      "/gs/fs/tga-arase-student/yamada/nlp/lib64/python3.9/site-packages/umap/umap_.py:1952: UserWarning: n_jobs value 1 overridden to 1 by setting random_state. Use no seed for parallelism.\n",
      "  warn(\n"
     ]
    },
    {
     "data": {
      "image/png": "[encoded data removed]",
      "text/plain": [
       "<Figure size 800x800 with 1 Axes>"
      ]
     },
     "metadata": {},
     "output_type": "display_data"
    }
   ],
   "source": [
    "import torch\n",
    "from transformers import AutoTokenizer, AutoModel\n",
    "import numpy as np\n",
    "import umap.umap_ as umap\n",
    "import matplotlib.pyplot as plt\n",
    "from models_rob import NoDocModel\n",
    "\n",
    "model_name = \"FacebookAI/RoBERTa-base\"\n",
    "tokenizer = AutoTokenizer.from_pretrained(model_name)\n",
    "base_model = AutoModel.from_pretrained(model_name)\n",
    "model = NoDocModel.from_pretrained(base_model, \"trained/no_doc_rob\") \n",
    "\n",
    "device = torch.device(\"cuda\" if torch.cuda.is_available() else \"cpu\")\n",
    "model = model.to(device)\n",
    "\n",
    "texts = [x[\"text\"] for x in test_data]\n",
    "\n",
    "inputs = tokenizer(texts, padding=True, truncation=True, return_tensors=\"pt\")\n",
    "inputs = {key: value.to(device) for key, value in inputs.items()}\n",
    "\n",
    "with torch.no_grad():\n",
    "    outputs = model(**inputs)\n",
    "    embeddings =outputs.output \n",
    "    embeddings = embeddings.cpu().numpy() \n",
    "\n",
    "umap_reducer = umap.UMAP(n_components=2, random_state=42)\n",
    "embeddings_2d = umap_reducer.fit_transform(embeddings)\n",
    "\n",
    "plt.figure(figsize=(8, 8))\n",
    "for i, text in enumerate(texts):\n",
    "    if test_data[i][\"task_type\"] == \"QA\" and test_data[i][\"labels\"] == 1:\n",
    "        plt.scatter(embeddings_2d[i, 0], embeddings_2d[i, 1],color = \"#000000\",s = 30,marker=\"^\")\n",
    "    elif test_data[i][\"task_type\"] == \"QA\" and test_data[i][\"labels\"] == 0:\n",
    "        plt.scatter(embeddings_2d[i, 0], embeddings_2d[i, 1],color = \"red\",s = 30)\n",
    "    elif test_data[i][\"task_type\"] == \"Data2txt\" and test_data[i][\"labels\"] == 1:\n",
    "        plt.scatter(embeddings_2d[i, 0], embeddings_2d[i, 1],color = \"#000000\",s = 30,marker=\"^\")\n",
    "    elif test_data[i][\"task_type\"] == \"Data2txt\" and test_data[i][\"labels\"] == 0:\n",
    "        plt.scatter(embeddings_2d[i, 0], embeddings_2d[i, 1],color = \"#00DDFF\",s = 30)\n",
    "    elif test_data[i][\"task_type\"] == \"Summary\" and test_data[i][\"labels\"] == 1:\n",
    "        plt.scatter(embeddings_2d[i, 0], embeddings_2d[i, 1],color = \"#000000\",s = 30,marker=\"^\")\n",
    "    elif test_data[i][\"task_type\"] == \"Summary\" and test_data[i][\"labels\"] == 0:\n",
    "        plt.scatter(embeddings_2d[i, 0], embeddings_2d[i, 1],color = \"green\",s = 30)\n",
    "\n",
    "#plt.scatter([], [],color = \"#000000\", label = \"QA (hal)\",marker=\"^\")\n",
    "#plt.scatter([], [],color = \"red\", label = \"QA (not hal)\")\n",
    "plt.scatter([], [],color = \"#000000\", label = \"Data2txt (hal)\",marker=\"^\")\n",
    "plt.scatter([], [],color = \"#00DDFF\", label = \"Data2txt (not hal)\")\n",
    "#plt.scatter([], [],color = \"#002100\", label = \"Summary (hal)\",marker=\"^\")\n",
    "#plt.scatter([], [],color = \"green\", label = \"Summary (not hal)\")\n",
    "\n",
    "plt.legend(fontsize=\"x-large\")\n",
    "\n",
    "file_path = os.path.join(save_folder, f\"no_doc_{task}.png\")\n",
    "plt.savefig(file_path, format=\"png\", dpi=300) \n",
    "plt.show()\n",
    "plt.close()\n"
   ]
  },
  {
   "cell_type": "code",
   "execution_count": 7,
   "metadata": {},
   "outputs": [
    {
     "name": "stderr",
     "output_type": "stream",
     "text": [
      "/gs/fs/tga-arase-student/yamada/nlp/lib64/python3.9/site-packages/transformers/tokenization_utils_base.py:1601: FutureWarning: `clean_up_tokenization_spaces` was not set. It will be set to `True` by default. This behavior will be depracted in transformers v4.45, and will be then set to `False` by default. For more details check this issue: https://github.com/huggingface/transformers/issues/31884\n",
      "  warnings.warn(\n",
      "Some weights of RobertaModel were not initialized from the model checkpoint at FacebookAI/RoBERTa-base and are newly initialized: ['roberta.pooler.dense.bias', 'roberta.pooler.dense.weight']\n",
      "You should probably TRAIN this model on a down-stream task to be able to use it for predictions and inference.\n",
      "/gs/fs/tga-arase-student/yamada/nlp/lib64/python3.9/site-packages/umap/umap_.py:1952: UserWarning: n_jobs value 1 overridden to 1 by setting random_state. Use no seed for parallelism.\n",
      "  warn(\n"
     ]
    },
    {
     "data": {
      "image/png": "[encoded data removed]",
      "text/plain": [
       "<Figure size 800x800 with 1 Axes>"
      ]
     },
     "metadata": {},
     "output_type": "display_data"
    }
   ],
   "source": [
    "import torch\n",
    "from transformers import AutoTokenizer, AutoModel\n",
    "import numpy as np\n",
    "import umap.umap_ as umap\n",
    "import matplotlib.pyplot as plt\n",
    "from models_rob import WithDocModel\n",
    "\n",
    "\n",
    "model_name = \"FacebookAI/RoBERTa-base\"\n",
    "tokenizer = AutoTokenizer.from_pretrained(model_name)\n",
    "base_model = AutoModel.from_pretrained(model_name)\n",
    "\n",
    "model = WithDocModel.from_pretrained(base_model, \"trained/with_doc_rob\")\n",
    "\n",
    "device = torch.device(\"cuda\" if torch.cuda.is_available() else \"cpu\")\n",
    "model = model.to(device)\n",
    "\n",
    "# data\n",
    "refs = [x[\"ref\"] for x in test_data]\n",
    "texts = [x[\"text\"] for x in test_data]\n",
    "refs_tok = tokenizer(refs, padding=True, truncation=True, return_tensors=\"pt\")\n",
    "texts_tok = tokenizer(texts, padding=True, truncation=True, return_tensors=\"pt\")\n",
    "\n",
    "inputs = {\n",
    "    \"input_ids\":[refs_tok[\"input_ids\"].to(device),texts_tok[\"input_ids\"].to(device)],\n",
    "    \"attention_mask\":[refs_tok[\"attention_mask\"].to(device),texts_tok[\"attention_mask\"].to(device)]\n",
    "}\n",
    "\n",
    "with torch.no_grad():\n",
    "    outputs = model(**inputs)\n",
    "    embeddings =outputs.output[1] \n",
    "    embeddings = embeddings.cpu().numpy()  \n",
    "\n",
    "umap_reducer = umap.UMAP(n_components=2, random_state=42)\n",
    "embeddings_2d = umap_reducer.fit_transform(embeddings)\n",
    "\n",
    "plt.figure(figsize=(8, 8))\n",
    "for i, text in enumerate(texts):\n",
    "    if test_data[i][\"task_type\"] == \"QA\" and test_data[i][\"labels\"] == 1:\n",
    "        plt.scatter(embeddings_2d[i, 0], embeddings_2d[i, 1],color = \"#000000\",s = 30,marker=\"^\")\n",
    "    elif test_data[i][\"task_type\"] == \"QA\" and test_data[i][\"labels\"] == 0:\n",
    "        plt.scatter(embeddings_2d[i, 0], embeddings_2d[i, 1],color = \"red\",s = 30)\n",
    "    elif test_data[i][\"task_type\"] == \"Data2txt\" and test_data[i][\"labels\"] == 1:\n",
    "        plt.scatter(embeddings_2d[i, 0], embeddings_2d[i, 1],color = \"#000000\",s = 30,marker=\"^\")\n",
    "    elif test_data[i][\"task_type\"] == \"Data2txt\" and test_data[i][\"labels\"] == 0:\n",
    "        plt.scatter(embeddings_2d[i, 0], embeddings_2d[i, 1],color = \"#00DDFF\",s = 30)\n",
    "    elif test_data[i][\"task_type\"] == \"Summary\" and test_data[i][\"labels\"] == 1:\n",
    "        plt.scatter(embeddings_2d[i, 0], embeddings_2d[i, 1],color = \"#000000\",s = 30,marker=\"^\")\n",
    "    elif test_data[i][\"task_type\"] == \"Summary\" and test_data[i][\"labels\"] == 0:\n",
    "        plt.scatter(embeddings_2d[i, 0], embeddings_2d[i, 1],color = \"green\",s = 30)\n",
    "\n",
    "#plt.scatter([], [],color = \"#000000\", label = \"QA (hal)\",marker=\"^\")\n",
    "#plt.scatter([], [],color = \"red\", label = \"QA (not hal)\")\n",
    "plt.scatter([], [],color = \"#000000\", label = \"Data2txt (hal)\",marker=\"^\")\n",
    "plt.scatter([], [],color = \"#00DDFF\", label = \"Data2txt (not hal)\")\n",
    "#plt.scatter([], [],color = \"#002100\", label = \"Summary (hal)\",marker=\"^\")\n",
    "#plt.scatter([], [],color = \"green\", label = \"Summary (not hal)\")\n",
    "\n",
    "plt.legend(fontsize=\"x-large\")\n",
    "\n",
    "file_path = os.path.join(save_folder, f\"with_doc_{task}.png\")\n",
    "plt.savefig(file_path, format=\"png\", dpi=300)\n",
    "plt.close()\n"
   ]
  },
  {
   "cell_type": "code",
   "execution_count": 5,
   "metadata": {},
   "outputs": [],
   "source": [
    "import torch.nn.functional as F\n",
    "import torch\n",
    "import torch.nn as nn\n",
    "\n",
    "def triplet_loss(anchor_output, positive_output, negative_output, positive_logits, negative_logits):\n",
    "    positive_targets = torch.zeros(positive_output.size(0), dtype=torch.long).to(device)  \n",
    "    negative_targets = torch.ones(negative_output.size(0), dtype=torch.long).to(device)\n",
    "    positive_loss = nn.CrossEntropyLoss()(positive_logits, positive_targets)\n",
    "    negative_loss = nn.CrossEntropyLoss()(negative_logits, negative_targets)\n",
    "\n",
    "    classification_loss = (positive_loss + negative_loss) / 2.0\n",
    "\n",
    "    triplet_loss_fn = (nn.TripletMarginWithDistanceLoss(margin=1.0,distance_function=lambda x, y: 1.0 - F.cosine_similarity(x, y)))\n",
    "    triplet_loss = triplet_loss_fn(anchor_output, positive_output, negative_output)\n",
    "\n",
    "    return classification_loss, triplet_loss"
   ]
  },
  {
   "cell_type": "code",
   "execution_count": 6,
   "metadata": {},
   "outputs": [
    {
     "name": "stderr",
     "output_type": "stream",
     "text": [
      "/gs/fs/tga-arase-student/yamada/nlp/lib64/python3.9/site-packages/transformers/tokenization_utils_base.py:1601: FutureWarning: `clean_up_tokenization_spaces` was not set. It will be set to `True` by default. This behavior will be depracted in transformers v4.45, and will be then set to `False` by default. For more details check this issue: https://github.com/huggingface/transformers/issues/31884\n",
      "  warnings.warn(\n",
      "Some weights of RobertaModel were not initialized from the model checkpoint at FacebookAI/RoBERTa-base and are newly initialized: ['roberta.pooler.dense.bias', 'roberta.pooler.dense.weight']\n",
      "You should probably TRAIN this model on a down-stream task to be able to use it for predictions and inference.\n",
      "/gs/fs/tga-arase-student/yamada/nlp/lib64/python3.9/site-packages/umap/umap_.py:1952: UserWarning: n_jobs value 1 overridden to 1 by setting random_state. Use no seed for parallelism.\n",
      "  warn(\n"
     ]
    },
    {
     "data": {
      "image/png": "[encoded data removed]",
      "text/plain": [
       "<Figure size 800x800 with 1 Axes>"
      ]
     },
     "metadata": {},
     "output_type": "display_data"
    }
   ],
   "source": [
    "import torch\n",
    "from transformers import AutoTokenizer, AutoModel\n",
    "import numpy as np\n",
    "import umap.umap_ as umap\n",
    "import matplotlib.pyplot as plt\n",
    "from models_rob import TripletModel\n",
    "\n",
    "model_name = \"FacebookAI/RoBERTa-base\"\n",
    "tokenizer = AutoTokenizer.from_pretrained(model_name)\n",
    "base_model = AutoModel.from_pretrained(model_name)\n",
    "\n",
    "model = TripletModel.from_pretrained(base_model, triplet_loss,\"trained/triplet_rob\")\n",
    "\n",
    "device = torch.device(\"cuda\" if torch.cuda.is_available() else \"cpu\")\n",
    "model = model.to(device)\n",
    "\n",
    "refs = [x[\"ref\"] for x in test_data]\n",
    "posis = [x[\"text\"] if x[\"labels\"] == 0 else \"sample\" for x in test_data]\n",
    "negas = [x[\"text\"] if x[\"labels\"] == 1 else \"sample\" for x in test_data]\n",
    "labels = [x[\"labels\"] for x in test_data]\n",
    "\n",
    "refs_tok = tokenizer(refs, padding=True, truncation=True, return_tensors=\"pt\")\n",
    "posis_tok = tokenizer(posis, padding=True, truncation=True, return_tensors=\"pt\")\n",
    "negas_tok = tokenizer(negas, padding=True, truncation=True, return_tensors=\"pt\")\n",
    "\n",
    "inputs = {\n",
    "    \"input_ids\":[refs_tok[\"input_ids\"].to(device),posis_tok[\"input_ids\"].to(device),negas_tok[\"input_ids\"].to(device)],\n",
    "    \"attention_mask\":[refs_tok[\"attention_mask\"].to(device),posis_tok[\"attention_mask\"].to(device),negas_tok[\"attention_mask\"].to(device)],\n",
    "    \"labels\":labels\n",
    "}\n",
    "\n",
    "\n",
    "with torch.no_grad():\n",
    "    outputs = model(**inputs)\n",
    "    embeddings =outputs.output[1] \n",
    "    embeddings = embeddings.cpu().numpy() \n",
    "\n",
    "umap_reducer = umap.UMAP(n_components=2, random_state=42)\n",
    "embeddings_2d = umap_reducer.fit_transform(embeddings)\n",
    "\n",
    "plt.figure(figsize=(8, 8))\n",
    "for i, text in enumerate(texts):\n",
    "    if test_data[i][\"task_type\"] == \"QA\" and test_data[i][\"labels\"] == 1:\n",
    "        plt.scatter(embeddings_2d[i, 0], embeddings_2d[i, 1],color = \"#000000\",s = 30,marker=\"^\")\n",
    "    elif test_data[i][\"task_type\"] == \"QA\" and test_data[i][\"labels\"] == 0:\n",
    "        plt.scatter(embeddings_2d[i, 0], embeddings_2d[i, 1],color = \"red\",s = 30)\n",
    "    elif test_data[i][\"task_type\"] == \"Data2txt\" and test_data[i][\"labels\"] == 1:\n",
    "        plt.scatter(embeddings_2d[i, 0], embeddings_2d[i, 1],color = \"#000000\",s = 30,marker=\"^\")\n",
    "    elif test_data[i][\"task_type\"] == \"Data2txt\" and test_data[i][\"labels\"] == 0:\n",
    "        plt.scatter(embeddings_2d[i, 0], embeddings_2d[i, 1],color = \"#00DDFF\",s = 30)\n",
    "    elif test_data[i][\"task_type\"] == \"Summary\" and test_data[i][\"labels\"] == 1:\n",
    "        plt.scatter(embeddings_2d[i, 0], embeddings_2d[i, 1],color = \"#000000\",s = 30,marker=\"^\")\n",
    "    elif test_data[i][\"task_type\"] == \"Summary\" and test_data[i][\"labels\"] == 0:\n",
    "        plt.scatter(embeddings_2d[i, 0], embeddings_2d[i, 1],color = \"green\",s = 30)\n",
    "\n",
    "#plt.scatter([], [],color = \"#000000\", label = \"QA (hal)\",marker=\"^\")\n",
    "#plt.scatter([], [],color = \"red\", label = \"QA (not hal)\")\n",
    "plt.scatter([], [],color = \"#000000\", label = \"Data2txt (hal)\",marker=\"^\")\n",
    "plt.scatter([], [],color = \"#00DDFF\", label = \"Data2txt (not hal)\")\n",
    "#plt.scatter([], [],color = \"#002100\", label = \"Summary (hal)\",marker=\"^\")\n",
    "#plt.scatter([], [],color = \"green\", label = \"Summary (not hal)\")\n",
    "\n",
    "plt.legend(fontsize=\"x-large\")\n",
    "\n",
    "file_path = os.path.join(save_folder, f\"triplet_{task}.png\")\n",
    "plt.savefig(file_path, format=\"png\", dpi=300) \n",
    "plt.show()\n",
    "plt.close()\n"
   ]
  },
  {
   "cell_type": "markdown",
   "metadata": {},
   "source": [
    "### Similarity (between document and text)"
   ]
  },
  {
   "cell_type": "code",
   "execution_count": null,
   "metadata": {},
   "outputs": [],
   "source": [
    "%pip install transformers==4.44.0\n",
    "%pip show transformers"
   ]
  },
  {
   "cell_type": "code",
   "execution_count": null,
   "metadata": {},
   "outputs": [],
   "source": [
    "import json\n",
    "\n",
    "with open(\"dataset/rag_truth_span_test.json\", \"r\") as f:\n",
    "    test_data_span = json.load(f)"
   ]
  },
  {
   "cell_type": "code",
   "execution_count": null,
   "metadata": {},
   "outputs": [],
   "source": [
    "import torch.nn.functional as F\n",
    "import torch\n",
    "import torch.nn as nn\n",
    "\n",
    "def triplet_loss(anchor_output, positive_output, negative_output, positive_logits, negative_logits):\n",
    "    positive_targets = torch.zeros(positive_output.size(0), dtype=torch.long).to(device)  \n",
    "    negative_targets = torch.ones(negative_output.size(0), dtype=torch.long).to(device)\n",
    "    positive_loss = nn.CrossEntropyLoss()(positive_logits, positive_targets)\n",
    "    negative_loss = nn.CrossEntropyLoss()(negative_logits, negative_targets)\n",
    "\n",
    "    classification_loss = (positive_loss + negative_loss) / 2.0\n",
    "\n",
    "    triplet_loss_fn = (nn.TripletMarginWithDistanceLoss(margin=1.0,distance_function=lambda x, y: 1.0 - F.cosine_similarity(x, y)))\n",
    "    triplet_loss = triplet_loss_fn(anchor_output, positive_output, negative_output)\n",
    "\n",
    "    return classification_loss, triplet_loss"
   ]
  },
  {
   "cell_type": "code",
   "execution_count": null,
   "metadata": {},
   "outputs": [],
   "source": [
    "from sklearn.metrics.pairwise import cosine_similarity\n",
    "from transformers import AutoTokenizer, AutoModel\n",
    "import numpy as np\n",
    "import torch\n",
    "from models_rob import NoDocModel, WithDocModel, TripletModel\n",
    "\n",
    "tokenizer = AutoTokenizer.from_pretrained(\"FacebookAI/RoBERTa-base\")\n",
    "base_model = AutoModel.from_pretrained(\"FacebookAI/RoBERTa-base\")\n",
    "\n",
    "no_doc_model = NoDocModel.from_pretrained(base_model,\"trained/no_doc_rob\")\n",
    "with_doc_model = WithDocModel.from_pretrained(base_model,\"trained/with_doc_rob\")\n",
    "triplet_model = TripletModel.from_pretrained(base_model,triplet_loss, \"trained/triplet_rob\")\n",
    "\n",
    "def calc_sim_before(ref, text):\n",
    "    ref_tokens = tokenizer(ref, padding=\"longest\", truncation=True, return_tensors=\"pt\")\n",
    "    text_tokens = tokenizer(text, padding=\"longest\", truncation=True, return_tensors=\"pt\")\n",
    "    \n",
    "    with torch.no_grad():  \n",
    "        ref_output = base_model(**ref_tokens)\n",
    "        text_output = base_model(**text_tokens)\n",
    "\n",
    "    ref_embedding = ref_output.last_hidden_state.mean(dim=1).detach().numpy()\n",
    "    text_embedding = text_output.last_hidden_state.mean(dim=1).detach().numpy()\n",
    "    \n",
    "    return cosine_similarity(ref_embedding, text_embedding)[0][0]\n",
    "\n",
    "def calc_sim_no_doc(ref, text):\n",
    "    ref_tokens = tokenizer(ref, padding=\"longest\", truncation=True, return_tensors=\"pt\")\n",
    "    text_tokens = tokenizer(text, padding=\"longest\", truncation=True, return_tensors=\"pt\")\n",
    "    \n",
    "    with torch.no_grad():  \n",
    "        ref_output = no_doc_model(**ref_tokens)\n",
    "        text_output = no_doc_model(**text_tokens)\n",
    "\n",
    "    ref_embedding = ref_output.output.cpu().numpy()\n",
    "    text_embedding = text_output.output.cpu().numpy()\n",
    "    \n",
    "    return cosine_similarity(ref_embedding, text_embedding)[0][0]\n",
    "\n",
    "def calc_sim_with_doc(ref, text):\n",
    "    ref_tok = tokenizer(ref, padding=\"longest\", truncation=True, return_tensors=\"pt\")\n",
    "    text_tok = tokenizer(text, padding=\"longest\", truncation=True, return_tensors=\"pt\")\n",
    "    \n",
    "    inputs = {\n",
    "    \"input_ids\":[ref_tok[\"input_ids\"],text_tok[\"input_ids\"]],\n",
    "    \"attention_mask\":[ref_tok[\"attention_mask\"],text_tok[\"attention_mask\"]]\n",
    "    }   \n",
    " \n",
    "    with torch.no_grad(): \n",
    "        output = with_doc_model(**inputs)\n",
    "\n",
    "    ref_output = output.output[0].cpu().numpy()\n",
    "    text_output = output.output[1].cpu().numpy()\n",
    "\n",
    "    return cosine_similarity(ref_output, text_output)[0][0]\n",
    "\n",
    "def calc_sim_triplet(ref, text, label):\n",
    "    ref_tok = tokenizer(ref, padding=\"longest\", truncation=True, return_tensors=\"pt\")\n",
    "    text_tok = tokenizer(text, padding=\"longest\", truncation=True, return_tensors=\"pt\")\n",
    "    sample_tok = tokenizer(\"sample\", padding=\"longest\", truncation=True, return_tensors=\"pt\")\n",
    "    \n",
    "    if label[0] == 1: # hallucination / negative\n",
    "        inputs = {\n",
    "        \"input_ids\":[ref_tok[\"input_ids\"],sample_tok[\"input_ids\"],text_tok[\"input_ids\"]],\n",
    "        \"attention_mask\":[ref_tok[\"attention_mask\"],sample_tok[\"attention_mask\"],text_tok[\"attention_mask\"]],\n",
    "        \"labels\": label\n",
    "        }   \n",
    "    elif label[0] == 0: # not hallucination / positive\n",
    "        inputs = {\n",
    "        \"input_ids\":[ref_tok[\"input_ids\"],text_tok[\"input_ids\"], sample_tok[\"input_ids\"]],\n",
    "        \"attention_mask\":[ref_tok[\"attention_mask\"],text_tok[\"attention_mask\"], sample_tok[\"attention_mask\"]],\n",
    "        \"labels\": label\n",
    "        }\n",
    "\n",
    "    with torch.no_grad(): \n",
    "        output = triplet_model(**inputs)\n",
    "    ref_output = output.output[0].cpu().numpy()\n",
    "    text_output = output.output[1].cpu().numpy()\n",
    "\n",
    "    return cosine_similarity(ref_output, text_output)[0][0]"
   ]
  },
  {
   "cell_type": "code",
   "execution_count": null,
   "metadata": {},
   "outputs": [],
   "source": [
    "from tqdm import tqdm\n",
    "\n",
    "for d in tqdm(test_data_span):\n",
    "    sim_before = calc_sim_before(d[\"ref\"], d[\"text\"])\n",
    "    sim_no_doc = calc_sim_no_doc(d[\"ref\"], d[\"text\"])\n",
    "    sim_with_doc = calc_sim_with_doc(d[\"ref\"], d[\"text\"])\n",
    "    sim_triplet = calc_sim_triplet(d[\"ref\"], d[\"text\"], [d[\"labels\"]])\n",
    "    \n",
    "    d[\"sim_before\"] = sim_before\n",
    "    d[\"sim_no_doc\"] = sim_no_doc\n",
    "    d[\"sim_doc\"] = sim_with_doc\n",
    "    d[\"sim_triplet\"] = sim_triplet\n"
   ]
  },
  {
   "cell_type": "code",
   "execution_count": null,
   "metadata": {},
   "outputs": [],
   "source": [
    "test_data_span[10]"
   ]
  },
  {
   "cell_type": "code",
   "execution_count": null,
   "metadata": {},
   "outputs": [],
   "source": [
    "import numpy as np\n",
    "import json\n",
    "\n",
    "class NumpyEncoder(json.JSONEncoder):\n",
    "    def default(self, obj):\n",
    "        if isinstance(obj, np.float32):\n",
    "            return float(obj)\n",
    "        if isinstance(obj, np.integer):\n",
    "            return int(obj)\n",
    "        if isinstance(obj, np.ndarray):\n",
    "            return obj.tolist()\n",
    "        return super(NumpyEncoder, self).default(obj)\n",
    "\n",
    "# write json\n",
    "with open(\"dataset/rag_truth_span_test_sim.json\", \"w\") as f:\n",
    "    json.dump(test_data_span, f, cls=NumpyEncoder, ensure_ascii=False, indent=4)"
   ]
  },
  {
   "cell_type": "code",
   "execution_count": null,
   "metadata": {},
   "outputs": [],
   "source": [
    "with open(\"dataset/rag_truth_span_test_sim.json\", \"r\") as f:\n",
    "    test_data_span = json.load(f)"
   ]
  },
  {
   "cell_type": "code",
   "execution_count": null,
   "metadata": {},
   "outputs": [],
   "source": [
    "import matplotlib.pyplot as plt\n",
    "import numpy as np\n",
    "\n",
    "before_posi = []\n",
    "before_nega = []\n",
    "\n",
    "id_all = id_000 + id_001 + id_010 + id_011 + id_100 + id_101 + id_110 + id_111\n",
    "id_tri_fail = id_001 + id_010 + id_101 + id_110\n",
    "id_tri_suc = id_000 + id_011 + id_100 + id_111\n",
    "\n",
    "mode = \"sim_triplet\"\n",
    "\n",
    "for i in id_all :\n",
    "    d = test_data_span[i]\n",
    "    \n",
    "    if d[\"labels\"] == 1:\n",
    "        before_nega.append(d[mode])\n",
    "    else:\n",
    "        before_posi.append(d[mode])\n",
    "        \n",
    "plt.hist(before_posi, bins=100, alpha=0.5, label=\"Positive\")\n",
    "plt.hist(before_nega, bins=100, alpha=0.5, label=\"Negative\")\n",
    "plt.xlabel(\"Cosine sim\")\n",
    "plt.ylabel(\"Count\")\n",
    "\n",
    "\n",
    "plt.legend()\n",
    "plt.show()\n",
    "\n",
    "\n"
   ]
  }
 ],
 "metadata": {
  "kernelspec": {
   "display_name": "Python 3 (ipykernel)",
   "language": "python",
   "name": "python3"
  },
  "language_info": {
   "codemirror_mode": {
    "name": "ipython",
    "version": 3
   },
   "file_extension": ".py",
   "mimetype": "text/x-python",
   "name": "python",
   "nbconvert_exporter": "python",
   "pygments_lexer": "ipython3",
   "version": "3.9.18"
  }
 },
 "nbformat": 4,
 "nbformat_minor": 4
}
