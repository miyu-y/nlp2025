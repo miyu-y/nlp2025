{
 "cells": [
  {
   "cell_type": "markdown",
   "metadata": {},
   "source": [
    "## 準備"
   ]
  },
  {
   "cell_type": "markdown",
   "metadata": {},
   "source": [
    "### 何ができて何ができないのか？"
   ]
  },
  {
   "cell_type": "code",
   "execution_count": 1,
   "metadata": {},
   "outputs": [],
   "source": [
    "import json\n",
    "\n",
    "with open(\"rag_truth_test.json\", \"r\") as f:\n",
    "    test_data = json.load(f)\n",
    "\n",
    "dev_data = test_data"
   ]
  },
  {
   "cell_type": "code",
   "execution_count": 2,
   "metadata": {},
   "outputs": [
    {
     "data": {
      "text/plain": [
       "{'ref': 'The FBI charged a Philadelphia woman on Thursday with trying to travel overseas to fight for ISIS. She\\'s one of three women arrested this week on terror charges. Two New York women were also taken into custody. An FBI complaint cites numerous social media messages dating back to August 2013 that were sent by Keonna Thomas, 30, also known as \"Young Lioness\" and \"Fatayat Al Khilafah.\" One Twitter message said, \"If we truly knew the realities ... we all would be rushing to join our brothers in the front lines pray ALLAH accept us as shuhada [martyrs].\" Another said, \"When you\\'re a mujahid [violent jihadi fighter] your death becomes a wedding.\" The FBI said Thomas purchased an electronic visa to Turkey on March 23. Turkey is known as the easiest place from which to enter Syria and join ISIS. An ISIS manual advises recruits to buy round-trip tickets to vacation spots such as Spain and then purchase tickets for their real destination once they arrive overseas, the FBI said. On March 26, Thomas purchased a ticket to Barcelona, with a March 29 departure and an April 15 return to the United States, the complaint said. It\\'s not clear when or where she was arrested. She was charged with knowingly attempting to provide material support and resources to a designated foreign terrorist organization. She could be sentenced to 15 years in prison. On Thursday, Noelle Velentzas, 28, and her former roommate, Asia Siddiqui, 31, were arrested in New York and accused of planning to build an explosive device for attacks in the United States, federal prosecutors said. In the past 18 months, the Justice Department\\'s National Security Division has prosecuted or is prosecuting more than 30 cases of people attempting to travel abroad to join or provide support to terrorist groups. Of those cases, 18 allegedly involve support to ISIS. \"The terrorist threat is more decentralized, more diffuse, more complicated,\" Homeland Security Secretary Jeh Johnson told reporters Thursday. \"It involves the potential lone wolf actor, it involves the effective use of social media, the Internet.\"\\n',\n",
       " 'text': 'Please judge the following statement as true or false (based on the references above): The FBI has charged a Philadelphia woman, Keonna Thomas, with trying to travel overseas to fight for ISIS. This follows the arrests of two New York women, Noelle Velentzas and Asia Siddiqui, who were accused of planning to build an explosive device for attacks in the United States. Thomas purchased an electronic visa to Turkey and a round-trip ticket to Barcelona, following the advice given in an ISIS manual for recruits. She has been charged with attempting to provide material support to a terrorist organisation and could face 15 years in prison.',\n",
       " 'labels': 0,\n",
       " 'source': 'CNN/DM',\n",
       " 'model': 'gpt-4-0613',\n",
       " 'task_type': 'Summary',\n",
       " 'source_id': '15596'}"
      ]
     },
     "execution_count": 2,
     "metadata": {},
     "output_type": "execute_result"
    }
   ],
   "source": [
    "# prefixをつける\n",
    "def add_prefix(data):\n",
    "    for d in data:\n",
    "        d[\"text\"] = \"Please judge the following statement as true or false (based on the references above): \" + d[\"text\"]\n",
    "    return data\n",
    "\n",
    "\n",
    "dev_data = add_prefix(dev_data)\n",
    "dev_data[0]\n",
    "\n"
   ]
  },
  {
   "cell_type": "code",
   "execution_count": 3,
   "metadata": {},
   "outputs": [],
   "source": [
    "# task_type: QA, Data2txt, Summary\n",
    "task_name = \"Summary\"\n",
    "dev_data = [d for d in dev_data if d[\"task_type\"] == task_name]"
   ]
  },
  {
   "cell_type": "code",
   "execution_count": 4,
   "metadata": {},
   "outputs": [
    {
     "data": {
      "text/plain": [
       "DatasetDict({\n",
       "    dev: Dataset({\n",
       "        features: ['ref', 'text', 'labels', 'source', 'model', 'task_type', 'source_id'],\n",
       "        num_rows: 900\n",
       "    })\n",
       "})"
      ]
     },
     "execution_count": 4,
     "metadata": {},
     "output_type": "execute_result"
    }
   ],
   "source": [
    "from datasets import Dataset, DatasetDict\n",
    "import pandas as pd\n",
    "\n",
    "\n",
    "dev_df = pd.DataFrame(dev_data)\n",
    "dev_ds = Dataset.from_pandas(dev_df)\n",
    "\n",
    "raw_datasets = DatasetDict({\"dev\":dev_ds})\n",
    "raw_datasets"
   ]
  },
  {
   "cell_type": "markdown",
   "metadata": {},
   "source": [
    "### no_rag"
   ]
  },
  {
   "cell_type": "code",
   "execution_count": 5,
   "metadata": {},
   "outputs": [
    {
     "name": "stderr",
     "output_type": "stream",
     "text": [
      "2025-01-23 13:24:49.871431: I tensorflow/core/util/port.cc:113] oneDNN custom operations are on. You may see slightly different numerical results due to floating-point round-off errors from different computation orders. To turn them off, set the environment variable `TF_ENABLE_ONEDNN_OPTS=0`.\n",
      "2025-01-23 13:24:50.268171: E external/local_xla/xla/stream_executor/cuda/cuda_fft.cc:479] Unable to register cuFFT factory: Attempting to register factory for plugin cuFFT when one has already been registered\n",
      "2025-01-23 13:24:50.448942: E external/local_xla/xla/stream_executor/cuda/cuda_dnn.cc:10575] Unable to register cuDNN factory: Attempting to register factory for plugin cuDNN when one has already been registered\n",
      "2025-01-23 13:24:50.449335: E external/local_xla/xla/stream_executor/cuda/cuda_blas.cc:1442] Unable to register cuBLAS factory: Attempting to register factory for plugin cuBLAS when one has already been registered\n",
      "2025-01-23 13:24:50.779741: I tensorflow/core/platform/cpu_feature_guard.cc:210] This TensorFlow binary is optimized to use available CPU instructions in performance-critical operations.\n",
      "To enable the following instructions: AVX2 AVX512F AVX512_VNNI AVX512_BF16 FMA, in other operations, rebuild TensorFlow with the appropriate compiler flags.\n",
      "2025-01-23 13:24:52.953728: W tensorflow/compiler/tf2tensorrt/utils/py_utils.cc:38] TF-TRT Warning: Could not find TensorRT\n"
     ]
    },
    {
     "data": {
      "application/vnd.jupyter.widget-view+json": {
       "model_id": "6d16f1e2bf65455a920f9b9831e92d1b",
       "version_major": 2,
       "version_minor": 0
      },
      "text/plain": [
       "Loading checkpoint shards:   0%|          | 0/2 [00:00<?, ?it/s]"
      ]
     },
     "metadata": {},
     "output_type": "display_data"
    }
   ],
   "source": [
    "from transformers import AutoModel, AutoTokenizer\n",
    "from models import NoRagModel\n",
    "\n",
    "base_model = AutoModel.from_pretrained(\"microsoft/Phi-3.5-mini-instruct\")\n",
    "# モデルとトークナイザーを読み込む\n",
    "name = \"./1216_no_rag\"\n",
    "model = NoRagModel.from_pretrained(base_model,name)\n",
    "tokenizer = AutoTokenizer.from_pretrained(name)\n"
   ]
  },
  {
   "cell_type": "code",
   "execution_count": 6,
   "metadata": {},
   "outputs": [
    {
     "data": {
      "text/plain": [
       "device(type='cuda')"
      ]
     },
     "execution_count": 6,
     "metadata": {},
     "output_type": "execute_result"
    }
   ],
   "source": [
    "import torch\n",
    "\n",
    "# 使う装置\n",
    "device = torch.device(\"cuda\") if torch.cuda.is_available() else torch.device(\"cpu\")\n",
    "model.to(device)\n",
    "device"
   ]
  },
  {
   "cell_type": "code",
   "execution_count": 8,
   "metadata": {},
   "outputs": [
    {
     "data": {
      "application/vnd.jupyter.widget-view+json": {
       "model_id": "aa4d114714b7403c8251141fa07d9d83",
       "version_major": 2,
       "version_minor": 0
      },
      "text/plain": [
       "Map:   0%|          | 0/900 [00:00<?, ? examples/s]"
      ]
     },
     "metadata": {},
     "output_type": "display_data"
    }
   ],
   "source": [
    "from transformers import AutoTokenizer, DataCollatorWithPadding\n",
    "\n",
    "def tokenize_function(examples):\n",
    "    return tokenizer(examples[\"text\"], truncation=True, max_length=512)\n",
    "\n",
    "\n",
    "tokenized_datasets = raw_datasets.map(tokenize_function, batched=True)\n",
    "tokenized_datasets = tokenized_datasets.remove_columns([\"text\"])\n",
    "# tokenized_datasets.set_format(\"torch\")\n",
    "data_collator = DataCollatorWithPadding(tokenizer=tokenizer)"
   ]
  },
  {
   "cell_type": "code",
   "execution_count": 9,
   "metadata": {},
   "outputs": [
    {
     "data": {
      "text/plain": [
       "DatasetDict({\n",
       "    dev: Dataset({\n",
       "        features: ['ref', 'labels', 'source', 'model', 'task_type', 'source_id', 'input_ids', 'attention_mask'],\n",
       "        num_rows: 900\n",
       "    })\n",
       "})"
      ]
     },
     "execution_count": 9,
     "metadata": {},
     "output_type": "execute_result"
    }
   ],
   "source": [
    "tokenized_datasets"
   ]
  },
  {
   "cell_type": "code",
   "execution_count": 10,
   "metadata": {},
   "outputs": [
    {
     "data": {
      "text/plain": [
       "{'id': 0, 'label': 0, 'task': 'Summary'}"
      ]
     },
     "execution_count": 10,
     "metadata": {},
     "output_type": "execute_result"
    }
   ],
   "source": [
    "results = []\n",
    "for i, d in enumerate(tokenized_datasets[\"dev\"]):\n",
    "    results.append({\"id\": i,\"label\":d[\"labels\"],\"task\":d[\"task_type\"]})\n",
    "\n",
    "results[0]"
   ]
  },
  {
   "cell_type": "code",
   "execution_count": 11,
   "metadata": {},
   "outputs": [
    {
     "name": "stderr",
     "output_type": "stream",
     "text": [
      "0it [00:00, ?it/s]\n"
     ]
    },
    {
     "ename": "RuntimeError",
     "evalue": "Expected all tensors to be on the same device, but found at least two devices, cpu and cuda:0! (when checking argument for argument mat2 in method wrapper_CUDA_bmm)",
     "output_type": "error",
     "traceback": [
      "\u001b[0;31m---------------------------------------------------------------------------\u001b[0m",
      "\u001b[0;31mRuntimeError\u001b[0m                              Traceback (most recent call last)",
      "\u001b[1;32m/gs/fs/tga-arase-student/yamada/check_improve.ipynb Cell 12\u001b[0m line \u001b[0;36m1\n\u001b[1;32m      <a href='vscode-notebook-cell://ood.t4.gsic.titech.ac.jp/gs/fs/tga-arase-student/yamada/check_improve.ipynb#X14sdnNjb2RlLXJlbW90ZQ%3D%3D?line=8'>9</a>\u001b[0m attention_mask \u001b[39m=\u001b[39m torch\u001b[39m.\u001b[39mtensor(d[\u001b[39m\"\u001b[39m\u001b[39mattention_mask\u001b[39m\u001b[39m\"\u001b[39m])\u001b[39m.\u001b[39munsqueeze(\u001b[39m0\u001b[39m)\u001b[39m.\u001b[39mto(device)\n\u001b[1;32m     <a href='vscode-notebook-cell://ood.t4.gsic.titech.ac.jp/gs/fs/tga-arase-student/yamada/check_improve.ipynb#X14sdnNjb2RlLXJlbW90ZQ%3D%3D?line=9'>10</a>\u001b[0m \u001b[39mwith\u001b[39;00m torch\u001b[39m.\u001b[39mno_grad():\n\u001b[0;32m---> <a href='vscode-notebook-cell://ood.t4.gsic.titech.ac.jp/gs/fs/tga-arase-student/yamada/check_improve.ipynb#X14sdnNjb2RlLXJlbW90ZQ%3D%3D?line=10'>11</a>\u001b[0m     outputs \u001b[39m=\u001b[39m model(input_ids\u001b[39m=\u001b[39;49minput_ids, attention_mask\u001b[39m=\u001b[39;49mattention_mask)\n\u001b[1;32m     <a href='vscode-notebook-cell://ood.t4.gsic.titech.ac.jp/gs/fs/tga-arase-student/yamada/check_improve.ipynb#X14sdnNjb2RlLXJlbW90ZQ%3D%3D?line=11'>12</a>\u001b[0m     logits \u001b[39m=\u001b[39m outputs[\u001b[39m\"\u001b[39m\u001b[39mlogits\u001b[39m\u001b[39m\"\u001b[39m]\n\u001b[1;32m     <a href='vscode-notebook-cell://ood.t4.gsic.titech.ac.jp/gs/fs/tga-arase-student/yamada/check_improve.ipynb#X14sdnNjb2RlLXJlbW90ZQ%3D%3D?line=12'>13</a>\u001b[0m     predicted_index \u001b[39m=\u001b[39m torch\u001b[39m.\u001b[39margmax(logits, dim\u001b[39m=\u001b[39m\u001b[39m-\u001b[39m\u001b[39m1\u001b[39m)\n",
      "File \u001b[0;32m/gs/fs/tga-arase-student/yamada/nlp/lib64/python3.9/site-packages/torch/nn/modules/module.py:1532\u001b[0m, in \u001b[0;36mModule._wrapped_call_impl\u001b[0;34m(self, *args, **kwargs)\u001b[0m\n\u001b[1;32m   1530\u001b[0m     \u001b[39mreturn\u001b[39;00m \u001b[39mself\u001b[39m\u001b[39m.\u001b[39m_compiled_call_impl(\u001b[39m*\u001b[39margs, \u001b[39m*\u001b[39m\u001b[39m*\u001b[39mkwargs)  \u001b[39m# type: ignore[misc]\u001b[39;00m\n\u001b[1;32m   1531\u001b[0m \u001b[39melse\u001b[39;00m:\n\u001b[0;32m-> 1532\u001b[0m     \u001b[39mreturn\u001b[39;00m \u001b[39mself\u001b[39;49m\u001b[39m.\u001b[39;49m_call_impl(\u001b[39m*\u001b[39;49margs, \u001b[39m*\u001b[39;49m\u001b[39m*\u001b[39;49mkwargs)\n",
      "File \u001b[0;32m/gs/fs/tga-arase-student/yamada/nlp/lib64/python3.9/site-packages/torch/nn/modules/module.py:1541\u001b[0m, in \u001b[0;36mModule._call_impl\u001b[0;34m(self, *args, **kwargs)\u001b[0m\n\u001b[1;32m   1536\u001b[0m \u001b[39m# If we don't have any hooks, we want to skip the rest of the logic in\u001b[39;00m\n\u001b[1;32m   1537\u001b[0m \u001b[39m# this function, and just call forward.\u001b[39;00m\n\u001b[1;32m   1538\u001b[0m \u001b[39mif\u001b[39;00m \u001b[39mnot\u001b[39;00m (\u001b[39mself\u001b[39m\u001b[39m.\u001b[39m_backward_hooks \u001b[39mor\u001b[39;00m \u001b[39mself\u001b[39m\u001b[39m.\u001b[39m_backward_pre_hooks \u001b[39mor\u001b[39;00m \u001b[39mself\u001b[39m\u001b[39m.\u001b[39m_forward_hooks \u001b[39mor\u001b[39;00m \u001b[39mself\u001b[39m\u001b[39m.\u001b[39m_forward_pre_hooks\n\u001b[1;32m   1539\u001b[0m         \u001b[39mor\u001b[39;00m _global_backward_pre_hooks \u001b[39mor\u001b[39;00m _global_backward_hooks\n\u001b[1;32m   1540\u001b[0m         \u001b[39mor\u001b[39;00m _global_forward_hooks \u001b[39mor\u001b[39;00m _global_forward_pre_hooks):\n\u001b[0;32m-> 1541\u001b[0m     \u001b[39mreturn\u001b[39;00m forward_call(\u001b[39m*\u001b[39;49margs, \u001b[39m*\u001b[39;49m\u001b[39m*\u001b[39;49mkwargs)\n\u001b[1;32m   1543\u001b[0m \u001b[39mtry\u001b[39;00m:\n\u001b[1;32m   1544\u001b[0m     result \u001b[39m=\u001b[39m \u001b[39mNone\u001b[39;00m\n",
      "File \u001b[0;32m/gs/fs/tga-arase-student/yamada/models.py:21\u001b[0m, in \u001b[0;36mNoRagModel.forward\u001b[0;34m(self, input_ids, attention_mask, labels)\u001b[0m\n\u001b[1;32m     19\u001b[0m \u001b[39mdef\u001b[39;00m \u001b[39mforward\u001b[39m(\u001b[39mself\u001b[39m, input_ids, attention_mask\u001b[39m=\u001b[39m\u001b[39mNone\u001b[39;00m, labels\u001b[39m=\u001b[39m\u001b[39mNone\u001b[39;00m):\n\u001b[0;32m---> 21\u001b[0m     text_output \u001b[39m=\u001b[39m \u001b[39mself\u001b[39;49m\u001b[39m.\u001b[39;49mbase_model(input_ids\u001b[39m=\u001b[39;49minput_ids, attention_mask\u001b[39m=\u001b[39;49mattention_mask)[\u001b[39m0\u001b[39m][:,\u001b[39m-\u001b[39m\u001b[39m1\u001b[39m,:]\n\u001b[1;32m     22\u001b[0m     \u001b[39m#text_output = text_output.mean(dim=1)\u001b[39;00m\n\u001b[1;32m     23\u001b[0m     \u001b[39m#print(text_output.shape)\u001b[39;00m\n\u001b[1;32m     24\u001b[0m     text_output \u001b[39m=\u001b[39m \u001b[39mself\u001b[39m\u001b[39m.\u001b[39mdropout(text_output)\n",
      "File \u001b[0;32m/gs/fs/tga-arase-student/yamada/nlp/lib64/python3.9/site-packages/torch/nn/modules/module.py:1532\u001b[0m, in \u001b[0;36mModule._wrapped_call_impl\u001b[0;34m(self, *args, **kwargs)\u001b[0m\n\u001b[1;32m   1530\u001b[0m     \u001b[39mreturn\u001b[39;00m \u001b[39mself\u001b[39m\u001b[39m.\u001b[39m_compiled_call_impl(\u001b[39m*\u001b[39margs, \u001b[39m*\u001b[39m\u001b[39m*\u001b[39mkwargs)  \u001b[39m# type: ignore[misc]\u001b[39;00m\n\u001b[1;32m   1531\u001b[0m \u001b[39melse\u001b[39;00m:\n\u001b[0;32m-> 1532\u001b[0m     \u001b[39mreturn\u001b[39;00m \u001b[39mself\u001b[39;49m\u001b[39m.\u001b[39;49m_call_impl(\u001b[39m*\u001b[39;49margs, \u001b[39m*\u001b[39;49m\u001b[39m*\u001b[39;49mkwargs)\n",
      "File \u001b[0;32m/gs/fs/tga-arase-student/yamada/nlp/lib64/python3.9/site-packages/torch/nn/modules/module.py:1541\u001b[0m, in \u001b[0;36mModule._call_impl\u001b[0;34m(self, *args, **kwargs)\u001b[0m\n\u001b[1;32m   1536\u001b[0m \u001b[39m# If we don't have any hooks, we want to skip the rest of the logic in\u001b[39;00m\n\u001b[1;32m   1537\u001b[0m \u001b[39m# this function, and just call forward.\u001b[39;00m\n\u001b[1;32m   1538\u001b[0m \u001b[39mif\u001b[39;00m \u001b[39mnot\u001b[39;00m (\u001b[39mself\u001b[39m\u001b[39m.\u001b[39m_backward_hooks \u001b[39mor\u001b[39;00m \u001b[39mself\u001b[39m\u001b[39m.\u001b[39m_backward_pre_hooks \u001b[39mor\u001b[39;00m \u001b[39mself\u001b[39m\u001b[39m.\u001b[39m_forward_hooks \u001b[39mor\u001b[39;00m \u001b[39mself\u001b[39m\u001b[39m.\u001b[39m_forward_pre_hooks\n\u001b[1;32m   1539\u001b[0m         \u001b[39mor\u001b[39;00m _global_backward_pre_hooks \u001b[39mor\u001b[39;00m _global_backward_hooks\n\u001b[1;32m   1540\u001b[0m         \u001b[39mor\u001b[39;00m _global_forward_hooks \u001b[39mor\u001b[39;00m _global_forward_pre_hooks):\n\u001b[0;32m-> 1541\u001b[0m     \u001b[39mreturn\u001b[39;00m forward_call(\u001b[39m*\u001b[39;49margs, \u001b[39m*\u001b[39;49m\u001b[39m*\u001b[39;49mkwargs)\n\u001b[1;32m   1543\u001b[0m \u001b[39mtry\u001b[39;00m:\n\u001b[1;32m   1544\u001b[0m     result \u001b[39m=\u001b[39m \u001b[39mNone\u001b[39;00m\n",
      "File \u001b[0;32m/gs/fs/tga-arase-student/yamada/nlp/lib64/python3.9/site-packages/transformers/models/phi3/modeling_phi3.py:605\u001b[0m, in \u001b[0;36mPhi3Model.forward\u001b[0;34m(self, input_ids, attention_mask, position_ids, past_key_values, inputs_embeds, use_cache, output_attentions, output_hidden_states, return_dict, cache_position, **flash_attn_kwargs)\u001b[0m\n\u001b[1;32m    602\u001b[0m hidden_states \u001b[39m=\u001b[39m inputs_embeds\n\u001b[1;32m    604\u001b[0m \u001b[39m# create position embeddings to be shared across the decoder layers\u001b[39;00m\n\u001b[0;32m--> 605\u001b[0m position_embeddings \u001b[39m=\u001b[39m \u001b[39mself\u001b[39;49m\u001b[39m.\u001b[39;49mrotary_emb(hidden_states, position_ids)\n\u001b[1;32m    607\u001b[0m \u001b[39m# decoder layers\u001b[39;00m\n\u001b[1;32m    608\u001b[0m all_hidden_states \u001b[39m=\u001b[39m () \u001b[39mif\u001b[39;00m output_hidden_states \u001b[39melse\u001b[39;00m \u001b[39mNone\u001b[39;00m\n",
      "File \u001b[0;32m/gs/fs/tga-arase-student/yamada/nlp/lib64/python3.9/site-packages/torch/nn/modules/module.py:1532\u001b[0m, in \u001b[0;36mModule._wrapped_call_impl\u001b[0;34m(self, *args, **kwargs)\u001b[0m\n\u001b[1;32m   1530\u001b[0m     \u001b[39mreturn\u001b[39;00m \u001b[39mself\u001b[39m\u001b[39m.\u001b[39m_compiled_call_impl(\u001b[39m*\u001b[39margs, \u001b[39m*\u001b[39m\u001b[39m*\u001b[39mkwargs)  \u001b[39m# type: ignore[misc]\u001b[39;00m\n\u001b[1;32m   1531\u001b[0m \u001b[39melse\u001b[39;00m:\n\u001b[0;32m-> 1532\u001b[0m     \u001b[39mreturn\u001b[39;00m \u001b[39mself\u001b[39;49m\u001b[39m.\u001b[39;49m_call_impl(\u001b[39m*\u001b[39;49margs, \u001b[39m*\u001b[39;49m\u001b[39m*\u001b[39;49mkwargs)\n",
      "File \u001b[0;32m/gs/fs/tga-arase-student/yamada/nlp/lib64/python3.9/site-packages/torch/nn/modules/module.py:1541\u001b[0m, in \u001b[0;36mModule._call_impl\u001b[0;34m(self, *args, **kwargs)\u001b[0m\n\u001b[1;32m   1536\u001b[0m \u001b[39m# If we don't have any hooks, we want to skip the rest of the logic in\u001b[39;00m\n\u001b[1;32m   1537\u001b[0m \u001b[39m# this function, and just call forward.\u001b[39;00m\n\u001b[1;32m   1538\u001b[0m \u001b[39mif\u001b[39;00m \u001b[39mnot\u001b[39;00m (\u001b[39mself\u001b[39m\u001b[39m.\u001b[39m_backward_hooks \u001b[39mor\u001b[39;00m \u001b[39mself\u001b[39m\u001b[39m.\u001b[39m_backward_pre_hooks \u001b[39mor\u001b[39;00m \u001b[39mself\u001b[39m\u001b[39m.\u001b[39m_forward_hooks \u001b[39mor\u001b[39;00m \u001b[39mself\u001b[39m\u001b[39m.\u001b[39m_forward_pre_hooks\n\u001b[1;32m   1539\u001b[0m         \u001b[39mor\u001b[39;00m _global_backward_pre_hooks \u001b[39mor\u001b[39;00m _global_backward_hooks\n\u001b[1;32m   1540\u001b[0m         \u001b[39mor\u001b[39;00m _global_forward_hooks \u001b[39mor\u001b[39;00m _global_forward_pre_hooks):\n\u001b[0;32m-> 1541\u001b[0m     \u001b[39mreturn\u001b[39;00m forward_call(\u001b[39m*\u001b[39;49margs, \u001b[39m*\u001b[39;49m\u001b[39m*\u001b[39;49mkwargs)\n\u001b[1;32m   1543\u001b[0m \u001b[39mtry\u001b[39;00m:\n\u001b[1;32m   1544\u001b[0m     result \u001b[39m=\u001b[39m \u001b[39mNone\u001b[39;00m\n",
      "File \u001b[0;32m/gs/fs/tga-arase-student/yamada/nlp/lib64/python3.9/site-packages/torch/utils/_contextlib.py:115\u001b[0m, in \u001b[0;36mcontext_decorator.<locals>.decorate_context\u001b[0;34m(*args, **kwargs)\u001b[0m\n\u001b[1;32m    112\u001b[0m \u001b[39m@functools\u001b[39m\u001b[39m.\u001b[39mwraps(func)\n\u001b[1;32m    113\u001b[0m \u001b[39mdef\u001b[39;00m \u001b[39mdecorate_context\u001b[39m(\u001b[39m*\u001b[39margs, \u001b[39m*\u001b[39m\u001b[39m*\u001b[39mkwargs):\n\u001b[1;32m    114\u001b[0m     \u001b[39mwith\u001b[39;00m ctx_factory():\n\u001b[0;32m--> 115\u001b[0m         \u001b[39mreturn\u001b[39;00m func(\u001b[39m*\u001b[39;49margs, \u001b[39m*\u001b[39;49m\u001b[39m*\u001b[39;49mkwargs)\n",
      "File \u001b[0;32m/gs/fs/tga-arase-student/yamada/nlp/lib64/python3.9/site-packages/transformers/models/phi3/modeling_phi3.py:368\u001b[0m, in \u001b[0;36mPhi3RotaryEmbedding.forward\u001b[0;34m(self, x, position_ids)\u001b[0m\n\u001b[1;32m    366\u001b[0m device_type \u001b[39m=\u001b[39m device_type \u001b[39mif\u001b[39;00m \u001b[39misinstance\u001b[39m(device_type, \u001b[39mstr\u001b[39m) \u001b[39mand\u001b[39;00m device_type \u001b[39m!=\u001b[39m \u001b[39m\"\u001b[39m\u001b[39mmps\u001b[39m\u001b[39m\"\u001b[39m \u001b[39melse\u001b[39;00m \u001b[39m\"\u001b[39m\u001b[39mcpu\u001b[39m\u001b[39m\"\u001b[39m\n\u001b[1;32m    367\u001b[0m \u001b[39mwith\u001b[39;00m torch\u001b[39m.\u001b[39mautocast(device_type\u001b[39m=\u001b[39mdevice_type, enabled\u001b[39m=\u001b[39m\u001b[39mFalse\u001b[39;00m):\n\u001b[0;32m--> 368\u001b[0m     freqs \u001b[39m=\u001b[39m (inv_freq_expanded\u001b[39m.\u001b[39;49mfloat() \u001b[39m@\u001b[39;49m position_ids_expanded\u001b[39m.\u001b[39;49mfloat())\u001b[39m.\u001b[39mtranspose(\u001b[39m1\u001b[39m, \u001b[39m2\u001b[39m)\n\u001b[1;32m    369\u001b[0m     emb \u001b[39m=\u001b[39m torch\u001b[39m.\u001b[39mcat((freqs, freqs), dim\u001b[39m=\u001b[39m\u001b[39m-\u001b[39m\u001b[39m1\u001b[39m)\n\u001b[1;32m    370\u001b[0m     cos \u001b[39m=\u001b[39m emb\u001b[39m.\u001b[39mcos()\n",
      "\u001b[0;31mRuntimeError\u001b[0m: Expected all tensors to be on the same device, but found at least two devices, cpu and cuda:0! (when checking argument for argument mat2 in method wrapper_CUDA_bmm)"
     ]
    }
   ],
   "source": [
    "# devセットで推論して、logitと結果をファイルに保存\n",
    "import torch\n",
    "from tqdm import tqdm\n",
    "model.eval()\n",
    "\n",
    "\n",
    "for i,d in tqdm(enumerate(tokenized_datasets[\"dev\"])):\n",
    "    input_ids =torch.tensor(d[\"input_ids\"]).unsqueeze(0).to(device)\n",
    "    attention_mask = torch.tensor(d[\"attention_mask\"]).unsqueeze(0).to(device)\n",
    "    with torch.no_grad():\n",
    "        outputs = model(input_ids=input_ids, attention_mask=attention_mask)\n",
    "        logits = outputs[\"logits\"]\n",
    "        predicted_index = torch.argmax(logits, dim=-1)\n",
    "    results[i][\"no_rag_logits\"] = logits.cpu().numpy()\n",
    "    results[i][\"no_rag_label\"] = predicted_index.cpu().numpy()\n",
    "        \n",
    "    \n"
   ]
  },
  {
   "cell_type": "code",
   "execution_count": 10,
   "metadata": {},
   "outputs": [
    {
     "name": "stdout",
     "output_type": "stream",
     "text": [
      "Accuracy: 0.7655555555555555\n",
      "F1-score: 0.6520065970313359\n"
     ]
    }
   ],
   "source": [
    "from sklearn.metrics import accuracy_score, f1_score\n",
    "\n",
    "# サンプルデータ\n",
    "data = results\n",
    "\n",
    "# 正解ラベルと予測ラベルをリストに抽出\n",
    "true_labels = [item['label'] for item in data]\n",
    "predicted_labels = [item['no_rag_label'][0] for item in data]\n",
    "\n",
    "# accuracy と F1-score の計算\n",
    "accuracy = accuracy_score(true_labels, predicted_labels)\n",
    "f1 = f1_score(true_labels, predicted_labels, average='binary')  # binary タスク用\n",
    "\n",
    "print(f\"Accuracy: {accuracy}\")\n",
    "print(f\"F1-score: {f1}\")\n"
   ]
  },
  {
   "cell_type": "markdown",
   "metadata": {
    "jp-MarkdownHeadingCollapsed": true
   },
   "source": [
    "### rag"
   ]
  },
  {
   "cell_type": "code",
   "execution_count": 11,
   "metadata": {},
   "outputs": [
    {
     "data": {
      "application/vnd.jupyter.widget-view+json": {
       "model_id": "3eb6327ca5464d08a86c934582384281",
       "version_major": 2,
       "version_minor": 0
      },
      "text/plain": [
       "Loading checkpoint shards:   0%|          | 0/2 [00:00<?, ?it/s]"
      ]
     },
     "metadata": {},
     "output_type": "display_data"
    },
    {
     "data": {
      "application/vnd.jupyter.widget-view+json": {
       "model_id": "b70afe8d1e124e1da287ba460fcf1af6",
       "version_major": 2,
       "version_minor": 0
      },
      "text/plain": [
       "Map:   0%|          | 0/2700 [00:00<?, ? examples/s]"
      ]
     },
     "metadata": {},
     "output_type": "display_data"
    }
   ],
   "source": [
    "from transformers import AutoModel, AutoTokenizer, DataCollatorWithPadding\n",
    "import torch\n",
    "from models import RagModel\n",
    "\n",
    "base_model = AutoModel.from_pretrained(\"microsoft/Phi-3.5-mini-instruct\")\n",
    "# モデルとトークナイザーを読み込む\n",
    "name = \"./1216_rag\"\n",
    "model = RagModel.from_pretrained(base_model,name)\n",
    "tokenizer = AutoTokenizer.from_pretrained(name)\n",
    "\n",
    "# 使う装置\n",
    "device = torch.device(\"cuda\") if torch.cuda.is_available() else torch.device(\"cpu\")\n",
    "model.to(device)\n",
    "\n",
    "\n",
    "def tokenize_function(examples):\n",
    "    ref = tokenizer(examples[\"ref\"],truncation=True, max_length=512)\n",
    "    text = tokenizer(examples[\"text\"],truncation=True, max_length=512)\n",
    "    return {\n",
    "        \"ref_input_ids\":ref[\"input_ids\"],\n",
    "        \"ref_attention_mask\":ref[\"attention_mask\"],\n",
    "        \"text_input_ids\":text[\"input_ids\"],\n",
    "        \"text_attention_mask\":text[\"attention_mask\"],\n",
    "    }\n",
    "\n",
    "tokenized_datasets = raw_datasets.map(tokenize_function, batched=True)\n",
    "tokenized_datasets = tokenized_datasets.remove_columns([\"text\",\"ref\"])\n",
    "#tokenized_datasets.set_format(\"torch\")\n",
    "data_collator = DataCollatorWithPadding(tokenizer=tokenizer)"
   ]
  },
  {
   "cell_type": "code",
   "execution_count": 12,
   "metadata": {},
   "outputs": [
    {
     "name": "stderr",
     "output_type": "stream",
     "text": [
      "2700it [12:19,  3.65it/s]\n"
     ]
    }
   ],
   "source": [
    "import torch\n",
    "from tqdm import tqdm\n",
    "model.eval()\n",
    "\n",
    "\n",
    "for i,d in tqdm(enumerate(tokenized_datasets[\"dev\"])):\n",
    "    ref_input_ids = torch.tensor(d[\"ref_input_ids\"]).unsqueeze(0).to(device)\n",
    "    text_input_ids = torch.tensor(d[\"text_input_ids\"]).unsqueeze(0).to(device)\n",
    "    input_ids = [ref_input_ids, text_input_ids]\n",
    "    ref_attention_mask = torch.tensor(d[\"ref_attention_mask\"]).unsqueeze(0).to(device)\n",
    "    text_attention_mask = torch.tensor(d[\"text_attention_mask\"]).unsqueeze(0).to(device)\n",
    "    attention_mask = [ref_attention_mask, text_attention_mask]\n",
    "    with torch.no_grad():\n",
    "        outputs = model(input_ids=input_ids, attention_mask=attention_mask)\n",
    "        logits = outputs[\"logits\"]\n",
    "        predicted_index = torch.argmax(logits, dim=-1)\n",
    "    results[i][\"rag_logits\"] = logits.cpu().numpy()\n",
    "    results[i][\"rag_label\"] = predicted_index.cpu().numpy()\n",
    "        "
   ]
  },
  {
   "cell_type": "code",
   "execution_count": 13,
   "metadata": {},
   "outputs": [
    {
     "name": "stdout",
     "output_type": "stream",
     "text": [
      "Accuracy: 0.8096296296296296\n",
      "F1-score: 0.7414486921529175\n"
     ]
    }
   ],
   "source": [
    "from sklearn.metrics import accuracy_score, f1_score\n",
    "\n",
    "# サンプルデータ\n",
    "data = results\n",
    "\n",
    "# 正解ラベルと予測ラベルをリストに抽出\n",
    "true_labels = [item['label'] for item in data]\n",
    "predicted_labels = [item['rag_label'][0] for item in data]\n",
    "\n",
    "# accuracy と F1-score の計算\n",
    "accuracy = accuracy_score(true_labels, predicted_labels)\n",
    "f1 = f1_score(true_labels, predicted_labels, average='binary')  # binary タスク用\n",
    "\n",
    "print(f\"Accuracy: {accuracy}\")\n",
    "print(f\"F1-score: {f1}\")"
   ]
  },
  {
   "cell_type": "markdown",
   "metadata": {},
   "source": [
    "### triplet"
   ]
  },
  {
   "cell_type": "code",
   "execution_count": 46,
   "metadata": {},
   "outputs": [],
   "source": [
    "# データ数を他2つと合わせる\n",
    "def create_trip(data, id_list):\n",
    "    trip = []\n",
    "    for id in id_list:\n",
    "        num = 0\n",
    "        no_hal = []\n",
    "        has_hal = []\n",
    "        for d in data:\n",
    "            if num == 6:\n",
    "                num = 0\n",
    "                if no_hal == [] or has_hal == []:\n",
    "                    break\n",
    "                '''\n",
    "                for no in no_hal:\n",
    "                    for has in has_hal:\n",
    "                        trip.append({\"anchor\":ref,\"positive\": no, \"negative\": has, \"labels\":[0,1]})\n",
    "                '''\n",
    "                if len(no_hal)==1 or len(no_hal)==5:\n",
    "                    trip.append({\"anchor\":ref,\"positive\": no_hal[0], \"negative\": has_hal[0], \"labels\":[0,1]})\n",
    "                elif len(no_hal)==2 or len(no_hal)==4:\n",
    "                    trip.append({\"anchor\":ref,\"positive\": no_hal[0], \"negative\": has_hal[0], \"labels\":[0,1]})\n",
    "                    trip.append({\"anchor\":ref,\"positive\": no_hal[1], \"negative\": has_hal[1], \"labels\":[0,1]})\n",
    "                elif len(no_hal)==3:\n",
    "                    trip.append({\"anchor\":ref,\"positive\": no_hal[0], \"negative\": has_hal[0], \"labels\":[0,1]})\n",
    "                    trip.append({\"anchor\":ref,\"positive\": no_hal[1], \"negative\": has_hal[1], \"labels\":[0,1]})\n",
    "                    trip.append({\"anchor\":ref,\"positive\": no_hal[2], \"negative\": has_hal[2], \"labels\":[0,1]})\n",
    "                no_hal = []\n",
    "                has_hal = []\n",
    "                break\n",
    "            elif d[\"source_id\"] == id:\n",
    "                num +=1\n",
    "                ref = d[\"ref\"]\n",
    "                if d[\"labels\"] == 0:\n",
    "                    no_hal.append(d[\"text\"])\n",
    "                else:\n",
    "                    has_hal.append(d[\"text\"])\n",
    "        if num == 6:\n",
    "            if len(no_hal)==1 or len(no_hal)==5:\n",
    "                trip.append({\"anchor\":ref,\"positive\": no_hal[0], \"negative\": has_hal[0], \"labels\":[0,1]})\n",
    "            elif len(no_hal)==2 or len(no_hal)==4:\n",
    "                trip.append({\"anchor\":ref,\"positive\": no_hal[0], \"negative\": has_hal[0], \"labels\":[0,1]})\n",
    "                trip.append({\"anchor\":ref,\"positive\": no_hal[1], \"negative\": has_hal[1], \"labels\":[0,1]})\n",
    "            elif len(no_hal)==3:\n",
    "                trip.append({\"anchor\":ref,\"positive\": no_hal[0], \"negative\": has_hal[0], \"labels\":[0,1]})\n",
    "                trip.append({\"anchor\":ref,\"positive\": no_hal[1], \"negative\": has_hal[1], \"labels\":[0,1]})\n",
    "                trip.append({\"anchor\":ref,\"positive\": no_hal[2], \"negative\": has_hal[2], \"labels\":[0,1]})\n",
    "    return trip\n",
    "\n",
    "def create_trip_ver2(data, id_list):\n",
    "    trip = []\n",
    "    for d in data:\n",
    "        if d[\"labels\"] == 0: # halluってない\n",
    "            trip.append({\"anchor\":d[\"ref\"],\"positive\": d[\"text\"], \"negative\": \"hallucination\", \"labels\":[0,0]})\n",
    "        else:\n",
    "            trip.append({\"anchor\":d[\"ref\"],\"positive\": \"not hallucination\", \"negative\": d[\"text\"], \"labels\":[1,1]})\n",
    "    return trip\n",
    "        "
   ]
  },
  {
   "cell_type": "code",
   "execution_count": 47,
   "metadata": {},
   "outputs": [
    {
     "data": {
      "text/plain": [
       "DatasetDict({\n",
       "    dev: Dataset({\n",
       "        features: ['anchor', 'positive', 'negative', 'labels'],\n",
       "        num_rows: 2700\n",
       "    })\n",
       "})"
      ]
     },
     "execution_count": 47,
     "metadata": {},
     "output_type": "execute_result"
    }
   ],
   "source": [
    "from datasets import Dataset, DatasetDict\n",
    "import pandas as pd\n",
    "\n",
    "dev_id = [d[\"source_id\"] for d in dev_data]\n",
    "dev_id = list(set(dev_id))\n",
    "dev_trip = create_trip_ver2(dev_data, dev_id)\n",
    "\n",
    "\n",
    "dev_df = pd.DataFrame(dev_trip)\n",
    "dev_ds = Dataset.from_pandas(dev_df)\n",
    "\n",
    "raw_datasets = DatasetDict({\"dev\":dev_ds})\n",
    "raw_datasets"
   ]
  },
  {
   "cell_type": "code",
   "execution_count": 48,
   "metadata": {},
   "outputs": [],
   "source": [
    "import torch.nn.functional as F\n",
    "import torch\n",
    "import torch.nn as nn\n",
    "\n",
    "def triplet_loss(anchor_output, positive_output, negative_output, positive_logits, negative_logits):\n",
    "    # ラベル予測の損失計算\n",
    "    positive_targets = torch.zeros(positive_output.size(0), dtype=torch.long).to(device)  # ラベル1 (positive)\n",
    "    negative_targets = torch.ones(negative_output.size(0), dtype=torch.long).to(device)\n",
    "    positive_loss = nn.CrossEntropyLoss()(positive_logits, positive_targets)\n",
    "    negative_loss = nn.CrossEntropyLoss()(negative_logits, negative_targets)\n",
    "\n",
    "    # ラベル予測の損失を平均\n",
    "    classification_loss = (positive_loss + negative_loss) / 2.0\n",
    "\n",
    "    # トリプレット損失の計算\n",
    "    #triplet_loss = nn.TripletMarginLoss(margin=1, p=2)(anchor_output, positive_output, negative_output)\n",
    "    triplet_loss_fn = (nn.TripletMarginWithDistanceLoss(margin=1.0,distance_function=lambda x, y: 1.0 - F.cosine_similarity(x, y)))\n",
    "    triplet_loss = triplet_loss_fn(anchor_output, positive_output, negative_output)\n",
    "    # 最終損失\n",
    "    total_loss = classification_loss + triplet_loss \n",
    "\n",
    "    return classification_loss, triplet_loss"
   ]
  },
  {
   "cell_type": "code",
   "execution_count": 49,
   "metadata": {},
   "outputs": [
    {
     "data": {
      "application/vnd.jupyter.widget-view+json": {
       "model_id": "dc882d1ca0c1429fab6194f96fb24484",
       "version_major": 2,
       "version_minor": 0
      },
      "text/plain": [
       "Loading checkpoint shards:   0%|          | 0/2 [00:00<?, ?it/s]"
      ]
     },
     "metadata": {},
     "output_type": "display_data"
    },
    {
     "data": {
      "application/vnd.jupyter.widget-view+json": {
       "model_id": "5d8a64db48c540f8b9f62a6f86a129bc",
       "version_major": 2,
       "version_minor": 0
      },
      "text/plain": [
       "Map:   0%|          | 0/2700 [00:00<?, ? examples/s]"
      ]
     },
     "metadata": {},
     "output_type": "display_data"
    }
   ],
   "source": [
    "from transformers import AutoModel, AutoTokenizer, DataCollatorWithPadding\n",
    "import torch\n",
    "from models import TripletModel\n",
    "\n",
    "\n",
    "base_model = AutoModel.from_pretrained(\"microsoft/Phi-3.5-mini-instruct\")\n",
    "# モデルとトークナイザーを読み込む\n",
    "name = \"./1228_triplet\"\n",
    "model = TripletModel.from_pretrained(base_model, triplet_loss, name)\n",
    "tokenizer = AutoTokenizer.from_pretrained(name)\n",
    "\n",
    "# 使う装置\n",
    "device = torch.device(\"cuda\") if torch.cuda.is_available() else torch.device(\"cpu\")\n",
    "model.to(device)\n",
    "\n",
    "\n",
    "def tokenize_function(examples):\n",
    "    anchor = tokenizer(examples[\"anchor\"], truncation=True,max_length=512)\n",
    "    positive = tokenizer(examples[\"positive\"], truncation=True,max_length=512)\n",
    "    negative = tokenizer(examples[\"negative\"], truncation=True,max_length=512)\n",
    "\n",
    "    return {\n",
    "        \"anchor_input_ids\": anchor[\"input_ids\"],\n",
    "        \"anchor_attention_mask\": anchor[\"attention_mask\"],\n",
    "        \"positive_input_ids\": positive[\"input_ids\"],\n",
    "        \"positive_attention_mask\": positive[\"attention_mask\"],\n",
    "        \"negative_input_ids\": negative[\"input_ids\"],\n",
    "        \"negative_attention_mask\": negative[\"attention_mask\"],\n",
    "    }\n",
    "\n",
    "\n",
    "tokenized_datasets = raw_datasets.map(tokenize_function, batched=True)\n",
    "tokenized_datasets = tokenized_datasets.remove_columns([\"anchor\", \"positive\", \"negative\"])\n",
    "#tokenized_datasets.set_format(\"torch\")\n",
    "data_collator = DataCollatorWithPadding(tokenizer=tokenizer)"
   ]
  },
  {
   "cell_type": "code",
   "execution_count": 50,
   "metadata": {},
   "outputs": [
    {
     "name": "stderr",
     "output_type": "stream",
     "text": [
      "2700it [15:29,  2.90it/s]\n"
     ]
    }
   ],
   "source": [
    "import torch\n",
    "from tqdm import tqdm\n",
    "model.eval()\n",
    "\n",
    "\n",
    "for i,d in tqdm(enumerate(tokenized_datasets[\"dev\"])):\n",
    "    \n",
    "    flag = False # hallってるのはTrue\n",
    "    if d[\"labels\"][0] ==1:\n",
    "        flag = True\n",
    "    \n",
    "    anchor_input_ids = torch.tensor(d[\"anchor_input_ids\"], dtype=torch.long).unsqueeze(0).to(device)\n",
    "    positive_input_ids = torch.tensor(d[\"positive_input_ids\"], dtype=torch.long).unsqueeze(0).to(device)\n",
    "    negative_input_ids = torch.tensor(d[\"negative_input_ids\"], dtype=torch.long).unsqueeze(0).to(device)\n",
    "    input_ids = [anchor_input_ids, positive_input_ids, negative_input_ids]\n",
    "    anchor_attention_mask = torch.tensor(d[\"anchor_attention_mask\"], dtype=torch.long).unsqueeze(0).to(device)\n",
    "    positive_attention_mask = torch.tensor(d[\"positive_attention_mask\"], dtype=torch.long).unsqueeze(0).to(device)\n",
    "    negative_attention_mask = torch.tensor(d[\"negative_attention_mask\"], dtype=torch.long).unsqueeze(0).to(device)\n",
    "    attention_mask = [anchor_attention_mask, positive_attention_mask, negative_attention_mask]\n",
    "    \n",
    "    with torch.no_grad():\n",
    "        outputs = model(input_ids=input_ids, attention_mask=attention_mask)\n",
    "        #print(d[\"labels\"])\n",
    "        if flag:\n",
    "            logits = outputs.logits[1]\n",
    "        else:\n",
    "            logits = outputs.logits[0]\n",
    "        predicted_index = torch.argmax(logits, dim=-1)\n",
    "    results[i][\"triplet_logits\"] = logits.cpu().numpy()\n",
    "    results[i][\"triplet_label\"] = predicted_index.cpu().numpy()\n",
    "    \n",
    "    \n",
    "        "
   ]
  },
  {
   "cell_type": "code",
   "execution_count": 51,
   "metadata": {},
   "outputs": [
    {
     "name": "stdout",
     "output_type": "stream",
     "text": [
      "Accuracy: 0.7077777777777777\n",
      "F1-score: 0.6265972550875533\n"
     ]
    }
   ],
   "source": [
    "from sklearn.metrics import accuracy_score, f1_score\n",
    "\n",
    "# サンプルデータ\n",
    "data = results\n",
    "\n",
    "# 正解ラベルと予測ラベルをリストに抽出\n",
    "true_labels = [item['label'] for item in data]\n",
    "predicted_labels = [item['triplet_label'][0] for item in data]\n",
    "\n",
    "# accuracy と F1-score の計算\n",
    "accuracy = accuracy_score(true_labels, predicted_labels)\n",
    "f1 = f1_score(true_labels, predicted_labels, average='binary')  # binary タスク用\n",
    "\n",
    "print(f\"Accuracy: {accuracy}\")\n",
    "print(f\"F1-score: {f1}\")"
   ]
  },
  {
   "cell_type": "markdown",
   "metadata": {},
   "source": [
    "### 検証"
   ]
  },
  {
   "cell_type": "code",
   "execution_count": 38,
   "metadata": {},
   "outputs": [
    {
     "data": {
      "text/plain": [
       "{'id': 2699,\n",
       " 'label': 0,\n",
       " 'task': 'QA',\n",
       " 'no_rag_logits': [[5.56593656539917, -5.5176544189453125]],\n",
       " 'no_rag_label': [0],\n",
       " 'rag_logits': [[2.7037570476531982, -1.0352840423583984]],\n",
       " 'rag_label': [0],\n",
       " 'triplet_logits': [[1.4126927852630615, -0.585303544998169]],\n",
       " 'triplet_label': [0]}"
      ]
     },
     "execution_count": 38,
     "metadata": {},
     "output_type": "execute_result"
    }
   ],
   "source": [
    "results[-1]"
   ]
  },
  {
   "cell_type": "code",
   "execution_count": 23,
   "metadata": {},
   "outputs": [],
   "source": [
    "# まず保存\n",
    "import numpy as np\n",
    "import json\n",
    "for result in results:\n",
    "    if isinstance(result[\"no_rag_logits\"], np.ndarray):\n",
    "        result[\"no_rag_logits\"] = result[\"no_rag_logits\"].tolist()\n",
    "    if isinstance(result[\"rag_logits\"], np.ndarray):\n",
    "        result[\"rag_logits\"] = result[\"rag_logits\"].tolist()\n",
    "    if isinstance(result[\"triplet_logits\"], np.ndarray):\n",
    "        result[\"triplet_logits\"] = result[\"triplet_logits\"].tolist()\n",
    "    if isinstance(result[\"no_rag_label\"], np.ndarray):\n",
    "        result[\"no_rag_label\"] = result[\"no_rag_label\"].tolist()\n",
    "    if isinstance(result[\"rag_label\"], np.ndarray):\n",
    "        result[\"rag_label\"] = result[\"rag_label\"].tolist()\n",
    "    if isinstance(result[\"triplet_label\"], np.ndarray):\n",
    "        result[\"triplet_label\"] = result[\"triplet_label\"].tolist()\n",
    "\n",
    "\n",
    "\n",
    "with open(\"check_improve.json\", \"w\") as f:\n",
    "    json.dump(results, f)"
   ]
  },
  {
   "cell_type": "markdown",
   "metadata": {},
   "source": [
    "## ここからでok"
   ]
  },
  {
   "cell_type": "code",
   "execution_count": 5,
   "metadata": {},
   "outputs": [],
   "source": [
    "import json\n",
    "\n",
    "with open('check_improve.json',\"r\") as f:\n",
    "    data = json.load(f)\n",
    "    \n",
    "results = data\n",
    "    "
   ]
  },
  {
   "cell_type": "code",
   "execution_count": 6,
   "metadata": {},
   "outputs": [
    {
     "name": "stdout",
     "output_type": "stream",
     "text": [
      "972 181 502 169 71 80 212 513\n"
     ]
    }
   ],
   "source": [
    "# no_rag→tripletでhallを検出できるようになった例\n",
    "num=0\n",
    "id_000 = [] # どっちでもhalじゃないと言えた\n",
    "id_001 = [] # どっちでも検出できなかった\n",
    "id_010 = [] # tripletの時に過検出\n",
    "id_011 = [] # tripletで検出できるようになった\n",
    "id_100 = [] # tripletでnoと言えるようになった\n",
    "id_101 = [] # tripletで検出できなくなった\n",
    "id_110 = [] # どっちでも過検出\n",
    "id_111 = [] # どっちでも検出できた\n",
    "for result in results:\n",
    "    if result[\"no_rag_label\"][0]==0 and result[\"triplet_label\"][0]==0 and result[\"label\"]==0:\n",
    "        id_000.append(result[\"id\"])\n",
    "    elif result[\"no_rag_label\"][0]==0 and result[\"triplet_label\"][0]==0 and result[\"label\"]==1:\n",
    "        id_001.append(result[\"id\"])\n",
    "    elif result[\"no_rag_label\"][0]==0 and result[\"triplet_label\"][0]==1 and result[\"label\"]==0:\n",
    "        id_010.append(result[\"id\"])\n",
    "    elif result[\"no_rag_label\"][0]==0 and result[\"triplet_label\"][0]==1 and result[\"label\"]==1:\n",
    "        id_011.append(result[\"id\"])\n",
    "    elif result[\"no_rag_label\"][0]==1 and result[\"triplet_label\"][0]==0 and result[\"label\"]==0:\n",
    "        id_100.append(result[\"id\"])\n",
    "    elif result[\"no_rag_label\"][0]==1 and result[\"triplet_label\"][0]==0 and result[\"label\"]==1:\n",
    "        id_101.append(result[\"id\"])\n",
    "    elif result[\"no_rag_label\"][0]==1 and result[\"triplet_label\"][0]==1 and result[\"label\"]==0:\n",
    "        id_110.append(result[\"id\"])\n",
    "    elif result[\"no_rag_label\"][0]==1 and result[\"triplet_label\"][0]==1 and result[\"label\"]==1:\n",
    "        id_111.append(result[\"id\"])\n",
    "    \n",
    "    \n",
    "# 000:972, 001:181, 010:502, 011:169, 100:71, 101:80, 110:212, 111:513\n",
    "print(len(id_000),len(id_001),len(id_010),len(id_011),len(id_100),len(id_101),len(id_110),len(id_111))"
   ]
  },
  {
   "cell_type": "markdown",
   "metadata": {},
   "source": [
    "### 長さ"
   ]
  },
  {
   "cell_type": "code",
   "execution_count": 23,
   "metadata": {},
   "outputs": [
    {
     "name": "stdout",
     "output_type": "stream",
     "text": [
      "{'llama-2-13b-chat': 925.9, 'mistral-7B-instruct': 738.5, 'llama-2-7b-chat': 1027.0, 'llama-2-70b-chat': 796.7, 'gpt-3.5-turbo-0613': 613.8, 'gpt-4-0613': 294.0}\n",
      "{'gpt-4-0613': 810.2, 'mistral-7B-instruct': 879.8, 'llama-2-7b-chat': 885.4, 'llama-2-13b-chat': 1128.9, 'llama-2-70b-chat': 986.3, 'gpt-3.5-turbo-0613': 1331.9}\n",
      "{'llama-2-13b-chat': 613.4, 'llama-2-70b-chat': 719.3, 'mistral-7B-instruct': 683.8, 'gpt-3.5-turbo-0613': 1209.5, 'llama-2-7b-chat': 646.0, 'gpt-4-0613': 861.0}\n"
     ]
    }
   ],
   "source": [
    "from collections import defaultdict\n",
    "import numpy as np\n",
    "\n",
    "hal_model_len_qa = defaultdict(lambda:[])\n",
    "hal_model_len_d2t = defaultdict(lambda:[])\n",
    "hal_model_len_sum = defaultdict(lambda:[])\n",
    "\n",
    "for d in test_data_span:\n",
    "    if d[\"hallucination_id\"] == []:\n",
    "        continue\n",
    "        \n",
    "    if d[\"task_type\"] == \"QA\":\n",
    "        hal_model_len_qa[d[\"model\"]].append(len(d[\"text\"]))\n",
    "    elif d[\"task_type\"] == \"Data2txt\":\n",
    "        hal_model_len_d2t[d[\"model\"]].append(len(d[\"text\"]))\n",
    "    else:\n",
    "        hal_model_len_sum[d[\"model\"]].append(len(d[\"text\"]))\n",
    "        \n",
    "hal_model_len_qa = dict(hal_model_len_qa)\n",
    "hal_model_len_d2t = dict(hal_model_len_d2t)\n",
    "hal_model_len_sum = dict(hal_model_len_sum)\n",
    "\n",
    "hal_model_len_qa = {k: round(np.mean(v), 1) for k, v in hal_model_len_qa.items()}\n",
    "hal_model_len_d2t = {k: round(np.mean(v), 1) for k, v in hal_model_len_d2t.items()}\n",
    "hal_model_len_sum = {k: round(np.mean(v), 1) for k, v in hal_model_len_sum.items()}\n",
    "\n",
    "\n",
    "print(hal_model_len_qa)\n",
    "print(hal_model_len_d2t)\n",
    "print(hal_model_len_sum)"
   ]
  },
  {
   "cell_type": "code",
   "execution_count": 26,
   "metadata": {},
   "outputs": [
    {
     "name": "stdout",
     "output_type": "stream",
     "text": [
      "{'llama-2-70b-chat': 486.0, 'mistral-7B-instruct': 739.9, 'gpt-3.5-turbo-0613': 229.0, 'llama-2-7b-chat': 450.0, 'gpt-4-0613': 294.0, 'llama-2-13b-chat': 672.0}\n",
      "{'gpt-4-0613': 811.2, 'gpt-3.5-turbo-0613': 1331.9, 'llama-2-7b-chat': 722.8, 'llama-2-70b-chat': 794.2, 'mistral-7B-instruct': 927.7, 'llama-2-13b-chat': 1057.3}\n",
      "{'llama-2-70b-chat': 654.2, 'llama-2-13b-chat': 514.8, 'gpt-3.5-turbo-0613': 1209.5, 'llama-2-7b-chat': 672.8, 'gpt-4-0613': 861.0, 'mistral-7B-instruct': 646.5}\n"
     ]
    }
   ],
   "source": [
    "from collections import defaultdict\n",
    "import numpy as np\n",
    "\n",
    "hal_model_len_qa_imp = defaultdict(lambda:[])\n",
    "hal_model_len_d2t_imp = defaultdict(lambda:[])\n",
    "hal_model_len_sum_imp = defaultdict(lambda:[])\n",
    "\n",
    "for i in id_001 + id_101:\n",
    "    d = test_data_span[i]\n",
    "    if d[\"hallucination_id\"] == []:\n",
    "        continue\n",
    "        \n",
    "    if d[\"task_type\"] == \"QA\":\n",
    "        hal_model_len_qa_imp[d[\"model\"]].append(len(d[\"text\"]))\n",
    "    elif d[\"task_type\"] == \"Data2txt\":\n",
    "        hal_model_len_d2t_imp[d[\"model\"]].append(len(d[\"text\"]))\n",
    "    else:\n",
    "        hal_model_len_sum_imp[d[\"model\"]].append(len(d[\"text\"]))\n",
    "        \n",
    "hal_model_len_qa_imp = dict(hal_model_len_qa_imp)\n",
    "hal_model_len_d2t_imp = dict(hal_model_len_d2t_imp)\n",
    "hal_model_len_sum_imp = dict(hal_model_len_sum_imp)\n",
    "\n",
    "hal_model_len_qa_imp = {k: round(np.mean(v), 1) for k, v in hal_model_len_qa_imp.items()}\n",
    "hal_model_len_d2t_imp = {k: round(np.mean(v), 1) for k, v in hal_model_len_d2t_imp.items()}\n",
    "hal_model_len_sum_imp = {k: round(np.mean(v), 1) for k, v in hal_model_len_sum_imp.items()}\n",
    "\n",
    "\n",
    "print(hal_model_len_qa_imp)\n",
    "print(hal_model_len_d2t_imp)\n",
    "print(hal_model_len_sum_imp)"
   ]
  },
  {
   "cell_type": "code",
   "execution_count": 51,
   "metadata": {},
   "outputs": [
    {
     "data": {
      "image/png": "[encoded data removed]",
      "text/plain": [
       "<Figure size 640x480 with 1 Axes>"
      ]
     },
     "metadata": {},
     "output_type": "display_data"
    }
   ],
   "source": [
    "# 長さの分布\n",
    "import matplotlib.pyplot as plt\n",
    "\n",
    "\n",
    "d2t_posi_len=[]\n",
    "d2t_nega_len =[]\n",
    "\n",
    "for d in train_data_span:\n",
    "    if d[\"task_type\"] != \"Data2txt\":\n",
    "        continue\n",
    "    \n",
    "    if d[\"labels\"] == 1:\n",
    "        d2t_nega_len.append(len(d[\"text\"]))\n",
    "    else:\n",
    "        d2t_posi_len.append(len(d[\"text\"]))\n",
    "        \n",
    "plt.hist(d2t_posi_len, alpha=0.5, label=\"Positive Length\", bins=100)\n",
    "plt.hist(d2t_nega_len, alpha=0.5, label=\"Negative Length\", bins=100)\n",
    "plt.xlabel(\"Length\")\n",
    "plt.ylabel(\"Count\")\n",
    "plt.legend()\n",
    "plt.show()"
   ]
  },
  {
   "cell_type": "code",
   "execution_count": 36,
   "metadata": {},
   "outputs": [
    {
     "data": {
      "text/plain": [
       "(0, 1)"
      ]
     },
     "execution_count": 36,
     "metadata": {},
     "output_type": "execute_result"
    }
   ],
   "source": [
    "len(d2t_nega_len), len(d2t_posi_len)"
   ]
  },
  {
   "cell_type": "markdown",
   "metadata": {},
   "source": [
    "### type"
   ]
  },
  {
   "cell_type": "code",
   "execution_count": 5,
   "metadata": {},
   "outputs": [],
   "source": [
    "# hallucinationのタイプで見てみる？\n",
    "\n",
    "import json\n",
    "\n",
    "with open(\"rag_truth_span_test.json\", \"r\") as f:\n",
    "    test_data_span = json.load(f)\n",
    "with open(\"rag_truth_span_train.json\", \"r\") as f:\n",
    "    train_data_span = json.load(f)\n",
    "with open(\"rag_truth_span_dev.json\", \"r\") as f:\n",
    "    dev_data_span = json.load(f)\n"
   ]
  },
  {
   "cell_type": "code",
   "execution_count": 7,
   "metadata": {},
   "outputs": [],
   "source": [
    "a = []\n",
    "for d in dev_data_span:\n",
    "    if d[\"hallucination_id\"] == []:\n",
    "        continue\n",
    "    hal_type = []\n",
    "    for hal_id in d[\"hallucination_id\"]:\n",
    "        hal_type.append(hal_id[\"label_type\"])\n",
    "        \n",
    "    if d[\"task_type\"] == \"QA\":\n",
    "        for hal in hal_type:\n",
    "            if hal == \"Subtle Conflict\":\n",
    "                #print(d)\n",
    "                a.append(d)\n",
    "    "
   ]
  },
  {
   "cell_type": "code",
   "execution_count": 11,
   "metadata": {},
   "outputs": [
    {
     "data": {
      "text/plain": [
       "{'ref': \"{'question': 'how do you remove programs and processes from windows xp', 'passages': 'passage 1:When the programs and features window opens select the program your want to uninstall from the list and click on the Uninstall button. 5. Confirm that you want to uninstall a program by clicking on the Yes button.\\\\n\\\\npassage 2:In the list of programs, click Windows XP, and then click Change/Remove. 3. Click Uninstall Windows XP, and then click Continue. 4. If any programs have been modified since the upgrade to Windows XP, you will receive a warning message.\\\\n\\\\npassage 3:When the Start Menu opens select Control Panel. 3. Depending on your view options either click on uninstall a program or program and features. 4. When the programs and features window opens select the program your want to uninstall from the list and click on the Uninstall button.\\\\n\\\\n'}\",\n",
       " 'text': 'Based on the provided passages, here is how you can remove programs and processes from Windows XP:\\n\\nPassage 1: To uninstall a program, follow these steps:\\n\\n1. Open the Programs and Features window by typing \"Add or Remove Programs\" in the Start menu search bar.\\n2. Select the program you want to uninstall from the list.\\n3. Click the Uninstall button to start the uninstallation process.\\n4. Confirm that you want to uninstall the program by clicking the Yes button.\\n\\nPassage 2: To uninstall Windows XP, follow these steps:\\n\\n1. In the Start menu, type \"Control Panel\" and open it.\\n2. Click on \"System and Security\" or \"Security and Maintenance\".\\n3. Click on \"Change/Remove\" or \"Uninstall Windows XP\".\\n4. Follow the prompts to complete the uninstallation process.\\n\\nPassage 3: To uninstall a program using the Start menu, follow these steps:\\n\\n1. Open the Start menu and select \"Control Panel\".\\n2. Click on \"Programs and Features\" or \"Uninstall a Program\".\\n3. Select the program you want to uninstall from the list.\\n4. Click the Uninstall button to start the uninstallation process.\\n\\nBased on the provided passages, there is no way to directly remove processes from Windows XP. The passages only provide instructions for removing programs and the Windows XP operating system itself. Therefore, I am unable to answer your question based on the given passages.',\n",
       " 'labels': 1,\n",
       " 'hallucination_id': [{'start': 156,\n",
       "   'end': 261,\n",
       "   'text': '1. Open the Programs and Features window by typing \"Add or Remove Programs\" in the Start menu search bar.',\n",
       "   'meta': None,\n",
       "   'label_type': 'Evident Baseless Info',\n",
       "   'implicit_true': False,\n",
       "   'due_to_null': False},\n",
       "  {'start': 527,\n",
       "   'end': 579,\n",
       "   'text': 'In the Start menu, type \"Control Panel\" and open it.',\n",
       "   'meta': 'SUBTLE CONFLICT\\nOriginal: When the Start Menu opens select Control Panel\\nGenerated: In the Start menu, type \"Control Panel\" and open it.',\n",
       "   'label_type': 'Subtle Conflict',\n",
       "   'implicit_true': False,\n",
       "   'due_to_null': False},\n",
       "  {'start': 580,\n",
       "   'end': 644,\n",
       "   'text': '2. Click on \"System and Security\" or \"Security and Maintenance\".',\n",
       "   'meta': 'HIGH INTRODUCTION OF NEW INFORMATION\\n\"2. Click on \"System and Security\" or \"Security and Maintenance\".\" was not mentioned in the passages',\n",
       "   'label_type': 'Evident Baseless Info',\n",
       "   'implicit_true': False,\n",
       "   'due_to_null': False}],\n",
       " 'hallucination': {'hallucination_list': ['1. Open the Programs and Features window by typing \"Add or Remove Programs\" in the Start menu search bar.',\n",
       "   'In the Start menu, type \"Control Panel\" and open it.',\n",
       "   '2. Click on \"System and Security\" or \"Security and Maintenance\".']},\n",
       " 'source': 'MARCO',\n",
       " 'model': 'llama-2-7b-chat',\n",
       " 'task_type': 'QA',\n",
       " 'source_id': '12259'}"
      ]
     },
     "execution_count": 11,
     "metadata": {},
     "output_type": "execute_result"
    }
   ],
   "source": [
    "a[3]"
   ]
  },
  {
   "cell_type": "code",
   "execution_count": 4,
   "metadata": {},
   "outputs": [
    {
     "data": {
      "text/plain": [
       "{'ref': 'The FBI charged a Philadelphia woman on Thursday with trying to travel overseas to fight for ISIS. She\\'s one of three women arrested this week on terror charges. Two New York women were also taken into custody. An FBI complaint cites numerous social media messages dating back to August 2013 that were sent by Keonna Thomas, 30, also known as \"Young Lioness\" and \"Fatayat Al Khilafah.\" One Twitter message said, \"If we truly knew the realities ... we all would be rushing to join our brothers in the front lines pray ALLAH accept us as shuhada [martyrs].\" Another said, \"When you\\'re a mujahid [violent jihadi fighter] your death becomes a wedding.\" The FBI said Thomas purchased an electronic visa to Turkey on March 23. Turkey is known as the easiest place from which to enter Syria and join ISIS. An ISIS manual advises recruits to buy round-trip tickets to vacation spots such as Spain and then purchase tickets for their real destination once they arrive overseas, the FBI said. On March 26, Thomas purchased a ticket to Barcelona, with a March 29 departure and an April 15 return to the United States, the complaint said. It\\'s not clear when or where she was arrested. She was charged with knowingly attempting to provide material support and resources to a designated foreign terrorist organization. She could be sentenced to 15 years in prison. On Thursday, Noelle Velentzas, 28, and her former roommate, Asia Siddiqui, 31, were arrested in New York and accused of planning to build an explosive device for attacks in the United States, federal prosecutors said. In the past 18 months, the Justice Department\\'s National Security Division has prosecuted or is prosecuting more than 30 cases of people attempting to travel abroad to join or provide support to terrorist groups. Of those cases, 18 allegedly involve support to ISIS. \"The terrorist threat is more decentralized, more diffuse, more complicated,\" Homeland Security Secretary Jeh Johnson told reporters Thursday. \"It involves the potential lone wolf actor, it involves the effective use of social media, the Internet.\"\\n',\n",
       " 'text': 'The FBI has charged a Philadelphia woman, Keonna Thomas, with trying to travel overseas to fight for ISIS. This follows the arrests of two New York women, Noelle Velentzas and Asia Siddiqui, who were accused of planning to build an explosive device for attacks in the United States. Thomas purchased an electronic visa to Turkey and a round-trip ticket to Barcelona, following the advice given in an ISIS manual for recruits. She has been charged with attempting to provide material support to a terrorist organisation and could face 15 years in prison.',\n",
       " 'labels': 0,\n",
       " 'hallucination_id': [],\n",
       " 'hallucination': {'hallucination_list': []},\n",
       " 'source': 'CNN/DM',\n",
       " 'model': 'gpt-4-0613',\n",
       " 'task_type': 'Summary',\n",
       " 'source_id': '15596'}"
      ]
     },
     "execution_count": 4,
     "metadata": {},
     "output_type": "execute_result"
    }
   ],
   "source": [
    "test_data_span[0]"
   ]
  },
  {
   "cell_type": "code",
   "execution_count": 5,
   "metadata": {},
   "outputs": [
    {
     "name": "stdout",
     "output_type": "stream",
     "text": [
      "{'Evident Baseless Info': 156, 'Evident Conflict': 30, 'Subtle Baseless Info': 49}\n",
      "{'Evident Conflict': 489, 'Evident Baseless Info': 465, 'Subtle Baseless Info': 95, 'Subtle Conflict': 5}\n",
      "{'Evident Conflict': 100, 'Evident Baseless Info': 117, 'Subtle Conflict': 11, 'Subtle Baseless Info': 16}\n"
     ]
    }
   ],
   "source": [
    "from collections import defaultdict\n",
    "\n",
    "hal_type_qa = defaultdict(lambda:0)\n",
    "hal_type_d2t = defaultdict(lambda:0)\n",
    "hal_type_sum = defaultdict(lambda:0)\n",
    "\n",
    "for d in test_data_span:\n",
    "    if d[\"hallucination_id\"] == []:\n",
    "        continue\n",
    "    hal_type = []\n",
    "    for hal_id in d[\"hallucination_id\"]:\n",
    "        hal_type.append(hal_id[\"label_type\"])\n",
    "        \n",
    "    if d[\"task_type\"] == \"QA\":\n",
    "        for hal in hal_type:\n",
    "            hal_type_qa[hal] += 1\n",
    "    elif d[\"task_type\"] == \"Data2txt\":\n",
    "        for hal in hal_type:\n",
    "            hal_type_d2t[hal] += 1\n",
    "    else:\n",
    "        for hal in hal_type:\n",
    "            hal_type_sum[hal] += 1\n",
    "print(dict(hal_type_qa))\n",
    "print(dict(hal_type_d2t))\n",
    "print(dict(hal_type_sum))"
   ]
  },
  {
   "cell_type": "code",
   "execution_count": 6,
   "metadata": {},
   "outputs": [
    {
     "name": "stdout",
     "output_type": "stream",
     "text": [
      "{'Evident Conflict': 23, 'Evident Baseless Info': 63, 'Subtle Baseless Info': 18}\n",
      "{'Evident Conflict': 61, 'Evident Baseless Info': 73, 'Subtle Baseless Info': 19, 'Subtle Conflict': 2}\n",
      "{'Evident Conflict': 82, 'Subtle Conflict': 9, 'Evident Baseless Info': 86, 'Subtle Baseless Info': 6}\n"
     ]
    }
   ],
   "source": [
    "from collections import defaultdict\n",
    "\n",
    "hal_type_qa_imp = defaultdict(lambda:0)\n",
    "hal_type_d2t_imp = defaultdict(lambda:0)\n",
    "hal_type_sum_imp = defaultdict(lambda:0)\n",
    "\n",
    "for i in id_001 + id_011:\n",
    "    if test_data_span[i][\"hallucination_id\"]==[]:\n",
    "        continue\n",
    "    hal_type_imp = []\n",
    "    for hal_id in test_data_span[i][\"hallucination_id\"]:\n",
    "        hal_type_imp.append(hal_id[\"label_type\"])\n",
    "        \n",
    "    if test_data_span[i][\"task_type\"] == \"QA\":\n",
    "        for hal in hal_type_imp:\n",
    "            hal_type_qa_imp[hal] += 1\n",
    "    elif test_data_span[i][\"task_type\"] == \"Data2txt\":\n",
    "        for hal in hal_type_imp:\n",
    "            hal_type_d2t_imp[hal] += 1\n",
    "    else:\n",
    "        for hal in hal_type_imp:\n",
    "            hal_type_sum_imp[hal] += 1\n",
    "print(dict(hal_type_qa_imp))\n",
    "print(dict(hal_type_d2t_imp))\n",
    "print(dict(hal_type_sum_imp))"
   ]
  },
  {
   "cell_type": "code",
   "execution_count": 7,
   "metadata": {},
   "outputs": [],
   "source": [
    "sample = []\n",
    "for i in id_011:\n",
    "    if test_data_span[i][\"task_type\"]!=\"QA\":\n",
    "        continue\n",
    "    \n",
    "    hal_type2 = []\n",
    "    for hal_id in test_data_span[i][\"hallucination_id\"]:\n",
    "        hal_type2.append(hal_id[\"label_type\"])\n",
    "    \n",
    "    if \"Evident Conflict\" in hal_type2:\n",
    "        sample.append(test_data_span[i])"
   ]
  },
  {
   "cell_type": "code",
   "execution_count": 8,
   "metadata": {},
   "outputs": [
    {
     "data": {
      "text/plain": [
       "{'ref': '{\\'question\\': \\'history of the word gemini\\', \\'passages\\': \"passage 1:The word “Gemini” is a Latin word for twins and it is one of the constellations that actually look like its name would suggest. The first known reference of the Gemini constellation was in Aristotle’s Meteorologica, over 300 years BC. He mentions that he observed an occulting a star in Gemini and speaks of observing Jupiter in conjunction with it.\\\\n\\\\npassage 2:Gemini History. The History of Gemini. As other signs in the zodiac, Gemini is not in the same position as the constellation of Gemini. In the zodiac, it follows Taurus and takes the third 30 degrees of the zodiacal circle. Gemini is a mutable sign that is preceding the summer, and as such, it announces change while ruling the time of year when Taurus spring has ended, and life on Earth is about to change.\\\\n\\\\npassage 3:Gemini Mythology The Story Behind the Gemini Zodiac Sign. The origins of some constellation myths are heavily debated. Gemini mythology, luckily, is pretty straightforward. By all accounts, the twins represented in Gemini mythology are Castor and Pollux of Greek mythology. They share the same mother, Leda (Greek mythology), but have different fathers. Castor\\'s father is Tyndarus, the King of Sparta, and Leda\\'s husband.\\\\n\\\\n\"}',\n",
       " 'text': 'Based on the given passages, we can gather that the word \"Gemini\" comes from the Latin language and refers to twins. It is also one of the constellations that resembles its name. The first known reference to the Gemini constellation was in Aristotle\\'s Meteorologica, around 300 years ago. The constellation represents the twins Castor and Pollux in Greek mythology.',\n",
       " 'labels': 1,\n",
       " 'hallucination_id': [{'start': 267,\n",
       "   'end': 287,\n",
       "   'text': 'around 300 years ago',\n",
       "   'meta': 'EVIDENT CONFLICT\\nOriginal: 300 years BC\\nGenerative: around 300 years ago',\n",
       "   'label_type': 'Evident Conflict',\n",
       "   'implicit_true': False,\n",
       "   'due_to_null': False}],\n",
       " 'hallucination': {'hallucination_list': ['around 300 years ago']},\n",
       " 'source': 'MARCO',\n",
       " 'model': 'mistral-7B-instruct',\n",
       " 'task_type': 'QA',\n",
       " 'source_id': '15540'}"
      ]
     },
     "execution_count": 8,
     "metadata": {},
     "output_type": "execute_result"
    }
   ],
   "source": [
    "sample[-2]"
   ]
  },
  {
   "cell_type": "code",
   "execution_count": 9,
   "metadata": {},
   "outputs": [],
   "source": [
    "sample2 = []\n",
    "for i in id_101:\n",
    "    if test_data_span[i][\"task_type\"]!=\"Data2txt\":\n",
    "        continue\n",
    "    \n",
    "    hal_type2 = []\n",
    "    for hal_id in test_data_span[i][\"hallucination_id\"]:\n",
    "        hal_type2.append(hal_id[\"label_type\"])\n",
    "    \n",
    "    if \"Subtle Baseless Info\" in hal_type2 and \"Evident Baseless Info\" in hal_type2:\n",
    "        sample2.append(test_data_span[i])"
   ]
  },
  {
   "cell_type": "code",
   "execution_count": 10,
   "metadata": {},
   "outputs": [
    {
     "data": {
      "text/plain": [
       "{'ref': '{\\'name\\': \\'Finch & Fork\\', \\'address\\': \\'31 W Carrillo St\\', \\'city\\': \\'Santa Barbara\\', \\'state\\': \\'CA\\', \\'categories\\': \\'Breakfast & Brunch, American (New), Restaurants, American (Traditional), Nightlife, Bars\\', \\'hours\\': {\\'Monday\\': \\'17:30-23:0\\', \\'Tuesday\\': \\'17:0-21:0\\', \\'Wednesday\\': \\'17:0-21:0\\', \\'Thursday\\': \\'17:0-21:0\\', \\'Friday\\': \\'17:0-21:0\\', \\'Saturday\\': \\'17:0-21:0\\', \\'Sunday\\': \\'9:0-14:0\\'}, \\'attributes\\': {\\'BusinessParking\\': {\\'garage\\': True, \\'street\\': True, \\'validated\\': True, \\'lot\\': False, \\'valet\\': True}, \\'RestaurantsReservations\\': True, \\'OutdoorSeating\\': False, \\'WiFi\\': \\'free\\', \\'RestaurantsTakeOut\\': True, \\'RestaurantsGoodForGroups\\': True, \\'Music\\': False, \\'Ambience\\': {\\'romantic\\': False, \\'intimate\\': False, \\'classy\\': True, \\'hipster\\': False, \\'divey\\': False, \\'touristy\\': False, \\'trendy\\': False, \\'upscale\\': False, \\'casual\\': False}}, \\'business_stars\\': 4.0, \\'review_info\\': [{\\'review_stars\\': 5.0, \\'review_date\\': \\'2022-01-09 19:18:59\\', \\'review_text\\': \\'What a great brunch. A couple days ago my wife randomly decided she\\\\\\'d book a hotel in Santa Barbara for the weekend. She said she had already found a good spot for brunch Sunday morning. Usually I plan all the trips so she had a lot of pressure not to disappoint. And... she did not. Moral of the story: here we are now, just enjoyed a delicious breakfast burrito (her) and steak/eggs/frites (me). Most importantly the \"mimosa madness\" was served just the way I like it, just a splash of juice. This may have influenced this review :)\\\\nOur server Jamie was awesome and very hospitable. 5 stars for food, ambiance, and service. We\\\\\\'ll be back some day.\\'}, {\\'review_stars\\': 5.0, \\'review_date\\': \\'2021-12-24 05:45:27\\', \\'review_text\\': \\'main downside is that the food was overpriced. taste and quality of the food was great and service was also good. ambiance is nice, the restaurant is located in a hotel lobby.\\'}, {\\'review_stars\\': 5.0, \\'review_date\\': \\'2021-12-21 03:21:40\\', \\'review_text\\': \"The best bottomless brunch! $14 for the first mimosa, and $1 for every mimosa after that. \\\\n\\\\nWe came on a Sunday for brunch and we didn\\'t have to wait which was nice. The restaurant is inside a VERY nice hotel, and I was shocked at how cheap the menu is, given how nice the ambiance is. \\\\n\\\\nOur server Matthew was great. We were in SB for the day and he was giving us tips on what to do & where to go. He was very outgoing & kind, and the service was fast and on point. \\\\n\\\\nThe food was good as well, I got the eggs benedict and it was filling & delicious. The mimosas were BOMB and so cheap... we paid only $16 each for bottomless! They also have different flavors: orange, grapefruit, and poinsettia/cranberry which were all v tasty. \\\\n\\\\nDEFINITELY recommend this place to anyone looking for a good bottomless brunch!\"}]}',\n",
       " 'text': 'Finch & Fork is a breakfast and brunch restaurant located in the heart of Santa Barbara, within a luxury hotel. The restaurant offers a variety of dishes including breakfast burritos, steak, eggs, and frites, along with a selection of bottomless mimosas. According to customer reviews, the food is delicious, with generous portions, and the service is friendly and attentive. The ambiance is described as nice, with a classy and upscale atmosphere, despite being located in a hotel lobby. Some customers have noted that the prices are a bit high, but the quality of the food and service makes up for it. Finch & Fork is a popular spot for both locals and visitors, and is especially known for its bottomless brunch deals. Overall, this restaurant is a great choice for those looking for a tasty and satisfying breakfast or brunch experience in Santa Barbara.',\n",
       " 'labels': 1,\n",
       " 'hallucination_id': [{'start': 429,\n",
       "   'end': 448,\n",
       "   'text': 'upscale atmosphere,',\n",
       "   'meta': 'EVIDENT CONFLICT\\nOriginal: false for upscale\\nAIGC: with a[n] upscale atmosphere',\n",
       "   'label_type': 'Evident Conflict',\n",
       "   'implicit_true': False,\n",
       "   'due_to_null': False},\n",
       "  {'start': 622,\n",
       "   'end': 663,\n",
       "   'text': 'popular spot for both locals and visitors',\n",
       "   'meta': 'Original: No mention that this restaurant is a popular spot for locals and visitors. ',\n",
       "   'label_type': 'Evident Baseless Info',\n",
       "   'implicit_true': False,\n",
       "   'due_to_null': False},\n",
       "  {'start': 50,\n",
       "   'end': 88,\n",
       "   'text': 'located in the heart of Santa Barbara,',\n",
       "   'meta': 'LOW INTRO OF NEW INFO\\nNo mention of this information but may stand to be accurate. ',\n",
       "   'label_type': 'Subtle Baseless Info',\n",
       "   'implicit_true': True,\n",
       "   'due_to_null': False}],\n",
       " 'hallucination': {'hallucination_list': ['upscale atmosphere,',\n",
       "   'popular spot for both locals and visitors',\n",
       "   'located in the heart of Santa Barbara,']},\n",
       " 'source': 'Yelp',\n",
       " 'model': 'llama-2-70b-chat',\n",
       " 'task_type': 'Data2txt',\n",
       " 'source_id': '13601'}"
      ]
     },
     "execution_count": 10,
     "metadata": {},
     "output_type": "execute_result"
    }
   ],
   "source": [
    "sample2[0]"
   ]
  },
  {
   "cell_type": "code",
   "execution_count": 11,
   "metadata": {},
   "outputs": [],
   "source": [
    "sample3 = []\n",
    "for i in id_011:\n",
    "    if test_data_span[i][\"task_type\"]!=\"Summary\":\n",
    "        continue\n",
    "    \n",
    "    hal_type2 = []\n",
    "    for hal_id in test_data_span[i][\"hallucination_id\"]:\n",
    "        hal_type2.append(hal_id[\"label_type\"])\n",
    "    \n",
    "    if \"Subtle Baseless Info\" in hal_type2 or \"Evident Baseless Info\" in hal_type2:\n",
    "        sample3.append(test_data_span[i])"
   ]
  },
  {
   "cell_type": "code",
   "execution_count": 13,
   "metadata": {},
   "outputs": [
    {
     "data": {
      "text/plain": [
       "{'ref': 'A nuclear submarine being repaired at a Russian shipyard has caught on fire, according to a law enforcement source speaking to Russia\\'s state-run news agency ITAR-Tass. \"The submarine is in a dry dock,\" Tass reports, citing the source, and there is no ammunition on board. \"The rubber insulation between the submarine\\'s light and pressure hull is on fire,\" Tass reported. Russia\\'s RIA Novosti news agency says insulation caught on fire as welding work was being done on the submarine. Tass reported that the fire began on a sub in the Zvyozdochka shipyard in northwestern Russia. Zvyozdochka spokesman Yevgeny Gladyshev told the news agency that the sub had been undergoing repairs since November 2013. \"Nuclear fuel from the sub\\'s reactor has been unloaded,\" he reportedly said. \"There are no armaments or chemically active, dangerous substances, fissionable materials on it,\" Gladyshev said to Tass. \"The enterprise\\'s personnel left the premises when the submarine caught fire, no one has been injured. The fire presents no threat to people and the shipyard.\"\\n',\n",
       " 'text': 'A nuclear submarine being repaired in Russia caught fire due to accidental welding damage, causing an explosion that released radiation into the air. Four workers were killed in the incident and over 170 others were hospitalized. The cause of the explosion remains unknown but experts have suggested that a spark may have ignited a hydrogen leak. The damaged sub is currently being dismantled and decommissioned.',\n",
       " 'labels': 1,\n",
       " 'hallucination_id': [{'start': 91,\n",
       "   'end': 149,\n",
       "   'text': 'causing an explosion that released radiation into the air.',\n",
       "   'meta': 'HIGH INTRO OF NEW INFO\\nNo mention of an explosion. ',\n",
       "   'label_type': 'Evident Baseless Info',\n",
       "   'implicit_true': False,\n",
       "   'due_to_null': False},\n",
       "  {'start': 150,\n",
       "   'end': 346,\n",
       "   'text': 'Four workers were killed in the incident and over 170 others were hospitalized. The cause of the explosion remains unknown but experts have suggested that a spark may have ignited a hydrogen leak.',\n",
       "   'meta': 'HIGH INTRO OF NEW INFO\\nNo mention of these details. ',\n",
       "   'label_type': 'Evident Baseless Info',\n",
       "   'implicit_true': False,\n",
       "   'due_to_null': False},\n",
       "  {'start': 347,\n",
       "   'end': 412,\n",
       "   'text': 'The damaged sub is currently being dismantled and decommissioned.',\n",
       "   'meta': 'HIGH INTRO OF NEW INFO\\nNo mention of these details. ',\n",
       "   'label_type': 'Evident Baseless Info',\n",
       "   'implicit_true': False,\n",
       "   'due_to_null': False}],\n",
       " 'hallucination': {'hallucination_list': ['causing an explosion that released radiation into the air.',\n",
       "   'Four workers were killed in the incident and over 170 others were hospitalized. The cause of the explosion remains unknown but experts have suggested that a spark may have ignited a hydrogen leak.',\n",
       "   'The damaged sub is currently being dismantled and decommissioned.']},\n",
       " 'source': 'CNN/DM',\n",
       " 'model': 'mistral-7B-instruct',\n",
       " 'task_type': 'Summary',\n",
       " 'source_id': '15714'}"
      ]
     },
     "execution_count": 13,
     "metadata": {},
     "output_type": "execute_result"
    }
   ],
   "source": [
    "sample3[6]"
   ]
  },
  {
   "cell_type": "code",
   "execution_count": 17,
   "metadata": {},
   "outputs": [],
   "source": [
    "sample3_len = [len(x[\"ref\"])+len(x[\"text\"]) for x in sample3]\n",
    "\n",
    "# 6 17"
   ]
  },
  {
   "cell_type": "markdown",
   "metadata": {},
   "source": [
    "### embedding"
   ]
  },
  {
   "cell_type": "code",
   "execution_count": 14,
   "metadata": {},
   "outputs": [
    {
     "name": "stderr",
     "output_type": "stream",
     "text": [
      "huggingface/tokenizers: The current process just got forked, after parallelism has already been used. Disabling parallelism to avoid deadlocks...\n",
      "To disable this warning, you can either:\n",
      "\t- Avoid using `tokenizers` before the fork if possible\n",
      "\t- Explicitly set the environment variable TOKENIZERS_PARALLELISM=(true | false)\n"
     ]
    },
    {
     "name": "stdout",
     "output_type": "stream",
     "text": [
      "Requirement already satisfied: transformers in ./nlp/lib/python3.9/site-packages (4.48.0)\n",
      "Requirement already satisfied: datasets in ./nlp/lib/python3.9/site-packages (2.19.1)\n",
      "Collecting datasets\n",
      "  Downloading datasets-3.2.0-py3-none-any.whl (480 kB)\n",
      "\u001b[K     |████████████████████████████████| 480 kB 9.6 MB/s eta 0:00:01\n",
      "\u001b[?25hRequirement already satisfied: huggingface_hub in ./nlp/lib/python3.9/site-packages (0.27.1)\n",
      "Requirement already satisfied: safetensors>=0.4.1 in ./nlp/lib/python3.9/site-packages (from transformers) (0.4.3)\n",
      "Requirement already satisfied: tokenizers<0.22,>=0.21 in ./nlp/lib/python3.9/site-packages (from transformers) (0.21.0)\n",
      "Requirement already satisfied: numpy>=1.17 in ./nlp/lib/python3.9/site-packages (from transformers) (1.24.0)\n",
      "Requirement already satisfied: requests in ./nlp/lib/python3.9/site-packages (from transformers) (2.32.3)\n",
      "Requirement already satisfied: tqdm>=4.27 in ./nlp/lib/python3.9/site-packages (from transformers) (4.66.4)\n",
      "Requirement already satisfied: packaging>=20.0 in ./nlp/lib/python3.9/site-packages (from transformers) (24.1)\n",
      "Requirement already satisfied: filelock in ./nlp/lib/python3.9/site-packages (from transformers) (3.14.0)\n",
      "Requirement already satisfied: regex!=2019.12.17 in ./nlp/lib/python3.9/site-packages (from transformers) (2024.5.15)\n",
      "Requirement already satisfied: pyyaml>=5.1 in ./nlp/lib/python3.9/site-packages (from transformers) (6.0.1)\n",
      "Requirement already satisfied: pyarrow>=15.0.0 in ./nlp/lib/python3.9/site-packages (from datasets) (16.1.0)\n",
      "Requirement already satisfied: aiohttp in ./nlp/lib/python3.9/site-packages (from datasets) (3.9.5)\n",
      "Requirement already satisfied: xxhash in ./nlp/lib/python3.9/site-packages (from datasets) (3.4.1)\n",
      "Requirement already satisfied: pandas in ./nlp/lib/python3.9/site-packages (from datasets) (2.2.2)\n",
      "Requirement already satisfied: fsspec[http]<=2024.9.0,>=2023.1.0 in ./nlp/lib/python3.9/site-packages (from datasets) (2024.3.1)\n",
      "Requirement already satisfied: dill<0.3.9,>=0.3.0 in ./nlp/lib/python3.9/site-packages (from datasets) (0.3.8)\n",
      "Requirement already satisfied: multiprocess<0.70.17 in ./nlp/lib/python3.9/site-packages (from datasets) (0.70.16)\n",
      "Requirement already satisfied: typing-extensions>=3.7.4.3 in ./nlp/lib/python3.9/site-packages (from huggingface_hub) (4.12.0)\n",
      "Requirement already satisfied: async-timeout<5.0,>=4.0 in ./nlp/lib/python3.9/site-packages (from aiohttp->datasets) (4.0.3)\n",
      "Requirement already satisfied: multidict<7.0,>=4.5 in ./nlp/lib/python3.9/site-packages (from aiohttp->datasets) (6.0.5)\n",
      "Requirement already satisfied: attrs>=17.3.0 in ./nlp/lib/python3.9/site-packages (from aiohttp->datasets) (23.2.0)\n",
      "Requirement already satisfied: aiosignal>=1.1.2 in ./nlp/lib/python3.9/site-packages (from aiohttp->datasets) (1.3.1)\n",
      "Requirement already satisfied: frozenlist>=1.1.1 in ./nlp/lib/python3.9/site-packages (from aiohttp->datasets) (1.4.1)\n",
      "Requirement already satisfied: yarl<2.0,>=1.0 in ./nlp/lib/python3.9/site-packages (from aiohttp->datasets) (1.9.4)\n",
      "Requirement already satisfied: certifi>=2017.4.17 in ./nlp/lib/python3.9/site-packages (from requests->transformers) (2024.7.4)\n",
      "Requirement already satisfied: idna<4,>=2.5 in ./nlp/lib/python3.9/site-packages (from requests->transformers) (3.7)\n",
      "Requirement already satisfied: charset-normalizer<4,>=2 in ./nlp/lib/python3.9/site-packages (from requests->transformers) (3.3.2)\n",
      "Requirement already satisfied: urllib3<3,>=1.21.1 in ./nlp/lib/python3.9/site-packages (from requests->transformers) (2.2.2)\n",
      "Requirement already satisfied: python-dateutil>=2.8.2 in ./nlp/lib/python3.9/site-packages (from pandas->datasets) (2.9.0.post0)\n",
      "Requirement already satisfied: tzdata>=2022.7 in ./nlp/lib/python3.9/site-packages (from pandas->datasets) (2024.1)\n",
      "Requirement already satisfied: pytz>=2020.1 in ./nlp/lib/python3.9/site-packages (from pandas->datasets) (2024.1)\n",
      "Requirement already satisfied: six>=1.5 in ./nlp/lib/python3.9/site-packages (from python-dateutil>=2.8.2->pandas->datasets) (1.16.0)\n",
      "Installing collected packages: datasets\n",
      "  Attempting uninstall: datasets\n",
      "    Found existing installation: datasets 2.19.1\n",
      "    Uninstalling datasets-2.19.1:\n",
      "      Successfully uninstalled datasets-2.19.1\n",
      "Successfully installed datasets-3.2.0\n",
      "\u001b[33mWARNING: You are using pip version 21.2.3; however, version 24.3.1 is available.\n",
      "You should consider upgrading via the '/home/3/uw03923/nlp/bin/python3 -m pip install --upgrade pip' command.\u001b[0m\n"
     ]
    }
   ],
   "source": [
    "!pip install --upgrade transformers datasets huggingface_hub\n"
   ]
  },
  {
   "cell_type": "code",
   "execution_count": 3,
   "metadata": {},
   "outputs": [],
   "source": [
    "import json\n",
    "\n",
    "with open(\"rag_truth_test.json\", \"r\") as f:\n",
    "    test_data = json.load(f)\n",
    "    \n",
    "def add_prefix(data):\n",
    "    for d in data:\n",
    "        d[\"text\"] = \"Please judge the following statement as true or false based on the references above: \" + d[\"text\"]\n",
    "    return data\n",
    "\n",
    "test_data = add_prefix(test_data)"
   ]
  },
  {
   "cell_type": "code",
   "execution_count": 1,
   "metadata": {},
   "outputs": [],
   "source": [
    "import json\n",
    "\n",
    "with open(\"rag_truth_dev.json\", \"r\") as f:\n",
    "    test_data = json.load(f)\n",
    "    \n",
    "def add_prefix(data):\n",
    "    for d in data:\n",
    "        d[\"text\"] = \"Please judge the following statement as true or false based on the references above: \" + d[\"text\"]\n",
    "    return data\n",
    "\n",
    "test_data = add_prefix(test_data)"
   ]
  },
  {
   "cell_type": "code",
   "execution_count": 4,
   "metadata": {},
   "outputs": [],
   "source": [
    "# task_type: QA, Data2txt, Summary\n",
    "task_name = \"QA\"\n",
    "\n",
    "test_data = [d for d in test_data if d[\"task_type\"] == task_name]"
   ]
  },
  {
   "cell_type": "code",
   "execution_count": 3,
   "metadata": {},
   "outputs": [
    {
     "data": {
      "text/plain": [
       "100"
      ]
     },
     "execution_count": 3,
     "metadata": {},
     "output_type": "execute_result"
    }
   ],
   "source": [
    "import random\n",
    "\n",
    "test_data = random.sample(test_data, 100)\n",
    "len(test_data)"
   ]
  },
  {
   "cell_type": "code",
   "execution_count": 4,
   "metadata": {},
   "outputs": [
    {
     "name": "stderr",
     "output_type": "stream",
     "text": [
      "2025-01-17 15:53:07.995293: I tensorflow/core/util/port.cc:113] oneDNN custom operations are on. You may see slightly different numerical results due to floating-point round-off errors from different computation orders. To turn them off, set the environment variable `TF_ENABLE_ONEDNN_OPTS=0`.\n",
      "2025-01-17 15:53:08.008292: E external/local_xla/xla/stream_executor/cuda/cuda_fft.cc:479] Unable to register cuFFT factory: Attempting to register factory for plugin cuFFT when one has already been registered\n",
      "2025-01-17 15:53:08.025242: E external/local_xla/xla/stream_executor/cuda/cuda_dnn.cc:10575] Unable to register cuDNN factory: Attempting to register factory for plugin cuDNN when one has already been registered\n",
      "2025-01-17 15:53:08.025273: E external/local_xla/xla/stream_executor/cuda/cuda_blas.cc:1442] Unable to register cuBLAS factory: Attempting to register factory for plugin cuBLAS when one has already been registered\n",
      "2025-01-17 15:53:08.037857: I tensorflow/core/platform/cpu_feature_guard.cc:210] This TensorFlow binary is optimized to use available CPU instructions in performance-critical operations.\n",
      "To enable the following instructions: AVX2 AVX512F AVX512_VNNI AVX512_BF16 FMA, in other operations, rebuild TensorFlow with the appropriate compiler flags.\n",
      "2025-01-17 15:53:09.208306: W tensorflow/compiler/tf2tensorrt/utils/py_utils.cc:38] TF-TRT Warning: Could not find TensorRT\n"
     ]
    },
    {
     "data": {
      "application/vnd.jupyter.widget-view+json": {
       "model_id": "1d84e1626b804508a61d2cf9a5d9b8ec",
       "version_major": 2,
       "version_minor": 0
      },
      "text/plain": [
       "Loading checkpoint shards:   0%|          | 0/2 [00:00<?, ?it/s]"
      ]
     },
     "metadata": {},
     "output_type": "display_data"
    },
    {
     "ename": "RuntimeError",
     "evalue": "Expected all tensors to be on the same device, but found at least two devices, cpu and cuda:0! (when checking argument for argument mat2 in method wrapper_CUDA_bmm)",
     "output_type": "error",
     "traceback": [
      "\u001b[0;31m---------------------------------------------------------------------------\u001b[0m",
      "\u001b[0;31mRuntimeError\u001b[0m                              Traceback (most recent call last)",
      "Cell \u001b[0;32mIn[4], line 35\u001b[0m\n\u001b[1;32m     33\u001b[0m \u001b[38;5;66;03m# RoBERTaで埋め込みを取得（[CLS]トークンの出力を使用）\u001b[39;00m\n\u001b[1;32m     34\u001b[0m \u001b[38;5;28;01mwith\u001b[39;00m torch\u001b[38;5;241m.\u001b[39mno_grad():\n\u001b[0;32m---> 35\u001b[0m     outputs \u001b[38;5;241m=\u001b[39m \u001b[43mmodel\u001b[49m\u001b[43m(\u001b[49m\u001b[38;5;241;43m*\u001b[39;49m\u001b[38;5;241;43m*\u001b[39;49m\u001b[43minputs\u001b[49m\u001b[43m)\u001b[49m\n\u001b[1;32m     36\u001b[0m     embeddings \u001b[38;5;241m=\u001b[39m outputs[\u001b[38;5;241m0\u001b[39m][:,\u001b[38;5;241m-\u001b[39m\u001b[38;5;241m1\u001b[39m,:] \u001b[38;5;66;03m#baseの時\u001b[39;00m\n\u001b[1;32m     37\u001b[0m     \u001b[38;5;66;03m#embeddings =outputs.output #訓練済みの時\u001b[39;00m\n",
      "File \u001b[0;32m~/nlp/lib64/python3.9/site-packages/torch/nn/modules/module.py:1532\u001b[0m, in \u001b[0;36mModule._wrapped_call_impl\u001b[0;34m(self, *args, **kwargs)\u001b[0m\n\u001b[1;32m   1530\u001b[0m     \u001b[38;5;28;01mreturn\u001b[39;00m \u001b[38;5;28mself\u001b[39m\u001b[38;5;241m.\u001b[39m_compiled_call_impl(\u001b[38;5;241m*\u001b[39margs, \u001b[38;5;241m*\u001b[39m\u001b[38;5;241m*\u001b[39mkwargs)  \u001b[38;5;66;03m# type: ignore[misc]\u001b[39;00m\n\u001b[1;32m   1531\u001b[0m \u001b[38;5;28;01melse\u001b[39;00m:\n\u001b[0;32m-> 1532\u001b[0m     \u001b[38;5;28;01mreturn\u001b[39;00m \u001b[38;5;28;43mself\u001b[39;49m\u001b[38;5;241;43m.\u001b[39;49m\u001b[43m_call_impl\u001b[49m\u001b[43m(\u001b[49m\u001b[38;5;241;43m*\u001b[39;49m\u001b[43margs\u001b[49m\u001b[43m,\u001b[49m\u001b[43m \u001b[49m\u001b[38;5;241;43m*\u001b[39;49m\u001b[38;5;241;43m*\u001b[39;49m\u001b[43mkwargs\u001b[49m\u001b[43m)\u001b[49m\n",
      "File \u001b[0;32m~/nlp/lib64/python3.9/site-packages/torch/nn/modules/module.py:1541\u001b[0m, in \u001b[0;36mModule._call_impl\u001b[0;34m(self, *args, **kwargs)\u001b[0m\n\u001b[1;32m   1536\u001b[0m \u001b[38;5;66;03m# If we don't have any hooks, we want to skip the rest of the logic in\u001b[39;00m\n\u001b[1;32m   1537\u001b[0m \u001b[38;5;66;03m# this function, and just call forward.\u001b[39;00m\n\u001b[1;32m   1538\u001b[0m \u001b[38;5;28;01mif\u001b[39;00m \u001b[38;5;129;01mnot\u001b[39;00m (\u001b[38;5;28mself\u001b[39m\u001b[38;5;241m.\u001b[39m_backward_hooks \u001b[38;5;129;01mor\u001b[39;00m \u001b[38;5;28mself\u001b[39m\u001b[38;5;241m.\u001b[39m_backward_pre_hooks \u001b[38;5;129;01mor\u001b[39;00m \u001b[38;5;28mself\u001b[39m\u001b[38;5;241m.\u001b[39m_forward_hooks \u001b[38;5;129;01mor\u001b[39;00m \u001b[38;5;28mself\u001b[39m\u001b[38;5;241m.\u001b[39m_forward_pre_hooks\n\u001b[1;32m   1539\u001b[0m         \u001b[38;5;129;01mor\u001b[39;00m _global_backward_pre_hooks \u001b[38;5;129;01mor\u001b[39;00m _global_backward_hooks\n\u001b[1;32m   1540\u001b[0m         \u001b[38;5;129;01mor\u001b[39;00m _global_forward_hooks \u001b[38;5;129;01mor\u001b[39;00m _global_forward_pre_hooks):\n\u001b[0;32m-> 1541\u001b[0m     \u001b[38;5;28;01mreturn\u001b[39;00m \u001b[43mforward_call\u001b[49m\u001b[43m(\u001b[49m\u001b[38;5;241;43m*\u001b[39;49m\u001b[43margs\u001b[49m\u001b[43m,\u001b[49m\u001b[43m \u001b[49m\u001b[38;5;241;43m*\u001b[39;49m\u001b[38;5;241;43m*\u001b[39;49m\u001b[43mkwargs\u001b[49m\u001b[43m)\u001b[49m\n\u001b[1;32m   1543\u001b[0m \u001b[38;5;28;01mtry\u001b[39;00m:\n\u001b[1;32m   1544\u001b[0m     result \u001b[38;5;241m=\u001b[39m \u001b[38;5;28;01mNone\u001b[39;00m\n",
      "File \u001b[0;32m~/nlp/lib64/python3.9/site-packages/transformers/models/phi3/modeling_phi3.py:605\u001b[0m, in \u001b[0;36mPhi3Model.forward\u001b[0;34m(self, input_ids, attention_mask, position_ids, past_key_values, inputs_embeds, use_cache, output_attentions, output_hidden_states, return_dict, cache_position, **flash_attn_kwargs)\u001b[0m\n\u001b[1;32m    602\u001b[0m hidden_states \u001b[38;5;241m=\u001b[39m inputs_embeds\n\u001b[1;32m    604\u001b[0m \u001b[38;5;66;03m# create position embeddings to be shared across the decoder layers\u001b[39;00m\n\u001b[0;32m--> 605\u001b[0m position_embeddings \u001b[38;5;241m=\u001b[39m \u001b[38;5;28;43mself\u001b[39;49m\u001b[38;5;241;43m.\u001b[39;49m\u001b[43mrotary_emb\u001b[49m\u001b[43m(\u001b[49m\u001b[43mhidden_states\u001b[49m\u001b[43m,\u001b[49m\u001b[43m \u001b[49m\u001b[43mposition_ids\u001b[49m\u001b[43m)\u001b[49m\n\u001b[1;32m    607\u001b[0m \u001b[38;5;66;03m# decoder layers\u001b[39;00m\n\u001b[1;32m    608\u001b[0m all_hidden_states \u001b[38;5;241m=\u001b[39m () \u001b[38;5;28;01mif\u001b[39;00m output_hidden_states \u001b[38;5;28;01melse\u001b[39;00m \u001b[38;5;28;01mNone\u001b[39;00m\n",
      "File \u001b[0;32m~/nlp/lib64/python3.9/site-packages/torch/nn/modules/module.py:1532\u001b[0m, in \u001b[0;36mModule._wrapped_call_impl\u001b[0;34m(self, *args, **kwargs)\u001b[0m\n\u001b[1;32m   1530\u001b[0m     \u001b[38;5;28;01mreturn\u001b[39;00m \u001b[38;5;28mself\u001b[39m\u001b[38;5;241m.\u001b[39m_compiled_call_impl(\u001b[38;5;241m*\u001b[39margs, \u001b[38;5;241m*\u001b[39m\u001b[38;5;241m*\u001b[39mkwargs)  \u001b[38;5;66;03m# type: ignore[misc]\u001b[39;00m\n\u001b[1;32m   1531\u001b[0m \u001b[38;5;28;01melse\u001b[39;00m:\n\u001b[0;32m-> 1532\u001b[0m     \u001b[38;5;28;01mreturn\u001b[39;00m \u001b[38;5;28;43mself\u001b[39;49m\u001b[38;5;241;43m.\u001b[39;49m\u001b[43m_call_impl\u001b[49m\u001b[43m(\u001b[49m\u001b[38;5;241;43m*\u001b[39;49m\u001b[43margs\u001b[49m\u001b[43m,\u001b[49m\u001b[43m \u001b[49m\u001b[38;5;241;43m*\u001b[39;49m\u001b[38;5;241;43m*\u001b[39;49m\u001b[43mkwargs\u001b[49m\u001b[43m)\u001b[49m\n",
      "File \u001b[0;32m~/nlp/lib64/python3.9/site-packages/torch/nn/modules/module.py:1541\u001b[0m, in \u001b[0;36mModule._call_impl\u001b[0;34m(self, *args, **kwargs)\u001b[0m\n\u001b[1;32m   1536\u001b[0m \u001b[38;5;66;03m# If we don't have any hooks, we want to skip the rest of the logic in\u001b[39;00m\n\u001b[1;32m   1537\u001b[0m \u001b[38;5;66;03m# this function, and just call forward.\u001b[39;00m\n\u001b[1;32m   1538\u001b[0m \u001b[38;5;28;01mif\u001b[39;00m \u001b[38;5;129;01mnot\u001b[39;00m (\u001b[38;5;28mself\u001b[39m\u001b[38;5;241m.\u001b[39m_backward_hooks \u001b[38;5;129;01mor\u001b[39;00m \u001b[38;5;28mself\u001b[39m\u001b[38;5;241m.\u001b[39m_backward_pre_hooks \u001b[38;5;129;01mor\u001b[39;00m \u001b[38;5;28mself\u001b[39m\u001b[38;5;241m.\u001b[39m_forward_hooks \u001b[38;5;129;01mor\u001b[39;00m \u001b[38;5;28mself\u001b[39m\u001b[38;5;241m.\u001b[39m_forward_pre_hooks\n\u001b[1;32m   1539\u001b[0m         \u001b[38;5;129;01mor\u001b[39;00m _global_backward_pre_hooks \u001b[38;5;129;01mor\u001b[39;00m _global_backward_hooks\n\u001b[1;32m   1540\u001b[0m         \u001b[38;5;129;01mor\u001b[39;00m _global_forward_hooks \u001b[38;5;129;01mor\u001b[39;00m _global_forward_pre_hooks):\n\u001b[0;32m-> 1541\u001b[0m     \u001b[38;5;28;01mreturn\u001b[39;00m \u001b[43mforward_call\u001b[49m\u001b[43m(\u001b[49m\u001b[38;5;241;43m*\u001b[39;49m\u001b[43margs\u001b[49m\u001b[43m,\u001b[49m\u001b[43m \u001b[49m\u001b[38;5;241;43m*\u001b[39;49m\u001b[38;5;241;43m*\u001b[39;49m\u001b[43mkwargs\u001b[49m\u001b[43m)\u001b[49m\n\u001b[1;32m   1543\u001b[0m \u001b[38;5;28;01mtry\u001b[39;00m:\n\u001b[1;32m   1544\u001b[0m     result \u001b[38;5;241m=\u001b[39m \u001b[38;5;28;01mNone\u001b[39;00m\n",
      "File \u001b[0;32m~/nlp/lib64/python3.9/site-packages/torch/utils/_contextlib.py:115\u001b[0m, in \u001b[0;36mcontext_decorator.<locals>.decorate_context\u001b[0;34m(*args, **kwargs)\u001b[0m\n\u001b[1;32m    112\u001b[0m \u001b[38;5;129m@functools\u001b[39m\u001b[38;5;241m.\u001b[39mwraps(func)\n\u001b[1;32m    113\u001b[0m \u001b[38;5;28;01mdef\u001b[39;00m \u001b[38;5;21mdecorate_context\u001b[39m(\u001b[38;5;241m*\u001b[39margs, \u001b[38;5;241m*\u001b[39m\u001b[38;5;241m*\u001b[39mkwargs):\n\u001b[1;32m    114\u001b[0m     \u001b[38;5;28;01mwith\u001b[39;00m ctx_factory():\n\u001b[0;32m--> 115\u001b[0m         \u001b[38;5;28;01mreturn\u001b[39;00m \u001b[43mfunc\u001b[49m\u001b[43m(\u001b[49m\u001b[38;5;241;43m*\u001b[39;49m\u001b[43margs\u001b[49m\u001b[43m,\u001b[49m\u001b[43m \u001b[49m\u001b[38;5;241;43m*\u001b[39;49m\u001b[38;5;241;43m*\u001b[39;49m\u001b[43mkwargs\u001b[49m\u001b[43m)\u001b[49m\n",
      "File \u001b[0;32m~/nlp/lib64/python3.9/site-packages/transformers/models/phi3/modeling_phi3.py:368\u001b[0m, in \u001b[0;36mPhi3RotaryEmbedding.forward\u001b[0;34m(self, x, position_ids)\u001b[0m\n\u001b[1;32m    366\u001b[0m device_type \u001b[38;5;241m=\u001b[39m device_type \u001b[38;5;28;01mif\u001b[39;00m \u001b[38;5;28misinstance\u001b[39m(device_type, \u001b[38;5;28mstr\u001b[39m) \u001b[38;5;129;01mand\u001b[39;00m device_type \u001b[38;5;241m!=\u001b[39m \u001b[38;5;124m\"\u001b[39m\u001b[38;5;124mmps\u001b[39m\u001b[38;5;124m\"\u001b[39m \u001b[38;5;28;01melse\u001b[39;00m \u001b[38;5;124m\"\u001b[39m\u001b[38;5;124mcpu\u001b[39m\u001b[38;5;124m\"\u001b[39m\n\u001b[1;32m    367\u001b[0m \u001b[38;5;28;01mwith\u001b[39;00m torch\u001b[38;5;241m.\u001b[39mautocast(device_type\u001b[38;5;241m=\u001b[39mdevice_type, enabled\u001b[38;5;241m=\u001b[39m\u001b[38;5;28;01mFalse\u001b[39;00m):\n\u001b[0;32m--> 368\u001b[0m     freqs \u001b[38;5;241m=\u001b[39m (\u001b[43minv_freq_expanded\u001b[49m\u001b[38;5;241;43m.\u001b[39;49m\u001b[43mfloat\u001b[49m\u001b[43m(\u001b[49m\u001b[43m)\u001b[49m\u001b[43m \u001b[49m\u001b[38;5;241;43m@\u001b[39;49m\u001b[43m \u001b[49m\u001b[43mposition_ids_expanded\u001b[49m\u001b[38;5;241;43m.\u001b[39;49m\u001b[43mfloat\u001b[49m\u001b[43m(\u001b[49m\u001b[43m)\u001b[49m)\u001b[38;5;241m.\u001b[39mtranspose(\u001b[38;5;241m1\u001b[39m, \u001b[38;5;241m2\u001b[39m)\n\u001b[1;32m    369\u001b[0m     emb \u001b[38;5;241m=\u001b[39m torch\u001b[38;5;241m.\u001b[39mcat((freqs, freqs), dim\u001b[38;5;241m=\u001b[39m\u001b[38;5;241m-\u001b[39m\u001b[38;5;241m1\u001b[39m)\n\u001b[1;32m    370\u001b[0m     cos \u001b[38;5;241m=\u001b[39m emb\u001b[38;5;241m.\u001b[39mcos()\n",
      "\u001b[0;31mRuntimeError\u001b[0m: Expected all tensors to be on the same device, but found at least two devices, cpu and cuda:0! (when checking argument for argument mat2 in method wrapper_CUDA_bmm)"
     ]
    }
   ],
   "source": [
    "import torch\n",
    "from transformers import AutoTokenizer, AutoModel\n",
    "import numpy as np\n",
    "import umap.umap_ as umap\n",
    "import matplotlib.pyplot as plt\n",
    "import accelerate\n",
    "import bitsandbytes\n",
    "import transformers\n",
    "from models_rob import NoRagModel\n",
    "\n",
    "# ===== 1. RoBERTaで埋め込みを生成 =====\n",
    "# トークナイザーとモデルを読み込む\n",
    "model_name = \"microsoft/Phi-3.5-mini-instruct\"\n",
    "tokenizer = AutoTokenizer.from_pretrained(model_name)\n",
    "model = AutoModel.from_pretrained(model_name,device_map=\"auto\")\n",
    "\n",
    "\n",
    "#model = NoRagModel.from_pretrained(base_model, \"0102_no_rag_rob\")\n",
    "\n",
    "\n",
    "# デバイスの設定\n",
    "device = torch.device(\"cuda\" if torch.cuda.is_available() else \"cpu\")\n",
    "model = model.to(device)\n",
    "\n",
    "# サンプルデータ\n",
    "texts = [x[\"text\"] for x in test_data]\n",
    "#texts = [\"これはテストです。\", \"これはテストですか。\", \"これはテストです。\"]\n",
    "\n",
    "# トークン化\n",
    "inputs = tokenizer(texts, padding=True, truncation=True, return_tensors=\"pt\")\n",
    "inputs = {key: value.to(model.device) for key, value in inputs.items()}\n",
    "\n",
    "# RoBERTaで埋め込みを取得（[CLS]トークンの出力を使用）\n",
    "with torch.no_grad():\n",
    "    outputs = model(**inputs)\n",
    "    embeddings = outputs[0][:,-1,:] #baseの時\n",
    "    #embeddings =outputs.output #訓練済みの時\n",
    "    embeddings = embeddings.cpu().numpy()  # numpy形式に変換\n",
    "\n",
    "# ===== 2. UMAPで次元削減 =====\n",
    "# 次元削減\n",
    "umap_reducer = umap.UMAP(n_components=2, random_state=42)\n",
    "embeddings_2d = umap_reducer.fit_transform(embeddings)\n",
    "\n",
    "#print(f\"Number of texts: {len(texts)}\")\n",
    "#print(f\"Shape of embeddings_2d: {embeddings_2d.shape}\")\n",
    "#print(\"Shape of embeddings:\", embeddings.shape)\n",
    "\n",
    "\n",
    "# ===== 3. 可視化 =====\n",
    "# プロット\n",
    "plt.figure(figsize=(8, 8))\n",
    "for i, text in enumerate(texts):\n",
    "    \"\"\"\n",
    "    if test_data[i][\"task_type\"] == \"QA\":\n",
    "        plt.scatter(embeddings_2d[i, 0], embeddings_2d[i, 1],color = \"red\")\n",
    "    elif test_data[i][\"task_type\"] == \"Data2txt\":\n",
    "        plt.scatter(embeddings_2d[i, 0], embeddings_2d[i, 1],color = \"blue\")\n",
    "    else:\n",
    "        plt.scatter(embeddings_2d[i, 0], embeddings_2d[i, 1],color = \"green\")\n",
    "    \"\"\"\n",
    "    if test_data[i][\"task_type\"] == \"QA\" and test_data[i][\"labels\"] == 1:\n",
    "        plt.scatter(embeddings_2d[i, 0], embeddings_2d[i, 1],color = \"red\",s = 10,marker=\"^\")\n",
    "    elif test_data[i][\"task_type\"] == \"QA\" and test_data[i][\"labels\"] == 0:\n",
    "        plt.scatter(embeddings_2d[i, 0], embeddings_2d[i, 1],color = \"#ff1493\",s = 10)\n",
    "    elif test_data[i][\"task_type\"] == \"Data2txt\" and test_data[i][\"labels\"] == 1:\n",
    "        plt.scatter(embeddings_2d[i, 0], embeddings_2d[i, 1],color = \"#00008b\",s = 10,marker=\"^\")\n",
    "    elif test_data[i][\"task_type\"] == \"Data2txt\" and test_data[i][\"labels\"] == 0:\n",
    "        plt.scatter(embeddings_2d[i, 0], embeddings_2d[i, 1],color = \"blue\",s = 10)\n",
    "    elif test_data[i][\"task_type\"] == \"Summary\" and test_data[i][\"labels\"] == 1:\n",
    "        plt.scatter(embeddings_2d[i, 0], embeddings_2d[i, 1],color = \"green\",s = 10,marker=\"^\")\n",
    "    elif test_data[i][\"task_type\"] == \"Summary\" and test_data[i][\"labels\"] == 0:\n",
    "        plt.scatter(embeddings_2d[i, 0], embeddings_2d[i, 1],color = \"#32cd32\",s = 10)\n",
    "\n",
    "\"\"\"\n",
    "plt.scatter([], [],color = \"red\", label = \"QA\")\n",
    "plt.scatter([], [],color = \"blue\", label = \"Data2txt\")\n",
    "plt.scatter([], [],color = \"green\", label = \"Summary\")\n",
    "\"\"\"\n",
    "plt.scatter([], [],color = \"red\", label = \"QA (hal)\",marker=\"^\")\n",
    "plt.scatter([], [],color = \"#ff1493\", label = \"QA (not hal)\")\n",
    "#plt.scatter([], [],color = \"#00008b\", label = \"Data2txt (hal)\",marker=\"^\")\n",
    "#plt.scatter([], [],color = \"blue\", label = \"Data2txt (not hal)\")\n",
    "#plt.scatter([], [],color = \"green\", label = \"Summary (hal)\",marker=\"^\")\n",
    "#plt.scatter([], [],color = \"#32cd32\", label = \"Summary (not hal)\")\n",
    "\n",
    "plt.title(\"UMAP Visualization of RoBERTa Embeddings\")\n",
    "plt.xlabel(\"UMAP Dimension 1\")\n",
    "plt.ylabel(\"UMAP Dimension 2\")\n",
    "\n",
    "plt.legend()\n",
    "plt.show()\n"
   ]
  },
  {
   "cell_type": "markdown",
   "metadata": {},
   "source": [
    "### モデル"
   ]
  },
  {
   "cell_type": "code",
   "execution_count": 1,
   "metadata": {},
   "outputs": [],
   "source": [
    "import json\n",
    "\n",
    "with open(\"rag_truth_span_test_sim.json\", \"r\") as f:\n",
    "    test_data_span = json.load(f)\n",
    "with open(\"rag_truth_span_train.json\", \"r\") as f:\n",
    "    train_data_span = json.load(f)\n",
    "with open(\"rag_truth_span_dev.json\", \"r\") as f:\n",
    "    dev_data_span = json.load(f)"
   ]
  },
  {
   "cell_type": "code",
   "execution_count": 2,
   "metadata": {},
   "outputs": [
    {
     "data": {
      "text/plain": [
       "{'ref': 'The FBI charged a Philadelphia woman on Thursday with trying to travel overseas to fight for ISIS. She\\'s one of three women arrested this week on terror charges. Two New York women were also taken into custody. An FBI complaint cites numerous social media messages dating back to August 2013 that were sent by Keonna Thomas, 30, also known as \"Young Lioness\" and \"Fatayat Al Khilafah.\" One Twitter message said, \"If we truly knew the realities ... we all would be rushing to join our brothers in the front lines pray ALLAH accept us as shuhada [martyrs].\" Another said, \"When you\\'re a mujahid [violent jihadi fighter] your death becomes a wedding.\" The FBI said Thomas purchased an electronic visa to Turkey on March 23. Turkey is known as the easiest place from which to enter Syria and join ISIS. An ISIS manual advises recruits to buy round-trip tickets to vacation spots such as Spain and then purchase tickets for their real destination once they arrive overseas, the FBI said. On March 26, Thomas purchased a ticket to Barcelona, with a March 29 departure and an April 15 return to the United States, the complaint said. It\\'s not clear when or where she was arrested. She was charged with knowingly attempting to provide material support and resources to a designated foreign terrorist organization. She could be sentenced to 15 years in prison. On Thursday, Noelle Velentzas, 28, and her former roommate, Asia Siddiqui, 31, were arrested in New York and accused of planning to build an explosive device for attacks in the United States, federal prosecutors said. In the past 18 months, the Justice Department\\'s National Security Division has prosecuted or is prosecuting more than 30 cases of people attempting to travel abroad to join or provide support to terrorist groups. Of those cases, 18 allegedly involve support to ISIS. \"The terrorist threat is more decentralized, more diffuse, more complicated,\" Homeland Security Secretary Jeh Johnson told reporters Thursday. \"It involves the potential lone wolf actor, it involves the effective use of social media, the Internet.\"\\n',\n",
       " 'text': 'The FBI has charged a Philadelphia woman, Keonna Thomas, with trying to travel overseas to fight for ISIS. This follows the arrests of two New York women, Noelle Velentzas and Asia Siddiqui, who were accused of planning to build an explosive device for attacks in the United States. Thomas purchased an electronic visa to Turkey and a round-trip ticket to Barcelona, following the advice given in an ISIS manual for recruits. She has been charged with attempting to provide material support to a terrorist organisation and could face 15 years in prison.',\n",
       " 'labels': 0,\n",
       " 'hallucination_id': [],\n",
       " 'hallucination': {'hallucination_list': []},\n",
       " 'source': 'CNN/DM',\n",
       " 'model': 'gpt-4-0613',\n",
       " 'task_type': 'Summary',\n",
       " 'source_id': '15596',\n",
       " 'sim_before': 0.9261488318443298}"
      ]
     },
     "execution_count": 2,
     "metadata": {},
     "output_type": "execute_result"
    }
   ],
   "source": [
    "test_data_span[0]"
   ]
  },
  {
   "cell_type": "code",
   "execution_count": 9,
   "metadata": {},
   "outputs": [
    {
     "name": "stdout",
     "output_type": "stream",
     "text": [
      "{'llama-2-13b-chat': 36, 'mistral-7B-instruct': 31, 'llama-2-7b-chat': 52, 'llama-2-70b-chat': 35, 'gpt-3.5-turbo-0613': 5, 'gpt-4-0613': 1}\n",
      "{'gpt-4-0613': 35, 'mistral-7B-instruct': 134, 'llama-2-7b-chat': 123, 'llama-2-13b-chat': 138, 'llama-2-70b-chat': 112, 'gpt-3.5-turbo-0613': 37}\n",
      "{'llama-2-13b-chat': 33, 'llama-2-70b-chat': 24, 'mistral-7B-instruct': 86, 'gpt-3.5-turbo-0613': 4, 'llama-2-7b-chat': 51, 'gpt-4-0613': 6}\n"
     ]
    }
   ],
   "source": [
    "from collections import defaultdict\n",
    "\n",
    "hal_model_qa = defaultdict(lambda:0)\n",
    "hal_model_d2t = defaultdict(lambda:0)\n",
    "hal_model_sum = defaultdict(lambda:0)\n",
    "\n",
    "for d in test_data_span:\n",
    "    if d[\"hallucination_id\"] == []:\n",
    "        continue\n",
    "        \n",
    "    if d[\"task_type\"] == \"QA\":\n",
    "        hal_model_qa[d[\"model\"]] += 1\n",
    "    elif d[\"task_type\"] == \"Data2txt\":\n",
    "        hal_model_d2t[d[\"model\"]] += 1\n",
    "    else:\n",
    "        hal_model_sum[d[\"model\"]] += 1\n",
    "print(dict(hal_model_qa))\n",
    "print(dict(hal_model_d2t))\n",
    "print(dict(hal_model_sum))"
   ]
  },
  {
   "cell_type": "code",
   "execution_count": 10,
   "metadata": {},
   "outputs": [
    {
     "name": "stdout",
     "output_type": "stream",
     "text": [
      "{'llama-2-13b-chat': 35, 'llama-2-7b-chat': 51, 'llama-2-70b-chat': 29, 'mistral-7B-instruct': 24, 'gpt-3.5-turbo-0613': 4}\n",
      "{'llama-2-70b-chat': 80, 'llama-2-13b-chat': 132, 'mistral-7B-instruct': 121, 'llama-2-7b-chat': 101, 'gpt-4-0613': 1}\n",
      "{'llama-2-13b-chat': 20, 'mistral-7B-instruct': 39, 'llama-2-7b-chat': 34, 'llama-2-70b-chat': 11}\n"
     ]
    }
   ],
   "source": [
    "from collections import defaultdict\n",
    "\n",
    "hal_model_qa_imp = defaultdict(lambda:0)\n",
    "hal_model_d2t_imp = defaultdict(lambda:0)\n",
    "hal_model_sum_imp = defaultdict(lambda:0)\n",
    "\n",
    "for i in id_011 + id_111:\n",
    "    d = test_data_span[i]\n",
    "    if d[\"hallucination_id\"] == []:\n",
    "        continue\n",
    "        \n",
    "    if d[\"task_type\"] == \"QA\":\n",
    "        hal_model_qa_imp[d[\"model\"]] += 1\n",
    "    elif d[\"task_type\"] == \"Data2txt\":\n",
    "        hal_model_d2t_imp[d[\"model\"]] += 1\n",
    "    else:\n",
    "        hal_model_sum_imp[d[\"model\"]] += 1\n",
    "print(dict(hal_model_qa_imp))\n",
    "print(dict(hal_model_d2t_imp))\n",
    "print(dict(hal_model_sum_imp))"
   ]
  },
  {
   "cell_type": "markdown",
   "metadata": {},
   "source": [
    "### 類似度"
   ]
  },
  {
   "cell_type": "code",
   "execution_count": null,
   "metadata": {},
   "outputs": [],
   "source": [
    "%pip install transformers==4.44.0\n",
    "%pip show transformers"
   ]
  },
  {
   "cell_type": "code",
   "execution_count": 3,
   "metadata": {},
   "outputs": [
    {
     "name": "stderr",
     "output_type": "stream",
     "text": [
      "/gs/fs/tga-arase-student/yamada/nlp/lib64/python3.9/site-packages/transformers/tokenization_utils_base.py:1601: FutureWarning: `clean_up_tokenization_spaces` was not set. It will be set to `True` by default. This behavior will be depracted in transformers v4.45, and will be then set to `False` by default. For more details check this issue: https://github.com/huggingface/transformers/issues/31884\n",
      "  warnings.warn(\n",
      "Some weights of RobertaModel were not initialized from the model checkpoint at FacebookAI/RoBERTa-base and are newly initialized: ['roberta.pooler.dense.bias', 'roberta.pooler.dense.weight']\n",
      "You should probably TRAIN this model on a down-stream task to be able to use it for predictions and inference.\n"
     ]
    }
   ],
   "source": [
    "from sklearn.metrics.pairwise import cosine_similarity\n",
    "from transformers import AutoTokenizer, AutoModel\n",
    "import numpy as np\n",
    "import torch\n",
    "from models_rob import NoRagModel, RagModel, TripletModel\n",
    "\n",
    "#tokenizer = AutoTokenizer.from_pretrained(\"microsoft/Phi-3.5-mini-instruct\")\n",
    "\n",
    "name = \"./0102_no_rag_rob\"\n",
    "tokenizer = AutoTokenizer.from_pretrained(\"FacebookAI/RoBERTa-base\")\n",
    "base_model = AutoModel.from_pretrained(\"FacebookAI/RoBERTa-base\")\n",
    "model = NoRagModel.from_pretrained(base_model,name)\n",
    "\n",
    "def calc_sim(ref, text):\n",
    "    # テキストをトークン化\n",
    "    ref_tokens = tokenizer(ref, padding=\"longest\", truncation=True, return_tensors=\"pt\")\n",
    "    text_tokens = tokenizer(text, padding=\"longest\", truncation=True, return_tensors=\"pt\")\n",
    "    \n",
    "    # モデルの出力を取得（最終隠れ層）\n",
    "    with torch.no_grad():  # 推論時には勾配計算を行わない\n",
    "        ref_output = model(**ref_tokens)\n",
    "        text_output = model(**text_tokens)\n",
    "    #print(ref_output)\n",
    "    # 全トークンを平均化して文のベクトル表現を得る\n",
    "    #ref_embedding = ref_output.last_hidden_state.mean(dim=1).detach().numpy()\n",
    "    #text_embedding = text_output.last_hidden_state.mean(dim=1).detach().numpy()\n",
    "    ref_embedding = ref_output.output.cpu().numpy()\n",
    "    text_embedding = text_output.output.cpu().numpy()\n",
    "    #print(ref_embedding)\n",
    "\n",
    "    # コサイン類似度を計算\n",
    "    return cosine_similarity(ref_embedding, text_embedding)[0][0]"
   ]
  },
  {
   "cell_type": "code",
   "execution_count": 10,
   "metadata": {},
   "outputs": [
    {
     "name": "stderr",
     "output_type": "stream",
     "text": [
      "/gs/fs/tga-arase-student/yamada/nlp/lib64/python3.9/site-packages/transformers/tokenization_utils_base.py:1601: FutureWarning: `clean_up_tokenization_spaces` was not set. It will be set to `True` by default. This behavior will be depracted in transformers v4.45, and will be then set to `False` by default. For more details check this issue: https://github.com/huggingface/transformers/issues/31884\n",
      "  warnings.warn(\n",
      "Some weights of RobertaModel were not initialized from the model checkpoint at FacebookAI/RoBERTa-base and are newly initialized: ['roberta.pooler.dense.bias', 'roberta.pooler.dense.weight']\n",
      "You should probably TRAIN this model on a down-stream task to be able to use it for predictions and inference.\n"
     ]
    }
   ],
   "source": [
    "from sklearn.metrics.pairwise import cosine_similarity\n",
    "from transformers import AutoTokenizer, AutoModel\n",
    "import numpy as np\n",
    "import torch\n",
    "from models_rob import NoRagModel, RagModel, TripletModel\n",
    "\n",
    "#tokenizer = AutoTokenizer.from_pretrained(\"microsoft/Phi-3.5-mini-instruct\")\n",
    "\n",
    "name = \"./0102_rag_rob\"\n",
    "tokenizer = AutoTokenizer.from_pretrained(\"FacebookAI/RoBERTa-base\")\n",
    "base_model = AutoModel.from_pretrained(\"FacebookAI/RoBERTa-base\")\n",
    "model = RagModel.from_pretrained(base_model,name)\n",
    "\n",
    "def calc_sim(ref, text):\n",
    "    # テキストをトークン化\n",
    "    ref_tok = tokenizer(ref, padding=\"longest\", truncation=True, return_tensors=\"pt\")\n",
    "    text_tok = tokenizer(text, padding=\"longest\", truncation=True, return_tensors=\"pt\")\n",
    "    \n",
    "    inputs = {\n",
    "    \"input_ids\":[ref_tok[\"input_ids\"],text_tok[\"input_ids\"]],\n",
    "    \"attention_mask\":[ref_tok[\"attention_mask\"],text_tok[\"attention_mask\"]]\n",
    "    }   \n",
    "    \n",
    "    # モデルの出力を取得（最終隠れ層）\n",
    "    with torch.no_grad():  # 推論時には勾配計算を行わない\n",
    "        output = model(**inputs)\n",
    "    #print(ref_output)\n",
    "    ref_output = output.output[0].cpu().numpy()\n",
    "    text_output = output.output[1].cpu().numpy()\n",
    "    #print(ref_embedding)\n",
    "\n",
    "    # コサイン類似度を計算\n",
    "    return cosine_similarity(ref_output, text_output)[0][0]"
   ]
  },
  {
   "cell_type": "code",
   "execution_count": 19,
   "metadata": {},
   "outputs": [],
   "source": [
    "import torch.nn.functional as F\n",
    "import torch\n",
    "import torch.nn as nn\n",
    "\n",
    "def triplet_loss(anchor_output, positive_output, negative_output, positive_logits, negative_logits):\n",
    "    # ラベル予測の損失計算\n",
    "    positive_targets = torch.zeros(positive_output.size(0), dtype=torch.long) # ラベル1 (positive)\n",
    "    negative_targets = torch.ones(negative_output.size(0), dtype=torch.long)\n",
    "    positive_loss = nn.CrossEntropyLoss()(positive_logits, positive_targets)\n",
    "    negative_loss = nn.CrossEntropyLoss()(negative_logits, negative_targets)\n",
    "\n",
    "    # ラベル予測の損失を平均\n",
    "    classification_loss = (positive_loss + negative_loss) / 2.0\n",
    "\n",
    "    # トリプレット損失の計算\n",
    "    #triplet_loss = nn.TripletMarginLoss(margin=1, p=2)(anchor_output, positive_output, negative_output)\n",
    "    triplet_loss_fn = (nn.TripletMarginWithDistanceLoss(margin=1.0,distance_function=lambda x, y: 1.0 - F.cosine_similarity(x, y)))\n",
    "    triplet_loss = triplet_loss_fn(anchor_output, positive_output, negative_output)\n",
    "    # 最終損失\n",
    "    total_loss = classification_loss + triplet_loss \n",
    "\n",
    "    return classification_loss, triplet_loss"
   ]
  },
  {
   "cell_type": "code",
   "execution_count": 24,
   "metadata": {},
   "outputs": [
    {
     "name": "stderr",
     "output_type": "stream",
     "text": [
      "/gs/fs/tga-arase-student/yamada/nlp/lib64/python3.9/site-packages/transformers/tokenization_utils_base.py:1601: FutureWarning: `clean_up_tokenization_spaces` was not set. It will be set to `True` by default. This behavior will be depracted in transformers v4.45, and will be then set to `False` by default. For more details check this issue: https://github.com/huggingface/transformers/issues/31884\n",
      "  warnings.warn(\n",
      "Some weights of RobertaModel were not initialized from the model checkpoint at FacebookAI/RoBERTa-base and are newly initialized: ['roberta.pooler.dense.bias', 'roberta.pooler.dense.weight']\n",
      "You should probably TRAIN this model on a down-stream task to be able to use it for predictions and inference.\n"
     ]
    }
   ],
   "source": [
    "from sklearn.metrics.pairwise import cosine_similarity\n",
    "from transformers import AutoTokenizer, AutoModel\n",
    "import numpy as np\n",
    "import torch\n",
    "from models_rob import NoRagModel, RagModel, TripletModel\n",
    "\n",
    "#tokenizer = AutoTokenizer.from_pretrained(\"microsoft/Phi-3.5-mini-instruct\")\n",
    "\n",
    "name = \"./0102_triplet_rob\"\n",
    "tokenizer = AutoTokenizer.from_pretrained(\"FacebookAI/RoBERTa-base\")\n",
    "base_model = AutoModel.from_pretrained(\"FacebookAI/RoBERTa-base\")\n",
    "model = TripletModel.from_pretrained(base_model,triplet_loss, name)\n",
    "\n",
    "def calc_sim(ref, text,label):\n",
    "    # テキストをトークン化\n",
    "    ref_tok = tokenizer(ref, padding=\"longest\", truncation=True, return_tensors=\"pt\")\n",
    "    text_tok = tokenizer(text, padding=\"longest\", truncation=True, return_tensors=\"pt\")\n",
    "    sample_tok = tokenizer(\"sample\", padding=\"longest\", truncation=True, return_tensors=\"pt\")\n",
    "    \n",
    "    if label[0] == 1:\n",
    "        inputs = {\n",
    "        \"input_ids\":[ref_tok[\"input_ids\"],sample_tok[\"input_ids\"],text_tok[\"input_ids\"]],\n",
    "        \"attention_mask\":[ref_tok[\"attention_mask\"],sample_tok[\"attention_mask\"],text_tok[\"attention_mask\"]],\n",
    "        \"labels\": label\n",
    "        }   \n",
    "    elif label[0] == 0:\n",
    "        inputs = {\n",
    "        \"input_ids\":[ref_tok[\"input_ids\"],text_tok[\"input_ids\"], sample_tok[\"input_ids\"]],\n",
    "        \"attention_mask\":[ref_tok[\"attention_mask\"],text_tok[\"attention_mask\"], sample_tok[\"attention_mask\"]],\n",
    "        \"labels\": label\n",
    "        }\n",
    "    \n",
    "    # モデルの出力を取得（最終隠れ層）\n",
    "    with torch.no_grad():  # 推論時には勾配計算を行わない\n",
    "        output = model(**inputs)\n",
    "    #print(ref_output)\n",
    "    ref_output = output.output[0].cpu().numpy()\n",
    "    text_output = output.output[1].cpu().numpy()\n",
    "    #print(ref_embedding)\n",
    "\n",
    "    # コサイン類似度を計算\n",
    "    return cosine_similarity(ref_output, text_output)[0][0]"
   ]
  },
  {
   "cell_type": "code",
   "execution_count": 25,
   "metadata": {},
   "outputs": [
    {
     "data": {
      "text/plain": [
       "0.8732698"
      ]
     },
     "execution_count": 25,
     "metadata": {},
     "output_type": "execute_result"
    }
   ],
   "source": [
    "calc_sim(test_data_span[0][\"ref\"], test_data_span[0][\"text\"], [test_data_span[0][\"labels\"]])"
   ]
  },
  {
   "cell_type": "code",
   "execution_count": 27,
   "metadata": {},
   "outputs": [
    {
     "name": "stderr",
     "output_type": "stream",
     "text": [
      "100%|██████████| 2700/2700 [14:59<00:00,  3.00it/s] "
     ]
    },
    {
     "name": "stdout",
     "output_type": "stream",
     "text": [
      "QA -0.026896995\n",
      "Data2txt -0.08624694\n",
      "Sum 0.55979466\n"
     ]
    },
    {
     "name": "stderr",
     "output_type": "stream",
     "text": [
      "\n"
     ]
    }
   ],
   "source": [
    "from tqdm import tqdm\n",
    "qa_cos = []\n",
    "d2t_cos = []\n",
    "sum_cos = []\n",
    "\n",
    "for d in tqdm(test_data_span):\n",
    "    #if d[\"labels\"] ==0:\n",
    "    #    continue\n",
    "    sim = calc_sim(d[\"ref\"], d[\"text\"], [d[\"labels\"]])\n",
    "    if d[\"task_type\"] == \"QA\":\n",
    "        qa_cos.append(sim)\n",
    "        #d[\"sim_before\"] = sim\n",
    "        #d[\"sim_no_doc\"] = sim\n",
    "        #d[\"sim_doc\"] = sim\n",
    "        d[\"triplet\"] = sim\n",
    "    elif d[\"task_type\"] == \"Data2txt\":\n",
    "        d2t_cos.append(sim)\n",
    "        #d[\"sim_before\"] = sim\n",
    "        #d[\"sim_no_doc\"] = sim\n",
    "        #d[\"sim_doc\"] = sim\n",
    "        d[\"triplet\"] = sim\n",
    "    else:\n",
    "        sum_cos.append(sim)\n",
    "        #d[\"sim_before\"] = sim\n",
    "        #d[\"sim_no_doc\"] = sim\n",
    "        #d[\"sim_doc\"] = sim\n",
    "        d[\"triplet\"] = sim\n",
    "\n",
    "print(\"QA\", np.mean(qa_cos))\n",
    "print(\"Data2txt\", np.mean(d2t_cos))\n",
    "print(\"Sum\", np.mean(sum_cos))"
   ]
  },
  {
   "cell_type": "code",
   "execution_count": 29,
   "metadata": {},
   "outputs": [
    {
     "data": {
      "text/plain": [
       "{'ref': 'Blue Bell ice cream has temporarily shut down one of its manufacturing plants over the discovery of listeria contamination in a serving of ice cream originating from that plant. Public health officials warned consumers Friday not to eat any Blue Bell-branded products made at the company\\'s Broken Arrow, Oklahoma, plant. That includes 3-ounce servings of Blue Bell ice cream from this plant that went to institutions in containers marked with the letters O, P, Q, R, S or T behind the coding date. The warning by the Centers for Disease Control and Prevention does not affect other Blue Bell ice cream, including other 3-ounce servings, not made at the plant. But Blue Bell has recalled other products. The company is shutting down the Broken Arrow facility \"out of an abundance of caution\" to search for a possible cause of contamination. It is the third time Blue Bell has taken action in light of a listeria outbreak at a Kansas hospital that served the company\\'s ice cream. Listeria monocytogenes was recently found in a cup of ice cream recovered from the hospital. The cup contaminated with the bacteria was produced at the Broken Arrow plant in April 2014, Blue Bell said. And, according to the CDC, listeria bacteria was found in additional samples of the same product that were recovered from the plant. The bacteria in the hospital sample and the factory sample appeared to match each other genetically, the CDC said. But they did not appear identical to listeria samples taken from patients infected in the Kansas outbreak. In a separate outbreak in Texas, the CDC did find that listeria samples taken from patients who came down with listeriosis between 2010 and 2014 in a hospital that served 3-ounce Blue Bell cups matched the listeria in recovered samples. None of this means the ice cream is the source of either spate of the infections. \"Investigation to determine whether these illnesses are related to exposure to Blue Bell products is ongoing,\" the CDC said. In early March, in light of the Kansas listeria outbreak, Blue Bell recalled a group of products made at a plant in Texas. It later added 3-ounce cup servings to the recall. Five people were infected and three died in the past year in Kansas from listeria that might be linked to Blue Bell Creameries products, according to the CDC. All five of them were hospitalized at the same hospital before developing listeriosis, the CDC said. At least four of them had consumed milkshakes made with Blue Bell ice cream before developing the infection. \"We are devastated and know that Blue Bell has to be and can be better than this,\" Paul Kruse, Blue Bell CEO and president, said in a statement. \"Quality and safety have always been our top priorities. We are deeply saddened and concerned for all those who have been affected.\" The CDC advises that individuals and institutions should check their freezers for the recalled products and throw them away. In a statement on its website, Blue Bell said \"this recall in no way includes Blue Bell ice cream half gallons, pints, quarts, 3 gallons or other 3 oz. cups.\" This has been the first product recall in the 108-year history of Blue Bell Creameries, the company said. Listeriosis is a serious infection caused by eating food contaminated with listeria, and primarily affects the elderly, pregnant women, newborns and people with weakened immune systems, according to the CDC. Symptoms of a listeria infection are fever and muscle aches, sometimes associated with diarrhea or other gastrointestinal symptoms. In the United States, an estimated 1,600 people become seriously ill each year, and approximately 16% of these illnesses result in death. Cervical infections caused by listeriosis in pregnant women may result in stillbirth or spontaneous abortion during the second or third trimesters. CNN\\'s Debra Goldschmidt, Amanda Watts and Jacque Wilson contributed to this report.\\n',\n",
       " 'text': 'Blue Bell ice cream has temporarily shut down one of its plants after listeria contamination was discovered in a serving of ice cream. Public health officials advised consumers not to eat any Blue Bell products made at the plant in Oklahoma. The recall includes 3-ounce servings of ice cream with certain coding dates. This is the third time Blue Bell has taken action due to listeria contamination, and the company is cooperating with investigations. No illnesses have been reported directly linked to the contaminated ice cream, but five people in Kansas have died from listeriosis in the past year after consuming Blue Bell products.',\n",
       " 'labels': 1,\n",
       " 'hallucination_id': [{'start': 535,\n",
       "   'end': 566,\n",
       "   'text': 'five people in Kansas have died',\n",
       "   'meta': 'EVIDENT CONFLICT:\\nOriginal:  Five people were infected and \"three\" died in the past year in Kansas from listeria\\nAIGC: \"five\" people in Kansas have died\\n',\n",
       "   'label_type': 'Evident Conflict',\n",
       "   'implicit_true': False,\n",
       "   'due_to_null': False}],\n",
       " 'hallucination': {'hallucination_list': ['five people in Kansas have died']},\n",
       " 'source': 'CNN/DM',\n",
       " 'model': 'llama-2-13b-chat',\n",
       " 'task_type': 'Summary',\n",
       " 'source_id': '15599',\n",
       " 'sim_before': 0.936119556427002,\n",
       " 'sim_no_doc': 0.75806874,\n",
       " 'sim_doc': 0.69217885,\n",
       " 'triplet': 0.75832367}"
      ]
     },
     "execution_count": 29,
     "metadata": {},
     "output_type": "execute_result"
    }
   ],
   "source": [
    "test_data_span[10]"
   ]
  },
  {
   "cell_type": "code",
   "execution_count": 1,
   "metadata": {},
   "outputs": [],
   "source": [
    "import numpy as np\n",
    "import json\n",
    "\n",
    "class NumpyEncoder(json.JSONEncoder):\n",
    "    def default(self, obj):\n",
    "        if isinstance(obj, np.float32):\n",
    "            return float(obj)\n",
    "        if isinstance(obj, np.integer):\n",
    "            return int(obj)\n",
    "        if isinstance(obj, np.ndarray):\n",
    "            return obj.tolist()\n",
    "        return super(NumpyEncoder, self).default(obj)\n",
    "\n",
    "# JSON 書き込み\n",
    "#with open(\"rag_truth_span_test_sim.json\", \"w\") as f:\n",
    "#    json.dump(test_data_span, f, cls=NumpyEncoder, ensure_ascii=False, indent=4)\n",
    "\n"
   ]
  },
  {
   "cell_type": "code",
   "execution_count": 7,
   "metadata": {},
   "outputs": [],
   "source": [
    "with open(\"rag_truth_span_test_sim.json\", \"r\") as f:\n",
    "    test_data_span = json.load(f)"
   ]
  },
  {
   "cell_type": "code",
   "execution_count": 11,
   "metadata": {},
   "outputs": [
    {
     "data": {
      "image/png": "[encoded data removed]",
      "text/plain": [
       "<Figure size 640x480 with 1 Axes>"
      ]
     },
     "metadata": {},
     "output_type": "display_data"
    }
   ],
   "source": [
    "import matplotlib.pyplot as plt\n",
    "import numpy as np\n",
    "\n",
    "before_posi = []\n",
    "before_nega = []\n",
    "\n",
    "id_all = id_000 + id_001 + id_010 + id_011 + id_100 + id_101 + id_110 + id_111\n",
    "id_tri_fail = id_001 + id_010 + id_101 + id_110\n",
    "id_tri_suc = id_000 + id_011 + id_100 + id_111\n",
    "for i in id_all :\n",
    "    d = test_data_span[i]\n",
    "    if d[\"task_type\"] !=\"QA\":\n",
    "        continue\n",
    "    mode = \"triplet\"\n",
    "    if d[\"labels\"] == 1:\n",
    "        before_nega.append(d[mode])\n",
    "    else:\n",
    "        before_posi.append(d[mode])\n",
    "        \n",
    "plt.hist(before_posi, bins=100, alpha=0.5, label=\"Positive\")\n",
    "plt.hist(before_nega, bins=100, alpha=0.5, label=\"Negative\")\n",
    "plt.xlabel(\"Cosine sim\")\n",
    "plt.ylabel(\"Count\")\n",
    "\n",
    "\n",
    "plt.legend()\n",
    "plt.show()\n",
    "\n",
    "\n"
   ]
  },
  {
   "cell_type": "code",
   "execution_count": null,
   "metadata": {},
   "outputs": [],
   "source": [
    "# サンプリング\n",
    "\n",
    "import json\n",
    "\n",
    "for i in id_001 + id_101:\n",
    "    d = test_data_span[i]\n",
    "    if d[\"triplet\"] > 0.90 and d[\"task_type\"] == \"Summary\":\n",
    "        print(json.dumps(d, indent=4, ensure_ascii=False,cls=NumpyEncoder))"
   ]
  },
  {
   "cell_type": "code",
   "execution_count": 8,
   "metadata": {},
   "outputs": [],
   "source": [
    "id_all = id_000 + id_001 + id_010 + id_011 + id_100 + id_101 + id_110 + id_111\n",
    "id_tri_fail = id_001 + id_010 + id_101 + id_110\n",
    "id_tri_suc = id_000 + id_011 + id_100 + id_111"
   ]
  },
  {
   "cell_type": "code",
   "execution_count": 15,
   "metadata": {},
   "outputs": [
    {
     "name": "stdout",
     "output_type": "stream",
     "text": [
      "{\n",
      "    \"ref\": \"'Bold and the Beautiful' Spoilers: Luna Leaks Eric's Secret To Ridge, RJ Betrayed By His New Love?\\nThe Bold and the Beautiful (B&B) spoilers tease that Luna, the intern (Lisa Yamada), will reveal Eric Forrester's (John McCook) diagnosis to Ridge Forrester (Thorsten Kaye). She Knows Soaps reports that Luna wants to help RJ Forrester (Joshua Hoffman) and take the burden of this heavy secret from his shoulders.\\nOn Friday's episode, B&B revealed that Luna is Li Flannigan's (Naomi Matsuda) niece. Her mother warned her to stay away from the Forresters. She appeared to want to protect her daughter from heartbreak. She could be a long-lost Forrester somehow. However, we have yet to learn how.\\nNow, back to RJ. Lune worries that the pressure of keeping Eric's secret is too heavy for her new friend. She urges him to tell his father because Eric's health condition seems more severe than he initially said.\\nThe Bold and the Beautiful spoilers say that RJ knows he should tell his dad but worries about Eric feeling betrayed. He wants to wait until after the fashion show. All his granddad wants is one more line. He plans on giving that to him.\\nLuna decides to go behind RJ's back and tells Ridge about Eric's devastating diagnosis. She reveals that RJ knew about Eric's condition and hesitated to tell him about it.\\nRidge will blow up at RJ about keeping something so important from him. RJ will feel betrayed by Luna, but his dad urges him to forgive his friend for doing the right thing.\\nB&B fans, will RJ forgive Luna for telling Ridge? What is Luna's motive for telling Eric's secret? Keep watching The Bold and the Beautiful, airing weekdays on CBS and streaming on Paramount Plus. Please share your thoughts with me in the comments section below. Remember to follow me to read more of my content.\",\n",
      "    \"text\": \"Here is a summary of the article in 78 words or less:\\n\\nLuna reveals Eric's secret to Ridge, causing tension between RJ and Luna. Luna wants to help RJ but goes behind his back, leading to betrayal and drama. Fans wonder if RJ will forgive Luna and what Luna's true motives are.\",\n",
      "    \"labels\": 0,\n",
      "    \"hallucination_id\": [],\n",
      "    \"hallucination\": {\n",
      "        \"hallucination_list\": []\n",
      "    },\n",
      "    \"source\": \"Recent News\",\n",
      "    \"model\": \"llama-2-7b-chat\",\n",
      "    \"task_type\": \"Summary\",\n",
      "    \"source_id\": \"13535\",\n",
      "    \"sim_before\": 0.8932280540466309,\n",
      "    \"sim_no_doc\": 0.787675678730011,\n",
      "    \"sim_doc\": 0.7203843593597412,\n",
      "    \"triplet\": 0.17335960268974304\n",
      "}\n"
     ]
    }
   ],
   "source": [
    "import json\n",
    "for i in id_all:\n",
    "    d = test_data_span[i]\n",
    "    if d[\"task_type\"] ==\"Summary\" and d[\"source\"]!=\"CNN/DM\" and len(d[\"text\"])<300:\n",
    "        print(json.dumps(d, indent=4, ensure_ascii=False,cls=NumpyEncoder))  "
   ]
  },
  {
   "cell_type": "code",
   "execution_count": 16,
   "metadata": {},
   "outputs": [],
   "source": [
    "sample3 = []\n",
    "for i in id_all:\n",
    "    if test_data_span[i][\"task_type\"]!=\"Summary\":\n",
    "        continue\n",
    "    \n",
    "    hal_type2 = []\n",
    "    for hal_id in test_data_span[i][\"hallucination_id\"]:\n",
    "        hal_type2.append(hal_id[\"label_type\"])\n",
    "    \n",
    "    if \"Subtle Conflict\" in hal_type2:\n",
    "        sample3.append(test_data_span[i])"
   ]
  },
  {
   "cell_type": "code",
   "execution_count": 17,
   "metadata": {},
   "outputs": [
    {
     "data": {
      "text/plain": [
       "[{'ref': 'Their relationship led to jail time for her, but Mary Kay Letourneau Fualaau wants the world to know that she and her husband, Vili Fualaau, are still happily together. She was a married 34-year-old teacher and mother of four in Seattle in 1996 when she began an affair with Fualaau, her 13-year-old student. Letourneau gave birth to her young lover\\'s child and went on to serve more than seven years in prison on charges related to their sexual relationship. On Friday, ABC\\'s \"20/20\" will air an exclusive interview with the couple, who will celebrate their 10th wedding anniversary on May 20. The pair wed soon after she was released from prison in 2005 and are now the parents of two teen girls. According to ABC, during the interview with Barbara Walters, \"Mary Kay tells Walters what makes their marriage work in spite of their huge difference in their age.\" \"She also discusses her surprising plans to teach again, as well as her intentions to have her status as a registered sex offender lifted,\" a posting on the network\\'s site says. \"Vili Fualaau, meanwhile, discusses his bouts with alcoholism, depression and why he believes the system failed him while he was still a minor.\" Letourneau Fualaau is now 53, and her husband is 31.\\n',\n",
       "  'text': 'Mary Kay Letourneau Fualaau, who gained infamy for her relationship with her 13-year-old student, is still happily married to Vili Fualaau. After serving over seven years in prison, they have been married for 10 years and have two teenage daughters. In an upcoming interview with Barbara Walters, Letourneau Fualaau discusses their marriage, her plans to teach again, and her desire to have her status as a registered sex offender lifted. Fualaau talks about his struggles with alcoholism, depression, and feeling failed by the system.',\n",
       "  'labels': 1,\n",
       "  'hallucination_id': [{'start': 372,\n",
       "    'end': 382,\n",
       "    'text': 'her desire',\n",
       "    'meta': 'SUBTLE CONFLICT\\nOriginal: her intentions\\nGenerated: her desire',\n",
       "    'label_type': 'Subtle Conflict',\n",
       "    'implicit_true': False,\n",
       "    'due_to_null': False}],\n",
       "  'hallucination': {'hallucination_list': ['her desire']},\n",
       "  'source': 'CNN/DM',\n",
       "  'model': 'gpt-3.5-turbo-0613',\n",
       "  'task_type': 'Summary',\n",
       "  'source_id': '15613',\n",
       "  'sim_before': 0.9606919884681702,\n",
       "  'sim_no_doc': 0.8066741228103638,\n",
       "  'sim_doc': 0.865234911441803,\n",
       "  'triplet': 0.7991065382957458},\n",
       " {'ref': 'Tejano star Selena, who died 20 years ago, is coming back in a big way: with a hologram-like figure. Billboard reports that the singer\\'s family is creating a version of the singer that will be \"walking, talking, singing and dancing digital embodiment\" of her persona. \"By no means is this something that\\'s creepy or weird,\" her sister, Suzette Quintanilla, told Billboard. \"We think it\\'s something amazing. A lot of the new fans that did not get to experience what Selena was about hopefully will be able to get a sense of her with this new technology that\\'s going to be coming out.\" Selena: 20 years after her death. The technology is being handled by Acrovirt LLC, a Nevada-based tech company. \"Using detailed individual personalized functions spanning the mind, brain and body, the individual\\'s Digitized Human Essence will autonomously learn and react on behalf of its human counterpart\\'s,\" the company explained. The project is being called \"Selena the One.\" Twenty years after she was killed by her fan club president, Selena remains incredibly popular, with her Facebook page recording 2 million likes and fans continuing to post videos and tributes. Selena will be the first figure to use the Acrovirt technology, Quintanilla said. \"I\\'m excited at the fact that she will be the first ever, and the fact that she\\'s a Latina makes it even more awesome,\" she said. \"It\\'s not about replacing Selena in any shape, way or form; it\\'s just something to help her legacy continue growing.\" The family intends to expand her legacy in another way: with some new music. Selena the One \"will release new songs and videos, will collaborate with current hit artists, and aims to go on tour in 2018,\" said a statement on Selena\\'s Facebook page. Selena isn\\'t the first performer to try the virtual route. A Michael Jackson hologram appeared at the Billboard Music Awards in 2014, and a hologram of Tupac Shakur performed at Coachella in 2012. But the new technology is a step forward, Quintanilla said. \"People don\\'t realize how fast technology is moving,\" she told Billboard. \"This is something that we\\'re building for another two to three years, so when 2018 comes around they\\'ll be like, \\'Oh, OK, we get it.\\' \" Fans can join an Indiegogo campaign, www.selenatheone.com, to support the launch. The campaign, which hopes to raise $500,000, begins April 16. The commemorative Fiesta de la Flor in Corpus Christi, Texas -- which celebrates her life -- is scheduled for April 17 and 18. CNN\\'s Katia Hetter contributed to this story.\\n',\n",
       "  'text': 'Selena, the late Tejano star, will be resurrected as a hologram-like figure using advanced technology. Her family plans to release new music and potentially go on tour in 2018. The technology, developed by Acrovirt LLC, allows for a digital embodiment of the singer that will walk, talk, sing, and dance. This is not the first time a deceased artist has been brought back in a virtual format, but the new technology is considered a step forward. Fans can support the launch through an Indiegogo campaign starting on April 16, and a commemorative festival will take place in Corpus Christi, Texas on April 17 and 18.',\n",
       "  'labels': 1,\n",
       "  'hallucination_id': [{'start': 377,\n",
       "    'end': 391,\n",
       "    'text': 'virtual format',\n",
       "    'meta': 'SUBTLE CONFLICT\\nOriginal: virtual route\\nGenerated: virtual format',\n",
       "    'label_type': 'Subtle Conflict',\n",
       "    'implicit_true': False,\n",
       "    'due_to_null': False}],\n",
       "  'hallucination': {'hallucination_list': ['virtual format']},\n",
       "  'source': 'CNN/DM',\n",
       "  'model': 'llama-2-13b-chat',\n",
       "  'task_type': 'Summary',\n",
       "  'source_id': '15627',\n",
       "  'sim_before': 0.9530389308929443,\n",
       "  'sim_no_doc': 0.7736385464668274,\n",
       "  'sim_doc': 0.803662896156311,\n",
       "  'triplet': 0.8440068960189819},\n",
       " {'ref': 'Duhok, Iraqi Kurdistan (CNN)The children laugh and shriek, as some of them seem to always have the capacity to do no matter how depressing the circumstances. Their bright clothes provide splashes of color against the otherwise drab monotone white of the endless rows of tents. A small group plays with rocks, replacements for the toys they left behind when they fled, while others clamber through a jagged tear in the wire fence surrounding the refugee camp. The Shariya refugee camp opened around six months ago, made up of some 4,000 tents and counting. Thousands of Yazidis now call this corner of Iraqi Kurdistan home, about 18 miles (30 kilometers) from one of the front lines with ISIS, where one can hear the occasional reverberation in the distance of what we are told are airstrikes. The vast majority of the camp\\'s occupants are from the town of Sinjar, which is near the border with Syrian Kurdistan, and fled the ISIS assault there back in August. But not everyone escaped. ISIS took thousands of Yazidis captive. The fighters separated the young women and girls, some as young as 8 years old, to be sold as slaves, for their \"masters\" to use as concubines. Men faced a choice: Convert to Islam or be shot. Mahmoud was out running errands when ISIS fighters arrived, taking his wife, Ahlam, their three children -- the youngest of which was just a month old -- and his elderly parents. \"They took our phones, jewelry, money,\" Ahlam recalls. \"They had guns. They forced us at gunpoint into big trailer trucks.\" They were taken to a school turned prison in Tal Afar. From there, the family was moved from village to village -- and at one stage taken to Mosul. \"They wrote everyone\\'s name down and they asked where we want to work, in the fields, as cleaners or as herders,\" she says. Ahlam and her family chose to herd goats. They were then taken to a Shia village whose residents had fled, where they were part of a group of around 40 living in one house. In the home, Ahlam found a cell phone left behind by its former occupants and called her husband. \"I said we are alive but we are prisoners.\" Ahlam\\'s husband, who up until that moment had lost the will to live, thinking his family was dead, says he cried out of happiness despite his pain. Ahlam would call when she could, briefly, after midnight, hiding under her bedcovers. If she was caught with a phone, she would be killed. The village itself was a massive prison, its entrances guarded by ISIS fighters. She recalls that two men, in their late 40s or 50s, tried to escape. When they were caught, their bones were broken, their bodies tied to the back of a truck and then driven through the streets. The Yazidi captives were forced to watch the gruesome spectacle. The men\\'s corpses were then tossed into a ditch and an order given not to bury them. One night, some of the Yazidi men risked their lives to toss dirt onto the bodies, to give those slain what dignity they could. Ahlam tells us that about a week before we met, ISIS fighters came by and took away her in-laws and the other elderly people living in the house. \"We didn\\'t know where they were taking them, we thought we would be next,\" she remembers. So she and the rest of the group realized that they had to try to flee. \"We decided that either we survive or we don\\'t.\" They left at midnight. Ahlam cradled the baby, as her two other children, ages 3 and 4 years old, clutched at her clothes. She prayed the baby wouldn\\'t cry, that the children could keep walking. They knew the general direction to take, but not the exact route, and they could only hope it was toward freedom. \"When the sun started to come up, I thought that\\'s it, we are going to get caught,\" Ahlam says. \"And what am I going to do with the kids?  I can\\'t carry all three of them and run.\" Luckily, Ahlam never had to answer that impossible question. The group made it into Iraqi Kurdistan. The couple can\\'t put into words their emotions when they were reunited. Mahmoud, gently caressing his daughter\\'s palm, says he could hardly believe that the woman whose stunning eyes and gentle words he had fallen in love with, and their three children, were by his side again. It had been eight agonizing months. But their joy was tainted by fear for Mahmoud\\'s parents. A few days after Mahmoud and Ahlam were reunited, ISIS released 217 captives. No one is disclosing exactly why. Among them were 60 children, a handful of men and women, and the rest were elderly -- including Mahmoud\\'s parents. \"We didn\\'t know if they were going to slaughter us or what they were going to do with us,\" Mahmoud\\'s father says. \"They moved us around a lot, and at one stage we stayed in in one place for three days.\" But Ahlam\\'s parents are still with ISIS. Vian Dakhil, a Yazidi member of Iraq\\'s parliament, speculates that the Yazidis ISIS released are individuals they were struggling to care for. Dakhil is part of Iraqi Prime Minister Haider al-Abadi\\'s delegation to the United States this week. She will be addressing the United Nations -- pleading for more international support for Iraq and more airstrikes to help defeat ISIS -- and she will address the plight of the Yazidis. \"We sometimes say that we wish we had been massacred. This would be better than being kidnapped and raped. We prefer death now over the fate of what is happening to these girls and women,\" Dakhil says. \"It is now on the government and on the international community to focus on this. How to get these captives back. It\\'s inconceivable that in the 21st century, something like this is happening as if we were living in the Stone Age.\" Ahlam says she was spared because she was breastfeeding and she had young children, which, we\\'re told, makes her impure and therefore unable to be used as a sex slave. For Ahlam, what she went through was not the hardest part of her ordeal. It\\'s the moment when the ISIS fighters began taking away the girls and young women. She\\'s haunted by their screams, the image of them being dragged away sobbing and screaming.\\n',\n",
       "  'text': \"The Shariya refugee camp in Iraqi Kurdistan is home to thousands of Yazidis who fled ISIS attacks. Ahlam, a Yazidi woman, and her family were captured by ISIS and held captive for eight months. They were separated, with Ahlam and her children being taken to one location and her husband being taken to another. Ahlam was forced to work as a cleaner and was sexually harassed by her captors. She managed to escape with her children by pretending to be a Muslim and hiding her Yazidi identity. They eventually made it to the Shariya refugee camp, where they were reunited with Mahmoud, Ahlam's husband. However, Ahlam's parents are still being held captive by ISIS. Vian Dakhil, a Yazidi member of Iraq's parliament, is calling for more international support to defeat ISIS and free the remaining captives.\",\n",
       "  'labels': 1,\n",
       "  'hallucination_id': [{'start': 275,\n",
       "    'end': 309,\n",
       "    'text': 'her husband being taken to another',\n",
       "    'meta': 'SUBTLE CONFLICT\\nAIGC: her husband being taken to another\\nOriginal: Mahmoud was out running errands when ISIS fighters arrived.. (not captured)',\n",
       "    'label_type': 'Subtle Conflict',\n",
       "    'implicit_true': False,\n",
       "    'due_to_null': False},\n",
       "   {'start': 311,\n",
       "    'end': 348,\n",
       "    'text': 'Ahlam was forced to work as a cleaner',\n",
       "    'meta': 'EVIDENT CONFLICT\\nAIGC: Ahlam was forced to work as a cleaner\\nOriginal: Ahlam and her family chose to herd goats\\n',\n",
       "    'label_type': 'Evident Conflict',\n",
       "    'implicit_true': False,\n",
       "    'due_to_null': False},\n",
       "   {'start': 353,\n",
       "    'end': 389,\n",
       "    'text': 'was sexually harassed by her captors',\n",
       "    'meta': 'EVIDENT CONFLICT\\nAIGC: was sexually harassed by her captors\\nOriginal: Ahlam says she was spared…unable to be used as a sex slave',\n",
       "    'label_type': 'Evident Conflict',\n",
       "    'implicit_true': False,\n",
       "    'due_to_null': False},\n",
       "   {'start': 391,\n",
       "    'end': 491,\n",
       "    'text': 'She managed to escape with her children by pretending to be a Muslim and hiding her Yazidi identity.',\n",
       "    'meta': 'HIGH INTRO OF NEW INFO\\nThis information that says she managed to escape with her children by pretending to be a Muslim and hiding her Yazidi identity was not mentioned in the passage',\n",
       "    'label_type': 'Evident Baseless Info',\n",
       "    'implicit_true': False,\n",
       "    'due_to_null': False},\n",
       "   {'start': 492,\n",
       "    'end': 569,\n",
       "    'text': 'They eventually made it to the Shariya refugee camp, where they were reunited',\n",
       "    'meta': '\\nEVIDENT CONFLICT\\nAIGC: they made it to the “Shariya refugee camp”, where they were reunited\\nOriginal: . The group made it into “Iraqi Kurdistan”',\n",
       "    'label_type': 'Evident Conflict',\n",
       "    'implicit_true': False,\n",
       "    'due_to_null': False}],\n",
       "  'hallucination': {'hallucination_list': ['her husband being taken to another',\n",
       "    'Ahlam was forced to work as a cleaner',\n",
       "    'was sexually harassed by her captors',\n",
       "    'She managed to escape with her children by pretending to be a Muslim and hiding her Yazidi identity.',\n",
       "    'They eventually made it to the Shariya refugee camp, where they were reunited']},\n",
       "  'source': 'CNN/DM',\n",
       "  'model': 'llama-2-70b-chat',\n",
       "  'task_type': 'Summary',\n",
       "  'source_id': '15778',\n",
       "  'sim_before': 0.9495251178741455,\n",
       "  'sim_no_doc': 0.7378888130187988,\n",
       "  'sim_doc': 0.798792839050293,\n",
       "  'triplet': 0.8966684937477112},\n",
       " {'ref': 'Mountaineers have returned to Mount Everest for this year\\'s climbing season, resuming the quest to summit the world\\'s highest peak after a deadly season last year. In 2014, the Nepal climbing season ended after a piece of glacial ice fell, unleashing an avalanche that killed 16 Nepalis who had just finished their morning prayers. The April 18 accident was the single deadliest incident to ever occur on Mount Everest. The deaths launched fierce debates about the enormous risks faced by the Sherpas and the dangers of climbing Everest. In order to reduce risks, the route through Khumbu Icefall, the notoriously treacherous path where the 16 were killed, has been changed to one that takes longer but is expected to be safer. \"They\\'re going in the icefall and, as we found out on April 18, it\\'s the most dangerous place,\" said Conrad Anker, a veteran climber who has been to Everest three times. \"They\\'re exposed to the tumbling ice, hanging seracs above it. It\\'s very, very dangerous. It\\'s the most dangerous place I\\'ve been in the mountains.\" At this point in the season, climbing teams have not yet entered Khumbu Icefall, which is essentially a frozen river rapid with jagged pieces breaking off and moving. Nepal has issued 347 permits this year to climb Mount Everest, with 125 of them from the previously shortened season, according to the Nepal Ministry of Tourism.  It\\'s a slight increase from the 334 who were given permission last year. The local Nepalese committee that determines the path up Everest announced in February that a different route had been selected. The climbers will now take a central route through the Khumbu Icefall, avoiding the area where the deaths occurred. The committee comprised of Sherpas voted to return to the central route for safety reasons. \"There will be little risk of avalanche than in the right or left,\" said Yangji Doma Sherpa, the spokeswoman for the Sagarmatha Pollution Control Committee. The central route had been used in the 1990s, but was abandoned in favor of a quicker route, she said. The new path means climbers will have to cross more crevasses, and use more vertical and horizontal ladders. The committee issued a recommendation that the weight of workers\\' gear be limited to avoid overloading the ladders. \"I think it will be an hour longer on the icefall,\" said Alan Arnette, who is blogging from Everest base camp this season. \"I don\\'t think it will be game changer.\" But one company, Alpenglow Expeditions, said it would stop climbing from the Nepal side, where the climbers have to go through the icefall, in favor of the northern route from China. \"We\\'ve seen it get progressively more dangerous over the last few years,\" said  Adrian Ballinger, the company\\'s founder and CEO. \"We believe the risk is too great for our workers.\" According to the China Tibet Mountaineering Association, 320 people have been registered to climb the northern route to Everest this year. That\\'s 136 more than last year. The Chinese side of Everest has typically been less popular than its Nepal counterpart, because of concerns of government closures. Some Everest observers say the northern route has harsher weather and more rocky terrain, but it also doesn\\'t have an icefall. The increasing popularity of the northern route has caused concern amongst Nepali companies that climbers will divert to the Chinese side. \"I can already see the shift with mountaineers I speak to,\" said Dawa Steven Sherpa, who is based in Nepal. \"More people are going to go to Tibet than Nepal. Nepal needs the tourism far more than China does. China has incredible wealth of resources and Nepal does not.\" Leading expeditions is how Sherpas feed their families and send their children to school. Nepal depends heavily on tourism dollars. Many of the guides had to bury their friends after the accident last year, and while they may be ready to return to the summit, their families are not. Many of them are \"leaving behind nervous, stressed-out wives and children,\" whose memories of what happened last year are fresh, said Dawa Sherpa, managing director of Asian Trekking. \"They do say they don\\'t want to put them through that again,\" he said. \"They\\'re not fearful for their own lives, it\\'s what they\\'re putting their family through.\" Several mountaineers are also returning this year. One of them is Jon Reiter, who spoke to CNN last year after the tragedy. When the icy avalanche thundered down, Reiter was shoved behind an ice block by his Sherpa guide. Reiter, who is making his way to base camp this year, could not be reached directly. But he explained why he\\'s heading back to Everest this year on his blog. \"I can\\'t quite find the words to tell you why, or what really pulls me back to the mountains,\" he wrote. \"When we were in the midst of last year\\'s events it was hard to see the big picture. It was hard to remember that people die in the mountains but that it\\'s more rare than not. \"It was hard for me to remember that I\\'m not choosing between my life at home and dying in the mountains. I like to think it\\'s similar to surviving a plane crash or a major pile up on the freeway.\" CNN\\'s Sugam Pokharel contributed to this report.\\n',\n",
       "  'text': \"Climbers have returned to Mount Everest for this year's climbing season, after a deadly avalanche in 2014, that killed 16 Sherpas, resulted in the closure of the climbing season. Following the disaster, there were debates about the risks faced by Sherpas and the danger of climbing Everest. The route through Khumbu Icefall, where the avalanche occurred, has been changed to a safer, but longer, route than the one used in the 1990s. However, Alpenglow Expeditions has announced it will no longer use the Nepal route, due to increasing danger. It will instead use the northern route from China, where there is no icefall. This has resulted in a rise in numbers registered to climb the northern route to Everest, which has led to concerns amongst Nepali companies that climbers will divert to the Chinese side. Nepal relies heavily on tourism and the Sherpas rely on leading expeditions for their income. Also returning to Everest are several climbers who survived the avalanche.\",\n",
       "  'labels': 1,\n",
       "  'hallucination_id': [{'start': 112,\n",
       "    'end': 129,\n",
       "    'text': 'killed 16 Sherpas',\n",
       "    'meta': 'SUBTLE CONFLICT\\nOriginal:  killed 16 Nepalis\\nGenerated:  killed 16 Sherpas',\n",
       "    'label_type': 'Subtle Conflict',\n",
       "    'implicit_true': False,\n",
       "    'due_to_null': False}],\n",
       "  'hallucination': {'hallucination_list': ['killed 16 Sherpas']},\n",
       "  'source': 'CNN/DM',\n",
       "  'model': 'gpt-4-0613',\n",
       "  'task_type': 'Summary',\n",
       "  'source_id': '11395',\n",
       "  'sim_before': 0.9666372537612915,\n",
       "  'sim_no_doc': 0.8068988919258118,\n",
       "  'sim_doc': 0.8072909712791443,\n",
       "  'triplet': 0.9136581420898438},\n",
       " {'ref': 'A mom furious at her son for apparently taking part in the Baltimore riots has become a sensation online. In video captured by CNN affiliate WMAR, the woman is seen pulling her masked son away from a crowd, smacking him in the head repeatedly, and screaming at him. As he tries to walk away, she follows him, screaming, \"Get the f--- over here!\" Eventually, he turns toward her, his face no longer covered.  The boy is dressed in dark pants and a black hoodie, with a dark backpack on. WMAR reports that the woman saw her son on television throwing rocks at police. The name of the woman dressed in light blue jeans, a yellow lace tunic and a cropped yellow jacket was not immediately known. But Police Commissioner Anthony Batts thanked her in remarks to the media. \"And if you saw in one scene you had one mother who grabbed their child who had a hood on his head and she started smacking him on the head because she was so embarrassed,\" he said Monday.  \"I wish I had more parents that took charge of their kids out there tonight.\"\\n',\n",
       "  'text': 'A video showing a woman furiously beating her son for participating in the Baltimore riots has gone viral. The woman, who was seen dragging her son away from the crowd and hitting him, was praised by the Police Commissioner, Anthony Batts, for her actions.',\n",
       "  'labels': 1,\n",
       "  'hallucination_id': [{'start': 34,\n",
       "    'end': 49,\n",
       "    'text': 'beating her son',\n",
       "    'meta': 'SUBTLE CONFLICT\\nOriginal: smacking him in the head repeatedly\\nGenerated: beating her son',\n",
       "    'label_type': 'Subtle Conflict',\n",
       "    'implicit_true': False,\n",
       "    'due_to_null': False}],\n",
       "  'hallucination': {'hallucination_list': ['beating her son']},\n",
       "  'source': 'CNN/DM',\n",
       "  'model': 'gpt-4-0613',\n",
       "  'task_type': 'Summary',\n",
       "  'source_id': '11795',\n",
       "  'sim_before': 0.9541915059089661,\n",
       "  'sim_no_doc': 0.8195021152496338,\n",
       "  'sim_doc': 0.8391664624214172,\n",
       "  'triplet': 0.8873164653778076},\n",
       " {'ref': 'A longtime friend of Joni Mitchell has filed a legal petition seeking to be named the singer-songwriter\\'s conservator. Mitchell, who was inducted into the Rock and Roll Hall of Fame in 1997, was taken to UCLA Medical Center a month ago after being found unconscious in her home. She remains at the hospital, according to Leslie Morris\\' court petition filed April 28. Morris is described as Mitchell\\'s friend of more than 44 years in the legal documents. Whether the folk and jazz singer is conscious remains a matter of some confusion. In her April 28 petition, Morris says Mitchell is unconscious: \"At this time she (Mitchell) remains unconscious and unable to make any responses, and is therefore unable to provide for any of her personal needs.\" But on Mitchell\\'s website, a statement posted the same day that says it was approved by Morris says Mitchell is alert. \"Contrary to rumors circulating on the Internet today, Joni is not in a coma. Joni is still in the hospital -- but she comprehends, she\\'s alert, and she has her full senses. A full recovery is expected. The document obtained by a certain media outlet simply gives her longtime friend Leslie Morris the authority -- in the absence of 24-hour doctor care -- to make care decisions for Joni once she leaves the hospital.\" When asked about the discrepancy between statements about Mitchell\\'s health on her website and in the legal filing, her publicist, Alisse Kingsley, responded that \"the website\" was accurate. A doctor\\'s capacity declaration stated that Mitchell will likely be unable, due to her medical condition, to attend any court hearings for the next four to six months. Adoring fans are posting their tributes to Mitchell at WeLoveYouJoni.com. Sonya Hamasaki and Cheri Mossburg contributed to this report.\\n',\n",
       "  'text': \"Sure! Here's the summary within 74 words:\\n\\nJoni Mitchell's friend of 44 years has filed a legal petition to be appointed the singer-songwriter's conservator, as Mitchell remains unconscious in the hospital after being found at home a month ago. The petition states that Mitchell is unable to provide for her own needs, but her website claims she is alert and will make a full recovery. A doctor's declaration states that Mitchell will likely be unable to attend court hearings for the next four to six months.\",\n",
       "  'labels': 1,\n",
       "  'hallucination_id': [{'start': 59,\n",
       "    'end': 77,\n",
       "    'text': 'friend of 44 years',\n",
       "    'meta': 'EVIDENT CONFLICT\\nAIGC: friend of 44 years \\nOriginal: friend of more than 44 years',\n",
       "    'label_type': 'Subtle Conflict',\n",
       "    'implicit_true': False,\n",
       "    'due_to_null': False},\n",
       "   {'start': 161,\n",
       "    'end': 205,\n",
       "    'text': 'Mitchell remains unconscious in the hospital',\n",
       "    'meta': '\\nSUBTLE CONFLICT:\\nAIGC: Mitchell remains unconscious in the hospital \\nOriginal: Mitchell remains in the hospital but doesn’t necessarily mean she’s still unconscious. It was confirmed by her friend that she’s not in a coma.',\n",
       "    'label_type': 'Subtle Conflict',\n",
       "    'implicit_true': False,\n",
       "    'due_to_null': False}],\n",
       "  'hallucination': {'hallucination_list': ['friend of 44 years',\n",
       "    'Mitchell remains unconscious in the hospital']},\n",
       "  'source': 'CNN/DM',\n",
       "  'model': 'llama-2-13b-chat',\n",
       "  'task_type': 'Summary',\n",
       "  'source_id': '11860',\n",
       "  'sim_before': 0.9263888597488403,\n",
       "  'sim_no_doc': 0.8240620493888855,\n",
       "  'sim_doc': 0.8194522857666016,\n",
       "  'triplet': -0.15562522411346436},\n",
       " {'ref': '38 and home. The Kentucky Wildcats\\' bid for perfection ended Saturday night at the hands of the Wisconsin Badgers, who rallied for a tough 71-64 victory in the NCAA men\\'s basketball Final Four at Indianapolis. They will meet four-time national champ Duke in Monday night\\'s title game. The Blue Devils dominated Michigan State 81-61 in the first contest of the night. National player of the year finalist Frank Kaminsky led Wisconsin with 20 points and 11 rebounds. Junior forward Sam Dekker added 16 points. \"These guys just gutted it out.,\" Wisconsin Head Coach Bo Ryan said. \"We just kept battling on every possession.\" Freshman Karl-Anthony Towns led Kentucky with 16 points. Sophomore Andrew Harrison chipped in 13 points while Aaron Harrison had 12 points. Kentucky came into the game as the first men\\'s team to have a 38-0 record. But the Badgers fought back from a 60-56 deficit with 6:39 left in the game. Wisconsin went on an 8-0 run to regain a lead it never relinquished. It will be looking to win its first title since 1941. As the final minutes ticked off, the Wildcats failed to score. They were stuck on 60 for five minutes. The Harrison twins, who shot well in the first half, couldn\\'t get much done offensively. \"I didn\\'t execute. I mean, we didn\\'t execute as a team, but me being the point guard, I didn\\'t do what coach told me to on a couple of occasions,\" Andrew Harrison said at the postgame news conference. His coach sternly interjected. \"He did fine. He did fine,\" John Calipari said. Meanwhile, Dekker stepped up, making a layup, a three-pointer and a free throw as the Badgers scooted ahead. Calipari said the Badgers did a good job defending the Kentucky big men. \"They crowded us a little bit, and (our) guys got a little tentative,\" he said. Calipari looked at the stat sheet: Kentucky had only six turnovers, hit 90% of its free throws, made 48% of its field goals, and lost. He said his team struggled to guard Wisconsin\\'s players, and the rebound battle -- which Wisconsin won by 12 -- was crucial. Kamisky, who turned 22 on Saturday, was asked how the Badgers outrebounded a team that is the tallest in basketball. \"We stayed into them, attacking them, trying to do whatever we can,\" he said. \"Just trying to keep them off the glass was one of our main priorities.\" Freshman Justise Winslow led Duke with 19 points while national freshman of the year Jahlil Okafor had 18 points, 10 of which came in the first half. Senior guard Quinn Cook had 17. \"The defense was terrific,\" Duke Head Coach Mike Krzyzewski said. \"We drove the ball with such strength. I actually think our offense gave our defense a push.\" Junior guard Denzel Valentine sparked the Spartans with three early three-pointers and finished with 22 points and a game-high 11 rebounds. Senior guard Travis Trice had 16 points. The Spartans, of the Big Ten, began the game in a higher gear than Duke, and quickly took an eight-point lead. But after Valentine hit his trio of long-range shots and Michigan State led 14-6, the Spartans struggled to get baskets the rest of the first half. \"They did a good job of denying us and forcing us out (farther from the basket). We took some bad shots,\" Valentine said. Duke occasionally used a 2-3 zone defense that protected some of its players with foul concerns and slowed the Spartans down. But it was when Duke played man-to-man that the Spartans really had a hard time scoring. State made five of its first seven shots, then only made three more in the final 16 minutes of the opening half. The Blue Devils, of the Atlantic Coast Conference, found baskets inside as the 6-foot-11, 270-pound Okafor powered for points around the basket. Winslow used his quickness to score seven points in the first half, but he only played 12 minutes because he committed two fouls. Duke led at halftime 36-25, a turnaround of 19 points from its early deficit. \"Coach always stresses that great defense leads to great offense,\" Cook said. The confidence gained in getting defensive stops led to the desire for Duke players to drive the lane instead of shooting three-pointers. \"We saw seams that we could take advantage of,\" Cook said. In the second half, Duke increased its lead to 20 points, then cruised home. The Spartans were never able to cut the deficit to single digits and Duke sank its free throws in the final minutes. \"We got beat and ...  Duke played awfully well, but I thought it wasn\\'t one of our better games,\" Michigan State head coach Tom Izzo said. The Blue Devils apparently like playing in Final Fours in Indianapolis, home of the NCAA. It won titles there in 1991 and 2010. The other two crowns came in 1992 and 2001, each in Minneapolis. Duke has beaten Wisconsin this season, 80-70 in Wisconsin in December. If Duke wins Monday night, it would tie Indiana and North Carolina for third-most NCAA championships with five.\\n',\n",
       "  'text': \"The Wisconsin Badgers upset the top-ranked Kentucky Wildcats in the NCAA men's basketball Final Four with a 71-64 victory on Saturday night. The Badgers, led by national player of the year finalist Frank Kaminsky, overcame a 60-56 deficit with 6:39 remaining in the game and went on to win their first championship since 1941. Kentucky came into the game as the first men's team to have a 38-0 record, but the Badgers fought back from a 60-56 deficit with an 8-0 run. The Harrison twins, who shot well in the first half, struggled offensively in the second half, and the Badgers' rebounding advantage proved to be the difference in the game. Duke dominated the second half against Michigan State, leading by as many as 20 points en route to an 81-61 victory. Freshman Justise Winslow led Duke with 19 points, while national freshman of the year Jahlil Okafor had 18 points and 10 rebounds. Duke will face Wisconsin in Monday night's title game, seeking its fifth NCAA championship.\",\n",
       "  'labels': 1,\n",
       "  'hallucination_id': [{'start': 275,\n",
       "    'end': 325,\n",
       "    'text': 'went on to win their first championship since 1941',\n",
       "    'meta': 'SUBTLE CONFLICT\\nOriginal: It will be looking to win its first title since 1941\\nGenerated: went on to win their first championship since 1941',\n",
       "    'label_type': 'Subtle Conflict',\n",
       "    'implicit_true': False,\n",
       "    'due_to_null': False},\n",
       "   {'start': 863,\n",
       "    'end': 888,\n",
       "    'text': '18 points and 10 rebounds',\n",
       "    'meta': 'EVIDENT CONFLICT\\nOriginal: 18 points, 10 of which came in the first half\\nGenerated: 18 points and 10 rebounds',\n",
       "    'label_type': 'Evident Conflict',\n",
       "    'implicit_true': False,\n",
       "    'due_to_null': False}],\n",
       "  'hallucination': {'hallucination_list': ['went on to win their first championship since 1941',\n",
       "    '18 points and 10 rebounds']},\n",
       "  'source': 'CNN/DM',\n",
       "  'model': 'llama-2-7b-chat',\n",
       "  'task_type': 'Summary',\n",
       "  'source_id': '11910',\n",
       "  'sim_before': 0.9625529050827026,\n",
       "  'sim_no_doc': 0.7398980855941772,\n",
       "  'sim_doc': 0.806201696395874,\n",
       "  'triplet': 0.7513225078582764},\n",
       " {'ref': 'Duhok, Iraqi Kurdistan (CNN)The children laugh and shriek, as some of them seem to always have the capacity to do no matter how depressing the circumstances. Their bright clothes provide splashes of color against the otherwise drab monotone white of the endless rows of tents. A small group plays with rocks, replacements for the toys they left behind when they fled, while others clamber through a jagged tear in the wire fence surrounding the refugee camp. The Shariya refugee camp opened around six months ago, made up of some 4,000 tents and counting. Thousands of Yazidis now call this corner of Iraqi Kurdistan home, about 18 miles (30 kilometers) from one of the front lines with ISIS, where one can hear the occasional reverberation in the distance of what we are told are airstrikes. The vast majority of the camp\\'s occupants are from the town of Sinjar, which is near the border with Syrian Kurdistan, and fled the ISIS assault there back in August. But not everyone escaped. ISIS took thousands of Yazidis captive. The fighters separated the young women and girls, some as young as 8 years old, to be sold as slaves, for their \"masters\" to use as concubines. Men faced a choice: Convert to Islam or be shot. Mahmoud was out running errands when ISIS fighters arrived, taking his wife, Ahlam, their three children -- the youngest of which was just a month old -- and his elderly parents. \"They took our phones, jewelry, money,\" Ahlam recalls. \"They had guns. They forced us at gunpoint into big trailer trucks.\" They were taken to a school turned prison in Tal Afar. From there, the family was moved from village to village -- and at one stage taken to Mosul. \"They wrote everyone\\'s name down and they asked where we want to work, in the fields, as cleaners or as herders,\" she says. Ahlam and her family chose to herd goats. They were then taken to a Shia village whose residents had fled, where they were part of a group of around 40 living in one house. In the home, Ahlam found a cell phone left behind by its former occupants and called her husband. \"I said we are alive but we are prisoners.\" Ahlam\\'s husband, who up until that moment had lost the will to live, thinking his family was dead, says he cried out of happiness despite his pain. Ahlam would call when she could, briefly, after midnight, hiding under her bedcovers. If she was caught with a phone, she would be killed. The village itself was a massive prison, its entrances guarded by ISIS fighters. She recalls that two men, in their late 40s or 50s, tried to escape. When they were caught, their bones were broken, their bodies tied to the back of a truck and then driven through the streets. The Yazidi captives were forced to watch the gruesome spectacle. The men\\'s corpses were then tossed into a ditch and an order given not to bury them. One night, some of the Yazidi men risked their lives to toss dirt onto the bodies, to give those slain what dignity they could. Ahlam tells us that about a week before we met, ISIS fighters came by and took away her in-laws and the other elderly people living in the house. \"We didn\\'t know where they were taking them, we thought we would be next,\" she remembers. So she and the rest of the group realized that they had to try to flee. \"We decided that either we survive or we don\\'t.\" They left at midnight. Ahlam cradled the baby, as her two other children, ages 3 and 4 years old, clutched at her clothes. She prayed the baby wouldn\\'t cry, that the children could keep walking. They knew the general direction to take, but not the exact route, and they could only hope it was toward freedom. \"When the sun started to come up, I thought that\\'s it, we are going to get caught,\" Ahlam says. \"And what am I going to do with the kids?  I can\\'t carry all three of them and run.\" Luckily, Ahlam never had to answer that impossible question. The group made it into Iraqi Kurdistan. The couple can\\'t put into words their emotions when they were reunited. Mahmoud, gently caressing his daughter\\'s palm, says he could hardly believe that the woman whose stunning eyes and gentle words he had fallen in love with, and their three children, were by his side again. It had been eight agonizing months. But their joy was tainted by fear for Mahmoud\\'s parents. A few days after Mahmoud and Ahlam were reunited, ISIS released 217 captives. No one is disclosing exactly why. Among them were 60 children, a handful of men and women, and the rest were elderly -- including Mahmoud\\'s parents. \"We didn\\'t know if they were going to slaughter us or what they were going to do with us,\" Mahmoud\\'s father says. \"They moved us around a lot, and at one stage we stayed in in one place for three days.\" But Ahlam\\'s parents are still with ISIS. Vian Dakhil, a Yazidi member of Iraq\\'s parliament, speculates that the Yazidis ISIS released are individuals they were struggling to care for. Dakhil is part of Iraqi Prime Minister Haider al-Abadi\\'s delegation to the United States this week. She will be addressing the United Nations -- pleading for more international support for Iraq and more airstrikes to help defeat ISIS -- and she will address the plight of the Yazidis. \"We sometimes say that we wish we had been massacred. This would be better than being kidnapped and raped. We prefer death now over the fate of what is happening to these girls and women,\" Dakhil says. \"It is now on the government and on the international community to focus on this. How to get these captives back. It\\'s inconceivable that in the 21st century, something like this is happening as if we were living in the Stone Age.\" Ahlam says she was spared because she was breastfeeding and she had young children, which, we\\'re told, makes her impure and therefore unable to be used as a sex slave. For Ahlam, what she went through was not the hardest part of her ordeal. It\\'s the moment when the ISIS fighters began taking away the girls and young women. She\\'s haunted by their screams, the image of them being dragged away sobbing and screaming.\\n',\n",
       "  'text': \"A family, including a pregnant woman and three young children, managed to escape from a Yazidi refugee camp in Duhok, Iraqi Kurdistan, after being held captive by ISIS for eight months. The family, along with hundreds of others, were taken from their homes in Sinjar and brought to the camp, located near the front lines with ISIS. Many of the camp's inhabitants are Yazidis who were captured and enslaved by ISIS, with reports of widespread rape and abuse. The family's story is one of horror and resilience, as they recount the brutality they faced at the hands of their captors, including the separation of women and children, and the sale of young girls as sex slaves. Despite the hardship, the family is grateful to be alive and are hoping for international support to help free the remaining captives and rebuild their community.\",\n",
       "  'labels': 1,\n",
       "  'hallucination_id': [{'start': 10,\n",
       "    'end': 36,\n",
       "    'text': 'including a pregnant woman',\n",
       "    'meta': 'SUBTLE CONFLICT:\\nAIGC:including a pregnant woman\\nOriginal: …their three children…\\n..breast feeding… (implies she just gave birth, there was no mention that she was pregnant) \\n',\n",
       "    'label_type': 'Subtle Conflict',\n",
       "    'implicit_true': False,\n",
       "    'due_to_null': False}],\n",
       "  'hallucination': {'hallucination_list': ['including a pregnant woman']},\n",
       "  'source': 'CNN/DM',\n",
       "  'model': 'llama-2-7b-chat',\n",
       "  'task_type': 'Summary',\n",
       "  'source_id': '15778',\n",
       "  'sim_before': 0.9511702656745911,\n",
       "  'sim_no_doc': 0.7486119270324707,\n",
       "  'sim_doc': 0.7978987693786621,\n",
       "  'triplet': 0.41077110171318054},\n",
       " {'ref': 'Two Delaware boys are in a coma and their father still is unable to talk or move two weeks after they became sick -- perhaps from pesticide exposure, federal officials say -- during a trip to the U.S. Virgin Islands, their lawyer said Saturday. Steve Esmond, his teenage sons and the teens\\' mother fell ill more than two weeks ago in St. John, where they were renting a villa at the Sirenusa resort. The family was airlifted to hospitals in the United States. The boys, 16 and 14, were in critical condition at a Philadelphia hospital on Saturday, the family\\'s lawyer, James Maron of Delaware, said. \"The boys are in rough shape,\" Maron said. \"The family are all fighters,\" he added. \"They\\'re fighting for everything right now. I understand it\\'s a long recovery.\" Esmond, also being treated at a hospital, is conscious but cannot move, Maron said. The teens\\' mother, Theresa Devine, was treated at a hospital but released, and is now in occupational therapy, Maron said. The U.S. Environmental Protection Agency said Friday that the presence of a pesticide at the rented villa in St. John may have caused the illnesses, which were reported to the EPA on March 20. Paramedics were called to the villa, which the family began had been renting since March 14. Esmond was found unconscious; the boys and their mother were having seizures, Maron said. The lawyer did not say who called the paramedics. Elias Rodriguez, an EPA spokesman, said the agency\\'s preliminary test results \"do show that there was a presence of methyl bromide in the unit where the family was staying.\" Exposure to methyl bromide can result in serious health effects, including central nervous system and respiratory system damage, according to the EPA. The use of the pesticide is restricted in the United States because of its acute toxicity. It\\'s not allowed to be used indoors. Only certified professionals are permitted to use it in certain agricultural settings. \"It\\'s an ongoing investigation; we\\'re still on the island doing our assessment,\" Rodriguez said. \"We have been doing different types of air sampling and wipe sampling.\" Final test results were expected next week. The EPA said it is working with local government agencies to investigate whether the family was made ill after a fumigation at the resort on March 18 and whether any environmental regulations or laws were violated. Maron, the family\\'s attorney, declined to comment on the investigation. Depending on the season, the luxury villa where the family stayed rents between $550 and $1,200 per night. Sea Glass Vacations, which acts as a rental agent for several units at Sirenusa, said the unit directly below the one where the family stayed was recently treated for pests, but their unit was not treated. The company said it licensed an outside company, Terminix, for the pest control services. \"Sea Glass Vacations does not treat the units it manages for pests but instead relies on licensed professionals for pest control services,\" the company said in a statement. The U.S. Department of Justice has initiated a criminal investigation into the matter, according to a U.S. Securities and Exchange Commission filing made Monday by ServiceMaster Global Holdings, the parent company of Terminix. In an email to CNN, a spokesman for Terminix wrote that the company is \"committed to performing all work ... in a manner that is safe for our customers, employees, the public and the environment\" and is \"looking into this matter internally, and cooperating with authorities.\" \"We\\'re thinking about the family, and we join the community in wishing them a speedy recovery,\" Terminix wrote. The SEC filing described the injuries to the family members as \"serious.\"\\n',\n",
       "  'text': \"Two Delaware boys are in a coma and their father remains unable to talk or move two weeks after falling ill during a trip to the US Virgin Islands. The family was renting a villa at the Sirenusa resort when they became ill, and initial tests reveal that a pesticide may have caused their illnesses. The US Environmental Protection Agency (EPA) is investigating whether the family was exposed to the pesticide during a fumigation at the resort on March 18. The family's lawyer declined to comment on the investigation, but the EPA confirmed that it is working with local government agencies to determine if any environmental regulations or laws were violated. The boys, aged 16 and 14, and their mother were transported to hospitals in the US for treatment, while the father remains hospitalized.\",\n",
       "  'labels': 1,\n",
       "  'hallucination_id': [{'start': 659,\n",
       "    'end': 756,\n",
       "    'text': 'The boys, aged 16 and 14, and their mother were transported to hospitals in the US for treatment,',\n",
       "    'meta': 'SUBTLE CONFLICT\\nAll of them are transported to hospitals in US.\\noriginal:  The family was airlifted to hospitals in the United States',\n",
       "    'label_type': 'Subtle Conflict',\n",
       "    'implicit_true': False,\n",
       "    'due_to_null': False}],\n",
       "  'hallucination': {'hallucination_list': ['The boys, aged 16 and 14, and their mother were transported to hospitals in the US for treatment,']},\n",
       "  'source': 'CNN/DM',\n",
       "  'model': 'llama-2-7b-chat',\n",
       "  'task_type': 'Summary',\n",
       "  'source_id': '15786',\n",
       "  'sim_before': 0.9483201503753662,\n",
       "  'sim_no_doc': 0.7511695623397827,\n",
       "  'sim_doc': 0.7829123735427856,\n",
       "  'triplet': -0.025741098448634148},\n",
       " {'ref': 'It\\'s been a busy few weeks for multiples. The first set of female quintuplets in the world since 1969 was born in Houston on April 8, and the parents are blogging about their unique experience. Danielle Busby delivered all five girls at the Woman\\'s Hospital of Texas via C-section at 28 weeks and two days, according to CNN affiliate KPRC. Parents Danielle and Adam and big sister Blayke are now a family of eight. The babies are named Ava Lane, Hazel Grace, Olivia Marie, Parker Kate and Riley Paige. \"We are so thankful and blessed,\" said Danielle Busby, who had intrauterine insemination to get pregnant. \"I honestly give all the credit to my God. I am so thankful for this wonderful hospital and team of people here. They truly all are amazing.\" You can learn all about their journey at their blog, \"It\\'s a Buzz World.\" Early news reports said the Busby girls were the first all-female quintuplets born in the U.S. But a user alerted CNN to news clippings that show quintuplet girls were born in 1959 to Charles and Cecilia Hannan in San Antonio. All of the girls died within 24 hours. Like the Busby family, Sharon and Korey Rademacher were hoping for a second child. When they found out what they were having, they decided to keep it a secret from family and friends. That\\'s why they didn\\'t tell their family the gender of baby No. 2 -- or that Sharon was actually expecting not one but two girls, according to CNN affiliate WEAR. And when everyone arrived at West Florida Hospital in Pensacola, Florida, after Sharon gave birth March 11, they recorded everyone\\'s reactions to meeting twins Mary Ann Grace and Brianna Faith. The video was uploaded to YouTube on Saturday and has been viewed more than 700,000 times. Could you keep it a secret?\\n',\n",
       "  'text': 'Sure! Here is a summary of the news in 77 words:\\n\\nThe Busby family welcomed five female quintuplets in Houston after IVF treatment, while the Rademacher family surprised everyone with the arrival of twin girls in Florida. The Busby girls are Ava, Hazel, Olivia, Parker, and Riley, while the Rademacher twins are Mary Ann and Brianna. Both families kept their pregnancies a secret until the babies were born.',\n",
       "  'labels': 1,\n",
       "  'hallucination_id': [{'start': 334,\n",
       "    'end': 406,\n",
       "    'text': 'Both families kept their pregnancies a secret until the babies were born',\n",
       "    'meta': 'EVIDENT CONFLICT\\nOriginal: \"The first set of female quintuplets... parents are blogging about their unique experience.\"\\nGenerative: \"Both families kept their pregnancies a secret until the babies were born.\"\\n(Only Sharon and Korey Rademacher decided to keep it a secret from family and friends.)',\n",
       "    'label_type': 'Evident Conflict',\n",
       "    'implicit_true': False,\n",
       "    'due_to_null': False},\n",
       "   {'start': 117,\n",
       "    'end': 131,\n",
       "    'text': 'IVF treatment,',\n",
       "    'meta': 'SUBTLE CONFLICT\\nOriginal: \"intrauterine insemination\"\\nGenerative: \"IVF treatment\"\\n\\nDifferent procedure but same goal. Does not change any factual details.',\n",
       "    'label_type': 'Subtle Conflict',\n",
       "    'implicit_true': False,\n",
       "    'due_to_null': False}],\n",
       "  'hallucination': {'hallucination_list': ['Both families kept their pregnancies a secret until the babies were born',\n",
       "    'IVF treatment,']},\n",
       "  'source': 'CNN/DM',\n",
       "  'model': 'llama-2-7b-chat',\n",
       "  'task_type': 'Summary',\n",
       "  'source_id': '11768',\n",
       "  'sim_before': 0.9255634546279907,\n",
       "  'sim_no_doc': 0.7106889486312866,\n",
       "  'sim_doc': 0.7979223728179932,\n",
       "  'triplet': 0.06573312729597092}]"
      ]
     },
     "execution_count": 17,
     "metadata": {},
     "output_type": "execute_result"
    }
   ],
   "source": [
    "sample3"
   ]
  },
  {
   "cell_type": "code",
   "execution_count": null,
   "metadata": {},
   "outputs": [],
   "source": []
  }
 ],
 "metadata": {
  "kernelspec": {
   "display_name": "Python 3 (ipykernel)",
   "language": "python",
   "name": "python3"
  },
  "language_info": {
   "codemirror_mode": {
    "name": "ipython",
    "version": 3
   },
   "file_extension": ".py",
   "mimetype": "text/x-python",
   "name": "python",
   "nbconvert_exporter": "python",
   "pygments_lexer": "ipython3",
   "version": "3.9.18"
  }
 },
 "nbformat": 4,
 "nbformat_minor": 4
}
